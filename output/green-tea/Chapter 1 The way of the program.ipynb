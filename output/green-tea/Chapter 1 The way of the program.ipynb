{
 "cells": [
  {
   "cell_type": "markdown",
   "id": "8c84af55",
   "metadata": {},
   "source": [
    "<img src=\"data:image/png;base64,iVBORw0KGgoAAAANSUhEUgAAAG8AAABuCAYAAAApmU3FAAAEtmlUWHRYTUw6Y29tLmFkb2JlLnht\n",
    "cAAAAAAAPD94cGFja2V0IGJlZ2luPSLvu78iIGlkPSJXNU0wTXBDZWhpSHpyZVN6TlRjemtjOWQi\n",
    "Pz4KPHg6eG1wbWV0YSB4bWxuczp4PSJhZG9iZTpuczptZXRhLyIgeDp4bXB0az0iWE1QIENvcmUg\n",
    "NS41LjAiPgogPHJkZjpSREYgeG1sbnM6cmRmPSJodHRwOi8vd3d3LnczLm9yZy8xOTk5LzAyLzIy\n",
    "LXJkZi1zeW50YXgtbnMjIj4KICA8cmRmOkRlc2NyaXB0aW9uIHJkZjphYm91dD0iIgogICAgeG1s\n",
    "bnM6ZXhpZj0iaHR0cDovL25zLmFkb2JlLmNvbS9leGlmLzEuMC8iCiAgICB4bWxuczp0aWZmPSJo\n",
    "dHRwOi8vbnMuYWRvYmUuY29tL3RpZmYvMS4wLyIKICAgIHhtbG5zOnBob3Rvc2hvcD0iaHR0cDov\n",
    "L25zLmFkb2JlLmNvbS9waG90b3Nob3AvMS4wLyIKICAgIHhtbG5zOnhtcD0iaHR0cDovL25zLmFk\n",
    "b2JlLmNvbS94YXAvMS4wLyIKICAgIHhtbG5zOnhtcE1NPSJodHRwOi8vbnMuYWRvYmUuY29tL3hh\n",
    "cC8xLjAvbW0vIgogICAgeG1sbnM6c3RFdnQ9Imh0dHA6Ly9ucy5hZG9iZS5jb20veGFwLzEuMC9z\n",
    "VHlwZS9SZXNvdXJjZUV2ZW50IyIKICAgZXhpZjpQaXhlbFhEaW1lbnNpb249IjExMSIKICAgZXhp\n",
    "ZjpQaXhlbFlEaW1lbnNpb249IjExMCIKICAgZXhpZjpDb2xvclNwYWNlPSIxIgogICB0aWZmOklt\n",
    "YWdlV2lkdGg9IjExMSIKICAgdGlmZjpJbWFnZUxlbmd0aD0iMTEwIgogICB0aWZmOlJlc29sdXRp\n",
    "b25Vbml0PSIyIgogICB0aWZmOlhSZXNvbHV0aW9uPSI3Mi4wIgogICB0aWZmOllSZXNvbHV0aW9u\n",
    "PSI3Mi4wIgogICBwaG90b3Nob3A6Q29sb3JNb2RlPSIzIgogICBwaG90b3Nob3A6SUNDUHJvZmls\n",
    "ZT0ic1JHQiBJRUM2MTk2Ni0yLjEiCiAgIHhtcDpNb2RpZnlEYXRlPSIyMDIwLTAyLTEzVDE2OjQ4\n",
    "OjM2KzAxOjAwIgogICB4bXA6TWV0YWRhdGFEYXRlPSIyMDIwLTAyLTEzVDE2OjQ4OjM2KzAxOjAw\n",
    "Ij4KICAgPHhtcE1NOkhpc3Rvcnk+CiAgICA8cmRmOlNlcT4KICAgICA8cmRmOmxpCiAgICAgIHN0\n",
    "RXZ0OmFjdGlvbj0icHJvZHVjZWQiCiAgICAgIHN0RXZ0OnNvZnR3YXJlQWdlbnQ9IkFmZmluaXR5\n",
    "IERlc2lnbmVyIDEuNy4zIgogICAgICBzdEV2dDp3aGVuPSIyMDIwLTAyLTEzVDE2OjQ4OjM2KzAx\n",
    "OjAwIi8+CiAgICA8L3JkZjpTZXE+CiAgIDwveG1wTU06SGlzdG9yeT4KICA8L3JkZjpEZXNjcmlw\n",
    "dGlvbj4KIDwvcmRmOlJERj4KPC94OnhtcG1ldGE+Cjw/eHBhY2tldCBlbmQ9InIiPz63ZYCCAAAB\n",
    "gWlDQ1BzUkdCIElFQzYxOTY2LTIuMQAAKJF1kc8rRFEUxz9miDCNYmFh8dKwQoMSG4uZ/Cosxii/\n",
    "Nm+eeTNq3szrvZk02SpbRYmNXwv+ArbKWikiJSsLa2KDnvM8NZI5t3PP537vPad7zwVfPKMZdmUY\n",
    "jGzeio1ElJnZOaX6ER8BgoQJqJptTkwNxylrbzdUuPGq061V/ty/VreYtDWoqBEe1EwrLzwqPL6c\n",
    "N13eFG7S0uqi8LFwhyUXFL529YTHTy6nPP5w2YrHouBrEFZSvzjxi7W0ZQjLywkZmYL2cx/3JfXJ\n",
    "7PSUxFbxFmxijBBBYYwhovTRzYDMfXTSQ5esKJMf/s6fJCe5mswmRSyWSJEmT4eoBamelKiLnpSR\n",
    "oej2/29fbb23x6teH4GqB8d5aYPqDfhcd5z3fcf5PAD/PZxlS/m5Peh/FX29pIV2IbgKJ+clLbEF\n",
    "p2vQfGeqlvot+cV9ug7PRxCYhcZLqJ33evazz+EtxFfkqy5gewfa5Xxw4QtXymffaj9hFAAAAAlw\n",
    "SFlzAAALEwAACxMBAJqcGAAAIABJREFUeJzlfXu0b1V13jfX/l2UkAAXiq/EWkg0RqUaBO5BEB+A\n",
    "WKtG6qtWeZnRtCYmgThUvJfRdDQOBAtc2mSEGJuhJn2oNcPwGFZSgmmAG84JAgKS4QPIQ2OVIgIR\n",
    "kbP3mv1jrW+ub+177uUROIfENca5557923vttefzm4+1f4a/R2PpfX+wCfB/6o4XmuHpDuwDYG94\n",
    "3gfue8PSPoDXY74PAAPsO4DfBeAuuH8HwF0wuwue7wLwHbjfCUvXA37j8gfflDfy+R7usI1ewK7G\n",
    "0taLDDYcDM+HAX4oYIcC+WA4ngAA7hPMBgAOdwBe6W78fwLgdTYHcgZMH9fkcwDu9wC+A+5XAX4l\n",
    "HCvL5/2r+x/r5/y7jMcd85a2XbwZ7qcC+LcAngnPgA0AMjxnmBWmuDvgXp7AEpAn8HEsJXge42+4\n",
    "F4bWa8v59XOzem0dZuV4Hh+ApRUAvwXg48vnvkVOenyMxw3zlrZd/NNw/BLS8GZ43hNAIao1BrhP\n",
    "hfAuGgPv/7bUtJDHybjQSqsM9TI/f8OLMpoV5lpo71fhfjaA310+762rjx0VHt7YcOYtbb14APw/\n",
    "AHYG4Ina4NMIS9Q4B+AwS4WBYRKt0p4MyeUnLapmoTGHn9NUUlvNeoZ3x0RjPQPufwXg/cvnv+3D\n",
    "60qkXYwNZd7Stkuejjz9D6ThyJD+PAFpCLPmnmFpUc1gHe5ACoIKgyB/k1FJTKM3xtJ02tBrKjUw\n",
    "tDNXjfV2rk8fhg0/v3z+22RR6z82jHlL2y55CoDrAH8qcg/y3Au4MBt2YlrxZ5XBXnygT+MMjPjO\n",
    "ZnH+GdD8GzXWrAKbVE8VkFNQEYJkZp+F+xuXz3/b3z5qRHmYY0OYt7T1ogFp+CPk6SWFeFMjWIwC\n",
    "Skx8XPkbDazU84KwlprWzU1lZxpz0dz4HLO50LRVGRpgZrX8TmkF03Tk8gUnb4gGzim2PsPSL8Hz\n",
    "S4pvQTFl1gjpOQOwWw32e3D/IOB/6PD7GuKk9Nd/lPHho1zCh6F95t4+h/faFXPItY6i5TzXpzKf\n",
    "GTCtHg7kdz0WJHooY4M07+IvwfCsnTSgEPT7gJ0J+PnXfOCEUIstZ/z+QfD8EcCODlNIwpMRadH+\n",
    "n6uvUpNM9NihTAkbwr+hHR8W5bjOE/cbAM/fA9LBy9tPvPWxp1w/1l3zls689KcAPKuBAxS/FmbQ\n",
    "zrjmA687VxkHAMtnv/42IP0zAF+J2DotGrRPi+a7GL8V0ybocaomcyi/PUtIgP4ar2FdzsA0NoZb\n",
    "qnOGOd8Tnn/lMSTZLsf6m808Pa1QvHIgZ1g1AA6/BZb+064uXT7n9ffB/Vfi+jw1rXA035THerwy\n",
    "K5AoKuMkflQtpp9k0E4/aalqoBemamhS5njto0ylhzTWn3nue9e0SDsEr+gyXXnNWa/1XV8MwOxK\n",
    "5MnDjwFNU+bprzTIMQ0hNPbj6akxK9bnTStpHQInTW2ePP7YltM++pOPiB5/h7H+zFNixqGB0P7r\n",
    "D3b58jlvuBuGv21xW2rapXDeJ0l7iX8LBlHbqKFjM5VqGTT/GdfIOQ3wbH5kBHnkYyM0L6TbyYD2\n",
    "4Qse7PIt7/mfB8GGHwngEUBCgErn9/gZ/5uFSWjnpEHSYdbmVpNr1pAnNd8oPHmvh0WHR2FsgOYl\n",
    "78ICAD6twvMq3P2YLe/91NN2P4Gf2IJqAQ5e0WZ3qve/89SHCpGoBpoPo7kU5jOjA2tpNxfGlucS\n",
    "O74+YwM0L7vnqeUjCenLUvaBpd9Zet+nn7DWpVve+6kluG9rlQY0eM+Umqmv85YWAyT1RWZULVNf\n",
    "F0E7E9XU6LGZyC75zZBk/YsOiwc/5VEelqqgGzyPsKH4O28EeKXDPr/lvZ86HcCO5XPe8N0t7/nk\n",
    "gYCfBPdtSMOmIKrGekDlUZ5pHHOSqiVDQ6oMDyLXSbSp9b6aI63rLxUOF3xkcKx/HXfdmec+eanM\n",
    "5JK7nCTOipPwXAB/CEt5y3s+eS8s7dOZyqzpNEkYIwMZDcQwpZXrZ/Rb02rVzkFCi6mFEWloZjUL\n",
    "uDEAuRy3xDiPHFz/fMeGABavIMMJ77uaGhoC9Jxqa0Pzb6yIa+qr0yoBIG0elOpCnZtZE0B8GEow\n",
    "DrRrVDOT3CeY5pJEX39Srvsdzcwh5ibCBE1XdflGia20YFoub+dS0wL+s56X+nlMtDLCCxEGZZiW\n",
    "hSRn6vF3ERCnP1znse7Mcy+9C5TUIEQgwrFnQjkLkdmofStdgB3aKNobGj37LO4nzCK6JIiJFFgV\n",
    "FmpdvcYkK2NpKBmieXJ7HcYGmM2pl9ZgkPgoVhriGgnC5y0Olsq10aOC5hej4sCAWq5vGeimpXls\n",
    "xVqGFU7EWgcjAiuFYneHw2vMur5jA0pC5s1PqUZQuxRF1thK+1aiilCD7TxJ2CDEZqI6j81carmo\n",
    "TIZoYAKkKmFtroj35uZVwQpm/1+fsQGhgt0F+EoLkGexVaC+DJiEBABCe9pkaFpnpUhqYu48HwBL\n",
    "B3btFWFGJTfJtczBEOF/lK5QUHIaaqhg1exjQ3zeujNv+ezX7wCwZT3uteVd//3nkFc/1CHNAC1j\n",
    "0zr1i+5NeCAJ7yo0BgNbED2P5TfyRijeBlXS12uwvcIgOc+ZSQaaKaU/Y1amlXzanEY5GMWkAj8Y\n",
    "ZnM9R2vZqwckrUWTnTMwbEIgWogZlbjOvSYVKsii6fRJTXU9/Uuv2gTg2e2AmHqa4HLsfqT0NfvJ\n",
    "z3zvkTzeI2be0taL/gmAFwD4EcD38pz3CB8QNbBqTtT5R85Q4qkOtksdTf2Ipq26Vr00+5znJ8Dz\n",
    "i5qpBKKaEAG/oEzXBHWZ130M80gNNjcgLcpzaryow+zpyPnGFn9KImKo2j1NwUS/5fhvYpo+gyH9\n",
    "N6T0OXv2Zx+SA31YzFvadslzkafTYDjO8/QMmDVj0bXIsebFzEaF85GqYkklz9oQagzHdJYy2q0x\n",
    "wazMC0k6M/Ofs/ipSoMk3oHCFOkzHuzDDc+rpVBAgJInwAWgUHNZlVBBIzN530kySWPtPOMYRwB4\n",
    "MobhVOR8Kgxf8FuO/1l7zmWffzB+PCTmLW296KcA/Cry+EZ3T5Y2ITqVE3srrVTEA9ExgwE0xqnk\n",
    "A/DKAEWTXe1NiqkkUszhHbEjRLCESDzrCHOVmxWIuayhyDzV7rRZ0M/1dTW/mWWY34u1Rs0WJUky\n",
    "hPmsP0Xgng9g2W865gKkdKY993/vcrPLgwKWpW2XnAazm+H+ZqRFsnkPiDNRO7RUF9vRI+huaC0W\n",
    "O60CzhhsjQxFxFGM8yDxWDU9adGIaJU48WQsrgoTtOJe40P2gFptKrKUyrF54G1SPO7mUZ/Ke6fW\n",
    "tMTPh6Ektdlvw2ec6ArQaJB9APAumH3Cbz52l3XC3TJvaetF5wDYDs8p6mXOHTq5Pmiu8HmqWZOp\n",
    "ma2utQBlkWmoi2fCl5IM0VhJWelxDs1fMl6DVWZWjexKPgI+wtQVs12sKBkx1tuKH2Uuk+uf+1lp\n",
    "pIoRjVAtPsS4Kv5fsMBClGGamvkv87wW7h/aFX/WNJtLWy9eAPnDMDslNElQGptenf6LD2KMjypx\n",
    "tR1PC6gBSKb2kNTSaSzoL1Jn1KxZlgVDIcA0NkKQwMEsxmqV4SRK5EfJoLKZxYZF067a09btTCKo\n",
    "0awQ5LY6VGiGoWlgqpYkz0KRaSqfASJ0BsB/1r/wsm/a8z+3bc6ntTXP0llAOqXFRnG8oLA8VdNS\n",
    "Vh3mJczpPL1Ua2eay9SgmAum1NHkkNH0ozQt0XPJuI0mVh6c9yUz6V+8AhptgIo8p7d1eC4+XEtO\n",
    "XaUjt7/Dt5Oq2maB8jyhmXIvjhAKNFNKC1TQ6lb/wste+qDMW9p26cHw6fQwWyGZU0VcxVx2N2cQ\n",
    "PG/0mZswhda6BYvt7juVdupc02qbs0tAo80BZaBIddTrhGA2NEJV0112IjUA07RNLEeUoxTQ9DFe\n",
    "WS/jxWo1hmrgOsBEoAVhNh8jiaYygZB+bbfMW9p2scHzhQAWXFTEbZVAJZMucVkEwd7MU0dINGaE\n",
    "mVMgUn0XyyoEHurjorIdpgTR/cw+mLgZeq1QjYxTKqGs7PcrlkRQL58nykv1+V3vMbVzZ7ucwqpM\n",
    "UzmdoYIKb3QQzEDPsEYpqtDiKL/5uFfuknlwfzs8H9mYUbuZxdwZWwd0oXyIIK7U4whcaMLU9HRz\n",
    "eDOjMZcjup6VgXwgvQcRZAT6aASJ0hAJS186iSZhdo6uR4QjGKv+G3IO+nZ4Pi5Nfao0YDVfa4cE\n",
    "LDxOS8C5p/H9azJvaetF+8HzOVGnmka0doXysNwPHg+VhjUemGiTU1szF3NU2ZlVl9jMW0tCwOc6\n",
    "r2p7hAre5gsi8wmHdj4tQzAacg1ijYY1BDJMKoShJmHL0Cbi/MmaeeZzMDTIUwUt1LihziXuIwlj\n",
    "i+97oX/hZSfsxDwAr0da7A+vm/bVRDWSCFDxtkitXishwyyuUadTgpJwFIaYYwZCyCyb/9Asz7Sb\n",
    "Bd9KYBZPkYYGGQQYmACyZjabiQ2hCCwgXdl5ujMIRUtBk06XQS0jIEvCKPrJCOyBTvsbuj1pDebZ\n",
    "axRVlcfPwazYE6caFLtW6cBpwggWZoleMoeL73wTmu0PM6rVcGEGGRuwXvxuWIYJGDbB81iSx1Uo\n",
    "zQzclWRm8Vw2LJRATUs7nyrWJExvmNK2xcvQC2wgXQfGSTatCA1oNlF9ZeVD0GQKIXmpX390itVs\n",
    "ed+n9wT8WBLLp7FpWP3tObfEcOcjKqHClXlPhDhXfGcSUxupJjEt4QuGZi41YzNvoaD5oykXrbe0\n",
    "6PKv7r2AEJC1JAN9GgVKgImJC6BFKWu6a+U3f+HuYJ7jhxroIAPQJ+qDJmjAJqWegdPUBIfmMw37\n",
    "AnaIitIxAPYMems3sRJZQYQGw47mo8BFUmMk2CYzuz0ALueiI3znc9RfMfaKdjxv6xO/2e2FMPRz\n",
    "1vCnnKoMErChg3Nr7MvKhPtt/cnYjNnlSAnYJD6a9NAYOdamzEqx3qAP8HKgMe81ZS0JDm/pIfqP\n",
    "eWNsgAPmLtE+VyDCDAcJQyIGQqsPEYlqMUXA7CFl9yofQs1y+EoLKbeaj6Rv8067lbo0+anN26Fe\n",
    "yO96r7SogGIA4F/pGOX5yQ0zoAnjRDch1omt+cMafaH8m0E7Ndi9MG9p60UGz6/2PNYgvEqsEpSp\n",
    "LDJTt0JRGud+kAuIWlldTCR1yUlv53BOoAGhPJZjBACRlSdjUyM2rwPi/OLnNOCmkJBpMxVRJmpI\n",
    "MNV10OfHtjAHHB/tJ7FDIpaLa9GupwmdRrFimIVD4mLCDdWflI7y64/elAAcbGnT07pMAaVOW73Z\n",
    "EtehTTWHEJ8DMWEm51eNC5RIAqqJFOK6EI+f5zESyEHI3cRlDMDL+1x0syUagTSeUs1IA0pTkyLa\n",
    "qlFtrdevXPgLl80E4NAODSexPjS7QwVvAzu7s1gSQdFAu74h2L3gfngC8AyP+MmDwxEuKEgwiZnI\n",
    "oFhY7n9Dru2y8MLIebqL85LIEdPVefOIYqqHnshdeGJ9bFeRqWkIQI2nCeR6w0QrwJgxrSsLATA7\n",
    "u+PbLcfvA7MXt8Ba/CkZMQzSWs+YlWkwEX5eT6aPYwM9ln5iAfcnGayP39Ls5TV8OB8BWwBWzUaH\n",
    "nOjkO6kUTSDQQBAUruhtQlTd1ZSF7xDtjHQa47oGcFwyQy6C4socCkggOfU3uS8ok9nRgsF1AnC/\n",
    "Co5PdWTK+U0wPHEnwEJGKWPU6hDkaSot3mihvjeu2y+55wN6U5b6XJ0iHfo++sQOneXGJI3/mAmx\n",
    "AQ3V5fZDn8bqt27yiLixmkma6nnch5pvZes56muvQivFZ3DNaiki1qoE5prYOa2Zm2YlbgDw6pUL\n",
    "3ynEAmB2SnM3aDSdB9vamhHgSxirrznRYyzowvZPgD/JmeDtHnbmz8qCZwxV/8HfDGylKKsxEc3g\n",
    "fN4u3yemMF4nlXsiaPAPlEqH50qvYq7DelDbg2FTM8XhRyqj0tBnepJaAoIGfBnA8SsXvrPFdgD8\n",
    "pmNOgOFFYDhkQhemuvi8I4W2Mneeu233apoIIbn7fgnuB4APTM1R6Qy4LhNxMRGDCfoLPyPMzFPf\n",
    "rxEmgMldQaJdloMIsoYc1VRHpcPLG5FomlvFm+ZbQBj3IYRGpGYeO8FySV/NUnSwDPffgOfDVi58\n",
    "57c6xt1y/N5I6deDaewYMDT/FiBQ6McffemPXk9hXXDtwdj9F7DhgCKxRIaE/VRXJaS3vF0XB1VH\n",
    "qy8oXdPUKKiRRQdA8fbAZs2UpiTINcGqz/W4m9ellDY9r1UNs6H4QEW1FJBAyxA0twnRbq9pwPJW\n",
    "ps/B/d+tXPjOP8NaI+f/iGQ/iuw1IS0WbBiKpnVIl5ZlRKcsVgVrHAvDXOitRemU9l8grz6ptB2o\n",
    "TxATGnvGrRJWu4plIT5jfqOsCINoH48HoYTp80KofqadyqGB3PJn3Y8Hg6g9VZvYHjgfLn7H7Btw\n",
    "fAbApUC6fOXCd6z5dj//4nEJjv8M+M9h8mak4vmtCUxknKgIEkrlXJjOdghqIbCz0PsEjHm/BVLR\n",
    "vI6ovtODtGNm4NbeLh5TbmlGJgCQmGMtnoapSwCQYelr8PwXgN0Oz7fD7K8Af6CthUAJMNkn7gGk\n",
    "ir+1oXaGdY7HKbVNSLUoCn8ANvw/AN8A8KWV3/z5uXeeMe4VewD4r0h4Y6EJetPfIdrUEOQglksz\n",
    "TzTnzG+yd5XghY26AJBs/wXcD2iV4txu0nG6SvicYRFbAXBrksZrWVCcB9uxWJqA4Vb4tB2eP7p8\n",
    "wanf3R3BHg/Dv/iKAYZ/AeAMTNMhzS2gPN+waIzScABoTCATeYznpxqGgGCtCoFBqhEZsLRfeYWs\n",
    "2RNCAl1UOfyeMqT+bUCX0KW50tTaTv8XiSztENfBcBZ8+vTy9pN7yP04HP7F4/aCpVORp9PhdlAD\n",
    "EIqIKw0m8Z0BSmoBNlnNsFifOovwoTJ8IUKgKLT8f7GApW8jT3t1BVTaVUV+mrkgpI662moDFVrR\n",
    "ZjosNLf6xDwBw/AJ5Omk5e0nP7Bbgt36WoPj2UjpqQD+Edw3qa8Ln7xYAKurAqYaIu2C/m5y75+R\n",
    "xwAgT3vA7BmwdCA8HwjgQLg/Dcy0s0o+DDWwJt1nYEVjNEuAMVTKxVrRtC4WBaRELnMWMpDp4bL8\n",
    "jgXc7wTs6bH4OVzv8p2KzrwRJikqym3xSowIrg2A/wbcf3lX2ua3n/DDcH8F3P85gFdhSE9ppRNF\n",
    "sYKIV1clTuR5NF1o66af0fgt1wLpODYm0DoshkJI+u089oRG1SICuoiXp1Y1j1dEyr1ppZgO0zQa\n",
    "aa3YgoicG04Ndyxg9u0mhYKGIoshMVDEdSSIossZKtQ4K2fV2g8tX3DKL67JtNtedxhS+jXk/DJ4\n",
    "3iPMM32Hmhb2oOi7U0ZaAAVSQORgdcOH1hR5zWJRN4IAARY4ZwgKWpYj6AW00EJACIWAvmwcWwMu\n",
    "QwKuTWNb3oda7UJfPlv2b1XNkws7rRHg0pkXQXHsPiYRyVQyXetw7l+DpXfvxLTbT9gHwFkoX4RR\n",
    "uBPhgtwvbsv1oPkM9oOQoMq8ObKLG3tjqhKGWhfPVCV+FLRHLaegJ12P9UIUAizaxmegxiUqhstn\n",
    "uc3lst7yHHcsANxZ8o6y6aNDSJVBXfZCCShmkk45pcKDQJxBzF9cvuDke2eMezLMrgTwzK5NgPPx\n",
    "4RYJmBxRP9xUY9Ms4QnkWhKN/khNJC1EEFilXyxLlzRGAxqrouFRRKXgcK6ZBSsLateR2fVwFFwZ\n",
    "zpBRhvLcerwo0h0LAN8ugEO+SEIz+J2ZRNOmSOmkoEVZHOcRphe/tGP5gpP/oGPcrT+zL+CXwf2Z\n",
    "gUJpWiiB9K9Tbg8ENLMXcafJGivT1io30UcpWOEPG4KzfGbWgMJ8h5TGcXm2PiL30LrKtGkqjbWj\n",
    "Jjkga8lFq8kwVt/p64Pu9q0En+4MBjHumL8ag1II1NZzmjCaqGpC9c14ob0RoH+kY9xtrxswDJdi\n",
    "ys+PhyUImGfY1VxqtkQDYK41KumpgQEOJocJyghCumNimgIhVwZyz0HkQ2XOiJUpUFPzjWRaZLFQ\n",
    "zaSXOQZZv5pOBTkqbFXzElABC9M1hgL9g8piOkmAcN6cXJtnNBasmgi7HzZ8sqck3oBpPLKLIwfZ\n",
    "vcNANsydEHyetVDfxnP1Nz9T4k/in6PBNzXfM69+Z0oQL7PGFGZEGLsF4+u5C/nqAQbwleQlkSLm\n",
    "VTW1s25MkjgTH99K8PzVDmzk3BjVDXX+ufkeGOLteZGzEwRaNPZPlrefeM9swjM6BpBZ08xEa72N\n",
    "95//n0HxnFkkRgfRhSGGHq6vFRMGgEDTyHk7BURoKEya0spiwsO6uIAs5aS3+QKJkt402QYMw18m\n",
    "pGEZebyvI1j7o03UESv3Gth1JgtYCH/p13b0uO11rwT8BYHq4vz6QLx1wO46V0BsIZzC/W4blyDk\n",
    "WKcgOYIE9enh66oQae1xlFdakVFKM01vxT1TLeUQnHhDnJoLzt7ckJpJ9b2ct1igr9uhV9+Ulj/4\n",
    "plUAV3WZFd0xoxl+QJx6bsejoCmV8ngwA/J0PfpxcixwsakndHBOhaTeN8ykCJKO+JvmGmJWvfdN\n",
    "ASzQGNglJyp9Ax2KT5s34ur9wxx7M6lMKJNJfL7AAxJGwFr2SunY3+9SgDFVnq5oDEqifSqp9WZE\n",
    "f3GMNlhU2oSRAJCG/9stIqVntUR/tfe6NzsyN7UgSUiuplkbc3ZiHnpBMjTwQIZGwL5mSNMj2MUi\n",
    "yBECADQBoECr1lHAIheZm5nk/8NXo6BP0s1zq3bMM15lfZc05qXhisZVgeBRVYDEb/Q3JFqIaCOU\n",
    "nlMWc1fHvDwd1CVdqRV8IKKxCGAZpOaWodCM/NyUdRqUZMuwmOEQPPVR4kuj3ua6T6DXPIKfeHPS\n",
    "fI66lkGEkMdHdo95KGKPgkla702/+31I6Y8a89yvQ/ny22abI7OAtkDd/xYpKzKbN1KmGh8s3vDj\n",
    "t/3MZjj2bcGzEE/TV3QJaq7Y+kaidGhUND0YMglqI9Pq85lJ3CYok9pIN9Jp1Ow3nzPiSgF19OFz\n",
    "v6sKMBc0bUqKBAM/j2sut8N23B/MWz73LRMs/Z82GdC+uUoXK46XQEXjriTZhsiG74TgDmrghLGY\n",
    "iTlSLbKSWxzHpnV8yEmkn0SMPKAAhjnhVCMDLddniFwi56wCM6kJFqao1g5KL2o5BG3Wv8dVRCIc\n",
    "JJUCk1mTMUfskygmM5hXz/5YOFCF13yIMIlomhgtDLwBfYpu/XJ0oUfO+4VvzD5rBec9vQSuSRav\n",
    "64k+FN6mmqbIO3b3Q2icSnI8q65bwoa2A6jXHn6mQhGJ+TrXKAham5LpUuiS3AXMiMCwMVefs8x1\n",
    "Jwy/z0cL5i2f+5ZPw+y64oemxkQ6UWk/6Fr4qDnKxMhs5J0/s2QN+ub2m3NrVVmddWR/rIUF/FsZ\n",
    "qyCmi9vE5ykQYtigoQQ1idLO8yaGRPO38KKh4PkboCZBx/W7bzvUazNTyaGC1hIT77Ety4EfNKgD\n",
    "3M9sNTn1bWhMUCIFKqLHFScf/hPw7utf0AhkqaG6CHB5L5F0EltbCCaZk+uZ5N4hsZAsiAlheJ0w\n",
    "vGNcbhkTNWls7VBfpfGfZlE81xcEKHOsjxk9NxrPn8tFcFK6CrMUY8e85fPe+r/g+erS4azZjdSY\n",
    "GYvNTYIiEW3N7xEYwNF9U4sGoWqidX+CnsuHzlMzR3ywrmXQRYgg73KhZgnxBvF9LGdpBkY1Xv3R\n",
    "HM1Sc8ISiL/TZ1P0Teuim0cIqjQQLzfisRHu77At13Tgode8Ms7s0lGdJnJRs4ckoQn7eWPV0m5Q\n",
    "CFzMjsRt6j+AhiTVVDIpQPMSx/U2FAaa/9yuiWwImhVQwKM51KCWmN7QGAI69BmmoAFmbkPWQlMM\n",
    "VFAmrqrDHNhuW665eUbEnZm3fN5b/xjwDwBoTOs2XpAp9ccnRCcyH2JuuvoAU/yo9egqJJAbSGbS\n",
    "3z1Ybr6QhKT0x1rElFVaYlhIcD2188NyaIoqt/NCKyhg3uI30on5x8izyrwmAqvxnPp0BuYqjO4f\n",
    "AXzrnE9rMg8Als8/cSty/p0OXWljT7xPE+hfj8jPw8ije+kOmaRARcERTIgukqdxnprnTtO8wvCM\n",
    "9ooMa2YptGvs51V/C/Smscs00fzJ/+daT589jwMpH9pOou4jwikTkDQBns+2Lde83ZZW5lu2ds28\n",
    "uuB/A/dLupvoj/rEWCQX1kIOs/JqqI55Qu8ABmqeDU0zgXaPJJoffnBViGZFswiK6HcDHBFooEl4\n",
    "aCzavES2fI400+5AvqjCQBJInMqmJK4hsk2VftpAO8z83jRmpOE0W1p53675sxvmLZ9/4gTPbwL8\n",
    "XHBbTZiuhO6Vv2ivtepeb5jl1VA6KImguRCkN1Vgopn6PBccawxhvEn/BbTYLszXDHIHUhbkGmGD\n",
    "mPqowtc5dN84n4OVDsfOn2lBNWpyMyTNzwvKzAA+jsWm59mWa3b53bkcu33T7fIFp9wP4N1bTv/Y\n",
    "J2DpvyCPz+/MpCR1Tb4lK76MHrLIGBbXtIQ0mlkmTJ/7A/VD04yJg5hQdnsRQDCvyevDp6HPuJDA\n",
    "4wNVe8UsEq3SpLKqDjRzP9hsF2zVWAIwmzFXqxXT9BcwuxzAdjtsxy0PxrSHxDyO5e0nX7vl9N89\n",
    "BEgvhftbAX8VgKdQIt3Lq33L/lMBDRHIayAKRCGSqkImAD3TFDoHEwW0kDGT9L2oBho+gWHYEeBh\n",
    "sWi9MBQSZUDsfvW2VgIJIuMQskWLcRXR8hmAZqYZzxZmOdwfwDR9F8C9SOkGW1r+y4fKMB0P+QXh\n",
    "y9tPygCuqD/YctrHnuh5/DEz7GlW3nhbHrq+PTaXLVaFFvmvu8l0E2UMYRglUomrCDE6r6qTV+bT\n",
    "XBWze4U97/Lffvhk+fsxHvGr+ZcvOPl+AF992Be6l6B+WDTzq8XOMCVjCyOUOdos1OUE0cy4zv0P\n",
    "eOwGbT5GQ512Za/2AAAGk0lEQVR2OO4ZGKH/UShOfxdZixpzAQ3QRIqL6aq5v/2HNdb96fwrr34F\n",
    "3C/baRNI53/q79i5RGbl5gcJRgABQESh4HW3I093xHxd2kv8FNegIQGArg2ReV7W/SLQnmjuT7cX\n",
    "XrXjsaVeP9b/62imsTl7LbQqDGeQ2qW9rOQkycDYl+C9CdXCMXAggAM7eE4NjS1WRM4AWDW3es9x\n",
    "td2b3+MwocVzPSredz3JCGyE2eQGQaBVxiMGm2bmEQ2SR6uhN3PK7mOgbhARwKNF4C6LgYY0x1W5\n",
    "t68RlqDX1s7k13lih5CvuxVbf+Ypk9SfsUJBItGE6WZ65hKZ+1ToD8yakrw3icyBRnNT6lNs9JXU\n",
    "NveyvUtrl5C5w+dKqLDOYwMAC9NT1jSA2580Oa1EjJTS2ALmlErHlTID9Th7JSN88AZgmDXRF5Jq\n",
    "Wajrz0G/b0IFjvFdtGesv+atv8/TLEPEc9REOYd5zAgnagDNrjNDM5nRGzk086iM7zrMpMkpdqJK\n",
    "vbKbU2NRQ7z4lOerSd0A1dsYs6lMYgaCCFELrgos6F/4uZpLVhk08cuhQMhQvy2lfqbfIMJMUNsj\n",
    "cTeGRY4LDW0bFhm32NTuP6/9rcNYf+YBaBCdYEUaf0ikaI+QGhlfREPma8CulXXdr85qNFAB0GpD\n",
    "lgGOohK+imH4VeR8oB161b4YV/fGlI9DnkohNFJh6NdfKgQ/AGZTW/uGRZ/MjRqcNW2wVEQs59q+\n",
    "gIoyB9m0QfOmYCVJrKjZGGvmcKgvIcAEGFZhdrQdcuU1XKkdevV3AVzuf/aiQ5HzRUjp+NB83XK8\n",
    "QWNjMiwVrLXyDNC1FnK/OZFp9t7XAdJdVf+eo1c1qTw/kGdq8yxq/S8N71fGdUs+bMf3AbwdZndj\n",
    "sUkajAQo/UCECu5TfZVHe/goflauRlGTCBGI/dkKSHgNzaXWzroYTyr9+jIAfU2w++/tbtl22I6/\n",
    "wTRd0Xp5INmetCFmcwN8nt/XvZ4wsiJSzQYEkqOdQ7MaxUuaSumvpK/TnpfwaeIvQ+MBwO+1Q/7k\n",
    "9gdfut8Qr9HXtdInr/PYAObZtyNmA1qKS7c/aexGLQlGQNJqEo8FcrWdi6xw6ZWEZEyMgOWH/fqX\n",
    "7P3gS7cf7RLpIWAJbSHrNzbCbH4Znr8evfpEfFrCGdQMQpjkLTaMzIYyCYIy69BOLrO+Z5MhhrvB\n",
    "84t3u+xrj0wAjgqB0op/ue/du7v+sRjrzjx7zmUO2MVdjyT7Q7gnnuYsDe0ryRTSR2c0FKrLXRgC\n",
    "VOSq/nGU6reWobJv9+uO/qFdLtz9l5Hzc7rNpYCGLd94lEn1oGNj4jzDeRiG73WxlrYR6LtTmDCm\n",
    "BmkQP++P0ewJMygEL9oyr2kwCozZMwH/rK8ccZBO6StHJP/8Ue9GSmfvFEMyP+r5S3b4n/75Y0ix\n",
    "Ncf6Z1Pr8D9/5RkYxw/0mxGtT5kB0jAk8eFik/SPiG8EehPLlxPoFuac+1ogEwEAanvgfUjpapjd\n",
    "gGl6KoAjYPbj8ebZiCnRwg/D6ba0csFjRqxdjI1j3s3HLmB2NWCHRygQucO6rD53KIyaSOiIJgKF\n",
    "As3EMl/qKHOPYvKY01TgpALSNRMxeSCC1HKnfwzgWFtaXne4uUHpMcCed/mI7McC/tnQgvCD9f8B\n",
    "asTfjWML4COrwmBZ0l1R2/NWr1NNBXrww7+jIq/t+DO/GUjX/wbu/3IjGAdsIPMAwA6+/F64vwZm\n",
    "H44QAOjLQpF+8p7w1AYWUMlUoCWcu9hLEWZifNfQbAAXVvA5h7THq8bBrgKwZEesfPPRpcpDHxtm\n",
    "NufDb3z5v4bZmQD+cSMS0IUCWkvr+lG8wfcI0tFMJzvRtD+FrRgRuM+Tzt7/EOWaZZidBc//3pZW\n",
    "NrRF7XHDPADwm47ZBPeTYHYGzH5izdoc2x9iP1xq7RDUIiagqc3Zm0YpwGGCW30cINoOFZLvIaWP\n",
    "w/Ov25bl+XtlNmQ8rpjH4Te+fADwZri/A8DhAPbYSdvU5AHS1ETtmyQmNOkFTTMhGNCFGLw2Kh7+\n",
    "ZQC/hewftSNW7lp7xRszHpfM0+E3vOSJsHQ4zI6C+4uR8xEw7BMJaIYE829GjpeX1oCeGsgsjVbY\n",
    "yeSUvg/3GwFcC7NrMY7XArjJjljx3Sxxw8bjnnnz4dcdnWA4GJZ+GsD+yHlfmG0GsBmeNwPYF47N\n",
    "SGkzxtXN1UfdDUv3IOe7Ybgb7vfUdNY9MLsbwF8j588DuMkO/9PV3d3/8TT+P2x6AX5Riia7AAAA\n",
    "AElFTkSuQmCC\" style=\"display:block;margin:auto;width:10%\"/>\n",
    "                        <br>\n",
    "                        <div style=\"text-align:center; font-size:200%;\">\n",
    "                        <b>Introduction</b>\n",
    "                        </div>\n",
    "                        <br/>\n",
    "                        <div style=\"text-align:center;\">Dr. Kyrill Schmid</div>\n",
    "                        <br/>\n",
    "                        "
   ]
  },
  {
   "cell_type": "markdown",
   "id": "aecac9a9",
   "metadata": {},
   "source": [
    "## Chapter 1: The Way of The Program\n",
    "\n",
    "- The goal of this chapter is to encourage you to think like a computer scientist\n",
    "\n",
    "- Computer scientists blend the best aspects of mathematics, engineering, and natural science\n",
    "\n",
    "  - They use formal languages to denote ideas similar to mathematicians,\n",
    "\n",
    "  - They assemble components into systems and considering tradeoffs like engineers,\n",
    "\n",
    "  - They observe and analyse the behavior of complex systems like scientists,\n",
    "\n",
    "\n"
   ]
  },
  {
   "cell_type": "markdown",
   "id": "7251fbd5",
   "metadata": {},
   "source": [
    "## Problem-Solving Skills in Programming\n",
    "\n",
    "- The primary skill for a computer scientist is problem solving\n",
    "\n",
    "- Problem solving involves the ability to formulate problems, think creatively about solutions, and express them clearly and accurately\n",
    "\n",
    "- Learning to program is an excellent opportunity to practice problem-solving skills\n",
    "\n",
    "\n",
    "\n",
    "\n"
   ]
  },
  {
   "cell_type": "markdown",
   "id": "f49037b6",
   "metadata": {},
   "source": [
    "## The Objective of Programming\n",
    "\n",
    "- On one level, the objective is to learn to program, a practical skill in itself\n",
    "\n",
    "- On another level, programming will be used as a tool to achieve another goal, which will be made clear as we proceed\n",
    "\n",
    "\n",
    "\n",
    "\n"
   ]
  },
  {
   "cell_type": "markdown",
   "id": "33c4d609",
   "metadata": {},
   "source": [
    "## 1.1 What is a program?\n",
    "\n",
    "- A program is a sequence of instructions for computing.\n",
    "\n",
    "- Computations can be mathematical (like solving systems of equations) or symbolic (such as text searching).\n",
    "\n",
    "- Whether graphical processing or video playing, it all boils down into basic instructions which are common across languages.\n",
    "\n",
    "\n"
   ]
  },
  {
   "cell_type": "markdown",
   "id": "c3525e71",
   "metadata": {},
   "source": [
    "## Basic Instructions in Programming\n",
    "\n",
    "- **Input**: Obtaining data from various sources.\n",
    "\n",
    "- **Output**: Displaying results or saving to different destinations.\n",
    "\n",
    "- **Math**: Executing basic arithmetic calculations.\n",
    "\n",
    "\n"
   ]
  },
  {
   "cell_type": "markdown",
   "id": "17aa8115",
   "metadata": {},
   "source": [
    "## Basic Instructions in Programming (Continuation)\n",
    "\n",
    "- **Conditional Execution**: Checking conditions and executing appropriate code.\n",
    "\n",
    "- **Repetition**: Performing actions multiple times, often with slight modifications.\n",
    "\n",
    "- Every complex program is made up of these fundamental instructions.\n",
    "\n",
    "\n"
   ]
  },
  {
   "cell_type": "markdown",
   "id": "0a517d33",
   "metadata": {},
   "source": [
    "## Programming as a Process\n",
    "\n",
    "- Programming can be considered as a process of breaking down complex tasks into smaller subtasks.\n",
    "\n",
    "- Subtasks are further simplified until they can be performed using the basic instructions.\n"
   ]
  },
  {
   "cell_type": "markdown",
   "id": "f5fee96b",
   "metadata": {},
   "source": [
    "## 1.2 Running Python\n",
    "\n",
    "- Running Python can be a challenge for beginners who might have to install Python and related software\n",
    "\n",
    "- To avoid the simultaneous stress of learning system administration and programming Python can be run in a browser\n",
    "\n",
    "- There are several webpages where Python can be run, one of them is PythonAnywhere\n",
    "\n",
    "- For beginners, Python 3 is recommended as it is similar to Python 2 but has few differences\n",
    "\n",
    "\n"
   ]
  },
  {
   "cell_type": "markdown",
   "id": "64912b16",
   "metadata": {},
   "source": [
    "- Python interpreter is a program that reads and executes Python code.\n",
    "\n",
    "- Your environment determines how you start the interpreter, possibly by clicking an icon or typing `python` on a command line.\n",
    "\n",
    "- The interpreter gives out information about itself and its running environment when it starts\n",
    "\n",
    "\n"
   ]
  },
  {
   "cell_type": "code",
   "execution_count": null,
   "id": "dfc16054",
   "metadata": {},
   "outputs": [],
   "source": [
    "print(\"Python 3.4.0 (default, Jun 19 2015, 14:20:21) [GCC 4.8.2] on linux\")\n",
    "print('Type \"help\", \"copyright\", \"credits\" or \"license\" for more information.')\n",
    "print(\">>>\")"
   ]
  },
  {
   "cell_type": "markdown",
   "id": "5f1a25e0",
   "metadata": {},
   "source": [
    "- The displayed information would differ depending on your operating system, you need to check that the version number starts with a 3.\n",
    "\n",
    "- An indicated version number starting with 2 would mean you are running Python 2\n",
    "\n",
    "- The last line displayed is a prompt for you to enter code\n",
    "\n",
    "\n"
   ]
  },
  {
   "cell_type": "code",
   "execution_count": null,
   "id": "b855b32a",
   "metadata": {},
   "outputs": [],
   "source": [
    "print(\">>> 1 + 1\")\n",
    "print(2)"
   ]
  },
  {
   "cell_type": "markdown",
   "id": "9c34022f",
   "metadata": {},
   "source": [
    "- If you type a line of code and hit Enter, the interpreter displays the result\n",
    "\n",
    "- Once you are comfortable starting the Python interpreter and running code, you are ready to get started\n",
    "\n",
    "- Henceforth, the assumption is that you know how to start the Python interpreter and run code.\n"
   ]
  },
  {
   "cell_type": "markdown",
   "id": "7b6376d8",
   "metadata": {},
   "source": [
    "## 1.3 The First Program\n",
    "\n",
    "- The first program typically written in any new language is \"Hello, World!\".\n",
    "\n",
    "- This program simply displays the words \"Hello, World!\".\n",
    "\n",
    "- In Python, the \"Hello, World!\" program utilizes the `print` function to display result on the screen.\n",
    "\n",
    "- A `print` statement does not actually print anything on paper.\n",
    "\n",
    "\n"
   ]
  },
  {
   "cell_type": "code",
   "execution_count": null,
   "id": "9b3e36fa",
   "metadata": {},
   "outputs": [],
   "source": [
    "print(\"Hello, World!\")"
   ]
  },
  {
   "cell_type": "markdown",
   "id": "8dfde61d",
   "metadata": {},
   "source": [
    "## Understanding Python Syntax\n",
    "\n",
    "- Quotation marks in a `print` statement define the starting and ending of the text to be displayed.\n",
    "\n",
    "- These quotation marks do not appear in the output.\n",
    "\n",
    "- Parentheses indicate that `print` is a function.\n",
    "\n",
    "- Further details on functions will be covered in Chapter 3.\n",
    "\n",
    "\n"
   ]
  },
  {
   "cell_type": "markdown",
   "id": "3a3d3a04",
   "metadata": {},
   "source": [
    "## Differences in Python Version\n",
    "\n",
    "- In Python 2, the `print` statement is not a function and thus, does not use parentheses.\n",
    "\n",
    "- Agreater clarity on this distinction between Python 2 and Python 3 will be provided in subsequent sessions.\n",
    "\n",
    "\n"
   ]
  },
  {
   "cell_type": "code",
   "execution_count": null,
   "id": "8cac8d87",
   "metadata": {},
   "outputs": [],
   "source": [
    "# Example of print statement in Python 2\n",
    "# print 'Hello, World!'"
   ]
  },
  {
   "cell_type": "markdown",
   "id": "bd5676ff",
   "metadata": {},
   "source": [
    "## 1.4 Arithmetic operators\n",
    "\n",
    "- Python provides special symbols known as arithmetic operators for mathematical computations.\n",
    "\n",
    "- These operators include + (addition), - (subtraction), * (multiplication), and / (division).\n",
    "\n",
    "- There's also the ** operator, used for exponentiation, which means raising a number to a power.\n",
    "\n",
    "- A notable operator in other languages, ^, is a bitwise operator called XOR in Python, not used for exponentiation as one might expect.\n",
    "\n",
    "\n"
   ]
  },
  {
   "cell_type": "code",
   "execution_count": null,
   "id": "60ec705d",
   "metadata": {},
   "outputs": [],
   "source": [
    "# Arithmetic operations examples\n",
    "print(40 + 2)  # Addition\n",
    "print(43 - 1)  # Subtraction\n",
    "print(6 * 7)  # Multiplication"
   ]
  },
  {
   "cell_type": "markdown",
   "id": "7246ec80",
   "metadata": {},
   "source": [
    "- The operator / performs division.\n",
    "\n",
    "  - The division result may be a float even if the mathematical result is a whole number.\n",
    "\n",
    "  - This characteristic will be explained later.\n",
    "\n",
    "- The operator ** performs exponentiation (raising a number to a power).\n",
    "\n",
    "- In other languages, the operator ^ is used for exponentiation, but in Python it's used as a bitwise operator called XOR.\n",
    "\n",
    "\n"
   ]
  },
  {
   "cell_type": "code",
   "execution_count": null,
   "id": "ed0bf06d",
   "metadata": {},
   "outputs": [],
   "source": [
    "# More arithmetic operations examples\n",
    "print(84 / 2)  # Division\n",
    "print(6**2 + 6)  # Exponentiation"
   ]
  },
  {
   "cell_type": "markdown",
   "id": "b7c90620",
   "metadata": {},
   "source": [
    "- The operator ^ in Python is a bitwise operator called XOR, which may offer unexpected results if used for exponentiation.\n",
    "\n",
    "- Note: Bitwise operators are not covered in this notebook, but you can learn more about them from Python's official documentation or other online resources.\n",
    "\n",
    "\n"
   ]
  },
  {
   "cell_type": "code",
   "execution_count": null,
   "id": "d449e8df",
   "metadata": {},
   "outputs": [],
   "source": [
    "# Example of XOR operation\n",
    "print(6 ^ 2)  # XOR operation (not exponentiation)"
   ]
  },
  {
   "cell_type": "markdown",
   "id": "1fd8642f",
   "metadata": {},
   "source": [
    "## 1.5 Values and types\n",
    "\n",
    "- A program manipulates basic items like letters and numbers, known as 'values'\n",
    "\n",
    "- Each value belongs to a type such as integer (`int`), floating-point number (`float`), or string (`str`)\n",
    "\n",
    "- The Python interpreter can reveal the type of a value using the `type()` function\n",
    "\n",
    "- The term 'class' in the results refers to a category of values\n",
    "\n",
    "- Each value type falls into a distinct class\n",
    "\n",
    "\n"
   ]
  },
  {
   "cell_type": "code",
   "execution_count": null,
   "id": "226464c0",
   "metadata": {},
   "outputs": [],
   "source": [
    "# Displaying the type of different value\n",
    "print(type(2))\n",
    "print(type(42.0))\n",
    "print(type(\"Hello, World!\"))"
   ]
  },
  {
   "cell_type": "markdown",
   "id": "8c6a12c7",
   "metadata": {},
   "source": [
    "- Values like '2' and '42.0' might look like numbers but they are strings as they are enclosed in quotation marks\n",
    "\n",
    "- Python interprets numbers with commas (e.g., 1,000,000) as a comma-separated sequence of integers, not as a single integer\n",
    "\n",
    "\n"
   ]
  },
  {
   "cell_type": "code",
   "execution_count": null,
   "id": "4e6a2817",
   "metadata": {},
   "outputs": [],
   "source": [
    "# Checking the types of numeric values represented as strings\n",
    "print(type(\"2\"))\n",
    "print(type(\"42.0\"))"
   ]
  },
  {
   "cell_type": "code",
   "execution_count": null,
   "id": "86b4b85a",
   "metadata": {},
   "outputs": [],
   "source": [
    "# Python treating comma-separated numbers as separate integers\n",
    "print(1, 000, 000)"
   ]
  },
  {
   "cell_type": "markdown",
   "id": "f509a229",
   "metadata": {},
   "source": [
    "## 1.6 Formal and Natural languages\n",
    "\n",
    "- Natural languages are the languages people speak, such as English, Spanish, and French, they evolved naturally not designed by people.\n",
    "\n",
    "- Formal languages are designed by people for specific applications like mathematics, chemistry and programming languages which have strict syntax rules.\n",
    "\n",
    "\n"
   ]
  },
  {
   "cell_type": "markdown",
   "id": "477cd675",
   "metadata": {},
   "source": [
    "## Syntax in languages\n",
    "\n",
    "- Syntax rules govern the structure of statements, for instance, '3 + 3 = 6' is syntactically correct while '3 + = 3 $ 6' is not in mathematics.\n",
    "\n",
    "- Syntax rules come in two flavors: tokens and structure.\n",
    "\n",
    "  - Tokens are the basic elements of a language, such as words, numbers, and chemical elements.\n",
    "\n",
    "  - The second type of syntax rule pertains to the way tokens are combined.\n",
    "\n",
    "\n"
   ]
  },
  {
   "cell_type": "markdown",
   "id": "449dfd7b",
   "metadata": {},
   "source": [
    "## Parsing and Main Features of Languages\n",
    "\n",
    "- The process of figuring out the structure of a sentence in a language is called parsing.\n",
    "\n",
    "- Formal and natural languages share certain features such as tokens, structure, and syntax.\n",
    "\n",
    "- There are key differences between these languages in terms of ambiguity, redundancy, and literalness.\n",
    "\n",
    "\n"
   ]
  },
  {
   "cell_type": "markdown",
   "id": "46ef1fe1",
   "metadata": {},
   "source": [
    "## Contrast between Natural and Formal Languages\n",
    "\n",
    "- Natural languages, due to inherent ambiguity, employ lots of redundancy and often verbose while formal languages are less redundant and more concise.\n",
    "\n",
    "- Natural languages are full of idiom and metaphor and may not mean exactly what they say while formal languages mean exactly what they say.\n",
    "\n",
    "\n"
   ]
  },
  {
   "cell_type": "markdown",
   "id": "f3445e30",
   "metadata": {},
   "source": [
    "## Importance of Understanding Formal Languages\n",
    "\n",
    "- As we all grow up speaking natural languages, it might require some adjustment to understand and use formal languages.\n",
    "\n",
    "- The understanding of a computer program, a form of formal language, is unambiguous and literal and is fully obtained from analysis of the tokens and structure.\n",
    "\n",
    "- Reading formal languages involves careful parsing and attention to detail in punctuation and spelling as unlike in natural languages, a small mistake can cause significant errors.\n"
   ]
  },
  {
   "cell_type": "markdown",
   "id": "e6b862a2",
   "metadata": {},
   "source": [
    "## 1.7 Debugging\n",
    "\n",
    "- Programming can often involve making mistakes, which are commonly referred to as 'bugs'.\n",
    "\n",
    "- The process of identifying and fixing these mistakes is known as 'debugging'.\n",
    "\n",
    "- Debugging can sometimes trigger strong emotions such as anger, despondency, or embarrassment.\n",
    "\n",
    "\n"
   ]
  },
  {
   "cell_type": "markdown",
   "id": "85bd7311",
   "metadata": {},
   "source": [
    "- People tend to respond to computers in a way similar to their responses to people.\n",
    "\n",
    "- Should computers work effectively, they're treated as helpful teammates, but when they get obstinate or difficult, our responses often mirror those we would exhibit towards uncooperative individuals.\n",
    "\n",
    "\n"
   ]
  },
  {
   "cell_type": "markdown",
   "id": "61b8c7a4",
   "metadata": {},
   "source": [
    "- Considering the computer as an employee with specific strengths like speed and precision, and weaknesses such as an inability to grasp larger concepts or empathize can be helpful.\n",
    "\n",
    "- As a programmer, your job becomes managing these strengths and weaknesses: leveraging the strengths and mitigating the weaknesses.\n",
    "\n",
    "\n"
   ]
  },
  {
   "cell_type": "markdown",
   "id": "2cf27d90",
   "metadata": {},
   "source": [
    "- Emotions should be utilized to engage with problems, but they should not interfere with productive work.\n",
    "\n",
    "- Debugging, while challenging, hones a valuable skill that is applicable to many activities beyond programming.\n",
    "\n",
    "- Each chapter's end contains suggestions for debugging to aid your learning process.\n",
    "\n",
    "\n"
   ]
  },
  {
   "cell_type": "markdown",
   "id": "b490d29c",
   "metadata": {},
   "source": [
    "## 1.8 Glossary\n",
    "\n",
    "- Problem solving: The process of formulating a problem, finding a solution, and expressing it.\n",
    "\n",
    "- High-level language: A programming language like Python that is designed to be easy for humans to read and write.\n",
    "\n",
    "- Low-level language: A programming language that is designed to be easy for a computer to run; also called \"machine language\" or \"assembly language\".\n",
    "\n",
    "- Portability: A property of a program that can run on more than one kind of computer.\n",
    "\n",
    "\n"
   ]
  },
  {
   "cell_type": "markdown",
   "id": "1093de22",
   "metadata": {},
   "source": [
    "- Interpreter: A program that reads another program and executes it.\n",
    "\n",
    "- Prompt: Characters displayed by the interpreter to indicate that it is ready to take input from the user.\n",
    "\n",
    "- Program: A set of instructions that specifies a computation.\n",
    "\n",
    "- Print statement: An instruction that causes the Python interpreter to display a value on the screen.\n",
    "\n",
    "\n"
   ]
  },
  {
   "cell_type": "markdown",
   "id": "ac9cf666",
   "metadata": {},
   "source": [
    "- Operator: A special symbol that represents a simple computation like addition, multiplication, or string concatenation.\n",
    "\n",
    "- Value: One of the basic units of data, like a number or string, that a program manipulates.\n",
    "\n",
    "- Type: A category of values such as integers (typeint), floating-point numbers (typefloat), and strings (typestr).\n",
    "\n",
    "- Integer: A type that represents whole numbers.\n",
    "\n",
    "\n"
   ]
  },
  {
   "cell_type": "markdown",
   "id": "8c1772fa",
   "metadata": {},
   "source": [
    "- Floating-point: A type that represents numbers with fractional parts.\n",
    "\n",
    "- String: A type that represents sequences of characters.\n",
    "\n",
    "- Natural language: Any one of the languages that people speak that evolved naturally.\n",
    "\n",
    "- Formal language: Any one of the languages that people have designed for specific purposes, such as representing mathematical ideas or computer programs.\n",
    "\n",
    "\n"
   ]
  },
  {
   "cell_type": "markdown",
   "id": "d82a9b03",
   "metadata": {},
   "source": [
    "- Token: One of the basic elements of the syntactic structure of a program, analogous to a word in a natural language.\n",
    "\n",
    "- Syntax: The rules that govern the structure of a program.\n",
    "\n",
    "- Parse: To examine a program and analyze the syntactic structure.\n",
    "\n",
    "- Bug: An error in a program.\n",
    "\n",
    "\n"
   ]
  },
  {
   "cell_type": "markdown",
   "id": "c2f19651",
   "metadata": {},
   "source": [
    "- Debugging: The process of finding and correcting bugs.\n"
   ]
  },
  {
   "cell_type": "markdown",
   "id": "3c6aef16",
   "metadata": {},
   "source": [
    "## 1.9 Exercises\n",
    "\n",
    "- Explore and experiment with Python interactively as you learn.\n",
    "\n",
    "- Try intentionally making errors when writing code to learn about error messages.\n",
    "\n",
    "    - e.g., misspell a function, remove a necessary character.\n",
    "\n",
    "- Learning by doing not only enhances comprehension but also familiarizes you with troubleshooting.\n",
    "\n",
    "- Anticipating common errors minimizes accidental mistakes in the future.\n"
   ]
  },
  {
   "cell_type": "markdown",
   "id": "cf9149d7",
   "metadata": {},
   "source": [
    "## Experiment: Print Statement\n",
    "\n",
    "- Experiment with print statements.\n",
    "\n",
    "    - What if you omit one or both parentheses in a print statement?\n",
    "\n",
    "    - Try printing a string without the quotation marks.\n"
   ]
  },
  {
   "cell_type": "markdown",
   "id": "8ec558e9",
   "metadata": {},
   "source": [
    "## Experiment: Python Notation\n",
    "\n",
    "- Experiment with numeric notation in Python.\n",
    "\n",
    "    - Can you use a plus sign (+) or a minus sign (-) before a number in Python?\n",
    "\n",
    "    - Try adding leading zeros before a number e.g., `09`, `011`.\n",
    "\n",
    "    - What happens if you have two values with no operator between them?\n"
   ]
  },
  {
   "cell_type": "markdown",
   "id": "0c46f8fe",
   "metadata": {},
   "source": [
    "## Exercises: Python as a Calculator\n",
    "\n",
    "- In this exercise session, use Python's capability as an interactive calculator.\n",
    "\n",
    "    - Compute the total seconds in 42 minutes and 42 seconds.\n",
    "\n",
    "    - Convert 10 kilometers into miles.\n",
    "\n",
    "    - Guess your average pace and average speed if you run a 10 kilometer race in 42 minutes 42 seconds.\n"
   ]
  },
  {
   "cell_type": "markdown",
   "id": "0d7ae203",
   "metadata": {},
   "source": [
    "## Python Notations\n",
    "\n",
    "Python supports many mathematical operations which are useful for calculating numeric expressions. Let's check out the snippet below.\n",
    "\n",
    "\n"
   ]
  },
  {
   "cell_type": "code",
   "execution_count": null,
   "id": "de3fc2aa",
   "metadata": {},
   "outputs": [],
   "source": [
    "# Calculation of seconds in 42 minutes 42 seconds\n",
    "total_seconds = (42 * 60) + 42\n",
    "print(f\"Total Seconds: {total_seconds}\")"
   ]
  },
  {
   "cell_type": "code",
   "execution_count": null,
   "id": "8b4df356",
   "metadata": {},
   "outputs": [],
   "source": [
    "# Conversion of kilometers to miles\n",
    "miles = 10 / 1.61\n",
    "print(f\"Miles: {miles}\")"
   ]
  },
  {
   "cell_type": "code",
   "execution_count": null,
   "id": "7eaf1795",
   "metadata": {},
   "outputs": [],
   "source": [
    "# Calculation of average pace\n",
    "avg_pace = total_seconds / miles\n",
    "print(f\"Average Pace (seconds per mile): {avg_pace}\")"
   ]
  },
  {
   "cell_type": "code",
   "execution_count": null,
   "id": "9cf15e48",
   "metadata": {},
   "outputs": [],
   "source": [
    "# Conversion of seconds to minutes and seconds\n",
    "minutes = avg_pace // 60\n",
    "seconds = avg_pace % 60\n",
    "print(\n",
    "    f\"Average Pace (minutes and seconds per mile): {minutes} minutes {seconds} seconds\"\n",
    ")"
   ]
  },
  {
   "cell_type": "code",
   "execution_count": null,
   "id": "721a3a48",
   "metadata": {},
   "outputs": [],
   "source": [
    "# Calculation of average speed in miles per hour\n",
    "avg_speed = miles / (total_seconds / 3600)\n",
    "print(f\"Average Speed (miles per hour): {avg_speed}\")\n",
    "# j2 from 'macros.j2' import header\n",
    "# {{ header(\"Introduction\", \"Introduction\") }}"
   ]
  }
 ],
 "metadata": {},
 "nbformat": 4,
 "nbformat_minor": 5
}
