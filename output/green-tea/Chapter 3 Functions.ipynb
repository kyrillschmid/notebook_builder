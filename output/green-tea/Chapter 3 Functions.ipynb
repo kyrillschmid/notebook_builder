{
 "cells": [
  {
   "cell_type": "markdown",
   "id": "42708803",
   "metadata": {},
   "source": [
    "<img src=\"data:image/png;base64,iVBORw0KGgoAAAANSUhEUgAAAG8AAABuCAYAAAApmU3FAAAEtmlUWHRYTUw6Y29tLmFkb2JlLnht\n",
    "cAAAAAAAPD94cGFja2V0IGJlZ2luPSLvu78iIGlkPSJXNU0wTXBDZWhpSHpyZVN6TlRjemtjOWQi\n",
    "Pz4KPHg6eG1wbWV0YSB4bWxuczp4PSJhZG9iZTpuczptZXRhLyIgeDp4bXB0az0iWE1QIENvcmUg\n",
    "NS41LjAiPgogPHJkZjpSREYgeG1sbnM6cmRmPSJodHRwOi8vd3d3LnczLm9yZy8xOTk5LzAyLzIy\n",
    "LXJkZi1zeW50YXgtbnMjIj4KICA8cmRmOkRlc2NyaXB0aW9uIHJkZjphYm91dD0iIgogICAgeG1s\n",
    "bnM6ZXhpZj0iaHR0cDovL25zLmFkb2JlLmNvbS9leGlmLzEuMC8iCiAgICB4bWxuczp0aWZmPSJo\n",
    "dHRwOi8vbnMuYWRvYmUuY29tL3RpZmYvMS4wLyIKICAgIHhtbG5zOnBob3Rvc2hvcD0iaHR0cDov\n",
    "L25zLmFkb2JlLmNvbS9waG90b3Nob3AvMS4wLyIKICAgIHhtbG5zOnhtcD0iaHR0cDovL25zLmFk\n",
    "b2JlLmNvbS94YXAvMS4wLyIKICAgIHhtbG5zOnhtcE1NPSJodHRwOi8vbnMuYWRvYmUuY29tL3hh\n",
    "cC8xLjAvbW0vIgogICAgeG1sbnM6c3RFdnQ9Imh0dHA6Ly9ucy5hZG9iZS5jb20veGFwLzEuMC9z\n",
    "VHlwZS9SZXNvdXJjZUV2ZW50IyIKICAgZXhpZjpQaXhlbFhEaW1lbnNpb249IjExMSIKICAgZXhp\n",
    "ZjpQaXhlbFlEaW1lbnNpb249IjExMCIKICAgZXhpZjpDb2xvclNwYWNlPSIxIgogICB0aWZmOklt\n",
    "YWdlV2lkdGg9IjExMSIKICAgdGlmZjpJbWFnZUxlbmd0aD0iMTEwIgogICB0aWZmOlJlc29sdXRp\n",
    "b25Vbml0PSIyIgogICB0aWZmOlhSZXNvbHV0aW9uPSI3Mi4wIgogICB0aWZmOllSZXNvbHV0aW9u\n",
    "PSI3Mi4wIgogICBwaG90b3Nob3A6Q29sb3JNb2RlPSIzIgogICBwaG90b3Nob3A6SUNDUHJvZmls\n",
    "ZT0ic1JHQiBJRUM2MTk2Ni0yLjEiCiAgIHhtcDpNb2RpZnlEYXRlPSIyMDIwLTAyLTEzVDE2OjQ4\n",
    "OjM2KzAxOjAwIgogICB4bXA6TWV0YWRhdGFEYXRlPSIyMDIwLTAyLTEzVDE2OjQ4OjM2KzAxOjAw\n",
    "Ij4KICAgPHhtcE1NOkhpc3Rvcnk+CiAgICA8cmRmOlNlcT4KICAgICA8cmRmOmxpCiAgICAgIHN0\n",
    "RXZ0OmFjdGlvbj0icHJvZHVjZWQiCiAgICAgIHN0RXZ0OnNvZnR3YXJlQWdlbnQ9IkFmZmluaXR5\n",
    "IERlc2lnbmVyIDEuNy4zIgogICAgICBzdEV2dDp3aGVuPSIyMDIwLTAyLTEzVDE2OjQ4OjM2KzAx\n",
    "OjAwIi8+CiAgICA8L3JkZjpTZXE+CiAgIDwveG1wTU06SGlzdG9yeT4KICA8L3JkZjpEZXNjcmlw\n",
    "dGlvbj4KIDwvcmRmOlJERj4KPC94OnhtcG1ldGE+Cjw/eHBhY2tldCBlbmQ9InIiPz63ZYCCAAAB\n",
    "gWlDQ1BzUkdCIElFQzYxOTY2LTIuMQAAKJF1kc8rRFEUxz9miDCNYmFh8dKwQoMSG4uZ/Cosxii/\n",
    "Nm+eeTNq3szrvZk02SpbRYmNXwv+ArbKWikiJSsLa2KDnvM8NZI5t3PP537vPad7zwVfPKMZdmUY\n",
    "jGzeio1ElJnZOaX6ER8BgoQJqJptTkwNxylrbzdUuPGq061V/ty/VreYtDWoqBEe1EwrLzwqPL6c\n",
    "N13eFG7S0uqi8LFwhyUXFL529YTHTy6nPP5w2YrHouBrEFZSvzjxi7W0ZQjLywkZmYL2cx/3JfXJ\n",
    "7PSUxFbxFmxijBBBYYwhovTRzYDMfXTSQ5esKJMf/s6fJCe5mswmRSyWSJEmT4eoBamelKiLnpSR\n",
    "oej2/29fbb23x6teH4GqB8d5aYPqDfhcd5z3fcf5PAD/PZxlS/m5Peh/FX29pIV2IbgKJ+clLbEF\n",
    "p2vQfGeqlvot+cV9ug7PRxCYhcZLqJ33evazz+EtxFfkqy5gewfa5Xxw4QtXymffaj9hFAAAAAlw\n",
    "SFlzAAALEwAACxMBAJqcGAAAIABJREFUeJzlfXu0b1V13jfX/l2UkAAXiq/EWkg0RqUaBO5BEB+A\n",
    "WKtG6qtWeZnRtCYmgThUvJfRdDQOBAtc2mSEGJuhJn2oNcPwGFZSgmmAG84JAgKS4QPIQ2OVIgIR\n",
    "kbP3mv1jrW+ub+177uUROIfENca5557923vttefzm4+1f4a/R2PpfX+wCfB/6o4XmuHpDuwDYG94\n",
    "3gfue8PSPoDXY74PAAPsO4DfBeAuuH8HwF0wuwue7wLwHbjfCUvXA37j8gfflDfy+R7usI1ewK7G\n",
    "0taLDDYcDM+HAX4oYIcC+WA4ngAA7hPMBgAOdwBe6W78fwLgdTYHcgZMH9fkcwDu9wC+A+5XAX4l\n",
    "HCvL5/2r+x/r5/y7jMcd85a2XbwZ7qcC+LcAngnPgA0AMjxnmBWmuDvgXp7AEpAn8HEsJXge42+4\n",
    "F4bWa8v59XOzem0dZuV4Hh+ApRUAvwXg48vnvkVOenyMxw3zlrZd/NNw/BLS8GZ43hNAIao1BrhP\n",
    "hfAuGgPv/7bUtJDHybjQSqsM9TI/f8OLMpoV5lpo71fhfjaA310+762rjx0VHt7YcOYtbb14APw/\n",
    "AHYG4Ina4NMIS9Q4B+AwS4WBYRKt0p4MyeUnLapmoTGHn9NUUlvNeoZ3x0RjPQPufwXg/cvnv+3D\n",
    "60qkXYwNZd7Stkuejjz9D6ThyJD+PAFpCLPmnmFpUc1gHe5ACoIKgyB/k1FJTKM3xtJ02tBrKjUw\n",
    "tDNXjfV2rk8fhg0/v3z+22RR6z82jHlL2y55CoDrAH8qcg/y3Au4MBt2YlrxZ5XBXnygT+MMjPjO\n",
    "ZnH+GdD8GzXWrAKbVE8VkFNQEYJkZp+F+xuXz3/b3z5qRHmYY0OYt7T1ogFp+CPk6SWFeFMjWIwC\n",
    "Skx8XPkbDazU84KwlprWzU1lZxpz0dz4HLO50LRVGRpgZrX8TmkF03Tk8gUnb4gGzim2PsPSL8Hz\n",
    "S4pvQTFl1gjpOQOwWw32e3D/IOB/6PD7GuKk9Nd/lPHho1zCh6F95t4+h/faFXPItY6i5TzXpzKf\n",
    "GTCtHg7kdz0WJHooY4M07+IvwfCsnTSgEPT7gJ0J+PnXfOCEUIstZ/z+QfD8EcCODlNIwpMRadH+\n",
    "n6uvUpNM9NihTAkbwr+hHR8W5bjOE/cbAM/fA9LBy9tPvPWxp1w/1l3zls689KcAPKuBAxS/FmbQ\n",
    "zrjmA687VxkHAMtnv/42IP0zAF+J2DotGrRPi+a7GL8V0ybocaomcyi/PUtIgP4ar2FdzsA0NoZb\n",
    "qnOGOd8Tnn/lMSTZLsf6m808Pa1QvHIgZ1g1AA6/BZb+064uXT7n9ffB/Vfi+jw1rXA035THerwy\n",
    "K5AoKuMkflQtpp9k0E4/aalqoBemamhS5njto0ylhzTWn3nue9e0SDsEr+gyXXnNWa/1XV8MwOxK\n",
    "5MnDjwFNU+bprzTIMQ0hNPbj6akxK9bnTStpHQInTW2ePP7YltM++pOPiB5/h7H+zFNixqGB0P7r\n",
    "D3b58jlvuBuGv21xW2rapXDeJ0l7iX8LBlHbqKFjM5VqGTT/GdfIOQ3wbH5kBHnkYyM0L6TbyYD2\n",
    "4Qse7PIt7/mfB8GGHwngEUBCgErn9/gZ/5uFSWjnpEHSYdbmVpNr1pAnNd8oPHmvh0WHR2FsgOYl\n",
    "78ICAD6twvMq3P2YLe/91NN2P4Gf2IJqAQ5e0WZ3qve/89SHCpGoBpoPo7kU5jOjA2tpNxfGlucS\n",
    "O74+YwM0L7vnqeUjCenLUvaBpd9Zet+nn7DWpVve+6kluG9rlQY0eM+Umqmv85YWAyT1RWZULVNf\n",
    "F0E7E9XU6LGZyC75zZBk/YsOiwc/5VEelqqgGzyPsKH4O28EeKXDPr/lvZ86HcCO5XPe8N0t7/nk\n",
    "gYCfBPdtSMOmIKrGekDlUZ5pHHOSqiVDQ6oMDyLXSbSp9b6aI63rLxUOF3xkcKx/HXfdmec+eanM\n",
    "5JK7nCTOipPwXAB/CEt5y3s+eS8s7dOZyqzpNEkYIwMZDcQwpZXrZ/Rb02rVzkFCi6mFEWloZjUL\n",
    "uDEAuRy3xDiPHFz/fMeGABavIMMJ77uaGhoC9Jxqa0Pzb6yIa+qr0yoBIG0elOpCnZtZE0B8GEow\n",
    "DrRrVDOT3CeY5pJEX39Srvsdzcwh5ibCBE1XdflGia20YFoub+dS0wL+s56X+nlMtDLCCxEGZZiW\n",
    "hSRn6vF3ERCnP1znse7Mcy+9C5TUIEQgwrFnQjkLkdmofStdgB3aKNobGj37LO4nzCK6JIiJFFgV\n",
    "FmpdvcYkK2NpKBmieXJ7HcYGmM2pl9ZgkPgoVhriGgnC5y0Olsq10aOC5hej4sCAWq5vGeimpXls\n",
    "xVqGFU7EWgcjAiuFYneHw2vMur5jA0pC5s1PqUZQuxRF1thK+1aiilCD7TxJ2CDEZqI6j81carmo\n",
    "TIZoYAKkKmFtroj35uZVwQpm/1+fsQGhgt0F+EoLkGexVaC+DJiEBABCe9pkaFpnpUhqYu48HwBL\n",
    "B3btFWFGJTfJtczBEOF/lK5QUHIaaqhg1exjQ3zeujNv+ezX7wCwZT3uteVd//3nkFc/1CHNAC1j\n",
    "0zr1i+5NeCAJ7yo0BgNbED2P5TfyRijeBlXS12uwvcIgOc+ZSQaaKaU/Y1amlXzanEY5GMWkAj8Y\n",
    "ZnM9R2vZqwckrUWTnTMwbEIgWogZlbjOvSYVKsii6fRJTXU9/Uuv2gTg2e2AmHqa4HLsfqT0NfvJ\n",
    "z3zvkTzeI2be0taL/gmAFwD4EcD38pz3CB8QNbBqTtT5R85Q4qkOtksdTf2Ipq26Vr00+5znJ8Dz\n",
    "i5qpBKKaEAG/oEzXBHWZ130M80gNNjcgLcpzaryow+zpyPnGFn9KImKo2j1NwUS/5fhvYpo+gyH9\n",
    "N6T0OXv2Zx+SA31YzFvadslzkafTYDjO8/QMmDVj0bXIsebFzEaF85GqYkklz9oQagzHdJYy2q0x\n",
    "wazMC0k6M/Ofs/ipSoMk3oHCFOkzHuzDDc+rpVBAgJInwAWgUHNZlVBBIzN530kySWPtPOMYRwB4\n",
    "MobhVOR8Kgxf8FuO/1l7zmWffzB+PCTmLW296KcA/Cry+EZ3T5Y2ITqVE3srrVTEA9ExgwE0xqnk\n",
    "A/DKAEWTXe1NiqkkUszhHbEjRLCESDzrCHOVmxWIuayhyDzV7rRZ0M/1dTW/mWWY34u1Rs0WJUky\n",
    "hPmsP0Xgng9g2W865gKkdKY993/vcrPLgwKWpW2XnAazm+H+ZqRFsnkPiDNRO7RUF9vRI+huaC0W\n",
    "O60CzhhsjQxFxFGM8yDxWDU9adGIaJU48WQsrgoTtOJe40P2gFptKrKUyrF54G1SPO7mUZ/Ke6fW\n",
    "tMTPh6Ektdlvw2ec6ArQaJB9APAumH3Cbz52l3XC3TJvaetF5wDYDs8p6mXOHTq5Pmiu8HmqWZOp\n",
    "ma2utQBlkWmoi2fCl5IM0VhJWelxDs1fMl6DVWZWjexKPgI+wtQVs12sKBkx1tuKH2Uuk+uf+1lp\n",
    "pIoRjVAtPsS4Kv5fsMBClGGamvkv87wW7h/aFX/WNJtLWy9eAPnDMDslNElQGptenf6LD2KMjypx\n",
    "tR1PC6gBSKb2kNTSaSzoL1Jn1KxZlgVDIcA0NkKQwMEsxmqV4SRK5EfJoLKZxYZF067a09btTCKo\n",
    "0awQ5LY6VGiGoWlgqpYkz0KRaSqfASJ0BsB/1r/wsm/a8z+3bc6ntTXP0llAOqXFRnG8oLA8VdNS\n",
    "Vh3mJczpPL1Ua2eay9SgmAum1NHkkNH0ozQt0XPJuI0mVh6c9yUz6V+8AhptgIo8p7d1eC4+XEtO\n",
    "XaUjt7/Dt5Oq2maB8jyhmXIvjhAKNFNKC1TQ6lb/wste+qDMW9p26cHw6fQwWyGZU0VcxVx2N2cQ\n",
    "PG/0mZswhda6BYvt7juVdupc02qbs0tAo80BZaBIddTrhGA2NEJV0112IjUA07RNLEeUoxTQ9DFe\n",
    "WS/jxWo1hmrgOsBEoAVhNh8jiaYygZB+bbfMW9p2scHzhQAWXFTEbZVAJZMucVkEwd7MU0dINGaE\n",
    "mVMgUn0XyyoEHurjorIdpgTR/cw+mLgZeq1QjYxTKqGs7PcrlkRQL58nykv1+V3vMbVzZ7ucwqpM\n",
    "UzmdoYIKb3QQzEDPsEYpqtDiKL/5uFfuknlwfzs8H9mYUbuZxdwZWwd0oXyIIK7U4whcaMLU9HRz\n",
    "eDOjMZcjup6VgXwgvQcRZAT6aASJ0hAJS186iSZhdo6uR4QjGKv+G3IO+nZ4Pi5Nfao0YDVfa4cE\n",
    "LDxOS8C5p/H9azJvaetF+8HzOVGnmka0doXysNwPHg+VhjUemGiTU1szF3NU2ZlVl9jMW0tCwOc6\n",
    "r2p7hAre5gsi8wmHdj4tQzAacg1ijYY1BDJMKoShJmHL0Cbi/MmaeeZzMDTIUwUt1LihziXuIwlj\n",
    "i+97oX/hZSfsxDwAr0da7A+vm/bVRDWSCFDxtkitXishwyyuUadTgpJwFIaYYwZCyCyb/9Asz7Sb\n",
    "Bd9KYBZPkYYGGQQYmACyZjabiQ2hCCwgXdl5ujMIRUtBk06XQS0jIEvCKPrJCOyBTvsbuj1pDebZ\n",
    "axRVlcfPwazYE6caFLtW6cBpwggWZoleMoeL73wTmu0PM6rVcGEGGRuwXvxuWIYJGDbB81iSx1Uo\n",
    "zQzclWRm8Vw2LJRATUs7nyrWJExvmNK2xcvQC2wgXQfGSTatCA1oNlF9ZeVD0GQKIXmpX390itVs\n",
    "ed+n9wT8WBLLp7FpWP3tObfEcOcjKqHClXlPhDhXfGcSUxupJjEt4QuGZi41YzNvoaD5oykXrbe0\n",
    "6PKv7r2AEJC1JAN9GgVKgImJC6BFKWu6a+U3f+HuYJ7jhxroIAPQJ+qDJmjAJqWegdPUBIfmMw37\n",
    "AnaIitIxAPYMems3sRJZQYQGw47mo8BFUmMk2CYzuz0ALueiI3znc9RfMfaKdjxv6xO/2e2FMPRz\n",
    "1vCnnKoMErChg3Nr7MvKhPtt/cnYjNnlSAnYJD6a9NAYOdamzEqx3qAP8HKgMe81ZS0JDm/pIfqP\n",
    "eWNsgAPmLtE+VyDCDAcJQyIGQqsPEYlqMUXA7CFl9yofQs1y+EoLKbeaj6Rv8067lbo0+anN26Fe\n",
    "yO96r7SogGIA4F/pGOX5yQ0zoAnjRDch1omt+cMafaH8m0E7Ndi9MG9p60UGz6/2PNYgvEqsEpSp\n",
    "LDJTt0JRGud+kAuIWlldTCR1yUlv53BOoAGhPJZjBACRlSdjUyM2rwPi/OLnNOCmkJBpMxVRJmpI\n",
    "MNV10OfHtjAHHB/tJ7FDIpaLa9GupwmdRrFimIVD4mLCDdWflI7y64/elAAcbGnT07pMAaVOW73Z\n",
    "EtehTTWHEJ8DMWEm51eNC5RIAqqJFOK6EI+f5zESyEHI3cRlDMDL+1x0syUagTSeUs1IA0pTkyLa\n",
    "qlFtrdevXPgLl80E4NAODSexPjS7QwVvAzu7s1gSQdFAu74h2L3gfngC8AyP+MmDwxEuKEgwiZnI\n",
    "oFhY7n9Dru2y8MLIebqL85LIEdPVefOIYqqHnshdeGJ9bFeRqWkIQI2nCeR6w0QrwJgxrSsLATA7\n",
    "u+PbLcfvA7MXt8Ba/CkZMQzSWs+YlWkwEX5eT6aPYwM9ln5iAfcnGayP39Ls5TV8OB8BWwBWzUaH\n",
    "nOjkO6kUTSDQQBAUruhtQlTd1ZSF7xDtjHQa47oGcFwyQy6C4socCkggOfU3uS8ok9nRgsF1AnC/\n",
    "Co5PdWTK+U0wPHEnwEJGKWPU6hDkaSot3mihvjeu2y+55wN6U5b6XJ0iHfo++sQOneXGJI3/mAmx\n",
    "AQ3V5fZDn8bqt27yiLixmkma6nnch5pvZes56muvQivFZ3DNaiki1qoE5prYOa2Zm2YlbgDw6pUL\n",
    "3ynEAmB2SnM3aDSdB9vamhHgSxirrznRYyzowvZPgD/JmeDtHnbmz8qCZwxV/8HfDGylKKsxEc3g\n",
    "fN4u3yemMF4nlXsiaPAPlEqH50qvYq7DelDbg2FTM8XhRyqj0tBnepJaAoIGfBnA8SsXvrPFdgD8\n",
    "pmNOgOFFYDhkQhemuvi8I4W2Mneeu233apoIIbn7fgnuB4APTM1R6Qy4LhNxMRGDCfoLPyPMzFPf\n",
    "rxEmgMldQaJdloMIsoYc1VRHpcPLG5FomlvFm+ZbQBj3IYRGpGYeO8FySV/NUnSwDPffgOfDVi58\n",
    "57c6xt1y/N5I6deDaewYMDT/FiBQ6McffemPXk9hXXDtwdj9F7DhgCKxRIaE/VRXJaS3vF0XB1VH\n",
    "qy8oXdPUKKiRRQdA8fbAZs2UpiTINcGqz/W4m9ellDY9r1UNs6H4QEW1FJBAyxA0twnRbq9pwPJW\n",
    "ps/B/d+tXPjOP8NaI+f/iGQ/iuw1IS0WbBiKpnVIl5ZlRKcsVgVrHAvDXOitRemU9l8grz6ptB2o\n",
    "TxATGnvGrRJWu4plIT5jfqOsCINoH48HoYTp80KofqadyqGB3PJn3Y8Hg6g9VZvYHjgfLn7H7Btw\n",
    "fAbApUC6fOXCd6z5dj//4nEJjv8M+M9h8mak4vmtCUxknKgIEkrlXJjOdghqIbCz0PsEjHm/BVLR\n",
    "vI6ovtODtGNm4NbeLh5TbmlGJgCQmGMtnoapSwCQYelr8PwXgN0Oz7fD7K8Af6CthUAJMNkn7gGk\n",
    "ir+1oXaGdY7HKbVNSLUoCn8ANvw/AN8A8KWV3/z5uXeeMe4VewD4r0h4Y6EJetPfIdrUEOQglksz\n",
    "TzTnzG+yd5XghY26AJBs/wXcD2iV4txu0nG6SvicYRFbAXBrksZrWVCcB9uxWJqA4Vb4tB2eP7p8\n",
    "wanf3R3BHg/Dv/iKAYZ/AeAMTNMhzS2gPN+waIzScABoTCATeYznpxqGgGCtCoFBqhEZsLRfeYWs\n",
    "2RNCAl1UOfyeMqT+bUCX0KW50tTaTv8XiSztENfBcBZ8+vTy9pN7yP04HP7F4/aCpVORp9PhdlAD\n",
    "EIqIKw0m8Z0BSmoBNlnNsFifOovwoTJ8IUKgKLT8f7GApW8jT3t1BVTaVUV+mrkgpI662moDFVrR\n",
    "ZjosNLf6xDwBw/AJ5Omk5e0nP7Bbgt36WoPj2UjpqQD+Edw3qa8Ln7xYAKurAqYaIu2C/m5y75+R\n",
    "xwAgT3vA7BmwdCA8HwjgQLg/Dcy0s0o+DDWwJt1nYEVjNEuAMVTKxVrRtC4WBaRELnMWMpDp4bL8\n",
    "jgXc7wTs6bH4OVzv8p2KzrwRJikqym3xSowIrg2A/wbcf3lX2ua3n/DDcH8F3P85gFdhSE9ppRNF\n",
    "sYKIV1clTuR5NF1o66af0fgt1wLpODYm0DoshkJI+u089oRG1SICuoiXp1Y1j1dEyr1ppZgO0zQa\n",
    "aa3YgoicG04Ndyxg9u0mhYKGIoshMVDEdSSIossZKtQ4K2fV2g8tX3DKL67JtNtedxhS+jXk/DJ4\n",
    "3iPMM32Hmhb2oOi7U0ZaAAVSQORgdcOH1hR5zWJRN4IAARY4ZwgKWpYj6AW00EJACIWAvmwcWwMu\n",
    "QwKuTWNb3oda7UJfPlv2b1XNkws7rRHg0pkXQXHsPiYRyVQyXetw7l+DpXfvxLTbT9gHwFkoX4RR\n",
    "uBPhgtwvbsv1oPkM9oOQoMq8ObKLG3tjqhKGWhfPVCV+FLRHLaegJ12P9UIUAizaxmegxiUqhstn\n",
    "uc3lst7yHHcsANxZ8o6y6aNDSJVBXfZCCShmkk45pcKDQJxBzF9cvuDke2eMezLMrgTwzK5NgPPx\n",
    "4RYJmBxRP9xUY9Ms4QnkWhKN/khNJC1EEFilXyxLlzRGAxqrouFRRKXgcK6ZBSsLateR2fVwFFwZ\n",
    "zpBRhvLcerwo0h0LAN8ugEO+SEIz+J2ZRNOmSOmkoEVZHOcRphe/tGP5gpP/oGPcrT+zL+CXwf2Z\n",
    "gUJpWiiB9K9Tbg8ENLMXcafJGivT1io30UcpWOEPG4KzfGbWgMJ8h5TGcXm2PiL30LrKtGkqjbWj\n",
    "Jjkga8lFq8kwVt/p64Pu9q0En+4MBjHumL8ag1II1NZzmjCaqGpC9c14ob0RoH+kY9xtrxswDJdi\n",
    "ys+PhyUImGfY1VxqtkQDYK41KumpgQEOJocJyghCumNimgIhVwZyz0HkQ2XOiJUpUFPzjWRaZLFQ\n",
    "zaSXOQZZv5pOBTkqbFXzElABC9M1hgL9g8piOkmAcN6cXJtnNBasmgi7HzZ8sqck3oBpPLKLIwfZ\n",
    "vcNANsydEHyetVDfxnP1Nz9T4k/in6PBNzXfM69+Z0oQL7PGFGZEGLsF4+u5C/nqAQbwleQlkSLm\n",
    "VTW1s25MkjgTH99K8PzVDmzk3BjVDXX+ufkeGOLteZGzEwRaNPZPlrefeM9swjM6BpBZ08xEa72N\n",
    "95//n0HxnFkkRgfRhSGGHq6vFRMGgEDTyHk7BURoKEya0spiwsO6uIAs5aS3+QKJkt402QYMw18m\n",
    "pGEZebyvI1j7o03UESv3Gth1JgtYCH/p13b0uO11rwT8BYHq4vz6QLx1wO46V0BsIZzC/W4blyDk\n",
    "WKcgOYIE9enh66oQae1xlFdakVFKM01vxT1TLeUQnHhDnJoLzt7ckJpJ9b2ct1igr9uhV9+Ulj/4\n",
    "plUAV3WZFd0xoxl+QJx6bsejoCmV8ngwA/J0PfpxcixwsakndHBOhaTeN8ykCJKO+JvmGmJWvfdN\n",
    "ASzQGNglJyp9Ax2KT5s34ur9wxx7M6lMKJNJfL7AAxJGwFr2SunY3+9SgDFVnq5oDEqifSqp9WZE\n",
    "f3GMNlhU2oSRAJCG/9stIqVntUR/tfe6NzsyN7UgSUiuplkbc3ZiHnpBMjTwQIZGwL5mSNMj2MUi\n",
    "yBECADQBoECr1lHAIheZm5nk/8NXo6BP0s1zq3bMM15lfZc05qXhisZVgeBRVYDEb/Q3JFqIaCOU\n",
    "nlMWc1fHvDwd1CVdqRV8IKKxCGAZpOaWodCM/NyUdRqUZMuwmOEQPPVR4kuj3ua6T6DXPIKfeHPS\n",
    "fI66lkGEkMdHdo95KGKPgkla702/+31I6Y8a89yvQ/ny22abI7OAtkDd/xYpKzKbN1KmGh8s3vDj\n",
    "t/3MZjj2bcGzEE/TV3QJaq7Y+kaidGhUND0YMglqI9Pq85lJ3CYok9pIN9Jp1Ow3nzPiSgF19OFz\n",
    "v6sKMBc0bUqKBAM/j2sut8N23B/MWz73LRMs/Z82GdC+uUoXK46XQEXjriTZhsiG74TgDmrghLGY\n",
    "iTlSLbKSWxzHpnV8yEmkn0SMPKAAhjnhVCMDLddniFwi56wCM6kJFqao1g5KL2o5BG3Wv8dVRCIc\n",
    "JJUCk1mTMUfskygmM5hXz/5YOFCF13yIMIlomhgtDLwBfYpu/XJ0oUfO+4VvzD5rBec9vQSuSRav\n",
    "64k+FN6mmqbIO3b3Q2icSnI8q65bwoa2A6jXHn6mQhGJ+TrXKAham5LpUuiS3AXMiMCwMVefs8x1\n",
    "Jwy/z0cL5i2f+5ZPw+y64oemxkQ6UWk/6Fr4qDnKxMhs5J0/s2QN+ub2m3NrVVmddWR/rIUF/FsZ\n",
    "qyCmi9vE5ykQYtigoQQ1idLO8yaGRPO38KKh4PkboCZBx/W7bzvUazNTyaGC1hIT77Ety4EfNKgD\n",
    "3M9sNTn1bWhMUCIFKqLHFScf/hPw7utf0AhkqaG6CHB5L5F0EltbCCaZk+uZ5N4hsZAsiAlheJ0w\n",
    "vGNcbhkTNWls7VBfpfGfZlE81xcEKHOsjxk9NxrPn8tFcFK6CrMUY8e85fPe+r/g+erS4azZjdSY\n",
    "GYvNTYIiEW3N7xEYwNF9U4sGoWqidX+CnsuHzlMzR3ywrmXQRYgg73KhZgnxBvF9LGdpBkY1Xv3R\n",
    "HM1Sc8ISiL/TZ1P0Teuim0cIqjQQLzfisRHu77At13Tgode8Ms7s0lGdJnJRs4ckoQn7eWPV0m5Q\n",
    "CFzMjsRt6j+AhiTVVDIpQPMSx/U2FAaa/9yuiWwImhVQwKM51KCWmN7QGAI69BmmoAFmbkPWQlMM\n",
    "VFAmrqrDHNhuW665eUbEnZm3fN5b/xjwDwBoTOs2XpAp9ccnRCcyH2JuuvoAU/yo9egqJJAbSGbS\n",
    "3z1Ybr6QhKT0x1rElFVaYlhIcD2188NyaIoqt/NCKyhg3uI30on5x8izyrwmAqvxnPp0BuYqjO4f\n",
    "AXzrnE9rMg8Als8/cSty/p0OXWljT7xPE+hfj8jPw8ije+kOmaRARcERTIgukqdxnprnTtO8wvCM\n",
    "9ooMa2YptGvs51V/C/Smscs00fzJ/+daT589jwMpH9pOou4jwikTkDQBns+2Lde83ZZW5lu2ds28\n",
    "uuB/A/dLupvoj/rEWCQX1kIOs/JqqI55Qu8ABmqeDU0zgXaPJJoffnBViGZFswiK6HcDHBFooEl4\n",
    "aCzavES2fI400+5AvqjCQBJInMqmJK4hsk2VftpAO8z83jRmpOE0W1p53675sxvmLZ9/4gTPbwL8\n",
    "XHBbTZiuhO6Vv2ivtepeb5jl1VA6KImguRCkN1Vgopn6PBccawxhvEn/BbTYLszXDHIHUhbkGmGD\n",
    "mPqowtc5dN84n4OVDsfOn2lBNWpyMyTNzwvKzAA+jsWm59mWa3b53bkcu33T7fIFp9wP4N1bTv/Y\n",
    "J2DpvyCPz+/MpCR1Tb4lK76MHrLIGBbXtIQ0mlkmTJ/7A/VD04yJg5hQdnsRQDCvyevDp6HPuJDA\n",
    "4wNVe8UsEq3SpLKqDjRzP9hsF2zVWAIwmzFXqxXT9BcwuxzAdjtsxy0PxrSHxDyO5e0nX7vl9N89\n",
    "BEgvhftbAX8VgKdQIt3Lq33L/lMBDRHIayAKRCGSqkImAD3TFDoHEwW0kDGT9L2oBho+gWHYEeBh\n",
    "sWi9MBQSZUDsfvW2VgIJIuMQskWLcRXR8hmAZqYZzxZmOdwfwDR9F8C9SOkGW1r+y4fKMB0P+QXh\n",
    "y9tPygCuqD/YctrHnuh5/DEz7GlW3nhbHrq+PTaXLVaFFvmvu8l0E2UMYRglUomrCDE6r6qTV+bT\n",
    "XBWze4U97/Lffvhk+fsxHvGr+ZcvOPl+AF992Be6l6B+WDTzq8XOMCVjCyOUOdos1OUE0cy4zv0P\n",
    "eOwGbT5GQ512Za/2AAAGk0lEQVR2OO4ZGKH/UShOfxdZixpzAQ3QRIqL6aq5v/2HNdb96fwrr34F\n",
    "3C/baRNI53/q79i5RGbl5gcJRgABQESh4HW3I093xHxd2kv8FNegIQGArg2ReV7W/SLQnmjuT7cX\n",
    "XrXjsaVeP9b/62imsTl7LbQqDGeQ2qW9rOQkycDYl+C9CdXCMXAggAM7eE4NjS1WRM4AWDW3es9x\n",
    "td2b3+MwocVzPSredz3JCGyE2eQGQaBVxiMGm2bmEQ2SR6uhN3PK7mOgbhARwKNF4C6LgYY0x1W5\n",
    "t68RlqDX1s7k13lih5CvuxVbf+Ypk9SfsUJBItGE6WZ65hKZ+1ToD8yakrw3icyBRnNT6lNs9JXU\n",
    "NveyvUtrl5C5w+dKqLDOYwMAC9NT1jSA2580Oa1EjJTS2ALmlErHlTID9Th7JSN88AZgmDXRF5Jq\n",
    "Wajrz0G/b0IFjvFdtGesv+atv8/TLEPEc9REOYd5zAgnagDNrjNDM5nRGzk086iM7zrMpMkpdqJK\n",
    "vbKbU2NRQ7z4lOerSd0A1dsYs6lMYgaCCFELrgos6F/4uZpLVhk08cuhQMhQvy2lfqbfIMJMUNsj\n",
    "cTeGRY4LDW0bFhm32NTuP6/9rcNYf+YBaBCdYEUaf0ikaI+QGhlfREPma8CulXXdr85qNFAB0GpD\n",
    "lgGOohK+imH4VeR8oB161b4YV/fGlI9DnkohNFJh6NdfKgQ/AGZTW/uGRZ/MjRqcNW2wVEQs59q+\n",
    "gIoyB9m0QfOmYCVJrKjZGGvmcKgvIcAEGFZhdrQdcuU1XKkdevV3AVzuf/aiQ5HzRUjp+NB83XK8\n",
    "QWNjMiwVrLXyDNC1FnK/OZFp9t7XAdJdVf+eo1c1qTw/kGdq8yxq/S8N71fGdUs+bMf3AbwdZndj\n",
    "sUkajAQo/UCECu5TfZVHe/goflauRlGTCBGI/dkKSHgNzaXWzroYTyr9+jIAfU2w++/tbtl22I6/\n",
    "wTRd0Xp5INmetCFmcwN8nt/XvZ4wsiJSzQYEkqOdQ7MaxUuaSumvpK/TnpfwaeIvQ+MBwO+1Q/7k\n",
    "9gdfut8Qr9HXtdInr/PYAObZtyNmA1qKS7c/aexGLQlGQNJqEo8FcrWdi6xw6ZWEZEyMgOWH/fqX\n",
    "7P3gS7cf7RLpIWAJbSHrNzbCbH4Znr8evfpEfFrCGdQMQpjkLTaMzIYyCYIy69BOLrO+Z5MhhrvB\n",
    "84t3u+xrj0wAjgqB0op/ue/du7v+sRjrzjx7zmUO2MVdjyT7Q7gnnuYsDe0ryRTSR2c0FKrLXRgC\n",
    "VOSq/nGU6reWobJv9+uO/qFdLtz9l5Hzc7rNpYCGLd94lEn1oGNj4jzDeRiG73WxlrYR6LtTmDCm\n",
    "BmkQP++P0ewJMygEL9oyr2kwCozZMwH/rK8ccZBO6StHJP/8Ue9GSmfvFEMyP+r5S3b4n/75Y0ix\n",
    "Ncf6Z1Pr8D9/5RkYxw/0mxGtT5kB0jAk8eFik/SPiG8EehPLlxPoFuac+1ogEwEAanvgfUjpapjd\n",
    "gGl6KoAjYPbj8ebZiCnRwg/D6ba0csFjRqxdjI1j3s3HLmB2NWCHRygQucO6rD53KIyaSOiIJgKF\n",
    "As3EMl/qKHOPYvKY01TgpALSNRMxeSCC1HKnfwzgWFtaXne4uUHpMcCed/mI7McC/tnQgvCD9f8B\n",
    "asTfjWML4COrwmBZ0l1R2/NWr1NNBXrww7+jIq/t+DO/GUjX/wbu/3IjGAdsIPMAwA6+/F64vwZm\n",
    "H44QAOjLQpF+8p7w1AYWUMlUoCWcu9hLEWZifNfQbAAXVvA5h7THq8bBrgKwZEesfPPRpcpDHxtm\n",
    "NufDb3z5v4bZmQD+cSMS0IUCWkvr+lG8wfcI0tFMJzvRtD+FrRgRuM+Tzt7/EOWaZZidBc//3pZW\n",
    "NrRF7XHDPADwm47ZBPeTYHYGzH5izdoc2x9iP1xq7RDUIiagqc3Zm0YpwGGCW30cINoOFZLvIaWP\n",
    "w/Ov25bl+XtlNmQ8rpjH4Te+fADwZri/A8DhAPbYSdvU5AHS1ETtmyQmNOkFTTMhGNCFGLw2Kh7+\n",
    "ZQC/hewftSNW7lp7xRszHpfM0+E3vOSJsHQ4zI6C+4uR8xEw7BMJaIYE829GjpeX1oCeGsgsjVbY\n",
    "yeSUvg/3GwFcC7NrMY7XArjJjljx3Sxxw8bjnnnz4dcdnWA4GJZ+GsD+yHlfmG0GsBmeNwPYF47N\n",
    "SGkzxtXN1UfdDUv3IOe7Ybgb7vfUdNY9MLsbwF8j588DuMkO/9PV3d3/8TT+P2x6AX5Riia7AAAA\n",
    "AElFTkSuQmCC\" style=\"display:block;margin:auto;width:10%\"/>\n",
    "                        <br>\n",
    "                        <div style=\"text-align:center; font-size:200%;\">\n",
    "                        <b>Functions</b>\n",
    "                        </div>\n",
    "                        <br/>\n",
    "                        <div style=\"text-align:center;\">Dr. Kyrill Schmid</div>\n",
    "                        <br/>\n",
    "                        "
   ]
  },
  {
   "cell_type": "markdown",
   "id": "18b30d15",
   "metadata": {},
   "source": [
    "# Chapter 3: Functions\n",
    "\n",
    "- In programming, a function is a named sequence of statements that performs a specific computation.\n",
    "\n",
    "- When defining a function, we specify its name and the sequence of statements it should execute.\n",
    "\n",
    "- Once a function is defined, we can \"call\" or use it later in the program by referring to its name.\n",
    "\n",
    "\n",
    "\n",
    "Here is a code cell:\n",
    "\n",
    "\n"
   ]
  },
  {
   "cell_type": "code",
   "execution_count": null,
   "id": "4d4798ec",
   "metadata": {},
   "outputs": [],
   "source": [
    "# Function definition\n",
    "def greet():\n",
    "    print(\"Hello, World!\")\n",
    "\n",
    "# Calling the function\n",
    "greet()"
   ]
  },
  {
   "cell_type": "markdown",
   "id": "8270bfce",
   "metadata": {},
   "source": [
    "## Function Calls\n",
    "\n",
    "- Function calls in Python involve a name and a parenthetical expression, the argument of the function\n",
    "\n",
    "- Functions \"take\" an argument and \"return\" a result or return value\n",
    "\n",
    "- Some built-in functions in Python convert values from one type to another, like `int()`, `float()`, and `str()`\n",
    "\n",
    "\n"
   ]
  },
  {
   "cell_type": "markdown",
   "id": "226a52ab",
   "metadata": {},
   "source": [
    "- The built-in function `int()` takes any value and converts it to an integer:\n",
    "\n",
    "- However, it does not round off floating point numbers. It truncates the fraction part\n",
    "\n",
    "\n"
   ]
  },
  {
   "cell_type": "code",
   "execution_count": null,
   "id": "aaa78f1f",
   "metadata": {},
   "outputs": [],
   "source": [
    "print(type(42))\n",
    "print(int('32'))\n",
    "try:\n",
    "  print(int('Hello'))\n",
    "except ValueError:\n",
    "  print(\"ValueError: invalid literal for int(): Hello\")"
   ]
  },
  {
   "cell_type": "code",
   "execution_count": null,
   "id": "168b23cd",
   "metadata": {},
   "outputs": [],
   "source": [
    "print(int(3.99999))\n",
    "print(int(-2.3))"
   ]
  },
  {
   "cell_type": "markdown",
   "id": "277d46a7",
   "metadata": {},
   "source": [
    "- The `float()` function, on the other hand, converts integers and strings to floating-point numbers\n",
    "\n",
    "- The `str()` function is used to convert its argument to a string \n",
    "\n",
    "\n"
   ]
  },
  {
   "cell_type": "code",
   "execution_count": null,
   "id": "fa0456c2",
   "metadata": {},
   "outputs": [],
   "source": [
    "print(float(32))\n",
    "print(float('3.14159'))"
   ]
  },
  {
   "cell_type": "code",
   "execution_count": null,
   "id": "6b180b1c",
   "metadata": {},
   "outputs": [],
   "source": [
    "print(str(32))\n",
    "print(str(3.14159))"
   ]
  },
  {
   "cell_type": "markdown",
   "id": "6c7f8716",
   "metadata": {},
   "source": [
    "## 3.2 Math Functions in Python\n",
    "\n",
    "- Python provides a `math` module with many customary mathematical functions.\n",
    "\n",
    "- A module is a file that consists of a collection of related functions. \n",
    "\n",
    "- Before using the functions from a module, it is required to import the module using an import statement.\n",
    "\n",
    "- When importing a module, a module object is created. The module object contains the functions and variables defined in the module.\n",
    "\n",
    "\n"
   ]
  },
  {
   "cell_type": "code",
   "execution_count": null,
   "id": "73500ded",
   "metadata": {},
   "outputs": [],
   "source": [
    "# importing the math module\n",
    "import math"
   ]
  },
  {
   "cell_type": "code",
   "execution_count": null,
   "id": "e45aa595",
   "metadata": {},
   "outputs": [],
   "source": [
    "# displaying the module object\n",
    "math"
   ]
  },
  {
   "cell_type": "markdown",
   "id": "44280a55",
   "metadata": {},
   "source": [
    "- Functions in the modules are accessed by specifying the name of the module and the function, separated by a dot. This is known as dot notation.\n",
    "\n",
    "- For instance, the `math.log10` function can be used to compute a signal-to-noise ratio in decibels.\n",
    "\n",
    "- The `math.sin` function calculates the sine of a number given in radians.\n",
    "\n",
    "\n"
   ]
  },
  {
   "cell_type": "code",
   "execution_count": null,
   "id": "7874a41c",
   "metadata": {},
   "outputs": [],
   "source": [
    "# using functions from the math module\n",
    "signal_power = 10\n",
    "noise_power = 2\n",
    "ratio = signal_power / noise_power\n",
    "decibels = 10 * math.log10(ratio)\n",
    "\n",
    "radians = 0.7\n",
    "height = math.sin(radians)"
   ]
  },
  {
   "cell_type": "markdown",
   "id": "10440dc6",
   "metadata": {},
   "source": [
    "- To convert degrees to radians, values are divided by 180 and multiplied by π, which can be accessed via `math.pi`.\n",
    "\n",
    "- The `math.sqrt(x)` function returns the square root of x. We can use it to check the result of trigonometric calculations. \n",
    "\n",
    "\n"
   ]
  },
  {
   "cell_type": "code",
   "execution_count": null,
   "id": "6d1c3fe4",
   "metadata": {},
   "outputs": [],
   "source": [
    "# converting degrees to radians and finding sin of the radian value\n",
    "degrees = 45\n",
    "radians = degrees / 180.0 * math.pi\n",
    "math.sin(radians)"
   ]
  },
  {
   "cell_type": "code",
   "execution_count": null,
   "id": "717df405",
   "metadata": {},
   "outputs": [],
   "source": [
    "# using math.sqrt function to check the previous result\n",
    "math.sqrt(2) / 2.0"
   ]
  },
  {
   "cell_type": "markdown",
   "id": "90d5fb8d",
   "metadata": {},
   "source": [
    "## 3.3 Composition\n",
    "\n",
    "- Programming languages allow the combination of small building blocks - a feature known as composition\n",
    "\n",
    "- Function arguments can be constructed from any kind of expression, including arithmetic operations\n",
    "\n",
    "- Expressions can also include function calls\n",
    "\n",
    "\n"
   ]
  },
  {
   "cell_type": "markdown",
   "id": "2435ba41",
   "metadata": {},
   "source": [
    "- You can put an arbitrary expression anywhere you can put a value, with an exception for the left side of an assignment statement\n",
    "\n",
    "- The left side of an assignment statement should always be a variable name\n",
    "\n",
    "- Placing any other expression on the left side results in a syntax error\n",
    "\n",
    "\n"
   ]
  },
  {
   "cell_type": "code",
   "execution_count": null,
   "id": "4223b0f8",
   "metadata": {},
   "outputs": [],
   "source": [
    "import math\n",
    "x = math.sin(degrees / 360.0 * 2 * math.pi)"
   ]
  },
  {
   "cell_type": "code",
   "execution_count": null,
   "id": "a20d4c75",
   "metadata": {},
   "outputs": [],
   "source": [
    "x = math.exp(math.log(x+1))"
   ]
  },
  {
   "cell_type": "code",
   "execution_count": null,
   "id": "a46ad7da",
   "metadata": {},
   "outputs": [],
   "source": [
    "minutes = hours * 60     # This is correct"
   ]
  },
  {
   "cell_type": "code",
   "execution_count": null,
   "id": "85b42028",
   "metadata": {},
   "outputs": [],
   "source": [
    "hours * 60 = minutes     # This results in a SyntaxError\n",
    "# This line causes SyntaxError: can't assign to operator"
   ]
  },
  {
   "cell_type": "markdown",
   "id": "3f2ac78e",
   "metadata": {},
   "source": [
    "## 3.4 Adding new functions\n",
    "\n",
    "- Python allows us to define new functions.\n",
    "\n",
    "- A function definition gives the name of the function and the sequence of statements that run when the function is called.\n",
    "\n",
    "- The `def` keyword is used for function definition.\n",
    "\n",
    "- The function name should comply with the rules of variable names: consisting of letters, numbers, underscores, but mustn't start with a number.\n",
    "\n",
    "- The function name should not be a Python keyword, and should be distinct from any variable names.\n",
    "\n",
    "- Empty parentheses after the name indicate that the function doesn't take any arguments.\n",
    "\n",
    "\n"
   ]
  },
  {
   "cell_type": "markdown",
   "id": "0a2fb078",
   "metadata": {},
   "source": [
    "- The first line of the function definition is the header, followed by the body.\n",
    "\n",
    "- The header should end with a colon, and the body should be indented by four spaces, as per convention.\n",
    "\n",
    "- The body can contain any number of statements.\n",
    "\n",
    "- A function's end is marked by an empty line.\n",
    "\n",
    "- Once a function is defined, a function object is created, which has a type 'function'.\n",
    "\n",
    "- Function can be called in the same way as built-in functions.\n",
    "\n",
    "\n"
   ]
  },
  {
   "cell_type": "code",
   "execution_count": null,
   "id": "8f17cca2",
   "metadata": {},
   "outputs": [],
   "source": [
    "def print_lyrics():\n",
    "    print(\"I'm a lumberjack, and I'm okay.\")\n",
    "    print(\"I sleep all night and I work all day.\")"
   ]
  },
  {
   "cell_type": "code",
   "execution_count": null,
   "id": "41ea89b1",
   "metadata": {},
   "outputs": [],
   "source": [
    "print(print_lyrics)\n",
    "type(print_lyrics)"
   ]
  },
  {
   "cell_type": "markdown",
   "id": "244f516e",
   "metadata": {},
   "source": [
    "- One can also define functions within other functions.\n",
    "\n",
    "- As an example, the function `repeat_lyrics` has been written to repeat the song lyrics by calling the `print_lyrics` function.\n",
    "\n",
    "\n"
   ]
  },
  {
   "cell_type": "code",
   "execution_count": null,
   "id": "3dbc8734",
   "metadata": {},
   "outputs": [],
   "source": [
    "def repeat_lyrics():\n",
    "    print_lyrics()\n",
    "    print_lyrics()"
   ]
  },
  {
   "cell_type": "code",
   "execution_count": null,
   "id": "f9bbf620",
   "metadata": {},
   "outputs": [],
   "source": [
    "repeat_lyrics()"
   ]
  },
  {
   "cell_type": "markdown",
   "id": "4c92c7c6",
   "metadata": {},
   "source": [
    "## 3.5 Definitions and Uses\n",
    "\n",
    "- Program containing two function definitions: `print_lyrics` and `repeat_lyrics`\n",
    "\n",
    "- Function definitions executed just like other statements, creating function objects\n",
    "\n",
    "- Statements inside function don't run until function is called\n",
    "\n",
    "- No output generated from function definition\n",
    "\n",
    "\n"
   ]
  },
  {
   "cell_type": "markdown",
   "id": "5c1daafa",
   "metadata": {},
   "source": [
    "- Functions must be created before they can be run\n",
    "\n",
    "- Function definition must be executed before function call\n",
    "\n",
    "- Exercise: move function call before definitions, observe error\n",
    "\n",
    "- Try moving `print_lyrics` definition after `repeat_lyrics` definition, observe results\n",
    "\n",
    "\n"
   ]
  },
  {
   "cell_type": "code",
   "execution_count": null,
   "id": "1957c79c",
   "metadata": {},
   "outputs": [],
   "source": [
    "def print_lyrics():\n",
    "    print(\"I'm a lumberjack, and I'm okay.\")\n",
    "    print(\"I sleep all night and I work all day.\")\n",
    "    \n",
    "def repeat_lyrics():\n",
    "    print_lyrics()\n",
    "    print_lyrics()\n",
    "    \n",
    "repeat_lyrics()"
   ]
  },
  {
   "cell_type": "markdown",
   "id": "698a455a",
   "metadata": {},
   "source": [
    "- The above box contains an example with function definition and calls in correct order\n",
    "\n",
    "- Experiment by moving the `repeat_lyrics()` call and `print_lyrics` definition around to see what happens\n",
    "\n",
    "\n"
   ]
  },
  {
   "cell_type": "code",
   "execution_count": null,
   "id": "86652308",
   "metadata": {},
   "outputs": [],
   "source": [
    "# repeat_lyrics()   # Uncomment to move this call before function definitions\n",
    "\n",
    "def print_lyrics():\n",
    "    print(\"I'm a lumberjack, and I'm okay.\")\n",
    "    print(\"I sleep all night and I work all day.\")\n",
    "    \n",
    "def repeat_lyrics():\n",
    "    print_lyrics()\n",
    "    print_lyrics()\n",
    "    \n",
    "# repeat_lyrics()  # Uncomment to move the function call after definitions"
   ]
  },
  {
   "cell_type": "code",
   "execution_count": null,
   "id": "81ebc07c",
   "metadata": {},
   "outputs": [],
   "source": [
    "# def repeat_lyrics():\n",
    "#     print_lyrics()\n",
    "#     print_lyrics()   # Uncomment to move the print_lyrics function below repeat_lyric function\n",
    "\n",
    "def print_lyrics():\n",
    "    print(\"I'm a lumberjack, and I'm okay.\")\n",
    "    print(\"I sleep all night and I work all day.\")\n",
    "\n",
    "# repeat_lyrics()  # Uncomment to call the repeat_lyrics function after all definitions are in place"
   ]
  },
  {
   "cell_type": "markdown",
   "id": "59b93f35",
   "metadata": {},
   "source": [
    "## 3.6 Flow of Execution\n",
    "\n",
    "- Understanding the order of statement execution - the flow of execution - is crucial to ensure a function is defined before its use\n",
    "\n",
    "- Execution commencement always starts from the first statement of the program and run one at a time, top to bottom\n",
    "\n",
    "- Function definitions do not alter the main program flow; their internal statements run only when the function is called\n",
    "\n",
    "\n"
   ]
  },
  {
   "cell_type": "markdown",
   "id": "533b592f",
   "metadata": {},
   "source": [
    "## Flow of Execution (contd.)\n",
    "\n",
    "- When a function is called, the execution flow takes a detour: it jumps to the function body, executes its contents, and then resumes where it left off\n",
    "\n",
    "- This can complicate the flow, especially when one function calls another, leading to nested execution flow deviations\n",
    "\n",
    "- Regardless of complexity, Python tracks execution location accurately, always returning where it left off once a function completes\n",
    "\n",
    "\n"
   ]
  },
  {
   "cell_type": "markdown",
   "id": "eb5f78db",
   "metadata": {},
   "source": [
    "## Flow of Execution (contd.)\n",
    "\n",
    "- When the program reaches its end, it terminates\n",
    "\n",
    "- Therefore, reading a program does not always follow top to bottom order; sometimes, understanding the flow of execution leads to easier program comprehension# %% [markdown] lang=\"en\" tags=[\"slide\"]\n",
    "\n",
    "## 3.7 Parameters and Arguments\n",
    "\n",
    "- Functions can require arguments such as math.sin where a number is passed as an argument.\n",
    "\n",
    "- Some functions take more than one arguments, for example math.pow which takes two arguments- the base and the exponent.\n",
    "\n",
    "- Inside the function, arguments are assigned to variables, these are known as parameters.\n",
    "\n",
    "- Functions can take any kind of expression as an argument, these will be evaluated before the function call.\n",
    "\n",
    "\n"
   ]
  },
  {
   "cell_type": "markdown",
   "id": "a703063e",
   "metadata": {},
   "source": [
    "## Defining a Function with Parameters\n",
    "\n",
    "- Below is an example of a function definition that takes an argument:\n",
    "\n",
    "- This function assigns the input argument to a parameter named 'bruce'.\n",
    "\n",
    "- When this function is called, it prints the value of the parameter twice.\n",
    "\n",
    "- This function works with any value that can be printed.\n",
    "\n",
    "\n"
   ]
  },
  {
   "cell_type": "code",
   "execution_count": null,
   "id": "d3791b58",
   "metadata": {},
   "outputs": [],
   "source": [
    "def print_twice(bruce):\n",
    "    print(bruce)\n",
    "    print(bruce)"
   ]
  },
  {
   "cell_type": "markdown",
   "id": "1ba64df8",
   "metadata": {},
   "source": [
    "## Calling a Function with Arguments\n",
    "\n",
    "- We can call the function print_twice with a string, number or even a math function as an argument.\n",
    "\n",
    "- The expressions passed as arguments will be evaluated only once before the function call.\n",
    "\n",
    "- Below are some examples of calling print_twice function with different arguments.\n",
    "\n",
    "\n"
   ]
  },
  {
   "cell_type": "code",
   "execution_count": null,
   "id": "2526d4a5",
   "metadata": {},
   "outputs": [],
   "source": [
    "print_twice('Spam')"
   ]
  },
  {
   "cell_type": "code",
   "execution_count": null,
   "id": "23a4aa63",
   "metadata": {},
   "outputs": [],
   "source": [
    "print_twice(42)"
   ]
  },
  {
   "cell_type": "code",
   "execution_count": null,
   "id": "4340a9a4",
   "metadata": {},
   "outputs": [],
   "source": [
    "import math\n",
    "print_twice(math.pi)"
   ]
  },
  {
   "cell_type": "markdown",
   "id": "639c2a7b",
   "metadata": {},
   "source": [
    "## Expressions and Variables as Arguments\n",
    "\n",
    "- We can use any kind of expression as an argument for print_twice function.\n",
    "\n",
    "- The argument is evaluated before the function is called.\n",
    "\n",
    "- We can also use a variable as an argument.\n",
    "\n",
    "- The name of the variable passed as argument does not have to match with the name of parameter.\n",
    "\n",
    "\n"
   ]
  },
  {
   "cell_type": "code",
   "execution_count": null,
   "id": "8ea56c55",
   "metadata": {},
   "outputs": [],
   "source": [
    "print_twice('Spam '*4)"
   ]
  },
  {
   "cell_type": "code",
   "execution_count": null,
   "id": "9c478a54",
   "metadata": {},
   "outputs": [],
   "source": [
    "print_twice(math.cos(math.pi))"
   ]
  },
  {
   "cell_type": "code",
   "execution_count": null,
   "id": "46c7f187",
   "metadata": {},
   "outputs": [],
   "source": [
    "michael = 'Eric, the half a bee.'\n",
    "print_twice(michael)"
   ]
  },
  {
   "cell_type": "markdown",
   "id": "beabd14a",
   "metadata": {},
   "source": [
    "## 3.8 Variables and parameters are local\n",
    "\n",
    "- Variables created inside a function are local, which means they only exist inside the function.\n",
    "\n",
    "- For example, in the following function, the variable `cat` is local to the function and is destroyed once the function terminates.\n",
    "\n",
    "- If we try to print it outside the function, we get an exception.\n",
    "\n",
    "- The same applies for parameters as well. Outside the function, they are not defined.\n",
    "\n",
    "\n"
   ]
  },
  {
   "cell_type": "code",
   "execution_count": null,
   "id": "138ad607",
   "metadata": {},
   "outputs": [],
   "source": [
    "#Defining the function\n",
    "def cat_twice(part1, part2):\n",
    "    cat = part1 + part2\n",
    "    print_twice(cat)"
   ]
  },
  {
   "cell_type": "code",
   "execution_count": null,
   "id": "846cd38c",
   "metadata": {},
   "outputs": [],
   "source": [
    "#Using the function\n",
    "line1 = 'Bing tiddle '\n",
    "line2 = 'tiddle bang.'\n",
    "cat_twice(line1, line2)"
   ]
  },
  {
   "cell_type": "code",
   "execution_count": null,
   "id": "e98f8778",
   "metadata": {},
   "outputs": [],
   "source": [
    "#Trying to print the local variable outside the function\n",
    "print(cat)\n",
    "#This will return the NameError: name 'cat' is not defined as 'cat' is a local variable."
   ]
  },
  {
   "cell_type": "code",
   "execution_count": null,
   "id": "2da2c723",
   "metadata": {},
   "outputs": [],
   "source": [
    "#Parameters are also local.\n",
    "#For example, in the function 'print_twice', there is no parameter called 'bruce' defined.\n",
    "#If we try to use 'bruce' somewhere outside the function, we will also get a NameError.Let's transform the given HTML content into a series of Jupyter notebook cells."
   ]
  },
  {
   "cell_type": "markdown",
   "id": "51508d51",
   "metadata": {},
   "source": [
    "## 3.9 Stack Diagrams\n",
    "\n",
    "- Stack diagrams are a useful tool to understand which variables can be used in a given context.\n",
    "\n",
    "- Besides representing variable values, a stack diagram also shows to which function a variable belongs.\n",
    "\n",
    "- Functions are depicted as frames, or boxes containing the function's name, parameters and variables.\n",
    "\n",
    "- The sequence of function calls is portrayed by arranging frames in a stack manner.\n",
    "\n",
    "\n"
   ]
  },
  {
   "cell_type": "markdown",
   "id": "1a051f1c",
   "metadata": {},
   "source": [
    "- As an example, if 'print_twice' function was called by 'cat_twice', and 'cat_twice' by '__main__', this sequence will be visually represented in the stack diagram.\n",
    "\n",
    "- Variables created outside all functions belong to the '__main__' function.\n",
    "\n",
    "- In function calls, each parameter refers to the same value as its corresponding argument.\n",
    "\n",
    "\n",
    "\n",
    "\n"
   ]
  },
  {
   "cell_type": "markdown",
   "id": "1840adc6",
   "metadata": {},
   "source": [
    "- Python aids error resolution by printing the name of the problematic function, and the names of the functions that called it.\n",
    "\n",
    "- The traceback, a list of functions shown when an error occurs, includes details about the error's location and the functions' execution state.\n",
    "\n",
    "- The order of functions printed in a traceback corresponds to the order of frames in a stack diagram.\n",
    "\n",
    "\n"
   ]
  },
  {
   "cell_type": "code",
   "execution_count": null,
   "id": "b50bd0f5",
   "metadata": {},
   "outputs": [],
   "source": [
    "# example of the error in python which will generate a traceback\n",
    "def print_twice(cat):\n",
    "    print(cat)\n",
    "\n",
    "def cat_twice(line1, line2):\n",
    "    cat = line1 + line2\n",
    "    print_twice(cat)\n",
    "\n",
    "line1 = 'Bing tiddle '\n",
    "line2 = 'tiddle bang.'\n",
    "cat_twice(line1, line2)\n",
    "print_twice() # This will generate an error since we didn't pass any argument to the function"
   ]
  },
  {
   "cell_type": "markdown",
   "id": "59e4ce5c",
   "metadata": {},
   "source": [
    "## Fruitful Functions and Void Functions\n",
    "\n",
    "- Functions which return results are referred to as 'fruitful functions'\n",
    "\n",
    "- Functions which perform an action without returning a value are named 'void functions'\n",
    "\n",
    "- When a fruitful function is called, the returned result is usually used in subsequent code\n",
    "\n",
    "- If a fruitful function is called without storing the return value, it will be lost\n",
    "\n",
    "\n"
   ]
  },
  {
   "cell_type": "code",
   "execution_count": null,
   "id": "1a6d6999",
   "metadata": {},
   "outputs": [],
   "source": [
    "x = math.cos(radians)\n",
    "golden = (math.sqrt(5) + 1) / 2"
   ]
  },
  {
   "cell_type": "markdown",
   "id": "cf155932",
   "metadata": {},
   "source": [
    "## Using Functions in Interactive Mode\n",
    "\n",
    "- In interactive mode, Python will display the results of function calls\n",
    "\n",
    "- If a fruitful function is called by itself in a script, the result is not stored or displayed\n",
    "\n",
    "- Void functions may have some effect, such as displaying something, but don't return a value\n",
    "\n",
    "- If a result of void function is assigned to a variable, the special value `None` is obtained  \n",
    "\n",
    "\n"
   ]
  },
  {
   "cell_type": "code",
   "execution_count": null,
   "id": "4a879ddb",
   "metadata": {},
   "outputs": [],
   "source": [
    "math.sqrt(5)"
   ]
  },
  {
   "cell_type": "code",
   "execution_count": null,
   "id": "73129b95",
   "metadata": {},
   "outputs": [],
   "source": [
    "result = print_twice('Bing')\n",
    "print(result)"
   ]
  },
  {
   "cell_type": "markdown",
   "id": "1d28d5c6",
   "metadata": {},
   "source": [
    "## None Value in Python\n",
    "\n",
    "- The value `None` is not the same as the string 'None'\n",
    "\n",
    "- It is a special value having its own type in Python, denoted as `<class 'NoneType'>`\n",
    "\n",
    "- Most functions you've written so far are void, but in the upcoming chapters, we will start writing fruitful functions\n",
    "\n",
    "\n"
   ]
  },
  {
   "cell_type": "code",
   "execution_count": null,
   "id": "d6beaa5b",
   "metadata": {},
   "outputs": [],
   "source": [
    "type(None)"
   ]
  },
  {
   "cell_type": "markdown",
   "id": "ef8b0b06",
   "metadata": {},
   "source": [
    "## 3.11 Why Functions?\n",
    "\n",
    "- Functions compartmentalize a program, enhancing its readability and debuggability.\n",
    "\n",
    "- Functions enable elimination of repetitive code, leading to more compact and efficient programs.\n",
    "\n",
    "- Instead of debugging a lengthy code, breaking it into functions allows debugging in parts.\n",
    "\n",
    "- Well-crafted functions can be recycled across multiple programs.\n",
    "\n",
    "\n"
   ]
  },
  {
   "cell_type": "markdown",
   "id": "0dd85707",
   "metadata": {},
   "source": [
    "## Benefits of Functions\n",
    "\n",
    "- They offer the convenience of grouping statements under a unified name.\n",
    "\n",
    "- Code change or adjustments need to be performed only once within the function.\n",
    "\n",
    "- Functions simplify long complex codes into manageable parts, aiding efficient debugging.\n",
    "\n",
    "- Reusable functions pave the way for efficient coding, particularly for repetitive tasks.# %% [markdown] lang=\"en\" tags=[\"slide\"]\n",
    "\n",
    "## Debugging\n",
    "\n",
    "- Debugging, while challenging, is an integral part of programming and a critical skill to develop.\n",
    "\n",
    "- Much like detective work or experimental science, debugging involves inferring causes from results and formulating hypotheses to test and draw conclusions.\n",
    "\n",
    "- This iterative process necessitates patience and precision, but ultimately leads to more effective and efficient programs.\n",
    "\n",
    "\n"
   ]
  },
  {
   "cell_type": "markdown",
   "id": "54bd7395",
   "metadata": {},
   "source": [
    "- Programming and debugging are often seen as concurrent processes. Programmers typically start with a working base and iteratively refine it, addressing bugs along the way.\n",
    "\n",
    "- For instance, Linux, an OS consisting of millions of lines of code, had humble beginnings as a rudimentary program developed by Linus Torvalds, gradually evolving into its current form through constant debugging and improvements.\n",
    "\n",
    "- Hence, the key to an efficient program lies not just in strong foundational coding abilities, but also proficient debugging skills.# %% [markdown] lang=\"en\" tags=[\"slide\"]\n",
    "\n",
    "## Glossary of Python Functions\n",
    "\n",
    "- Function: A named sequence of statements that performs an operation, with optional arguments and return results\n",
    "\n",
    "- Function definition: A statement to create a function with a specific name, parameters, and contained statements\n",
    "\n",
    "- Function object: A value created by a function definition, with the function's name being a reference to the function object\n",
    "\n",
    "\n"
   ]
  },
  {
   "cell_type": "markdown",
   "id": "cc5740d3",
   "metadata": {},
   "source": [
    "## More Terms Related to Python Functions\n",
    "\n",
    "- Header: The inaugural line of a function definition \n",
    "\n",
    "- Body: The sequence of statements contained within a function definition\n",
    "\n",
    "- Parameter: An internal name within a function referring to the value passed as an argument\n",
    "\n",
    "\n"
   ]
  },
  {
   "cell_type": "markdown",
   "id": "87f8515d",
   "metadata": {},
   "source": [
    "## Working with Python Functions\n",
    "\n",
    "- Function call: A statement that triggers a function\n",
    "\n",
    "- Argument: The value given to a function during its call, assigned to the corresponding parameter\n",
    "\n",
    "- Local variable: A variable defined and usable only within its function\n",
    "\n",
    "\n"
   ]
  },
  {
   "cell_type": "markdown",
   "id": "748c77bc",
   "metadata": {},
   "source": [
    "## Return Values and Types of Functions\n",
    "\n",
    "- Return value: The function's result; when a function call is used as an expression, this is its value\n",
    "\n",
    "- Fruitful function: A function that provides a value\n",
    "\n",
    "- Void function: Yields `None`\n",
    "\n",
    "\n"
   ]
  },
  {
   "cell_type": "markdown",
   "id": "29deb09c",
   "metadata": {},
   "source": [
    "## Python Modules and Import Statements\n",
    "\n",
    "- `None`: A distinct value that void functions return\n",
    "\n",
    "- Module: A file comprising of related functions and other definitions\n",
    "\n",
    "- Import statement: A statement that reads a module file and generates a module object\n",
    "\n",
    "\n"
   ]
  },
  {
   "cell_type": "markdown",
   "id": "57f01b97",
   "metadata": {},
   "source": [
    "## Module Objects and Dot Notation in Python\n",
    "\n",
    "- Module object: A value made by an `import` statement, providing access to the values defined in a module\n",
    "\n",
    "- Dot notation: Syntax for calling a function from another module, represented as `module_name.function_name`\n",
    "\n",
    "\n"
   ]
  },
  {
   "cell_type": "markdown",
   "id": "4a5f2cd2",
   "metadata": {},
   "source": [
    "## Advanced Concepts\n",
    "\n",
    "- Composition: Using an expression as a part of a larger expression, or a statement as a part of a larger statement\n",
    "\n",
    "- Flow of execution: The order of statement execution\n",
    "\n",
    "- Stack diagram: A graphical representation of functions stack including their variables and referenced values\n",
    "\n",
    "\n"
   ]
  },
  {
   "cell_type": "markdown",
   "id": "fe731d7f",
   "metadata": {},
   "source": [
    "## Execution Tracing and Error Handling\n",
    "\n",
    "- Frame: A box in a stack diagram that represents a function call, containing the function's local variables and parameters\n",
    "\n",
    "- Traceback: A list of executing functions, printed when an exception occurs# %% [markdown] lang=\"en\" tags=[\"slide\"]\n",
    "\n",
    "## Exercises\n",
    "\n",
    "- In this section, you will solve some exercises to test your understanding of functions in Python.\n",
    "\n",
    "- Some of these exercises will need additional built-in Python functions like `len` which returns the length of a string.\n",
    "\n",
    "- You are tasked to call functions multiple times, pass function objects as arguments, and modify or build upon given function templates.\n",
    "\n",
    "\n"
   ]
  },
  {
   "cell_type": "markdown",
   "id": "4531a400",
   "metadata": {},
   "source": [
    "## Exercise 1\n",
    "\n",
    "- Write a function named `right_justify` that takes a string `s` as a parameter and prints the string with enough leading spaces so that the last letter of the string is in column 70 of the display.\n",
    "\n",
    "- Hint: Utilize string concatenation and repetition.\n",
    "\n",
    "- The Python built-in function `len` returns the length of a string, so `len('monty')` will return 5.\n",
    "\n",
    "\n"
   ]
  },
  {
   "cell_type": "code",
   "execution_count": null,
   "id": "933da2ef",
   "metadata": {},
   "outputs": [],
   "source": [
    "# Code for Exercise 1\n",
    "\n",
    "def right_justify(s):\n",
    "    print(70*' ' + s)\n",
    "\n",
    "right_justify('monty')"
   ]
  },
  {
   "cell_type": "markdown",
   "id": "42ded046",
   "metadata": {},
   "source": [
    "## Exercise 2\n",
    "\n",
    "- A function object is a value you can assign to a variable or pass as an argument.\n",
    "\n",
    "- Here, the `do_twice` function takes a function object as an argument and calls it twice.\n",
    "\n",
    "- Now we use `do_twice` to call a function named `print_spam` twice.\n",
    "\n",
    "- Next, we will modify `do_twice` to take two arguments: a function object and a value. It should call the function twice, passing the value as an argument.\n",
    "\n",
    "\n"
   ]
  },
  {
   "cell_type": "code",
   "execution_count": null,
   "id": "4af22879",
   "metadata": {},
   "outputs": [],
   "source": [
    "# Code for Exercise 2 - part 1\n",
    "\n",
    "def do_twice(f):\n",
    "    f()\n",
    "    f()\n",
    "\n",
    "def print_spam():\n",
    "    print('spam')\n",
    "\n",
    "do_twice(print_spam)"
   ]
  },
  {
   "cell_type": "code",
   "execution_count": 36,
   "id": "3038d9ba",
   "metadata": {},
   "outputs": [
    {
     "name": "stdout",
     "output_type": "stream",
     "text": [
      "spam\n",
      "spam\n",
      "spam\n",
      "spam\n"
     ]
    }
   ],
   "source": [
    "# Code for Exercise 2 - part 2\n",
    "\n",
    "def do_twice(f, arg):\n",
    "    f(arg)\n",
    "    f(arg)\n",
    "\n",
    "def print_twice(arg):\n",
    "    print(arg)\n",
    "    print(arg)\n",
    "\n",
    "do_twice(print_twice, 'spam')"
   ]
  },
  {
   "cell_type": "markdown",
   "id": "d4e797a3",
   "metadata": {},
   "source": [
    "## Continued Exercise 2 & Exercise 3\n",
    "\n",
    "- Define a function `do_four` that takes a function object and a value as arguments.\n",
    "\n",
    "- It should call the given function four times, passing the value as a parameter. The function should ideally contain only two statements.\n",
    "\n",
    "- In the third exercise, write a function that draws a grid.\n",
    "\n",
    "- Hint: To print more than one value on a line, a comma-separated sequence of values can be used.\n",
    "\n",
    "- The default behavior of `print` advancing to the next line can be overridden to put a space at the end.\n",
    "\n",
    "\n"
   ]
  },
  {
   "cell_type": "code",
   "execution_count": 37,
   "id": "b4cb4067",
   "metadata": {},
   "outputs": [
    {
     "name": "stdout",
     "output_type": "stream",
     "text": [
      "spam\n",
      "spam\n",
      "spam\n",
      "spam\n",
      "spam\n",
      "spam\n",
      "spam\n",
      "spam\n"
     ]
    }
   ],
   "source": [
    "# Code for Exercise 2 - part 3\n",
    "def do_four(f, arg):\n",
    "    do_twice(f, arg)\n",
    "    do_twice(f, arg)\n",
    "    \n",
    "# Call the function\n",
    "do_four(print_twice, 'spam')"
   ]
  },
  {
   "cell_type": "code",
   "execution_count": 38,
   "id": "be567569",
   "metadata": {},
   "outputs": [
    {
     "name": "stdout",
     "output_type": "stream",
     "text": [
      "+ - - - - + - - - - +\n",
      "|       |       |\n",
      "|       |       |\n",
      "|       |       |\n",
      "|       |       |\n",
      "+ - - - - + - - - - +\n",
      "|       |       |\n",
      "|       |       |\n",
      "|       |       |\n",
      "|       |       |\n",
      "+ - - - - + - - - - +\n"
     ]
    }
   ],
   "source": [
    "# Code for Exercise 3X\n",
    "def draw_grid_row():\n",
    "    print('+', '-', '-', '-', '-', '+', '-', '-', '-', '-', '+')\n",
    "\n",
    "def draw_grid_col():\n",
    "    print('|', ' '*5, '|', ' '*5, '|')\n",
    "\n",
    "def draw_grid():\n",
    "    draw_grid_row()\n",
    "    draw_grid_col()\n",
    "    draw_grid_col()\n",
    "    draw_grid_col()\n",
    "    draw_grid_col()\n",
    "    draw_grid_row()\n",
    "    draw_grid_col()\n",
    "    draw_grid_col()\n",
    "    draw_grid_col()\n",
    "    draw_grid_col()\n",
    "    draw_grid_row()\n",
    "\n",
    "draw_grid()"
   ]
  },
  {
   "cell_type": "code",
   "execution_count": null,
   "id": "37a33ce2",
   "metadata": {},
   "outputs": [],
   "source": []
  },
  {
   "cell_type": "code",
   "execution_count": null,
   "id": "15cd59dc",
   "metadata": {},
   "outputs": [],
   "source": []
  }
 ],
 "metadata": {
  "language_info": {
   "name": "python"
  }
 },
 "nbformat": 4,
 "nbformat_minor": 5
}
