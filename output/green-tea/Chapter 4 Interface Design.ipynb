{
 "cells": [
  {
   "cell_type": "markdown",
   "id": "cbea28d2",
   "metadata": {},
   "source": [
    "<img src=\"data:image/png;base64,iVBORw0KGgoAAAANSUhEUgAAAG8AAABuCAYAAAApmU3FAAAEtmlUWHRYTUw6Y29tLmFkb2JlLnht\n",
    "cAAAAAAAPD94cGFja2V0IGJlZ2luPSLvu78iIGlkPSJXNU0wTXBDZWhpSHpyZVN6TlRjemtjOWQi\n",
    "Pz4KPHg6eG1wbWV0YSB4bWxuczp4PSJhZG9iZTpuczptZXRhLyIgeDp4bXB0az0iWE1QIENvcmUg\n",
    "NS41LjAiPgogPHJkZjpSREYgeG1sbnM6cmRmPSJodHRwOi8vd3d3LnczLm9yZy8xOTk5LzAyLzIy\n",
    "LXJkZi1zeW50YXgtbnMjIj4KICA8cmRmOkRlc2NyaXB0aW9uIHJkZjphYm91dD0iIgogICAgeG1s\n",
    "bnM6ZXhpZj0iaHR0cDovL25zLmFkb2JlLmNvbS9leGlmLzEuMC8iCiAgICB4bWxuczp0aWZmPSJo\n",
    "dHRwOi8vbnMuYWRvYmUuY29tL3RpZmYvMS4wLyIKICAgIHhtbG5zOnBob3Rvc2hvcD0iaHR0cDov\n",
    "L25zLmFkb2JlLmNvbS9waG90b3Nob3AvMS4wLyIKICAgIHhtbG5zOnhtcD0iaHR0cDovL25zLmFk\n",
    "b2JlLmNvbS94YXAvMS4wLyIKICAgIHhtbG5zOnhtcE1NPSJodHRwOi8vbnMuYWRvYmUuY29tL3hh\n",
    "cC8xLjAvbW0vIgogICAgeG1sbnM6c3RFdnQ9Imh0dHA6Ly9ucy5hZG9iZS5jb20veGFwLzEuMC9z\n",
    "VHlwZS9SZXNvdXJjZUV2ZW50IyIKICAgZXhpZjpQaXhlbFhEaW1lbnNpb249IjExMSIKICAgZXhp\n",
    "ZjpQaXhlbFlEaW1lbnNpb249IjExMCIKICAgZXhpZjpDb2xvclNwYWNlPSIxIgogICB0aWZmOklt\n",
    "YWdlV2lkdGg9IjExMSIKICAgdGlmZjpJbWFnZUxlbmd0aD0iMTEwIgogICB0aWZmOlJlc29sdXRp\n",
    "b25Vbml0PSIyIgogICB0aWZmOlhSZXNvbHV0aW9uPSI3Mi4wIgogICB0aWZmOllSZXNvbHV0aW9u\n",
    "PSI3Mi4wIgogICBwaG90b3Nob3A6Q29sb3JNb2RlPSIzIgogICBwaG90b3Nob3A6SUNDUHJvZmls\n",
    "ZT0ic1JHQiBJRUM2MTk2Ni0yLjEiCiAgIHhtcDpNb2RpZnlEYXRlPSIyMDIwLTAyLTEzVDE2OjQ4\n",
    "OjM2KzAxOjAwIgogICB4bXA6TWV0YWRhdGFEYXRlPSIyMDIwLTAyLTEzVDE2OjQ4OjM2KzAxOjAw\n",
    "Ij4KICAgPHhtcE1NOkhpc3Rvcnk+CiAgICA8cmRmOlNlcT4KICAgICA8cmRmOmxpCiAgICAgIHN0\n",
    "RXZ0OmFjdGlvbj0icHJvZHVjZWQiCiAgICAgIHN0RXZ0OnNvZnR3YXJlQWdlbnQ9IkFmZmluaXR5\n",
    "IERlc2lnbmVyIDEuNy4zIgogICAgICBzdEV2dDp3aGVuPSIyMDIwLTAyLTEzVDE2OjQ4OjM2KzAx\n",
    "OjAwIi8+CiAgICA8L3JkZjpTZXE+CiAgIDwveG1wTU06SGlzdG9yeT4KICA8L3JkZjpEZXNjcmlw\n",
    "dGlvbj4KIDwvcmRmOlJERj4KPC94OnhtcG1ldGE+Cjw/eHBhY2tldCBlbmQ9InIiPz63ZYCCAAAB\n",
    "gWlDQ1BzUkdCIElFQzYxOTY2LTIuMQAAKJF1kc8rRFEUxz9miDCNYmFh8dKwQoMSG4uZ/Cosxii/\n",
    "Nm+eeTNq3szrvZk02SpbRYmNXwv+ArbKWikiJSsLa2KDnvM8NZI5t3PP537vPad7zwVfPKMZdmUY\n",
    "jGzeio1ElJnZOaX6ER8BgoQJqJptTkwNxylrbzdUuPGq061V/ty/VreYtDWoqBEe1EwrLzwqPL6c\n",
    "N13eFG7S0uqi8LFwhyUXFL529YTHTy6nPP5w2YrHouBrEFZSvzjxi7W0ZQjLywkZmYL2cx/3JfXJ\n",
    "7PSUxFbxFmxijBBBYYwhovTRzYDMfXTSQ5esKJMf/s6fJCe5mswmRSyWSJEmT4eoBamelKiLnpSR\n",
    "oej2/29fbb23x6teH4GqB8d5aYPqDfhcd5z3fcf5PAD/PZxlS/m5Peh/FX29pIV2IbgKJ+clLbEF\n",
    "p2vQfGeqlvot+cV9ug7PRxCYhcZLqJ33evazz+EtxFfkqy5gewfa5Xxw4QtXymffaj9hFAAAAAlw\n",
    "SFlzAAALEwAACxMBAJqcGAAAIABJREFUeJzlfXu0b1V13jfX/l2UkAAXiq/EWkg0RqUaBO5BEB+A\n",
    "WKtG6qtWeZnRtCYmgThUvJfRdDQOBAtc2mSEGJuhJn2oNcPwGFZSgmmAG84JAgKS4QPIQ2OVIgIR\n",
    "kbP3mv1jrW+ub+177uUROIfENca5557923vttefzm4+1f4a/R2PpfX+wCfB/6o4XmuHpDuwDYG94\n",
    "3gfue8PSPoDXY74PAAPsO4DfBeAuuH8HwF0wuwue7wLwHbjfCUvXA37j8gfflDfy+R7usI1ewK7G\n",
    "0taLDDYcDM+HAX4oYIcC+WA4ngAA7hPMBgAOdwBe6W78fwLgdTYHcgZMH9fkcwDu9wC+A+5XAX4l\n",
    "HCvL5/2r+x/r5/y7jMcd85a2XbwZ7qcC+LcAngnPgA0AMjxnmBWmuDvgXp7AEpAn8HEsJXge42+4\n",
    "F4bWa8v59XOzem0dZuV4Hh+ApRUAvwXg48vnvkVOenyMxw3zlrZd/NNw/BLS8GZ43hNAIao1BrhP\n",
    "hfAuGgPv/7bUtJDHybjQSqsM9TI/f8OLMpoV5lpo71fhfjaA310+762rjx0VHt7YcOYtbb14APw/\n",
    "AHYG4Ina4NMIS9Q4B+AwS4WBYRKt0p4MyeUnLapmoTGHn9NUUlvNeoZ3x0RjPQPufwXg/cvnv+3D\n",
    "60qkXYwNZd7Stkuejjz9D6ThyJD+PAFpCLPmnmFpUc1gHe5ACoIKgyB/k1FJTKM3xtJ02tBrKjUw\n",
    "tDNXjfV2rk8fhg0/v3z+22RR6z82jHlL2y55CoDrAH8qcg/y3Au4MBt2YlrxZ5XBXnygT+MMjPjO\n",
    "ZnH+GdD8GzXWrAKbVE8VkFNQEYJkZp+F+xuXz3/b3z5qRHmYY0OYt7T1ogFp+CPk6SWFeFMjWIwC\n",
    "Skx8XPkbDazU84KwlprWzU1lZxpz0dz4HLO50LRVGRpgZrX8TmkF03Tk8gUnb4gGzim2PsPSL8Hz\n",
    "S4pvQTFl1gjpOQOwWw32e3D/IOB/6PD7GuKk9Nd/lPHho1zCh6F95t4+h/faFXPItY6i5TzXpzKf\n",
    "GTCtHg7kdz0WJHooY4M07+IvwfCsnTSgEPT7gJ0J+PnXfOCEUIstZ/z+QfD8EcCODlNIwpMRadH+\n",
    "n6uvUpNM9NihTAkbwr+hHR8W5bjOE/cbAM/fA9LBy9tPvPWxp1w/1l3zls689KcAPKuBAxS/FmbQ\n",
    "zrjmA687VxkHAMtnv/42IP0zAF+J2DotGrRPi+a7GL8V0ybocaomcyi/PUtIgP4ar2FdzsA0NoZb\n",
    "qnOGOd8Tnn/lMSTZLsf6m808Pa1QvHIgZ1g1AA6/BZb+064uXT7n9ffB/Vfi+jw1rXA035THerwy\n",
    "K5AoKuMkflQtpp9k0E4/aalqoBemamhS5njto0ylhzTWn3nue9e0SDsEr+gyXXnNWa/1XV8MwOxK\n",
    "5MnDjwFNU+bprzTIMQ0hNPbj6akxK9bnTStpHQInTW2ePP7YltM++pOPiB5/h7H+zFNixqGB0P7r\n",
    "D3b58jlvuBuGv21xW2rapXDeJ0l7iX8LBlHbqKFjM5VqGTT/GdfIOQ3wbH5kBHnkYyM0L6TbyYD2\n",
    "4Qse7PIt7/mfB8GGHwngEUBCgErn9/gZ/5uFSWjnpEHSYdbmVpNr1pAnNd8oPHmvh0WHR2FsgOYl\n",
    "78ICAD6twvMq3P2YLe/91NN2P4Gf2IJqAQ5e0WZ3qve/89SHCpGoBpoPo7kU5jOjA2tpNxfGlucS\n",
    "O74+YwM0L7vnqeUjCenLUvaBpd9Zet+nn7DWpVve+6kluG9rlQY0eM+Umqmv85YWAyT1RWZULVNf\n",
    "F0E7E9XU6LGZyC75zZBk/YsOiwc/5VEelqqgGzyPsKH4O28EeKXDPr/lvZ86HcCO5XPe8N0t7/nk\n",
    "gYCfBPdtSMOmIKrGekDlUZ5pHHOSqiVDQ6oMDyLXSbSp9b6aI63rLxUOF3xkcKx/HXfdmec+eanM\n",
    "5JK7nCTOipPwXAB/CEt5y3s+eS8s7dOZyqzpNEkYIwMZDcQwpZXrZ/Rb02rVzkFCi6mFEWloZjUL\n",
    "uDEAuRy3xDiPHFz/fMeGABavIMMJ77uaGhoC9Jxqa0Pzb6yIa+qr0yoBIG0elOpCnZtZE0B8GEow\n",
    "DrRrVDOT3CeY5pJEX39Srvsdzcwh5ibCBE1XdflGia20YFoub+dS0wL+s56X+nlMtDLCCxEGZZiW\n",
    "hSRn6vF3ERCnP1znse7Mcy+9C5TUIEQgwrFnQjkLkdmofStdgB3aKNobGj37LO4nzCK6JIiJFFgV\n",
    "FmpdvcYkK2NpKBmieXJ7HcYGmM2pl9ZgkPgoVhriGgnC5y0Olsq10aOC5hej4sCAWq5vGeimpXls\n",
    "xVqGFU7EWgcjAiuFYneHw2vMur5jA0pC5s1PqUZQuxRF1thK+1aiilCD7TxJ2CDEZqI6j81carmo\n",
    "TIZoYAKkKmFtroj35uZVwQpm/1+fsQGhgt0F+EoLkGexVaC+DJiEBABCe9pkaFpnpUhqYu48HwBL\n",
    "B3btFWFGJTfJtczBEOF/lK5QUHIaaqhg1exjQ3zeujNv+ezX7wCwZT3uteVd//3nkFc/1CHNAC1j\n",
    "0zr1i+5NeCAJ7yo0BgNbED2P5TfyRijeBlXS12uwvcIgOc+ZSQaaKaU/Y1amlXzanEY5GMWkAj8Y\n",
    "ZnM9R2vZqwckrUWTnTMwbEIgWogZlbjOvSYVKsii6fRJTXU9/Uuv2gTg2e2AmHqa4HLsfqT0NfvJ\n",
    "z3zvkTzeI2be0taL/gmAFwD4EcD38pz3CB8QNbBqTtT5R85Q4qkOtksdTf2Ipq26Vr00+5znJ8Dz\n",
    "i5qpBKKaEAG/oEzXBHWZ130M80gNNjcgLcpzaryow+zpyPnGFn9KImKo2j1NwUS/5fhvYpo+gyH9\n",
    "N6T0OXv2Zx+SA31YzFvadslzkafTYDjO8/QMmDVj0bXIsebFzEaF85GqYkklz9oQagzHdJYy2q0x\n",
    "wazMC0k6M/Ofs/ipSoMk3oHCFOkzHuzDDc+rpVBAgJInwAWgUHNZlVBBIzN530kySWPtPOMYRwB4\n",
    "MobhVOR8Kgxf8FuO/1l7zmWffzB+PCTmLW296KcA/Cry+EZ3T5Y2ITqVE3srrVTEA9ExgwE0xqnk\n",
    "A/DKAEWTXe1NiqkkUszhHbEjRLCESDzrCHOVmxWIuayhyDzV7rRZ0M/1dTW/mWWY34u1Rs0WJUky\n",
    "hPmsP0Xgng9g2W865gKkdKY993/vcrPLgwKWpW2XnAazm+H+ZqRFsnkPiDNRO7RUF9vRI+huaC0W\n",
    "O60CzhhsjQxFxFGM8yDxWDU9adGIaJU48WQsrgoTtOJe40P2gFptKrKUyrF54G1SPO7mUZ/Ke6fW\n",
    "tMTPh6Ektdlvw2ec6ArQaJB9APAumH3Cbz52l3XC3TJvaetF5wDYDs8p6mXOHTq5Pmiu8HmqWZOp\n",
    "ma2utQBlkWmoi2fCl5IM0VhJWelxDs1fMl6DVWZWjexKPgI+wtQVs12sKBkx1tuKH2Uuk+uf+1lp\n",
    "pIoRjVAtPsS4Kv5fsMBClGGamvkv87wW7h/aFX/WNJtLWy9eAPnDMDslNElQGptenf6LD2KMjypx\n",
    "tR1PC6gBSKb2kNTSaSzoL1Jn1KxZlgVDIcA0NkKQwMEsxmqV4SRK5EfJoLKZxYZF067a09btTCKo\n",
    "0awQ5LY6VGiGoWlgqpYkz0KRaSqfASJ0BsB/1r/wsm/a8z+3bc6ntTXP0llAOqXFRnG8oLA8VdNS\n",
    "Vh3mJczpPL1Ua2eay9SgmAum1NHkkNH0ozQt0XPJuI0mVh6c9yUz6V+8AhptgIo8p7d1eC4+XEtO\n",
    "XaUjt7/Dt5Oq2maB8jyhmXIvjhAKNFNKC1TQ6lb/wste+qDMW9p26cHw6fQwWyGZU0VcxVx2N2cQ\n",
    "PG/0mZswhda6BYvt7juVdupc02qbs0tAo80BZaBIddTrhGA2NEJV0112IjUA07RNLEeUoxTQ9DFe\n",
    "WS/jxWo1hmrgOsBEoAVhNh8jiaYygZB+bbfMW9p2scHzhQAWXFTEbZVAJZMucVkEwd7MU0dINGaE\n",
    "mVMgUn0XyyoEHurjorIdpgTR/cw+mLgZeq1QjYxTKqGs7PcrlkRQL58nykv1+V3vMbVzZ7ucwqpM\n",
    "UzmdoYIKb3QQzEDPsEYpqtDiKL/5uFfuknlwfzs8H9mYUbuZxdwZWwd0oXyIIK7U4whcaMLU9HRz\n",
    "eDOjMZcjup6VgXwgvQcRZAT6aASJ0hAJS186iSZhdo6uR4QjGKv+G3IO+nZ4Pi5Nfao0YDVfa4cE\n",
    "LDxOS8C5p/H9azJvaetF+8HzOVGnmka0doXysNwPHg+VhjUemGiTU1szF3NU2ZlVl9jMW0tCwOc6\n",
    "r2p7hAre5gsi8wmHdj4tQzAacg1ijYY1BDJMKoShJmHL0Cbi/MmaeeZzMDTIUwUt1LihziXuIwlj\n",
    "i+97oX/hZSfsxDwAr0da7A+vm/bVRDWSCFDxtkitXishwyyuUadTgpJwFIaYYwZCyCyb/9Asz7Sb\n",
    "Bd9KYBZPkYYGGQQYmACyZjabiQ2hCCwgXdl5ujMIRUtBk06XQS0jIEvCKPrJCOyBTvsbuj1pDebZ\n",
    "axRVlcfPwazYE6caFLtW6cBpwggWZoleMoeL73wTmu0PM6rVcGEGGRuwXvxuWIYJGDbB81iSx1Uo\n",
    "zQzclWRm8Vw2LJRATUs7nyrWJExvmNK2xcvQC2wgXQfGSTatCA1oNlF9ZeVD0GQKIXmpX390itVs\n",
    "ed+n9wT8WBLLp7FpWP3tObfEcOcjKqHClXlPhDhXfGcSUxupJjEt4QuGZi41YzNvoaD5oykXrbe0\n",
    "6PKv7r2AEJC1JAN9GgVKgImJC6BFKWu6a+U3f+HuYJ7jhxroIAPQJ+qDJmjAJqWegdPUBIfmMw37\n",
    "AnaIitIxAPYMems3sRJZQYQGw47mo8BFUmMk2CYzuz0ALueiI3znc9RfMfaKdjxv6xO/2e2FMPRz\n",
    "1vCnnKoMErChg3Nr7MvKhPtt/cnYjNnlSAnYJD6a9NAYOdamzEqx3qAP8HKgMe81ZS0JDm/pIfqP\n",
    "eWNsgAPmLtE+VyDCDAcJQyIGQqsPEYlqMUXA7CFl9yofQs1y+EoLKbeaj6Rv8067lbo0+anN26Fe\n",
    "yO96r7SogGIA4F/pGOX5yQ0zoAnjRDch1omt+cMafaH8m0E7Ndi9MG9p60UGz6/2PNYgvEqsEpSp\n",
    "LDJTt0JRGud+kAuIWlldTCR1yUlv53BOoAGhPJZjBACRlSdjUyM2rwPi/OLnNOCmkJBpMxVRJmpI\n",
    "MNV10OfHtjAHHB/tJ7FDIpaLa9GupwmdRrFimIVD4mLCDdWflI7y64/elAAcbGnT07pMAaVOW73Z\n",
    "EtehTTWHEJ8DMWEm51eNC5RIAqqJFOK6EI+f5zESyEHI3cRlDMDL+1x0syUagTSeUs1IA0pTkyLa\n",
    "qlFtrdevXPgLl80E4NAODSexPjS7QwVvAzu7s1gSQdFAu74h2L3gfngC8AyP+MmDwxEuKEgwiZnI\n",
    "oFhY7n9Dru2y8MLIebqL85LIEdPVefOIYqqHnshdeGJ9bFeRqWkIQI2nCeR6w0QrwJgxrSsLATA7\n",
    "u+PbLcfvA7MXt8Ba/CkZMQzSWs+YlWkwEX5eT6aPYwM9ln5iAfcnGayP39Ls5TV8OB8BWwBWzUaH\n",
    "nOjkO6kUTSDQQBAUruhtQlTd1ZSF7xDtjHQa47oGcFwyQy6C4socCkggOfU3uS8ok9nRgsF1AnC/\n",
    "Co5PdWTK+U0wPHEnwEJGKWPU6hDkaSot3mihvjeu2y+55wN6U5b6XJ0iHfo++sQOneXGJI3/mAmx\n",
    "AQ3V5fZDn8bqt27yiLixmkma6nnch5pvZes56muvQivFZ3DNaiki1qoE5prYOa2Zm2YlbgDw6pUL\n",
    "3ynEAmB2SnM3aDSdB9vamhHgSxirrznRYyzowvZPgD/JmeDtHnbmz8qCZwxV/8HfDGylKKsxEc3g\n",
    "fN4u3yemMF4nlXsiaPAPlEqH50qvYq7DelDbg2FTM8XhRyqj0tBnepJaAoIGfBnA8SsXvrPFdgD8\n",
    "pmNOgOFFYDhkQhemuvi8I4W2Mneeu233apoIIbn7fgnuB4APTM1R6Qy4LhNxMRGDCfoLPyPMzFPf\n",
    "rxEmgMldQaJdloMIsoYc1VRHpcPLG5FomlvFm+ZbQBj3IYRGpGYeO8FySV/NUnSwDPffgOfDVi58\n",
    "57c6xt1y/N5I6deDaewYMDT/FiBQ6McffemPXk9hXXDtwdj9F7DhgCKxRIaE/VRXJaS3vF0XB1VH\n",
    "qy8oXdPUKKiRRQdA8fbAZs2UpiTINcGqz/W4m9ellDY9r1UNs6H4QEW1FJBAyxA0twnRbq9pwPJW\n",
    "ps/B/d+tXPjOP8NaI+f/iGQ/iuw1IS0WbBiKpnVIl5ZlRKcsVgVrHAvDXOitRemU9l8grz6ptB2o\n",
    "TxATGnvGrRJWu4plIT5jfqOsCINoH48HoYTp80KofqadyqGB3PJn3Y8Hg6g9VZvYHjgfLn7H7Btw\n",
    "fAbApUC6fOXCd6z5dj//4nEJjv8M+M9h8mak4vmtCUxknKgIEkrlXJjOdghqIbCz0PsEjHm/BVLR\n",
    "vI6ovtODtGNm4NbeLh5TbmlGJgCQmGMtnoapSwCQYelr8PwXgN0Oz7fD7K8Af6CthUAJMNkn7gGk\n",
    "ir+1oXaGdY7HKbVNSLUoCn8ANvw/AN8A8KWV3/z5uXeeMe4VewD4r0h4Y6EJetPfIdrUEOQglksz\n",
    "TzTnzG+yd5XghY26AJBs/wXcD2iV4txu0nG6SvicYRFbAXBrksZrWVCcB9uxWJqA4Vb4tB2eP7p8\n",
    "wanf3R3BHg/Dv/iKAYZ/AeAMTNMhzS2gPN+waIzScABoTCATeYznpxqGgGCtCoFBqhEZsLRfeYWs\n",
    "2RNCAl1UOfyeMqT+bUCX0KW50tTaTv8XiSztENfBcBZ8+vTy9pN7yP04HP7F4/aCpVORp9PhdlAD\n",
    "EIqIKw0m8Z0BSmoBNlnNsFifOovwoTJ8IUKgKLT8f7GApW8jT3t1BVTaVUV+mrkgpI662moDFVrR\n",
    "ZjosNLf6xDwBw/AJ5Omk5e0nP7Bbgt36WoPj2UjpqQD+Edw3qa8Ln7xYAKurAqYaIu2C/m5y75+R\n",
    "xwAgT3vA7BmwdCA8HwjgQLg/Dcy0s0o+DDWwJt1nYEVjNEuAMVTKxVrRtC4WBaRELnMWMpDp4bL8\n",
    "jgXc7wTs6bH4OVzv8p2KzrwRJikqym3xSowIrg2A/wbcf3lX2ua3n/DDcH8F3P85gFdhSE9ppRNF\n",
    "sYKIV1clTuR5NF1o66af0fgt1wLpODYm0DoshkJI+u089oRG1SICuoiXp1Y1j1dEyr1ppZgO0zQa\n",
    "aa3YgoicG04Ndyxg9u0mhYKGIoshMVDEdSSIossZKtQ4K2fV2g8tX3DKL67JtNtedxhS+jXk/DJ4\n",
    "3iPMM32Hmhb2oOi7U0ZaAAVSQORgdcOH1hR5zWJRN4IAARY4ZwgKWpYj6AW00EJACIWAvmwcWwMu\n",
    "QwKuTWNb3oda7UJfPlv2b1XNkws7rRHg0pkXQXHsPiYRyVQyXetw7l+DpXfvxLTbT9gHwFkoX4RR\n",
    "uBPhgtwvbsv1oPkM9oOQoMq8ObKLG3tjqhKGWhfPVCV+FLRHLaegJ12P9UIUAizaxmegxiUqhstn\n",
    "uc3lst7yHHcsANxZ8o6y6aNDSJVBXfZCCShmkk45pcKDQJxBzF9cvuDke2eMezLMrgTwzK5NgPPx\n",
    "4RYJmBxRP9xUY9Ms4QnkWhKN/khNJC1EEFilXyxLlzRGAxqrouFRRKXgcK6ZBSsLateR2fVwFFwZ\n",
    "zpBRhvLcerwo0h0LAN8ugEO+SEIz+J2ZRNOmSOmkoEVZHOcRphe/tGP5gpP/oGPcrT+zL+CXwf2Z\n",
    "gUJpWiiB9K9Tbg8ENLMXcafJGivT1io30UcpWOEPG4KzfGbWgMJ8h5TGcXm2PiL30LrKtGkqjbWj\n",
    "Jjkga8lFq8kwVt/p64Pu9q0En+4MBjHumL8ag1II1NZzmjCaqGpC9c14ob0RoH+kY9xtrxswDJdi\n",
    "ys+PhyUImGfY1VxqtkQDYK41KumpgQEOJocJyghCumNimgIhVwZyz0HkQ2XOiJUpUFPzjWRaZLFQ\n",
    "zaSXOQZZv5pOBTkqbFXzElABC9M1hgL9g8piOkmAcN6cXJtnNBasmgi7HzZ8sqck3oBpPLKLIwfZ\n",
    "vcNANsydEHyetVDfxnP1Nz9T4k/in6PBNzXfM69+Z0oQL7PGFGZEGLsF4+u5C/nqAQbwleQlkSLm\n",
    "VTW1s25MkjgTH99K8PzVDmzk3BjVDXX+ufkeGOLteZGzEwRaNPZPlrefeM9swjM6BpBZ08xEa72N\n",
    "95//n0HxnFkkRgfRhSGGHq6vFRMGgEDTyHk7BURoKEya0spiwsO6uIAs5aS3+QKJkt402QYMw18m\n",
    "pGEZebyvI1j7o03UESv3Gth1JgtYCH/p13b0uO11rwT8BYHq4vz6QLx1wO46V0BsIZzC/W4blyDk\n",
    "WKcgOYIE9enh66oQae1xlFdakVFKM01vxT1TLeUQnHhDnJoLzt7ckJpJ9b2ct1igr9uhV9+Ulj/4\n",
    "plUAV3WZFd0xoxl+QJx6bsejoCmV8ngwA/J0PfpxcixwsakndHBOhaTeN8ykCJKO+JvmGmJWvfdN\n",
    "ASzQGNglJyp9Ax2KT5s34ur9wxx7M6lMKJNJfL7AAxJGwFr2SunY3+9SgDFVnq5oDEqifSqp9WZE\n",
    "f3GMNlhU2oSRAJCG/9stIqVntUR/tfe6NzsyN7UgSUiuplkbc3ZiHnpBMjTwQIZGwL5mSNMj2MUi\n",
    "yBECADQBoECr1lHAIheZm5nk/8NXo6BP0s1zq3bMM15lfZc05qXhisZVgeBRVYDEb/Q3JFqIaCOU\n",
    "nlMWc1fHvDwd1CVdqRV8IKKxCGAZpOaWodCM/NyUdRqUZMuwmOEQPPVR4kuj3ua6T6DXPIKfeHPS\n",
    "fI66lkGEkMdHdo95KGKPgkla702/+31I6Y8a89yvQ/ny22abI7OAtkDd/xYpKzKbN1KmGh8s3vDj\n",
    "t/3MZjj2bcGzEE/TV3QJaq7Y+kaidGhUND0YMglqI9Pq85lJ3CYok9pIN9Jp1Ow3nzPiSgF19OFz\n",
    "v6sKMBc0bUqKBAM/j2sut8N23B/MWz73LRMs/Z82GdC+uUoXK46XQEXjriTZhsiG74TgDmrghLGY\n",
    "iTlSLbKSWxzHpnV8yEmkn0SMPKAAhjnhVCMDLddniFwi56wCM6kJFqao1g5KL2o5BG3Wv8dVRCIc\n",
    "JJUCk1mTMUfskygmM5hXz/5YOFCF13yIMIlomhgtDLwBfYpu/XJ0oUfO+4VvzD5rBec9vQSuSRav\n",
    "64k+FN6mmqbIO3b3Q2icSnI8q65bwoa2A6jXHn6mQhGJ+TrXKAham5LpUuiS3AXMiMCwMVefs8x1\n",
    "Jwy/z0cL5i2f+5ZPw+y64oemxkQ6UWk/6Fr4qDnKxMhs5J0/s2QN+ub2m3NrVVmddWR/rIUF/FsZ\n",
    "qyCmi9vE5ykQYtigoQQ1idLO8yaGRPO38KKh4PkboCZBx/W7bzvUazNTyaGC1hIT77Ety4EfNKgD\n",
    "3M9sNTn1bWhMUCIFKqLHFScf/hPw7utf0AhkqaG6CHB5L5F0EltbCCaZk+uZ5N4hsZAsiAlheJ0w\n",
    "vGNcbhkTNWls7VBfpfGfZlE81xcEKHOsjxk9NxrPn8tFcFK6CrMUY8e85fPe+r/g+erS4azZjdSY\n",
    "GYvNTYIiEW3N7xEYwNF9U4sGoWqidX+CnsuHzlMzR3ywrmXQRYgg73KhZgnxBvF9LGdpBkY1Xv3R\n",
    "HM1Sc8ISiL/TZ1P0Teuim0cIqjQQLzfisRHu77At13Tgode8Ms7s0lGdJnJRs4ckoQn7eWPV0m5Q\n",
    "CFzMjsRt6j+AhiTVVDIpQPMSx/U2FAaa/9yuiWwImhVQwKM51KCWmN7QGAI69BmmoAFmbkPWQlMM\n",
    "VFAmrqrDHNhuW665eUbEnZm3fN5b/xjwDwBoTOs2XpAp9ccnRCcyH2JuuvoAU/yo9egqJJAbSGbS\n",
    "3z1Ybr6QhKT0x1rElFVaYlhIcD2188NyaIoqt/NCKyhg3uI30on5x8izyrwmAqvxnPp0BuYqjO4f\n",
    "AXzrnE9rMg8Als8/cSty/p0OXWljT7xPE+hfj8jPw8ije+kOmaRARcERTIgukqdxnprnTtO8wvCM\n",
    "9ooMa2YptGvs51V/C/Smscs00fzJ/+daT589jwMpH9pOou4jwikTkDQBns+2Lde83ZZW5lu2ds28\n",
    "uuB/A/dLupvoj/rEWCQX1kIOs/JqqI55Qu8ABmqeDU0zgXaPJJoffnBViGZFswiK6HcDHBFooEl4\n",
    "aCzavES2fI400+5AvqjCQBJInMqmJK4hsk2VftpAO8z83jRmpOE0W1p53675sxvmLZ9/4gTPbwL8\n",
    "XHBbTZiuhO6Vv2ivtepeb5jl1VA6KImguRCkN1Vgopn6PBccawxhvEn/BbTYLszXDHIHUhbkGmGD\n",
    "mPqowtc5dN84n4OVDsfOn2lBNWpyMyTNzwvKzAA+jsWm59mWa3b53bkcu33T7fIFp9wP4N1bTv/Y\n",
    "J2DpvyCPz+/MpCR1Tb4lK76MHrLIGBbXtIQ0mlkmTJ/7A/VD04yJg5hQdnsRQDCvyevDp6HPuJDA\n",
    "4wNVe8UsEq3SpLKqDjRzP9hsF2zVWAIwmzFXqxXT9BcwuxzAdjtsxy0PxrSHxDyO5e0nX7vl9N89\n",
    "BEgvhftbAX8VgKdQIt3Lq33L/lMBDRHIayAKRCGSqkImAD3TFDoHEwW0kDGT9L2oBho+gWHYEeBh\n",
    "sWi9MBQSZUDsfvW2VgIJIuMQskWLcRXR8hmAZqYZzxZmOdwfwDR9F8C9SOkGW1r+y4fKMB0P+QXh\n",
    "y9tPygCuqD/YctrHnuh5/DEz7GlW3nhbHrq+PTaXLVaFFvmvu8l0E2UMYRglUomrCDE6r6qTV+bT\n",
    "XBWze4U97/Lffvhk+fsxHvGr+ZcvOPl+AF992Be6l6B+WDTzq8XOMCVjCyOUOdos1OUE0cy4zv0P\n",
    "eOwGbT5GQ512Za/2AAAGk0lEQVR2OO4ZGKH/UShOfxdZixpzAQ3QRIqL6aq5v/2HNdb96fwrr34F\n",
    "3C/baRNI53/q79i5RGbl5gcJRgABQESh4HW3I093xHxd2kv8FNegIQGArg2ReV7W/SLQnmjuT7cX\n",
    "XrXjsaVeP9b/62imsTl7LbQqDGeQ2qW9rOQkycDYl+C9CdXCMXAggAM7eE4NjS1WRM4AWDW3es9x\n",
    "td2b3+MwocVzPSredz3JCGyE2eQGQaBVxiMGm2bmEQ2SR6uhN3PK7mOgbhARwKNF4C6LgYY0x1W5\n",
    "t68RlqDX1s7k13lih5CvuxVbf+Ypk9SfsUJBItGE6WZ65hKZ+1ToD8yakrw3icyBRnNT6lNs9JXU\n",
    "NveyvUtrl5C5w+dKqLDOYwMAC9NT1jSA2580Oa1EjJTS2ALmlErHlTID9Th7JSN88AZgmDXRF5Jq\n",
    "Wajrz0G/b0IFjvFdtGesv+atv8/TLEPEc9REOYd5zAgnagDNrjNDM5nRGzk086iM7zrMpMkpdqJK\n",
    "vbKbU2NRQ7z4lOerSd0A1dsYs6lMYgaCCFELrgos6F/4uZpLVhk08cuhQMhQvy2lfqbfIMJMUNsj\n",
    "cTeGRY4LDW0bFhm32NTuP6/9rcNYf+YBaBCdYEUaf0ikaI+QGhlfREPma8CulXXdr85qNFAB0GpD\n",
    "lgGOohK+imH4VeR8oB161b4YV/fGlI9DnkohNFJh6NdfKgQ/AGZTW/uGRZ/MjRqcNW2wVEQs59q+\n",
    "gIoyB9m0QfOmYCVJrKjZGGvmcKgvIcAEGFZhdrQdcuU1XKkdevV3AVzuf/aiQ5HzRUjp+NB83XK8\n",
    "QWNjMiwVrLXyDNC1FnK/OZFp9t7XAdJdVf+eo1c1qTw/kGdq8yxq/S8N71fGdUs+bMf3AbwdZndj\n",
    "sUkajAQo/UCECu5TfZVHe/goflauRlGTCBGI/dkKSHgNzaXWzroYTyr9+jIAfU2w++/tbtl22I6/\n",
    "wTRd0Xp5INmetCFmcwN8nt/XvZ4wsiJSzQYEkqOdQ7MaxUuaSumvpK/TnpfwaeIvQ+MBwO+1Q/7k\n",
    "9gdfut8Qr9HXtdInr/PYAObZtyNmA1qKS7c/aexGLQlGQNJqEo8FcrWdi6xw6ZWEZEyMgOWH/fqX\n",
    "7P3gS7cf7RLpIWAJbSHrNzbCbH4Znr8evfpEfFrCGdQMQpjkLTaMzIYyCYIy69BOLrO+Z5MhhrvB\n",
    "84t3u+xrj0wAjgqB0op/ue/du7v+sRjrzjx7zmUO2MVdjyT7Q7gnnuYsDe0ryRTSR2c0FKrLXRgC\n",
    "VOSq/nGU6reWobJv9+uO/qFdLtz9l5Hzc7rNpYCGLd94lEn1oGNj4jzDeRiG73WxlrYR6LtTmDCm\n",
    "BmkQP++P0ewJMygEL9oyr2kwCozZMwH/rK8ccZBO6StHJP/8Ue9GSmfvFEMyP+r5S3b4n/75Y0ix\n",
    "Ncf6Z1Pr8D9/5RkYxw/0mxGtT5kB0jAk8eFik/SPiG8EehPLlxPoFuac+1ogEwEAanvgfUjpapjd\n",
    "gGl6KoAjYPbj8ebZiCnRwg/D6ba0csFjRqxdjI1j3s3HLmB2NWCHRygQucO6rD53KIyaSOiIJgKF\n",
    "As3EMl/qKHOPYvKY01TgpALSNRMxeSCC1HKnfwzgWFtaXne4uUHpMcCed/mI7McC/tnQgvCD9f8B\n",
    "asTfjWML4COrwmBZ0l1R2/NWr1NNBXrww7+jIq/t+DO/GUjX/wbu/3IjGAdsIPMAwA6+/F64vwZm\n",
    "H44QAOjLQpF+8p7w1AYWUMlUoCWcu9hLEWZifNfQbAAXVvA5h7THq8bBrgKwZEesfPPRpcpDHxtm\n",
    "NufDb3z5v4bZmQD+cSMS0IUCWkvr+lG8wfcI0tFMJzvRtD+FrRgRuM+Tzt7/EOWaZZidBc//3pZW\n",
    "NrRF7XHDPADwm47ZBPeTYHYGzH5izdoc2x9iP1xq7RDUIiagqc3Zm0YpwGGCW30cINoOFZLvIaWP\n",
    "w/Ov25bl+XtlNmQ8rpjH4Te+fADwZri/A8DhAPbYSdvU5AHS1ETtmyQmNOkFTTMhGNCFGLw2Kh7+\n",
    "ZQC/hewftSNW7lp7xRszHpfM0+E3vOSJsHQ4zI6C+4uR8xEw7BMJaIYE829GjpeX1oCeGsgsjVbY\n",
    "yeSUvg/3GwFcC7NrMY7XArjJjljx3Sxxw8bjnnnz4dcdnWA4GJZ+GsD+yHlfmG0GsBmeNwPYF47N\n",
    "SGkzxtXN1UfdDUv3IOe7Ybgb7vfUdNY9MLsbwF8j588DuMkO/9PV3d3/8TT+P2x6AX5Riia7AAAA\n",
    "AElFTkSuQmCC\" style=\"display:block;margin:auto;width:10%\"/>\n",
    "                        <br>\n",
    "                        <div style=\"text-align:center; font-size:200%;\">\n",
    "                        <b>Interface Design</b>\n",
    "                        </div>\n",
    "                        <br/>\n",
    "                        <div style=\"text-align:center;\">Dr. Kyrill Schmid</div>\n",
    "                        <br/>\n",
    "                        "
   ]
  },
  {
   "cell_type": "markdown",
   "id": "a343c92c",
   "metadata": {},
   "source": [
    "# Chapter 4  Case Study: Interface Design\n",
    "\n",
    "- This chapter presents a case study focusing on designing functions that work together.\n",
    "\n",
    "- It introduces the `turtle` module, which helps in creating images using turtle graphics.\n",
    "\n",
    "- `turtle` module is included in most Python installations, but may not be available if running Python using PythonAnywhere.\n",
    "\n",
    "- If Python is already installed on your computer, running the examples should be possible. However, if not done yet, this is a good time for installation.\n",
    "\n",
    "\n"
   ]
  },
  {
   "cell_type": "markdown",
   "id": "f3b38eb9",
   "metadata": {},
   "source": [
    "- Instructions are provided on the site [http://tinyurl.com/thinkpython2e](http://tinyurl.com/thinkpython2e) for installation. \n",
    "\n",
    "- Code examples can be accessed from the site: [https://thinkpython.com/code/polygon.py](https://thinkpython.com/code/polygon.py).\n",
    "\n",
    "- This chapter involves practical examples and exercises, which require use of the `turtle` module.\n",
    "\n",
    "- These applications allow for practice of newly introduced concepts and will foster better understanding. \n",
    "\n",
    "\n"
   ]
  },
  {
   "cell_type": "markdown",
   "id": "f3aa4743",
   "metadata": {},
   "source": [
    "## Installation of Turtle Module\n",
    "\n",
    "- If you are working on a local Python environment, you might have the Turtle module pre-installed. \n",
    "\n",
    "- However, you can check for same with command: `import turtle`.\n",
    "\n",
    "- If module is missing, install it using pip: `pip install PythonTurtle` or with conda if you are using anaconda distribution: `conda install -c conda-forge python-turtle`. \n",
    "\n",
    "\n"
   ]
  },
  {
   "cell_type": "markdown",
   "id": "bf06133b",
   "metadata": {},
   "source": [
    "## Checking for Module and Installation\n",
    "\n",
    "- If you have Python installed locally, try importing the Turtle module.\n",
    "\n",
    "- If it's not available, you might have to install it.\n",
    "\n",
    "\n"
   ]
  },
  {
   "cell_type": "code",
   "execution_count": null,
   "id": "9ef50846",
   "metadata": {},
   "outputs": [],
   "source": [
    "# Try importing the Turtle module\n",
    "try: \n",
    "    import turtle\n",
    "    print(\"Module 'turtle' is installed.\")\n",
    "except ImportError:\n",
    "    print(\"Module 'turtle' is not installed.\")"
   ]
  },
  {
   "cell_type": "code",
   "execution_count": null,
   "id": "9bc97400",
   "metadata": {},
   "outputs": [],
   "source": [
    "# If it is not installed, then you might have to install it. You can use following command for the same,\n",
    "# !pip install PythonTurtle\n",
    "\n",
    "# Note: Uncomment the above line to install the module. Also, if you are using Jupyter notebook, you might need to restart the kernel."
   ]
  },
  {
   "cell_type": "markdown",
   "id": "ca590ea2",
   "metadata": {},
   "source": [
    "## 4.1 The turtle module\n",
    "\n",
    "- To check if the turtle module is present, we can try importing it.\n",
    "\n",
    "- A Turtle object can be created using the turtle.Turtle() function.\n",
    "\n",
    "- This turtle object moves within a dedicated window, and can be controlled through method calls.\n",
    "\n",
    "- The turtle.mainloop() function makes the window wait for user interaction.\n",
    "\n",
    "\n"
   ]
  },
  {
   "cell_type": "code",
   "execution_count": null,
   "id": "3b16004b",
   "metadata": {},
   "outputs": [],
   "source": [
    "# Importing turtle module and creating a Turtle object\n",
    "import turtle\n",
    "bob = turtle.Turtle()"
   ]
  },
  {
   "cell_type": "markdown",
   "id": "71a48ed3",
   "metadata": {},
   "source": [
    "## Working with the Turtle Object\n",
    "\n",
    "- Printing our Turtle object would display a statement revealing it as a Turtle-type object within the turtle module. \n",
    "\n",
    "- Turtle objects have methods to manipulate their movement such as fd (forward), bk (backward), lt (left turn), and rt (right turn).\n",
    "\n",
    "- The \"fd\" method moves the Turtle forward by a distance specified in pixels.\n",
    "\n",
    "- The methods \"lt\" and \"rt\" make the Turtle turn to the left or right by the specified number of degrees.\n",
    "\n",
    "- The functionality can be extended to drawing geometric shapes like squares.\n",
    "\n",
    "\n"
   ]
  },
  {
   "cell_type": "code",
   "execution_count": null,
   "id": "0fae5a16",
   "metadata": {},
   "outputs": [],
   "source": [
    "# Printing our Turtle object\n",
    "print(bob)\n",
    "\n",
    "# Mainloop function\n",
    "turtle.mainloop()"
   ]
  },
  {
   "cell_type": "markdown",
   "id": "f3004ce1",
   "metadata": {},
   "source": [
    "## Managing the Turtle's Pen\n",
    "\n",
    "- The Turtle \"holds\" a pen which can be either up or down. \n",
    "\n",
    "- If the pen is down, the Turtle leaves a trail as it moves.\n",
    "\n",
    "- The methods \"pu\" and \"pd\" can be used to lift the pen up or put it down, respectively. \n",
    "\n",
    "- We can use these methods along with the movement methods to make our Turtle draw a right angle.\n",
    "\n",
    "\n"
   ]
  },
  {
   "cell_type": "code",
   "execution_count": null,
   "id": "db0d8d58",
   "metadata": {},
   "outputs": [],
   "source": [
    "# Directing our Turtle object to move and create a right angle.\n",
    "bob.fd(100)\n",
    "bob.lt(90)\n",
    "bob.fd(100)"
   ]
  },
  {
   "cell_type": "markdown",
   "id": "df66a0a2",
   "metadata": {},
   "source": [
    "## Turtle Exercise\n",
    "\n",
    "- Try modifying the program to command the Turtle to draw a square.\n",
    "\n",
    "- Note: Before proceeding, make sure your program works correctly and the Turtle draws a square.\n"
   ]
  },
  {
   "cell_type": "markdown",
   "id": "ffa35e8b",
   "metadata": {},
   "source": [
    "## 4.2 Simple Repetition\n",
    "\n",
    "- A simple sequence of commands can be executed in a more concise way using a `for` statement.\n",
    "\n",
    "- The `for` statement has a header ending with a colon and an indented body.\n",
    "\n",
    "- The body can contain any number of statements.\n",
    "\n",
    "- A `for` statement is also known as a loop as the flow of execution goes through the body and then loops back to the top.\n",
    "\n",
    "\n"
   ]
  },
  {
   "cell_type": "code",
   "execution_count": null,
   "id": "ba32681d",
   "metadata": {},
   "outputs": [],
   "source": [
    "bob.fd(100)\n",
    "bob.lt(90)\n",
    "\n",
    "bob.fd(100)\n",
    "bob.lt(90)\n",
    "\n",
    "bob.fd(100)\n",
    "bob.lt(90)\n",
    "\n",
    "bob.fd(100)"
   ]
  },
  {
   "cell_type": "markdown",
   "id": "7986a7e2",
   "metadata": {},
   "source": [
    "- The `for` statement is used to run a block of code a specific number of times.\n",
    "\n",
    "- Example: When `for i in range(4):    print('Hello!')` is executed, 'Hello!' is printed 4 times.\n",
    "\n",
    "- The resulting output illustrates the operation of the previous `for` loop.\n",
    "\n",
    "- After writing a square-drawing program, it can be simplified with a `for` loop.\n",
    "\n",
    "\n"
   ]
  },
  {
   "cell_type": "code",
   "execution_count": null,
   "id": "54df823a",
   "metadata": {},
   "outputs": [],
   "source": [
    "for i in range(4):\n",
    "    print('Hello!')"
   ]
  },
  {
   "cell_type": "code",
   "execution_count": null,
   "id": "cb7a6d3b",
   "metadata": {},
   "outputs": [],
   "source": [
    "Hello!\n",
    "Hello!\n",
    "Hello!\n",
    "Hello!"
   ]
  },
  {
   "cell_type": "markdown",
   "id": "1efbfe7d",
   "metadata": {},
   "source": [
    "- The `for` loop can be used to draw shapes, as shown in the example of drawing a square.\n",
    "\n",
    "- At the end of each iteration, add a turn to simplify the loop and to make the result more predictable.\n",
    "\n",
    "- While the additional turn does consume more time, it simplifies the loop by ensuring the same actions occur in each iteration.\n",
    "\n",
    "- After the final side of the square is drawn, the turtle ends up in the starting position, facing the original direction.\n",
    "\n",
    "\n"
   ]
  },
  {
   "cell_type": "code",
   "execution_count": null,
   "id": "9ff6e038",
   "metadata": {},
   "outputs": [],
   "source": [
    "for i in range(4):\n",
    "    bob.fd(100)\n",
    "    bob.lt(90)"
   ]
  },
  {
   "cell_type": "markdown",
   "id": "6fef4aa1",
   "metadata": {},
   "source": [
    "## Exercises with 'turtle' module \n",
    "\n",
    "- This exercise involves a series of tasks using 'turtle' module in Python.\n",
    "\n",
    "- While performing these tasks, remember the underlying principles behind each step.\n",
    "\n",
    "- Exercise solutions are provided ahead. Only check them after trying your best.\n",
    "\n",
    "\n"
   ]
  },
  {
   "cell_type": "markdown",
   "id": "c163d1d7",
   "metadata": {},
   "source": [
    "## Task 1: Function 'square'\n",
    "\n",
    "- Write a function 'square' that takes a parameter 't', which is a turtle. \n",
    "\n",
    "- Use the turtle \"t\" to draw a square.\n",
    "\n",
    "- Call the function using 'bob' as an argument.\n",
    "\n",
    "\n"
   ]
  },
  {
   "cell_type": "code",
   "execution_count": null,
   "id": "3e658a3b",
   "metadata": {},
   "outputs": [],
   "source": [
    "# code for Task 1 goes here"
   ]
  },
  {
   "cell_type": "markdown",
   "id": "b65ece0a",
   "metadata": {},
   "source": [
    "## Task 2: Function 'square' with added parameter\n",
    "\n",
    "- Add another parameter to function 'square', named 'length'.\n",
    "\n",
    "- Modify the function so that it draws a square of side length 'length'.\n",
    "\n",
    "- Run the function again with the added argument.\n",
    "\n",
    "- Test your function with different values of 'length'.\n",
    "\n",
    "\n"
   ]
  },
  {
   "cell_type": "code",
   "execution_count": null,
   "id": "e0b831b5",
   "metadata": {},
   "outputs": [],
   "source": [
    "# code for Task 2 goes here"
   ]
  },
  {
   "cell_type": "markdown",
   "id": "fd006021",
   "metadata": {},
   "source": [
    "## Task 3: Function 'polygon'\n",
    "\n",
    "- Copy function 'square' and rename it to 'polygon'.\n",
    "\n",
    "- Add another parameter 'n' and modify the function so it draws an n-sided regular polygon.\n",
    "\n",
    "- Hint: The exterior angles of an n-sided regular polygon are 360/n degrees.\n",
    "\n",
    "\n"
   ]
  },
  {
   "cell_type": "code",
   "execution_count": null,
   "id": "f8cbc3c8",
   "metadata": {},
   "outputs": [],
   "source": [
    "# code for Task 3 goes here"
   ]
  },
  {
   "cell_type": "markdown",
   "id": "554e5268",
   "metadata": {},
   "source": [
    "## Task 4: Function 'circle'\n",
    "\n",
    "- Write a function 'circle' that takes a turtle 't', and radius 'r', as parameters.\n",
    "\n",
    "- This function should draw an approximate circle by making suited calls to the 'polygon' function.\n",
    "\n",
    "- Test your function with a variety of radius values.\n",
    "\n",
    "- Hint: Determine the circumference of the circle and ensure that length * n equals the circumference.\n",
    "\n",
    "\n"
   ]
  },
  {
   "cell_type": "code",
   "execution_count": null,
   "id": "45fde0f8",
   "metadata": {},
   "outputs": [],
   "source": [
    "# code for Task 4 goes here"
   ]
  },
  {
   "cell_type": "markdown",
   "id": "84d45d0a",
   "metadata": {},
   "source": [
    "## Task 5: Function 'arc'\n",
    "\n",
    "- Make a more general function of 'circle' called 'arc'.\n",
    "\n",
    "- 'Arc' should take an additional parameter 'angle', which determines the fraction of a circle to draw.\n",
    "\n",
    "- Angle is in units of degrees, hence, when angle = 360, 'arc' should draw a complete circle.\n",
    "\n",
    "\n"
   ]
  },
  {
   "cell_type": "code",
   "execution_count": null,
   "id": "5dcc61e5",
   "metadata": {},
   "outputs": [],
   "source": [
    "# code for Task 5 goes here"
   ]
  },
  {
   "cell_type": "markdown",
   "id": "57abf521",
   "metadata": {},
   "source": [
    "## 4.4 Encapsulation\n",
    "\n",
    "- Encapsulation involves wrapping a piece of code inside a function.\n",
    "\n",
    "- This technique has several advantages, such as giving the code a specific name which serves as documentation.\n",
    "\n",
    "- Encapsulated code can be re-used easily by calling the function, which is more concise than copying and pasting the same code block.\n",
    "\n",
    "- One exercise example is creating a function for drawing a square and then calling this function.\n",
    "\n",
    "\n"
   ]
  },
  {
   "cell_type": "code",
   "execution_count": null,
   "id": "785e4e09",
   "metadata": {},
   "outputs": [],
   "source": [
    "def square(t):\n",
    "    for i in range(4):\n",
    "        t.fd(100)\n",
    "        t.lt(90)"
   ]
  },
  {
   "cell_type": "code",
   "execution_count": null,
   "id": "96a2b2d6",
   "metadata": {},
   "outputs": [],
   "source": [
    "square(bob)"
   ]
  },
  {
   "cell_type": "markdown",
   "id": "2dd3e800",
   "metadata": {},
   "source": [
    "- The function `square` takes a parameter `t`, which refers to a turtle object, and uses it to draw a square.\n",
    "\n",
    "- The inner statements `t.fd(100)` and `t.lt(90)` are indented twice, showing they are inside both the for loop and the function definition.\n",
    "\n",
    "- After defining and invoking the function with an argument, the next line of code is flush with the left margin, indicating the end of both the for loop and function definition.\n",
    "\n",
    "- The parameter `t` can represent any turtle, not just `bob`. This is demonstrated by creating a second turtle `alice` and passing it as an argument to `square`.\n",
    "\n",
    "\n"
   ]
  },
  {
   "cell_type": "code",
   "execution_count": null,
   "id": "9545791c",
   "metadata": {},
   "outputs": [],
   "source": [
    "alice = turtle.Turtle()"
   ]
  },
  {
   "cell_type": "code",
   "execution_count": null,
   "id": "f535a809",
   "metadata": {},
   "outputs": [],
   "source": [
    "square(alice)"
   ]
  },
  {
   "cell_type": "markdown",
   "id": "7b079cda",
   "metadata": {},
   "source": [
    "## 4.5 Generalization\n",
    "\n",
    "- Generalization involves adding parameters to a function to make it more versatile.\n",
    "\n",
    "- For instance, adding a length parameter to the square function allows it to draw squares of any size.\n",
    "\n",
    "- The next step, involves expanding the function to draw regular polygons of any number of sides.\n",
    "\n",
    "\n"
   ]
  },
  {
   "cell_type": "code",
   "execution_count": null,
   "id": "4776a80f",
   "metadata": {},
   "outputs": [],
   "source": [
    "def square(t, length):\n",
    "    for i in range(4):\n",
    "        t.fd(length)\n",
    "        t.lt(90)\n",
    "\n",
    "square(bob, 100)"
   ]
  },
  {
   "cell_type": "markdown",
   "id": "2281f5de",
   "metadata": {},
   "source": [
    "- The parameterized polygon function can now draw an n-sided polygon, with sides of a specified length.\n",
    "\n",
    "- For Python 2 users, make sure to compute the angle as `360.0 / n` to ensure a floating point result.\n",
    "\n",
    "- More complex functions with various numeric arguments can be made more readable through the use of keyword arguments.\n",
    "\n",
    "\n"
   ]
  },
  {
   "cell_type": "code",
   "execution_count": null,
   "id": "3e27d592",
   "metadata": {},
   "outputs": [],
   "source": [
    "def polygon(t, n, length):\n",
    "    angle = 360 / n\n",
    "    for i in range(n):\n",
    "        t.fd(length)\n",
    "        t.lt(angle)\n",
    "\n",
    "polygon(bob, 7, 70)"
   ]
  },
  {
   "cell_type": "code",
   "execution_count": null,
   "id": "79d897b5",
   "metadata": {},
   "outputs": [],
   "source": [
    "polygon(bob, n=7, length=70)"
   ]
  },
  {
   "cell_type": "markdown",
   "id": "a0fb0122",
   "metadata": {},
   "source": [
    "## 4.6  Interface Design\n",
    "\n",
    "- To implement the concept of interface design, a function for drawing a circle called `circle` is created.\n",
    "\n",
    "- This function takes a radius `r` as a parameter and utilizes the `polygon` function to craft its circle via the approximation of a 50-sided polygon.\n",
    "\n",
    "- One potential limitation to this approach is the static use of `n` as the number of segments, which could result in inefficiency with very small or very large circles.\n",
    "\n",
    "- This would be improved by allowing `n` to be a user input parameter, helping the user to better control the number of segments based on the size of the circle they are working with.\n",
    "\n",
    "\n"
   ]
  },
  {
   "cell_type": "code",
   "execution_count": null,
   "id": "e10007ff",
   "metadata": {},
   "outputs": [],
   "source": [
    "import math\n",
    "\n",
    "def circle(t, r):\n",
    "    circumference = 2 * math.pi * r\n",
    "    n = 50\n",
    "    length = circumference / n\n",
    "    polygon(t, n, length)"
   ]
  },
  {
   "cell_type": "markdown",
   "id": "25694db6",
   "metadata": {},
   "source": [
    "- Function interfaces form an integral part of how to interact with the function, providing essential information about the function's parameters, what the function does, and what it returns.\n",
    "\n",
    "- A \"clean\" interface provides the user all the necessary information and control they need while sparing them from unnecessary details.\n",
    "\n",
    "- In our `circle` function example, the radius `r` forms part of the interface since it specifies the circle to be drawn. However, `n` is less suitable since it's related to the manner of circle rendering, not its attributes.\n",
    "\n",
    "- Hence, instead of letting the user manually define `n`, we come up with a suitable value for `n` based on the circle's circumference.\n",
    "\n",
    "\n"
   ]
  },
  {
   "cell_type": "code",
   "execution_count": null,
   "id": "fb4d8837",
   "metadata": {},
   "outputs": [],
   "source": [
    "def circle(t, r):\n",
    "    circumference = 2 * math.pi * r\n",
    "    n = int(circumference / 3) + 3\n",
    "    length = circumference / n\n",
    "    polygon(t, n, length)"
   ]
  },
  {
   "cell_type": "markdown",
   "id": "20cfe35a",
   "metadata": {},
   "source": [
    "- With the above adapted `circle` function, the number of segments is set as an integer near `circumference/3`.\n",
    "\n",
    "- This ensures each segment length is approximately 3 units, striking a good balance between visibility and efficiency.\n",
    "\n",
    "- This approach is also adaptive, changing based on the size of the circle.\n",
    "\n",
    "- Furthermore, by adding 3 to `n`, we ensure that our polygon will always have at least 3 sides.\n",
    "\n",
    "\n"
   ]
  },
  {
   "cell_type": "markdown",
   "id": "44834d1c",
   "metadata": {},
   "source": [
    "## 4.7 Refactoring \n",
    "\n",
    "- Refactoring is the process of rearranging a program to improve interfaces and facilitate code reuse. \n",
    "\n",
    "- It can be useful when we notice similar code in different parts of our program. \n",
    "\n",
    "- In the given scenario, we see that 'arc' and 'polygon' have similar code components, that can be \"factored out\" into 'polyline'\n",
    "\n",
    "- The process requires rewriting parts of the code with the aim of generalization for better reusability.\n",
    "\n",
    "\n"
   ]
  },
  {
   "cell_type": "markdown",
   "id": "8be3fad6",
   "metadata": {},
   "source": [
    "## Refactoring `arc` function\n",
    "\n",
    "- The function `arc` could not be written by reusing the existing `circle` or `polygon` functions.\n",
    "\n",
    "- One of the approaches could be to modify the `polygon` function into `arc`.\n",
    "\n",
    "- However, to maintain the appropriate naming, a new generalized function, `polyline` is created for reuse\n",
    "\n",
    "\n"
   ]
  },
  {
   "cell_type": "code",
   "execution_count": null,
   "id": "b9caacc5",
   "metadata": {},
   "outputs": [],
   "source": [
    "def arc(t, r, angle):\n",
    "    arc_length = 2 * math.pi * r * angle / 360\n",
    "    n = int(arc_length / 3) + 1\n",
    "    step_length = arc_length / n\n",
    "    step_angle = angle / n\n",
    "    \n",
    "    for i in range(n):\n",
    "        t.fd(step_length)\n",
    "        t.lt(step_angle)"
   ]
  },
  {
   "cell_type": "markdown",
   "id": "6f501826",
   "metadata": {},
   "source": [
    "## Introduction of `polyline` \n",
    "\n",
    "- The function `polyline` is a more generalized version of the function `polygon`.\n",
    "\n",
    "- The `polyline` function takes an additional argument, `angle`, compared to the `polygon` function.\n",
    "\n",
    "\n"
   ]
  },
  {
   "cell_type": "code",
   "execution_count": null,
   "id": "a2c8e7aa",
   "metadata": {},
   "outputs": [],
   "source": [
    "def polyline(t, n, length, angle):\n",
    "    for i in range(n):\n",
    "        t.fd(length)\n",
    "        t.lt(angle)"
   ]
  },
  {
   "cell_type": "markdown",
   "id": "88a24349",
   "metadata": {},
   "source": [
    "## Reusing `polyline` in `polygon` and `arc` \n",
    "\n",
    "- Both `polygon` and `arc` functions can be rewritten to use `polyline`\n",
    "\n",
    "- This generalization allows for better reusability of the code\n",
    "\n",
    "\n"
   ]
  },
  {
   "cell_type": "code",
   "execution_count": null,
   "id": "9dade70d",
   "metadata": {},
   "outputs": [],
   "source": [
    "def polygon(t, n, length):\n",
    "    angle = 360.0 / n\n",
    "    polyline(t, n, length, angle)\n",
    "\n",
    "def arc(t, r, angle):\n",
    "    arc_length = 2 * math.pi * r * angle / 360\n",
    "    n = int(arc_length / 3) + 1\n",
    "    step_length = arc_length / n\n",
    "    step_angle = float(angle) / n\n",
    "    polyline(t, n, step_length, step_angle)"
   ]
  },
  {
   "cell_type": "markdown",
   "id": "2f142529",
   "metadata": {},
   "source": [
    "## Refactoring `circle` to use `arc`\n",
    "\n",
    "- The function `circle` can be rewritten to utilise the function `arc`\n",
    "\n",
    "- Refactoring in this fashion improves the overall coding standard, making it easier to understand and maintain \n",
    "\n",
    "\n"
   ]
  },
  {
   "cell_type": "code",
   "execution_count": null,
   "id": "6bb6036b",
   "metadata": {},
   "outputs": [],
   "source": [
    "def circle(t, r):\n",
    "    arc(t, r, 360)"
   ]
  },
  {
   "cell_type": "markdown",
   "id": "76a0bc1b",
   "metadata": {},
   "source": [
    "## Learning through Refactoring\n",
    "\n",
    "- Refactoring often occurs when you realize ways to optimize or better structure your code as you're writing it. \n",
    "\n",
    "- Sometimes, it indicates that you've learned something new as you're coding. \n",
    "\n",
    "- It is not always possible to plan ahead for every interface at the beginning of a project, the understanding improves as we delve deeper into the coding phase.\n"
   ]
  },
  {
   "cell_type": "markdown",
   "id": "05a691dc",
   "metadata": {},
   "source": [
    "## 4.8 A Development Plan\n",
    "\n",
    "- A development plan is a systematic approach to writing programs.\n",
    "\n",
    "- The methodology used in the current study is \"Encapsulation and Generalization\".\n",
    "\n",
    "- This methodology involves a series of steps to guide the development of your program.\n",
    "\n",
    "\n"
   ]
  },
  {
   "cell_type": "markdown",
   "id": "ea75b4e4",
   "metadata": {},
   "source": [
    "## Encapsulation and Generalization Steps\n",
    "\n",
    "- Begin by crafting a simple program with no function definitions.\n",
    "\n",
    "- Once the program is operational, identify a coherent segment, encapsulate it as a distinct function, and assign it a name.\n",
    "\n",
    "- Generalize the function with relevant parameters.\n",
    "\n",
    "- Repeat the previous steps until there's a collection of performing functions.\n",
    "\n",
    "\n"
   ]
  },
  {
   "cell_type": "markdown",
   "id": "1361dc2b",
   "metadata": {},
   "source": [
    "## Code Refactoring and Improvement\n",
    "\n",
    "- To avoid retyping and potential debugging, repurpose working code as much as possible.\n",
    "\n",
    "- Constantly look out for opportunities to enhance the program through refactoring.\n",
    "\n",
    "  - For instance, if similar code occurs in multiple areas, think about abstracting it into a suitably general function.\n",
    "\n",
    "- This process may have some shortcomings but can be helpful if there's initial uncertainty about how to partition the program into distinct functions.\n",
    "\n",
    "- This strategy allows for progressive design over time.\n"
   ]
  },
  {
   "cell_type": "markdown",
   "id": "8ab258be",
   "metadata": {},
   "source": [
    "## 4.9 Docstrings \n",
    "\n",
    "- A docstring is a triple-quoted string placed at the beginning of a function to explain its interface.\n",
    "\n",
    "- The docstring offers a brief explanation of what the function does, its parameters and their effects, and parameter types.\n",
    "\n",
    "- Interface design benefits greatly from informative docstrings.\n",
    "\n",
    "- A well-written, concise docstring can be an indicator of a well-designed interface.\n",
    "\n",
    "\n"
   ]
  },
  {
   "cell_type": "code",
   "execution_count": null,
   "id": "0477ac45",
   "metadata": {},
   "outputs": [],
   "source": [
    "def polyline(t, n, length, angle):\n",
    "    \"\"\"Draws n line segments with the given length and\n",
    "    angle (in degrees) between them.  t is a turtle.\n",
    "    \"\"\"    \n",
    "    for i in range(n):\n",
    "        t.fd(length)\n",
    "        t.lt(angle)"
   ]
  },
  {
   "cell_type": "markdown",
   "id": "75b0fc30",
   "metadata": {},
   "source": [
    "- The provided code demonstrates a docstring in a function called polyline.\n",
    "\n",
    "- Docstrings are typically multiline strings; they can span more than one line.\n",
    "\n",
    "- If explaining a function through its docstring becomes challenging, it indicates that the function interface may need improvement.\n"
   ]
  },
  {
   "cell_type": "markdown",
   "id": "25e2bfb9",
   "metadata": {},
   "source": [
    "## 4.10  Debugging\n",
    "\n",
    "- An interface can be perceived as a contract between a function and a caller, defining preconditions and postconditions .\n",
    "\n",
    "   - Preconditions: Given conditions or parameters that must hold true before a function begins execution.\n",
    "\n",
    "   - Postconditions: Expected outcome at the end of the function's execution. These include the function's intended effects and any side effects.\n",
    "\n",
    "- Preconditions are the caller's responsibility. If the preconditions are violated and the function fails, the error lies with the caller, not the function.\n",
    "\n",
    "- If the preconditions are met, but the postconditions aren't, the error lies in the function.\n",
    "\n",
    "- Clearly stating pre- and post-conditions helps in debugging. \n",
    "\n",
    "\n",
    "\n",
    "An example of a function precondition could be that the function `polyline` requires four arguments:\n",
    "\n",
    "- `t` has to be a Turtle\n",
    "\n",
    "- `n` has to be an integer\n",
    "\n",
    "- `length` should be a positive number\n",
    "\n",
    "- `angle` has to be a number, which is understood to be in degrees. \n",
    "\n",
    "\n",
    "\n",
    "The postconditions for the function `polyline` might include drawing line segments, moving the Turtle, or making other changes. \n",
    "\n",
    "\n"
   ]
  },
  {
   "cell_type": "markdown",
   "id": "91c6516e",
   "metadata": {},
   "source": [
    "- In the following section we will give an example of the function `polyline`.\n",
    "\n",
    "- This example is not meant for execution, its purpose is to clarify the concept of preconditions and postconditions.\n",
    "\n",
    "\n"
   ]
  },
  {
   "cell_type": "code",
   "execution_count": null,
   "id": "ef81c28b",
   "metadata": {},
   "outputs": [],
   "source": [
    "# This is an example and is not meant for execution\n",
    "def polyline(t, n, length, angle):\n",
    "    \"\"\"\n",
    "    Preconditions:\n",
    "    - t: has to be a Turtle instance\n",
    "    - n: an integer value representing the number of line segments\n",
    "    - length: a positive number denoting length of each segment\n",
    "    - angle: a number representing the angle (in degrees) of each turn\n",
    "\n",
    "    Postconditions:\n",
    "    - Draws n line segments with the given length and angle\n",
    "    - The final position of Turtle instance t may change\n",
    "    \"\"\"\n",
    "    for _ in range(n):\n",
    "        t.forward(length)\n",
    "        t.right(angle) \n",
    "# This example does not run as we do not define an instance of Turtle 't'. This is merely to demonstrate the concept of preconditions and postconditions.\n",
    "# In real use-cases, make sure the precondtions are satisfied before calling a function. If the function doesn't deliver the \n",
    "# expected outcomes i.e., postconditions, despite the preconditions being met, the bug lies in the function block itself."
   ]
  },
  {
   "cell_type": "markdown",
   "id": "776eb035",
   "metadata": {},
   "source": [
    "## 4.11 Glossary\n",
    "\n",
    "- Method: A function tied to an object, accessible through dot notation.\n",
    "\n",
    "- Loop: A block of code set to execute repeatedly in a program.\n",
    "\n",
    "- Encapsulation: The task of converting a series of statements into a function definition.\n",
    "\n",
    "- Generalization: The practice of replacing specific elements (like a number) with general ones (like a variable or parameter).\n",
    "\n",
    "\n"
   ]
  },
  {
   "cell_type": "markdown",
   "id": "d3c1e1c0",
   "metadata": {},
   "source": [
    "## 4.11 Glossary (Continued)\n",
    "\n",
    "- Keyword argument: An argument that incorporates the parameter's name as a “keyword”.\n",
    "\n",
    "- Interface: Detailed instructions on how to utilize a function, that includes the function's name, arguments, and return value.\n",
    "\n",
    "- Refactoring: Tweaking a functioning program to enhance its function interfaces, and other elements. \n",
    "\n",
    "- Development plan: A strategy for writing programs.\n",
    "\n",
    "\n"
   ]
  },
  {
   "cell_type": "markdown",
   "id": "ff58260e",
   "metadata": {},
   "source": [
    "## 4.11 Glossary (Continuation)\n",
    "\n",
    "- Docstring: A string that is stationed at the beginning of a function definition to document the function’s interface.\n",
    "\n",
    "- Precondition: A requirement that must be met by the caller before a function begins execution.\n",
    "\n",
    "- Postcondition: A condition that must be met by the function before it concludes.\n"
   ]
  },
  {
   "cell_type": "markdown",
   "id": "b55b297c",
   "metadata": {},
   "source": [
    "## Exercises\n",
    "\n",
    "\n",
    "\n",
    "- To understand the state of program while executing `circle(bob, radius)`, draw a stack diagram or use print statements in the code.\n",
    "\n",
    "- As the version of `arc` from section 4.7 may not be accurate in creating the circle, we try to reduce the error's impact in our solution. Try to read the code to understand. Drawing a diagram might help.\n",
    "\n",
    "\n"
   ]
  },
  {
   "cell_type": "code",
   "execution_count": null,
   "id": "22fad3f2",
   "metadata": {},
   "outputs": [],
   "source": [
    "# Required library and function\n",
    "# import thinkpython.com/code/polygon.py\n",
    "# circle(bob, radius)"
   ]
  },
  {
   "cell_type": "markdown",
   "id": "9646c695",
   "metadata": {},
   "source": [
    "## Exercises\n",
    "\n",
    "\n",
    "\n",
    "- Create a function to draw flowers as in Figure 4.1.\n",
    "\n",
    "- Create a function to draw shapes as in Figure 4.2.\n",
    "\n",
    "- Try designing an alphabet using basic elements like vertical and horizontal lines and a couple of curves. Each letter should be a function.\n",
    "\n",
    "\n"
   ]
  },
  {
   "cell_type": "code",
   "execution_count": null,
   "id": "f32c2d5b",
   "metadata": {},
   "outputs": [],
   "source": [
    "# Exercise 2 Solution \n",
    "# URL provided for reference purpose only, It may not work in Jupyter cell\n",
    "# import thinkpython.com/code/flower.py\n",
    "# import polygon.py"
   ]
  },
  {
   "cell_type": "code",
   "execution_count": null,
   "id": "5e44ef79",
   "metadata": {},
   "outputs": [],
   "source": [
    "# Exercise 3 Solution \n",
    "# URL provided for reference purpose only, It may not work in Jupyter cell\n",
    "# import thinkpython.com/code/pie.py"
   ]
  },
  {
   "cell_type": "code",
   "execution_count": null,
   "id": "983692b5",
   "metadata": {},
   "outputs": [],
   "source": [
    "# Exercise 4 Solution \n",
    "# Follow the pseudocode below,\n",
    "# create letters in a file namedletters.py\n",
    "# Test your code using turtle typewriter\n",
    "# import thinkpython.com/code/typewriter.py"
   ]
  },
  {
   "cell_type": "markdown",
   "id": "ad056bba",
   "metadata": {},
   "source": [
    "## Exercises\n",
    "\n",
    "- Explore about spirals at http://en.wikipedia.org/wiki/Spiral\n",
    "\n",
    "- Write a program that can draw an Archimedian spiral or any other kind of spirals\n",
    "\n",
    "\n"
   ]
  },
  {
   "cell_type": "code",
   "execution_count": null,
   "id": "ce9ca6b4",
   "metadata": {},
   "outputs": [],
   "source": [
    "# Exercise 5 Solution \n",
    "# URL provided for reference purpose only, It may not work in Jupyter cell\n",
    "# import thinkpython.com/code/spiral.py"
   ]
  }
 ],
 "metadata": {},
 "nbformat": 4,
 "nbformat_minor": 5
}
