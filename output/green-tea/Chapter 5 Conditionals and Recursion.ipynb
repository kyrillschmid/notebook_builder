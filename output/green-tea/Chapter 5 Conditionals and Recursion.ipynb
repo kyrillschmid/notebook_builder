{
 "cells": [
  {
   "cell_type": "markdown",
   "id": "482a4f5e",
   "metadata": {},
   "source": [
    "<img src=\"data:image/png;base64,iVBORw0KGgoAAAANSUhEUgAAAG8AAABuCAYAAAApmU3FAAAEtmlUWHRYTUw6Y29tLmFkb2JlLnht\n",
    "cAAAAAAAPD94cGFja2V0IGJlZ2luPSLvu78iIGlkPSJXNU0wTXBDZWhpSHpyZVN6TlRjemtjOWQi\n",
    "Pz4KPHg6eG1wbWV0YSB4bWxuczp4PSJhZG9iZTpuczptZXRhLyIgeDp4bXB0az0iWE1QIENvcmUg\n",
    "NS41LjAiPgogPHJkZjpSREYgeG1sbnM6cmRmPSJodHRwOi8vd3d3LnczLm9yZy8xOTk5LzAyLzIy\n",
    "LXJkZi1zeW50YXgtbnMjIj4KICA8cmRmOkRlc2NyaXB0aW9uIHJkZjphYm91dD0iIgogICAgeG1s\n",
    "bnM6ZXhpZj0iaHR0cDovL25zLmFkb2JlLmNvbS9leGlmLzEuMC8iCiAgICB4bWxuczp0aWZmPSJo\n",
    "dHRwOi8vbnMuYWRvYmUuY29tL3RpZmYvMS4wLyIKICAgIHhtbG5zOnBob3Rvc2hvcD0iaHR0cDov\n",
    "L25zLmFkb2JlLmNvbS9waG90b3Nob3AvMS4wLyIKICAgIHhtbG5zOnhtcD0iaHR0cDovL25zLmFk\n",
    "b2JlLmNvbS94YXAvMS4wLyIKICAgIHhtbG5zOnhtcE1NPSJodHRwOi8vbnMuYWRvYmUuY29tL3hh\n",
    "cC8xLjAvbW0vIgogICAgeG1sbnM6c3RFdnQ9Imh0dHA6Ly9ucy5hZG9iZS5jb20veGFwLzEuMC9z\n",
    "VHlwZS9SZXNvdXJjZUV2ZW50IyIKICAgZXhpZjpQaXhlbFhEaW1lbnNpb249IjExMSIKICAgZXhp\n",
    "ZjpQaXhlbFlEaW1lbnNpb249IjExMCIKICAgZXhpZjpDb2xvclNwYWNlPSIxIgogICB0aWZmOklt\n",
    "YWdlV2lkdGg9IjExMSIKICAgdGlmZjpJbWFnZUxlbmd0aD0iMTEwIgogICB0aWZmOlJlc29sdXRp\n",
    "b25Vbml0PSIyIgogICB0aWZmOlhSZXNvbHV0aW9uPSI3Mi4wIgogICB0aWZmOllSZXNvbHV0aW9u\n",
    "PSI3Mi4wIgogICBwaG90b3Nob3A6Q29sb3JNb2RlPSIzIgogICBwaG90b3Nob3A6SUNDUHJvZmls\n",
    "ZT0ic1JHQiBJRUM2MTk2Ni0yLjEiCiAgIHhtcDpNb2RpZnlEYXRlPSIyMDIwLTAyLTEzVDE2OjQ4\n",
    "OjM2KzAxOjAwIgogICB4bXA6TWV0YWRhdGFEYXRlPSIyMDIwLTAyLTEzVDE2OjQ4OjM2KzAxOjAw\n",
    "Ij4KICAgPHhtcE1NOkhpc3Rvcnk+CiAgICA8cmRmOlNlcT4KICAgICA8cmRmOmxpCiAgICAgIHN0\n",
    "RXZ0OmFjdGlvbj0icHJvZHVjZWQiCiAgICAgIHN0RXZ0OnNvZnR3YXJlQWdlbnQ9IkFmZmluaXR5\n",
    "IERlc2lnbmVyIDEuNy4zIgogICAgICBzdEV2dDp3aGVuPSIyMDIwLTAyLTEzVDE2OjQ4OjM2KzAx\n",
    "OjAwIi8+CiAgICA8L3JkZjpTZXE+CiAgIDwveG1wTU06SGlzdG9yeT4KICA8L3JkZjpEZXNjcmlw\n",
    "dGlvbj4KIDwvcmRmOlJERj4KPC94OnhtcG1ldGE+Cjw/eHBhY2tldCBlbmQ9InIiPz63ZYCCAAAB\n",
    "gWlDQ1BzUkdCIElFQzYxOTY2LTIuMQAAKJF1kc8rRFEUxz9miDCNYmFh8dKwQoMSG4uZ/Cosxii/\n",
    "Nm+eeTNq3szrvZk02SpbRYmNXwv+ArbKWikiJSsLa2KDnvM8NZI5t3PP537vPad7zwVfPKMZdmUY\n",
    "jGzeio1ElJnZOaX6ER8BgoQJqJptTkwNxylrbzdUuPGq061V/ty/VreYtDWoqBEe1EwrLzwqPL6c\n",
    "N13eFG7S0uqi8LFwhyUXFL529YTHTy6nPP5w2YrHouBrEFZSvzjxi7W0ZQjLywkZmYL2cx/3JfXJ\n",
    "7PSUxFbxFmxijBBBYYwhovTRzYDMfXTSQ5esKJMf/s6fJCe5mswmRSyWSJEmT4eoBamelKiLnpSR\n",
    "oej2/29fbb23x6teH4GqB8d5aYPqDfhcd5z3fcf5PAD/PZxlS/m5Peh/FX29pIV2IbgKJ+clLbEF\n",
    "p2vQfGeqlvot+cV9ug7PRxCYhcZLqJ33evazz+EtxFfkqy5gewfa5Xxw4QtXymffaj9hFAAAAAlw\n",
    "SFlzAAALEwAACxMBAJqcGAAAIABJREFUeJzlfXu0b1V13jfX/l2UkAAXiq/EWkg0RqUaBO5BEB+A\n",
    "WKtG6qtWeZnRtCYmgThUvJfRdDQOBAtc2mSEGJuhJn2oNcPwGFZSgmmAG84JAgKS4QPIQ2OVIgIR\n",
    "kbP3mv1jrW+ub+177uUROIfENca5557923vttefzm4+1f4a/R2PpfX+wCfB/6o4XmuHpDuwDYG94\n",
    "3gfue8PSPoDXY74PAAPsO4DfBeAuuH8HwF0wuwue7wLwHbjfCUvXA37j8gfflDfy+R7usI1ewK7G\n",
    "0taLDDYcDM+HAX4oYIcC+WA4ngAA7hPMBgAOdwBe6W78fwLgdTYHcgZMH9fkcwDu9wC+A+5XAX4l\n",
    "HCvL5/2r+x/r5/y7jMcd85a2XbwZ7qcC+LcAngnPgA0AMjxnmBWmuDvgXp7AEpAn8HEsJXge42+4\n",
    "F4bWa8v59XOzem0dZuV4Hh+ApRUAvwXg48vnvkVOenyMxw3zlrZd/NNw/BLS8GZ43hNAIao1BrhP\n",
    "hfAuGgPv/7bUtJDHybjQSqsM9TI/f8OLMpoV5lpo71fhfjaA310+762rjx0VHt7YcOYtbb14APw/\n",
    "AHYG4Ina4NMIS9Q4B+AwS4WBYRKt0p4MyeUnLapmoTGHn9NUUlvNeoZ3x0RjPQPufwXg/cvnv+3D\n",
    "60qkXYwNZd7Stkuejjz9D6ThyJD+PAFpCLPmnmFpUc1gHe5ACoIKgyB/k1FJTKM3xtJ02tBrKjUw\n",
    "tDNXjfV2rk8fhg0/v3z+22RR6z82jHlL2y55CoDrAH8qcg/y3Au4MBt2YlrxZ5XBXnygT+MMjPjO\n",
    "ZnH+GdD8GzXWrAKbVE8VkFNQEYJkZp+F+xuXz3/b3z5qRHmYY0OYt7T1ogFp+CPk6SWFeFMjWIwC\n",
    "Skx8XPkbDazU84KwlprWzU1lZxpz0dz4HLO50LRVGRpgZrX8TmkF03Tk8gUnb4gGzim2PsPSL8Hz\n",
    "S4pvQTFl1gjpOQOwWw32e3D/IOB/6PD7GuKk9Nd/lPHho1zCh6F95t4+h/faFXPItY6i5TzXpzKf\n",
    "GTCtHg7kdz0WJHooY4M07+IvwfCsnTSgEPT7gJ0J+PnXfOCEUIstZ/z+QfD8EcCODlNIwpMRadH+\n",
    "n6uvUpNM9NihTAkbwr+hHR8W5bjOE/cbAM/fA9LBy9tPvPWxp1w/1l3zls689KcAPKuBAxS/FmbQ\n",
    "zrjmA687VxkHAMtnv/42IP0zAF+J2DotGrRPi+a7GL8V0ybocaomcyi/PUtIgP4ar2FdzsA0NoZb\n",
    "qnOGOd8Tnn/lMSTZLsf6m808Pa1QvHIgZ1g1AA6/BZb+064uXT7n9ffB/Vfi+jw1rXA035THerwy\n",
    "K5AoKuMkflQtpp9k0E4/aalqoBemamhS5njto0ylhzTWn3nue9e0SDsEr+gyXXnNWa/1XV8MwOxK\n",
    "5MnDjwFNU+bprzTIMQ0hNPbj6akxK9bnTStpHQInTW2ePP7YltM++pOPiB5/h7H+zFNixqGB0P7r\n",
    "D3b58jlvuBuGv21xW2rapXDeJ0l7iX8LBlHbqKFjM5VqGTT/GdfIOQ3wbH5kBHnkYyM0L6TbyYD2\n",
    "4Qse7PIt7/mfB8GGHwngEUBCgErn9/gZ/5uFSWjnpEHSYdbmVpNr1pAnNd8oPHmvh0WHR2FsgOYl\n",
    "78ICAD6twvMq3P2YLe/91NN2P4Gf2IJqAQ5e0WZ3qve/89SHCpGoBpoPo7kU5jOjA2tpNxfGlucS\n",
    "O74+YwM0L7vnqeUjCenLUvaBpd9Zet+nn7DWpVve+6kluG9rlQY0eM+Umqmv85YWAyT1RWZULVNf\n",
    "F0E7E9XU6LGZyC75zZBk/YsOiwc/5VEelqqgGzyPsKH4O28EeKXDPr/lvZ86HcCO5XPe8N0t7/nk\n",
    "gYCfBPdtSMOmIKrGekDlUZ5pHHOSqiVDQ6oMDyLXSbSp9b6aI63rLxUOF3xkcKx/HXfdmec+eanM\n",
    "5JK7nCTOipPwXAB/CEt5y3s+eS8s7dOZyqzpNEkYIwMZDcQwpZXrZ/Rb02rVzkFCi6mFEWloZjUL\n",
    "uDEAuRy3xDiPHFz/fMeGABavIMMJ77uaGhoC9Jxqa0Pzb6yIa+qr0yoBIG0elOpCnZtZE0B8GEow\n",
    "DrRrVDOT3CeY5pJEX39Srvsdzcwh5ibCBE1XdflGia20YFoub+dS0wL+s56X+nlMtDLCCxEGZZiW\n",
    "hSRn6vF3ERCnP1znse7Mcy+9C5TUIEQgwrFnQjkLkdmofStdgB3aKNobGj37LO4nzCK6JIiJFFgV\n",
    "FmpdvcYkK2NpKBmieXJ7HcYGmM2pl9ZgkPgoVhriGgnC5y0Olsq10aOC5hej4sCAWq5vGeimpXls\n",
    "xVqGFU7EWgcjAiuFYneHw2vMur5jA0pC5s1PqUZQuxRF1thK+1aiilCD7TxJ2CDEZqI6j81carmo\n",
    "TIZoYAKkKmFtroj35uZVwQpm/1+fsQGhgt0F+EoLkGexVaC+DJiEBABCe9pkaFpnpUhqYu48HwBL\n",
    "B3btFWFGJTfJtczBEOF/lK5QUHIaaqhg1exjQ3zeujNv+ezX7wCwZT3uteVd//3nkFc/1CHNAC1j\n",
    "0zr1i+5NeCAJ7yo0BgNbED2P5TfyRijeBlXS12uwvcIgOc+ZSQaaKaU/Y1amlXzanEY5GMWkAj8Y\n",
    "ZnM9R2vZqwckrUWTnTMwbEIgWogZlbjOvSYVKsii6fRJTXU9/Uuv2gTg2e2AmHqa4HLsfqT0NfvJ\n",
    "z3zvkTzeI2be0taL/gmAFwD4EcD38pz3CB8QNbBqTtT5R85Q4qkOtksdTf2Ipq26Vr00+5znJ8Dz\n",
    "i5qpBKKaEAG/oEzXBHWZ130M80gNNjcgLcpzaryow+zpyPnGFn9KImKo2j1NwUS/5fhvYpo+gyH9\n",
    "N6T0OXv2Zx+SA31YzFvadslzkafTYDjO8/QMmDVj0bXIsebFzEaF85GqYkklz9oQagzHdJYy2q0x\n",
    "wazMC0k6M/Ofs/ipSoMk3oHCFOkzHuzDDc+rpVBAgJInwAWgUHNZlVBBIzN530kySWPtPOMYRwB4\n",
    "MobhVOR8Kgxf8FuO/1l7zmWffzB+PCTmLW296KcA/Cry+EZ3T5Y2ITqVE3srrVTEA9ExgwE0xqnk\n",
    "A/DKAEWTXe1NiqkkUszhHbEjRLCESDzrCHOVmxWIuayhyDzV7rRZ0M/1dTW/mWWY34u1Rs0WJUky\n",
    "hPmsP0Xgng9g2W865gKkdKY993/vcrPLgwKWpW2XnAazm+H+ZqRFsnkPiDNRO7RUF9vRI+huaC0W\n",
    "O60CzhhsjQxFxFGM8yDxWDU9adGIaJU48WQsrgoTtOJe40P2gFptKrKUyrF54G1SPO7mUZ/Ke6fW\n",
    "tMTPh6Ektdlvw2ec6ArQaJB9APAumH3Cbz52l3XC3TJvaetF5wDYDs8p6mXOHTq5Pmiu8HmqWZOp\n",
    "ma2utQBlkWmoi2fCl5IM0VhJWelxDs1fMl6DVWZWjexKPgI+wtQVs12sKBkx1tuKH2Uuk+uf+1lp\n",
    "pIoRjVAtPsS4Kv5fsMBClGGamvkv87wW7h/aFX/WNJtLWy9eAPnDMDslNElQGptenf6LD2KMjypx\n",
    "tR1PC6gBSKb2kNTSaSzoL1Jn1KxZlgVDIcA0NkKQwMEsxmqV4SRK5EfJoLKZxYZF067a09btTCKo\n",
    "0awQ5LY6VGiGoWlgqpYkz0KRaSqfASJ0BsB/1r/wsm/a8z+3bc6ntTXP0llAOqXFRnG8oLA8VdNS\n",
    "Vh3mJczpPL1Ua2eay9SgmAum1NHkkNH0ozQt0XPJuI0mVh6c9yUz6V+8AhptgIo8p7d1eC4+XEtO\n",
    "XaUjt7/Dt5Oq2maB8jyhmXIvjhAKNFNKC1TQ6lb/wste+qDMW9p26cHw6fQwWyGZU0VcxVx2N2cQ\n",
    "PG/0mZswhda6BYvt7juVdupc02qbs0tAo80BZaBIddTrhGA2NEJV0112IjUA07RNLEeUoxTQ9DFe\n",
    "WS/jxWo1hmrgOsBEoAVhNh8jiaYygZB+bbfMW9p2scHzhQAWXFTEbZVAJZMucVkEwd7MU0dINGaE\n",
    "mVMgUn0XyyoEHurjorIdpgTR/cw+mLgZeq1QjYxTKqGs7PcrlkRQL58nykv1+V3vMbVzZ7ucwqpM\n",
    "UzmdoYIKb3QQzEDPsEYpqtDiKL/5uFfuknlwfzs8H9mYUbuZxdwZWwd0oXyIIK7U4whcaMLU9HRz\n",
    "eDOjMZcjup6VgXwgvQcRZAT6aASJ0hAJS186iSZhdo6uR4QjGKv+G3IO+nZ4Pi5Nfao0YDVfa4cE\n",
    "LDxOS8C5p/H9azJvaetF+8HzOVGnmka0doXysNwPHg+VhjUemGiTU1szF3NU2ZlVl9jMW0tCwOc6\n",
    "r2p7hAre5gsi8wmHdj4tQzAacg1ijYY1BDJMKoShJmHL0Cbi/MmaeeZzMDTIUwUt1LihziXuIwlj\n",
    "i+97oX/hZSfsxDwAr0da7A+vm/bVRDWSCFDxtkitXishwyyuUadTgpJwFIaYYwZCyCyb/9Asz7Sb\n",
    "Bd9KYBZPkYYGGQQYmACyZjabiQ2hCCwgXdl5ujMIRUtBk06XQS0jIEvCKPrJCOyBTvsbuj1pDebZ\n",
    "axRVlcfPwazYE6caFLtW6cBpwggWZoleMoeL73wTmu0PM6rVcGEGGRuwXvxuWIYJGDbB81iSx1Uo\n",
    "zQzclWRm8Vw2LJRATUs7nyrWJExvmNK2xcvQC2wgXQfGSTatCA1oNlF9ZeVD0GQKIXmpX390itVs\n",
    "ed+n9wT8WBLLp7FpWP3tObfEcOcjKqHClXlPhDhXfGcSUxupJjEt4QuGZi41YzNvoaD5oykXrbe0\n",
    "6PKv7r2AEJC1JAN9GgVKgImJC6BFKWu6a+U3f+HuYJ7jhxroIAPQJ+qDJmjAJqWegdPUBIfmMw37\n",
    "AnaIitIxAPYMems3sRJZQYQGw47mo8BFUmMk2CYzuz0ALueiI3znc9RfMfaKdjxv6xO/2e2FMPRz\n",
    "1vCnnKoMErChg3Nr7MvKhPtt/cnYjNnlSAnYJD6a9NAYOdamzEqx3qAP8HKgMe81ZS0JDm/pIfqP\n",
    "eWNsgAPmLtE+VyDCDAcJQyIGQqsPEYlqMUXA7CFl9yofQs1y+EoLKbeaj6Rv8067lbo0+anN26Fe\n",
    "yO96r7SogGIA4F/pGOX5yQ0zoAnjRDch1omt+cMafaH8m0E7Ndi9MG9p60UGz6/2PNYgvEqsEpSp\n",
    "LDJTt0JRGud+kAuIWlldTCR1yUlv53BOoAGhPJZjBACRlSdjUyM2rwPi/OLnNOCmkJBpMxVRJmpI\n",
    "MNV10OfHtjAHHB/tJ7FDIpaLa9GupwmdRrFimIVD4mLCDdWflI7y64/elAAcbGnT07pMAaVOW73Z\n",
    "EtehTTWHEJ8DMWEm51eNC5RIAqqJFOK6EI+f5zESyEHI3cRlDMDL+1x0syUagTSeUs1IA0pTkyLa\n",
    "qlFtrdevXPgLl80E4NAODSexPjS7QwVvAzu7s1gSQdFAu74h2L3gfngC8AyP+MmDwxEuKEgwiZnI\n",
    "oFhY7n9Dru2y8MLIebqL85LIEdPVefOIYqqHnshdeGJ9bFeRqWkIQI2nCeR6w0QrwJgxrSsLATA7\n",
    "u+PbLcfvA7MXt8Ba/CkZMQzSWs+YlWkwEX5eT6aPYwM9ln5iAfcnGayP39Ls5TV8OB8BWwBWzUaH\n",
    "nOjkO6kUTSDQQBAUruhtQlTd1ZSF7xDtjHQa47oGcFwyQy6C4socCkggOfU3uS8ok9nRgsF1AnC/\n",
    "Co5PdWTK+U0wPHEnwEJGKWPU6hDkaSot3mihvjeu2y+55wN6U5b6XJ0iHfo++sQOneXGJI3/mAmx\n",
    "AQ3V5fZDn8bqt27yiLixmkma6nnch5pvZes56muvQivFZ3DNaiki1qoE5prYOa2Zm2YlbgDw6pUL\n",
    "3ynEAmB2SnM3aDSdB9vamhHgSxirrznRYyzowvZPgD/JmeDtHnbmz8qCZwxV/8HfDGylKKsxEc3g\n",
    "fN4u3yemMF4nlXsiaPAPlEqH50qvYq7DelDbg2FTM8XhRyqj0tBnepJaAoIGfBnA8SsXvrPFdgD8\n",
    "pmNOgOFFYDhkQhemuvi8I4W2Mneeu233apoIIbn7fgnuB4APTM1R6Qy4LhNxMRGDCfoLPyPMzFPf\n",
    "rxEmgMldQaJdloMIsoYc1VRHpcPLG5FomlvFm+ZbQBj3IYRGpGYeO8FySV/NUnSwDPffgOfDVi58\n",
    "57c6xt1y/N5I6deDaewYMDT/FiBQ6McffemPXk9hXXDtwdj9F7DhgCKxRIaE/VRXJaS3vF0XB1VH\n",
    "qy8oXdPUKKiRRQdA8fbAZs2UpiTINcGqz/W4m9ellDY9r1UNs6H4QEW1FJBAyxA0twnRbq9pwPJW\n",
    "ps/B/d+tXPjOP8NaI+f/iGQ/iuw1IS0WbBiKpnVIl5ZlRKcsVgVrHAvDXOitRemU9l8grz6ptB2o\n",
    "TxATGnvGrRJWu4plIT5jfqOsCINoH48HoYTp80KofqadyqGB3PJn3Y8Hg6g9VZvYHjgfLn7H7Btw\n",
    "fAbApUC6fOXCd6z5dj//4nEJjv8M+M9h8mak4vmtCUxknKgIEkrlXJjOdghqIbCz0PsEjHm/BVLR\n",
    "vI6ovtODtGNm4NbeLh5TbmlGJgCQmGMtnoapSwCQYelr8PwXgN0Oz7fD7K8Af6CthUAJMNkn7gGk\n",
    "ir+1oXaGdY7HKbVNSLUoCn8ANvw/AN8A8KWV3/z5uXeeMe4VewD4r0h4Y6EJetPfIdrUEOQglksz\n",
    "TzTnzG+yd5XghY26AJBs/wXcD2iV4txu0nG6SvicYRFbAXBrksZrWVCcB9uxWJqA4Vb4tB2eP7p8\n",
    "wanf3R3BHg/Dv/iKAYZ/AeAMTNMhzS2gPN+waIzScABoTCATeYznpxqGgGCtCoFBqhEZsLRfeYWs\n",
    "2RNCAl1UOfyeMqT+bUCX0KW50tTaTv8XiSztENfBcBZ8+vTy9pN7yP04HP7F4/aCpVORp9PhdlAD\n",
    "EIqIKw0m8Z0BSmoBNlnNsFifOovwoTJ8IUKgKLT8f7GApW8jT3t1BVTaVUV+mrkgpI662moDFVrR\n",
    "ZjosNLf6xDwBw/AJ5Omk5e0nP7Bbgt36WoPj2UjpqQD+Edw3qa8Ln7xYAKurAqYaIu2C/m5y75+R\n",
    "xwAgT3vA7BmwdCA8HwjgQLg/Dcy0s0o+DDWwJt1nYEVjNEuAMVTKxVrRtC4WBaRELnMWMpDp4bL8\n",
    "jgXc7wTs6bH4OVzv8p2KzrwRJikqym3xSowIrg2A/wbcf3lX2ua3n/DDcH8F3P85gFdhSE9ppRNF\n",
    "sYKIV1clTuR5NF1o66af0fgt1wLpODYm0DoshkJI+u089oRG1SICuoiXp1Y1j1dEyr1ppZgO0zQa\n",
    "aa3YgoicG04Ndyxg9u0mhYKGIoshMVDEdSSIossZKtQ4K2fV2g8tX3DKL67JtNtedxhS+jXk/DJ4\n",
    "3iPMM32Hmhb2oOi7U0ZaAAVSQORgdcOH1hR5zWJRN4IAARY4ZwgKWpYj6AW00EJACIWAvmwcWwMu\n",
    "QwKuTWNb3oda7UJfPlv2b1XNkws7rRHg0pkXQXHsPiYRyVQyXetw7l+DpXfvxLTbT9gHwFkoX4RR\n",
    "uBPhgtwvbsv1oPkM9oOQoMq8ObKLG3tjqhKGWhfPVCV+FLRHLaegJ12P9UIUAizaxmegxiUqhstn\n",
    "uc3lst7yHHcsANxZ8o6y6aNDSJVBXfZCCShmkk45pcKDQJxBzF9cvuDke2eMezLMrgTwzK5NgPPx\n",
    "4RYJmBxRP9xUY9Ms4QnkWhKN/khNJC1EEFilXyxLlzRGAxqrouFRRKXgcK6ZBSsLateR2fVwFFwZ\n",
    "zpBRhvLcerwo0h0LAN8ugEO+SEIz+J2ZRNOmSOmkoEVZHOcRphe/tGP5gpP/oGPcrT+zL+CXwf2Z\n",
    "gUJpWiiB9K9Tbg8ENLMXcafJGivT1io30UcpWOEPG4KzfGbWgMJ8h5TGcXm2PiL30LrKtGkqjbWj\n",
    "Jjkga8lFq8kwVt/p64Pu9q0En+4MBjHumL8ag1II1NZzmjCaqGpC9c14ob0RoH+kY9xtrxswDJdi\n",
    "ys+PhyUImGfY1VxqtkQDYK41KumpgQEOJocJyghCumNimgIhVwZyz0HkQ2XOiJUpUFPzjWRaZLFQ\n",
    "zaSXOQZZv5pOBTkqbFXzElABC9M1hgL9g8piOkmAcN6cXJtnNBasmgi7HzZ8sqck3oBpPLKLIwfZ\n",
    "vcNANsydEHyetVDfxnP1Nz9T4k/in6PBNzXfM69+Z0oQL7PGFGZEGLsF4+u5C/nqAQbwleQlkSLm\n",
    "VTW1s25MkjgTH99K8PzVDmzk3BjVDXX+ufkeGOLteZGzEwRaNPZPlrefeM9swjM6BpBZ08xEa72N\n",
    "95//n0HxnFkkRgfRhSGGHq6vFRMGgEDTyHk7BURoKEya0spiwsO6uIAs5aS3+QKJkt402QYMw18m\n",
    "pGEZebyvI1j7o03UESv3Gth1JgtYCH/p13b0uO11rwT8BYHq4vz6QLx1wO46V0BsIZzC/W4blyDk\n",
    "WKcgOYIE9enh66oQae1xlFdakVFKM01vxT1TLeUQnHhDnJoLzt7ckJpJ9b2ct1igr9uhV9+Ulj/4\n",
    "plUAV3WZFd0xoxl+QJx6bsejoCmV8ngwA/J0PfpxcixwsakndHBOhaTeN8ykCJKO+JvmGmJWvfdN\n",
    "ASzQGNglJyp9Ax2KT5s34ur9wxx7M6lMKJNJfL7AAxJGwFr2SunY3+9SgDFVnq5oDEqifSqp9WZE\n",
    "f3GMNlhU2oSRAJCG/9stIqVntUR/tfe6NzsyN7UgSUiuplkbc3ZiHnpBMjTwQIZGwL5mSNMj2MUi\n",
    "yBECADQBoECr1lHAIheZm5nk/8NXo6BP0s1zq3bMM15lfZc05qXhisZVgeBRVYDEb/Q3JFqIaCOU\n",
    "nlMWc1fHvDwd1CVdqRV8IKKxCGAZpOaWodCM/NyUdRqUZMuwmOEQPPVR4kuj3ua6T6DXPIKfeHPS\n",
    "fI66lkGEkMdHdo95KGKPgkla702/+31I6Y8a89yvQ/ny22abI7OAtkDd/xYpKzKbN1KmGh8s3vDj\n",
    "t/3MZjj2bcGzEE/TV3QJaq7Y+kaidGhUND0YMglqI9Pq85lJ3CYok9pIN9Jp1Ow3nzPiSgF19OFz\n",
    "v6sKMBc0bUqKBAM/j2sut8N23B/MWz73LRMs/Z82GdC+uUoXK46XQEXjriTZhsiG74TgDmrghLGY\n",
    "iTlSLbKSWxzHpnV8yEmkn0SMPKAAhjnhVCMDLddniFwi56wCM6kJFqao1g5KL2o5BG3Wv8dVRCIc\n",
    "JJUCk1mTMUfskygmM5hXz/5YOFCF13yIMIlomhgtDLwBfYpu/XJ0oUfO+4VvzD5rBec9vQSuSRav\n",
    "64k+FN6mmqbIO3b3Q2icSnI8q65bwoa2A6jXHn6mQhGJ+TrXKAham5LpUuiS3AXMiMCwMVefs8x1\n",
    "Jwy/z0cL5i2f+5ZPw+y64oemxkQ6UWk/6Fr4qDnKxMhs5J0/s2QN+ub2m3NrVVmddWR/rIUF/FsZ\n",
    "qyCmi9vE5ykQYtigoQQ1idLO8yaGRPO38KKh4PkboCZBx/W7bzvUazNTyaGC1hIT77Ety4EfNKgD\n",
    "3M9sNTn1bWhMUCIFKqLHFScf/hPw7utf0AhkqaG6CHB5L5F0EltbCCaZk+uZ5N4hsZAsiAlheJ0w\n",
    "vGNcbhkTNWls7VBfpfGfZlE81xcEKHOsjxk9NxrPn8tFcFK6CrMUY8e85fPe+r/g+erS4azZjdSY\n",
    "GYvNTYIiEW3N7xEYwNF9U4sGoWqidX+CnsuHzlMzR3ywrmXQRYgg73KhZgnxBvF9LGdpBkY1Xv3R\n",
    "HM1Sc8ISiL/TZ1P0Teuim0cIqjQQLzfisRHu77At13Tgode8Ms7s0lGdJnJRs4ckoQn7eWPV0m5Q\n",
    "CFzMjsRt6j+AhiTVVDIpQPMSx/U2FAaa/9yuiWwImhVQwKM51KCWmN7QGAI69BmmoAFmbkPWQlMM\n",
    "VFAmrqrDHNhuW665eUbEnZm3fN5b/xjwDwBoTOs2XpAp9ccnRCcyH2JuuvoAU/yo9egqJJAbSGbS\n",
    "3z1Ybr6QhKT0x1rElFVaYlhIcD2188NyaIoqt/NCKyhg3uI30on5x8izyrwmAqvxnPp0BuYqjO4f\n",
    "AXzrnE9rMg8Als8/cSty/p0OXWljT7xPE+hfj8jPw8ije+kOmaRARcERTIgukqdxnprnTtO8wvCM\n",
    "9ooMa2YptGvs51V/C/Smscs00fzJ/+daT589jwMpH9pOou4jwikTkDQBns+2Lde83ZZW5lu2ds28\n",
    "uuB/A/dLupvoj/rEWCQX1kIOs/JqqI55Qu8ABmqeDU0zgXaPJJoffnBViGZFswiK6HcDHBFooEl4\n",
    "aCzavES2fI400+5AvqjCQBJInMqmJK4hsk2VftpAO8z83jRmpOE0W1p53675sxvmLZ9/4gTPbwL8\n",
    "XHBbTZiuhO6Vv2ivtepeb5jl1VA6KImguRCkN1Vgopn6PBccawxhvEn/BbTYLszXDHIHUhbkGmGD\n",
    "mPqowtc5dN84n4OVDsfOn2lBNWpyMyTNzwvKzAA+jsWm59mWa3b53bkcu33T7fIFp9wP4N1bTv/Y\n",
    "J2DpvyCPz+/MpCR1Tb4lK76MHrLIGBbXtIQ0mlkmTJ/7A/VD04yJg5hQdnsRQDCvyevDp6HPuJDA\n",
    "4wNVe8UsEq3SpLKqDjRzP9hsF2zVWAIwmzFXqxXT9BcwuxzAdjtsxy0PxrSHxDyO5e0nX7vl9N89\n",
    "BEgvhftbAX8VgKdQIt3Lq33L/lMBDRHIayAKRCGSqkImAD3TFDoHEwW0kDGT9L2oBho+gWHYEeBh\n",
    "sWi9MBQSZUDsfvW2VgIJIuMQskWLcRXR8hmAZqYZzxZmOdwfwDR9F8C9SOkGW1r+y4fKMB0P+QXh\n",
    "y9tPygCuqD/YctrHnuh5/DEz7GlW3nhbHrq+PTaXLVaFFvmvu8l0E2UMYRglUomrCDE6r6qTV+bT\n",
    "XBWze4U97/Lffvhk+fsxHvGr+ZcvOPl+AF992Be6l6B+WDTzq8XOMCVjCyOUOdos1OUE0cy4zv0P\n",
    "eOwGbT5GQ512Za/2AAAGk0lEQVR2OO4ZGKH/UShOfxdZixpzAQ3QRIqL6aq5v/2HNdb96fwrr34F\n",
    "3C/baRNI53/q79i5RGbl5gcJRgABQESh4HW3I093xHxd2kv8FNegIQGArg2ReV7W/SLQnmjuT7cX\n",
    "XrXjsaVeP9b/62imsTl7LbQqDGeQ2qW9rOQkycDYl+C9CdXCMXAggAM7eE4NjS1WRM4AWDW3es9x\n",
    "td2b3+MwocVzPSredz3JCGyE2eQGQaBVxiMGm2bmEQ2SR6uhN3PK7mOgbhARwKNF4C6LgYY0x1W5\n",
    "t68RlqDX1s7k13lih5CvuxVbf+Ypk9SfsUJBItGE6WZ65hKZ+1ToD8yakrw3icyBRnNT6lNs9JXU\n",
    "NveyvUtrl5C5w+dKqLDOYwMAC9NT1jSA2580Oa1EjJTS2ALmlErHlTID9Th7JSN88AZgmDXRF5Jq\n",
    "Wajrz0G/b0IFjvFdtGesv+atv8/TLEPEc9REOYd5zAgnagDNrjNDM5nRGzk086iM7zrMpMkpdqJK\n",
    "vbKbU2NRQ7z4lOerSd0A1dsYs6lMYgaCCFELrgos6F/4uZpLVhk08cuhQMhQvy2lfqbfIMJMUNsj\n",
    "cTeGRY4LDW0bFhm32NTuP6/9rcNYf+YBaBCdYEUaf0ikaI+QGhlfREPma8CulXXdr85qNFAB0GpD\n",
    "lgGOohK+imH4VeR8oB161b4YV/fGlI9DnkohNFJh6NdfKgQ/AGZTW/uGRZ/MjRqcNW2wVEQs59q+\n",
    "gIoyB9m0QfOmYCVJrKjZGGvmcKgvIcAEGFZhdrQdcuU1XKkdevV3AVzuf/aiQ5HzRUjp+NB83XK8\n",
    "QWNjMiwVrLXyDNC1FnK/OZFp9t7XAdJdVf+eo1c1qTw/kGdq8yxq/S8N71fGdUs+bMf3AbwdZndj\n",
    "sUkajAQo/UCECu5TfZVHe/goflauRlGTCBGI/dkKSHgNzaXWzroYTyr9+jIAfU2w++/tbtl22I6/\n",
    "wTRd0Xp5INmetCFmcwN8nt/XvZ4wsiJSzQYEkqOdQ7MaxUuaSumvpK/TnpfwaeIvQ+MBwO+1Q/7k\n",
    "9gdfut8Qr9HXtdInr/PYAObZtyNmA1qKS7c/aexGLQlGQNJqEo8FcrWdi6xw6ZWEZEyMgOWH/fqX\n",
    "7P3gS7cf7RLpIWAJbSHrNzbCbH4Znr8evfpEfFrCGdQMQpjkLTaMzIYyCYIy69BOLrO+Z5MhhrvB\n",
    "84t3u+xrj0wAjgqB0op/ue/du7v+sRjrzjx7zmUO2MVdjyT7Q7gnnuYsDe0ryRTSR2c0FKrLXRgC\n",
    "VOSq/nGU6reWobJv9+uO/qFdLtz9l5Hzc7rNpYCGLd94lEn1oGNj4jzDeRiG73WxlrYR6LtTmDCm\n",
    "BmkQP++P0ewJMygEL9oyr2kwCozZMwH/rK8ccZBO6StHJP/8Ue9GSmfvFEMyP+r5S3b4n/75Y0ix\n",
    "Ncf6Z1Pr8D9/5RkYxw/0mxGtT5kB0jAk8eFik/SPiG8EehPLlxPoFuac+1ogEwEAanvgfUjpapjd\n",
    "gGl6KoAjYPbj8ebZiCnRwg/D6ba0csFjRqxdjI1j3s3HLmB2NWCHRygQucO6rD53KIyaSOiIJgKF\n",
    "As3EMl/qKHOPYvKY01TgpALSNRMxeSCC1HKnfwzgWFtaXne4uUHpMcCed/mI7McC/tnQgvCD9f8B\n",
    "asTfjWML4COrwmBZ0l1R2/NWr1NNBXrww7+jIq/t+DO/GUjX/wbu/3IjGAdsIPMAwA6+/F64vwZm\n",
    "H44QAOjLQpF+8p7w1AYWUMlUoCWcu9hLEWZifNfQbAAXVvA5h7THq8bBrgKwZEesfPPRpcpDHxtm\n",
    "NufDb3z5v4bZmQD+cSMS0IUCWkvr+lG8wfcI0tFMJzvRtD+FrRgRuM+Tzt7/EOWaZZidBc//3pZW\n",
    "NrRF7XHDPADwm47ZBPeTYHYGzH5izdoc2x9iP1xq7RDUIiagqc3Zm0YpwGGCW30cINoOFZLvIaWP\n",
    "w/Ov25bl+XtlNmQ8rpjH4Te+fADwZri/A8DhAPbYSdvU5AHS1ETtmyQmNOkFTTMhGNCFGLw2Kh7+\n",
    "ZQC/hewftSNW7lp7xRszHpfM0+E3vOSJsHQ4zI6C+4uR8xEw7BMJaIYE829GjpeX1oCeGsgsjVbY\n",
    "yeSUvg/3GwFcC7NrMY7XArjJjljx3Sxxw8bjnnnz4dcdnWA4GJZ+GsD+yHlfmG0GsBmeNwPYF47N\n",
    "SGkzxtXN1UfdDUv3IOe7Ybgb7vfUdNY9MLsbwF8j588DuMkO/9PV3d3/8TT+P2x6AX5Riia7AAAA\n",
    "AElFTkSuQmCC\" style=\"display:block;margin:auto;width:10%\"/>\n",
    "                        <br>\n",
    "                        <div style=\"text-align:center; font-size:200%;\">\n",
    "                        <b>Conditionals and recursion</b>\n",
    "                        </div>\n",
    "                        <br/>\n",
    "                        <div style=\"text-align:center;\">Dr. Kyrill Schmid</div>\n",
    "                        <br/>\n",
    "                        "
   ]
  },
  {
   "cell_type": "markdown",
   "id": "a9630e46",
   "metadata": {},
   "source": [
    "# Chapter 5  Conditionals and recursion\n",
    "\n",
    "- The core focus in this chapter will be on the `if` statement.\n",
    "\n",
    "- This program control structure allows for conditional execution of code depending on the state of the program.\n",
    "\n",
    "- Before diving in, we'll introduce two important operators: floor division and modulus.\n",
    "\n",
    "\n"
   ]
  },
  {
   "cell_type": "markdown",
   "id": "4765b0f2",
   "metadata": {},
   "source": [
    "## Introduction to Floor Division and Modulus Operators\n",
    "\n",
    "- Python has special operators to perform different types of operations.\n",
    "\n",
    "- Two such operators are:\n",
    "\n",
    "  - Floor Division (`//`): This operator returns the largest possible integer after division.\n",
    "\n",
    "  - Modulus (`%`): This operator returns the remainder of the division.\n",
    "\n",
    "\n"
   ]
  },
  {
   "cell_type": "code",
   "execution_count": null,
   "id": "d0ed640a",
   "metadata": {},
   "outputs": [],
   "source": [
    "# Example of Floor Division\n",
    "print(\"Floor Division Example: \")\n",
    "print(10 // 3) # Will output 3"
   ]
  },
  {
   "cell_type": "code",
   "execution_count": null,
   "id": "3b793cd9",
   "metadata": {},
   "outputs": [],
   "source": [
    "# Example of Modulus\n",
    "print(\"Modulus Operator Example: \")\n",
    "print(10 % 3)  # Will output 1"
   ]
  },
  {
   "cell_type": "markdown",
   "id": "ca3ec4b0",
   "metadata": {},
   "source": [
    "## 5.1  Floor Division and Modulus\n",
    "\n",
    "- The floor division operator, '//', divides two numbers and rounds down to an integer.\n",
    "\n",
    "- Following example illustrates how you can calculate integer hours from movie run time in minutes using floor division. \n",
    "\n",
    "\n"
   ]
  },
  {
   "cell_type": "code",
   "execution_count": null,
   "id": "f84e4c82",
   "metadata": {},
   "outputs": [],
   "source": [
    "# Traditional division returns a floating-point number\n",
    "minutes = 105\n",
    "minutes / 60"
   ]
  },
  {
   "cell_type": "markdown",
   "id": "b18df621",
   "metadata": {},
   "source": [
    "- For scenarios where we need results in integer form, like hours from minutes, we can use floor division. It returns the integer by rounding down.\n",
    "\n",
    "\n"
   ]
  },
  {
   "cell_type": "code",
   "execution_count": null,
   "id": "7c78b0d9",
   "metadata": {},
   "outputs": [],
   "source": [
    "# Floor division returns the integer number of hours, rounding down\n",
    "minutes = 105\n",
    "hours = minutes // 60\n",
    "hours"
   ]
  },
  {
   "cell_type": "markdown",
   "id": "7508ef69",
   "metadata": {},
   "source": [
    "- To get the remaining minutes after calculating hours, you can subtract the hours in minutes from total minutes.\n",
    "\n",
    "- An alternative is to use the modulus operator which returns the remainder after division. \n",
    "\n",
    "\n"
   ]
  },
  {
   "cell_type": "code",
   "execution_count": null,
   "id": "10a54e69",
   "metadata": {},
   "outputs": [],
   "source": [
    "# Getting the remainder with subtraction\n",
    "remainder = minutes - hours * 60\n",
    "remainder"
   ]
  },
  {
   "cell_type": "code",
   "execution_count": null,
   "id": "33af8b9b",
   "metadata": {},
   "outputs": [],
   "source": [
    "# Getting the remainder using modulus operator\n",
    "remainder = minutes % 60\n",
    "remainder"
   ]
  },
  {
   "cell_type": "markdown",
   "id": "7e49f1bc",
   "metadata": {},
   "source": [
    "- The modulus operator is more handy than it seems. For example, it can be used to check if a number is divisible by another number or to extract the right-most digit(s) from a number.\n",
    "\n",
    "- However, take note that in Python 2, the standard division operator performs floor division if both operands are integers and floating-point division if any operand is a float.\n"
   ]
  },
  {
   "cell_type": "markdown",
   "id": "7d70c0c5",
   "metadata": {},
   "source": [
    "## 5.2 Boolean Expressions\n",
    "\n",
    "- Boolean expressions are expressions that can be either true or false.\n",
    "\n",
    "- In Python, we use relational operators to create boolean expressions.\n",
    "\n",
    "- Examples of relational operators are `==`, `!=`, `>`, `<`, `>=`, and `<=`.\n",
    "\n",
    "- `==` is for comparison, while `=` is for assignment.\n",
    "\n",
    "\n"
   ]
  },
  {
   "cell_type": "code",
   "execution_count": null,
   "id": "d35f8daf",
   "metadata": {},
   "outputs": [],
   "source": [
    "# Comparing two operands using ==\n",
    "print(5 == 5)  # This will return True\n",
    "print(5 == 6)  # This will return False"
   ]
  },
  {
   "cell_type": "markdown",
   "id": "bf9faa83",
   "metadata": {},
   "source": [
    "## Data Types in Boolean Expressions\n",
    "\n",
    "- `True` and `False` are special values belonging to the `bool` type in Python.\n",
    "\n",
    "- It's crucial to remember that they are not strings.\n",
    "\n",
    "\n"
   ]
  },
  {
   "cell_type": "code",
   "execution_count": null,
   "id": "4046db27",
   "metadata": {},
   "outputs": [],
   "source": [
    "# Checking the type of True and False\n",
    "print(type(True))   # This will return <class 'bool'>\n",
    "print(type(False))  # This will return <class 'bool'>"
   ]
  },
  {
   "cell_type": "markdown",
   "id": "d2de487d",
   "metadata": {},
   "source": [
    "## Relational Operators in Python\n",
    "\n",
    "- Other examples of relational operators include `!=` for inequality, `>` for greater than, `<` for less than, `>=` for greater than or equal to, and `<=` for less than or equal to.\n",
    "\n",
    "- Unlike mathematical symbols, Python uses unique symbols for its relational operators. For instance, '=' is for assignment, while '==' is for equality checking.\n",
    "\n",
    "- Note that Python syntax does not support the use of `=<` or `=>`.\n",
    "\n",
    "\n"
   ]
  },
  {
   "cell_type": "code",
   "execution_count": null,
   "id": "ea5cb712",
   "metadata": {},
   "outputs": [],
   "source": [
    "# Demonstrating the use of other relational operators\n",
    "x = 10\n",
    "y = 20\n",
    "print(x != y)  # This will return True, because x is not equal to y\n",
    "print(x > y)   # This will return False, because x is not greater than y\n",
    "print(x < y)   # This will return True, because x is less than y\n",
    "print(x >= y)  # This will return False, because x is not greater than or equal to y\n",
    "print(x <= y)  # This will return True, because x is less than or equal to y"
   ]
  },
  {
   "cell_type": "markdown",
   "id": "812b0e78",
   "metadata": {},
   "source": [
    "## 5.3  Logical operators\n",
    "\n",
    "- Python has three logical operators: `and`, `or`, and `not`. \n",
    "\n",
    "- The operator `and` results in `True` only if both the statements are true. For example, `x > 0 and x < 10`.\n",
    "\n",
    "- The `or` operator results in `True` if either or both of the conditions is true, e.g. `n%2 == 0 or n%3 == 0`.\n",
    "\n",
    "- The `not` operator negates a boolean expression. For example `not (x > y)` is true if `x > y` is false.\n",
    "\n",
    "- In Python, any nonzero number is interpreted as `True`. But there are caveats with this flexibility so it's advised to use it cautiously.\n",
    "\n",
    "\n"
   ]
  },
  {
   "cell_type": "code",
   "execution_count": null,
   "id": "8a7239c9",
   "metadata": {},
   "outputs": [],
   "source": [
    "42 and True"
   ]
  },
  {
   "cell_type": "markdown",
   "id": "662ac346",
   "metadata": {},
   "source": [
    "## 5.4 Conditional Execution\n",
    "\n",
    "- Writing useful programs encompasses our ability to check conditions and alter program behavior accordingly. This is achieved through conditional statements.\n",
    "\n",
    "- In Python, the simplest form of a conditional statement is the `if` statement.\n",
    "\n",
    "- The `if` statement evaluates a boolean expression (called a condition), if the condition returns `True`, the indented code block under the `if` statement is executed.\n",
    "\n",
    "- Conditional statements similar to function definitions consist of a header followed by an indented body. \n",
    "\n",
    "\n"
   ]
  },
  {
   "cell_type": "markdown",
   "id": "c8e6caf6",
   "metadata": {},
   "source": [
    "## Understanding `if` Statement\n",
    "\n",
    "- An if statement can have multiple lines of code in its body, however, at least one line is necessary.\n",
    "\n",
    "- There are instances where we may need a placeholder for our `if` statement body. This placeholder may be to reserve space for future code that hasn't been written. In such cases, the `pass` statement is utilized which does nothing.\n",
    "\n",
    "\n"
   ]
  },
  {
   "cell_type": "code",
   "execution_count": null,
   "id": "87e7c8dd",
   "metadata": {},
   "outputs": [],
   "source": [
    "# Example of if statement\n",
    "x = 10\n",
    "if x > 0:\n",
    "    print('x is positive')"
   ]
  },
  {
   "cell_type": "code",
   "execution_count": null,
   "id": "30466dd8",
   "metadata": {},
   "outputs": [],
   "source": [
    "# Example of if statement with pass keyword\n",
    "x = -10\n",
    "if x < 0:\n",
    "    pass          # TODO: need to handle negative values!"
   ]
  },
  {
   "cell_type": "markdown",
   "id": "f280fba6",
   "metadata": {},
   "source": [
    "## 5.5 Alternative execution\n",
    "\n",
    "- In Python, a variation of `if` statement is \"alternative execution\", where two outcomes are possible and the condition determines which one is executed.\n",
    "\n",
    "- This form of flow control follows the following syntax i.e., \n",
    "\n",
    "- An `else` clause is added to the `if` statement, and the block of code under `else` gets executed when the condition in the `if` statement is not satisfied.\n",
    "\n",
    "- This leads to two branches in the flow of execution, as exactly one of the alternatives (or outcomes) will execute based on the condition.\n",
    "\n",
    "\n"
   ]
  },
  {
   "cell_type": "code",
   "execution_count": null,
   "id": "e9549ac9",
   "metadata": {},
   "outputs": [],
   "source": [
    "# Example of alternative execution\n",
    "x = 7\n",
    "if x % 2 == 0:\n",
    "    print('x is even')\n",
    "else:\n",
    "    print('x is odd')\n",
    "\n",
    "# Alternative will execute based on whether x is even or odd. If x is an even number, 'x is even' is printed. Else, 'x is odd' is printed. \n",
    "# The output will be 'x is odd'."
   ]
  },
  {
   "cell_type": "markdown",
   "id": "7e8a22a1",
   "metadata": {},
   "source": [
    "## 5.6 Chained Conditionals\n",
    "\n",
    "- Chained conditionals come into play when there are more than two possibilities,\n",
    "\n",
    "  hence needing more than two branches for decision-making.\n",
    "\n",
    "- In chained conditionals, \"elif\" is used as an abbreviation of \"else if\".\n",
    "\n",
    "- Only one branch in the chain will run, even though there are no limits on the number of \"elif\" statements.\n",
    "\n",
    "- If an \"else\" clause exists, it must be at the end, but it's not mandatory to have one.\n",
    "\n",
    "\n"
   ]
  },
  {
   "cell_type": "code",
   "execution_count": null,
   "id": "36c2fda9",
   "metadata": {},
   "outputs": [],
   "source": [
    "if x < y:\n",
    "    print('x is less than y')\n",
    "elif x > y:\n",
    "    print('x is greater than y')\n",
    "else:\n",
    "    print('x and y are equal')"
   ]
  },
  {
   "cell_type": "markdown",
   "id": "71d34501",
   "metadata": {},
   "source": [
    "- Each condition in the chain is checked in order. If the first condition proves false,\n",
    "\n",
    "  the next one is checked and this pattern is followed until a true condition is found.\n",
    "\n",
    "- Once a true condition is discovered, the corresponding branch runs and the\n",
    "\n",
    "  statement ends. If there is more than one true condition, only the first one executes.\n",
    "\n",
    "\n"
   ]
  },
  {
   "cell_type": "code",
   "execution_count": null,
   "id": "da019496",
   "metadata": {},
   "outputs": [],
   "source": [
    "if choice == 'a':\n",
    "    draw_a()\n",
    "elif choice == 'b':\n",
    "    draw_b()\n",
    "elif choice == 'c':\n",
    "    draw_c()"
   ]
  },
  {
   "cell_type": "markdown",
   "id": "3125056e",
   "metadata": {},
   "source": [
    "## 5.7 Nested Conditionals\n",
    "\n",
    "- Conditionals can be nested within another.\n",
    "\n",
    "- For example, we can write an if-else statement inside another if-else statement.\n",
    "\n",
    "- The outer conditional could have many branches and each branch may contain its own `if` statement.\n",
    "\n",
    "- Every branch could be a simple or conditional statement.\n",
    "\n",
    "- Though the indentation makes the structure apparent, nested conditionals often become hard to read.\n",
    "\n",
    "- It is suggested to avoid them when it's not necessary.\n",
    "\n",
    "- Use of logical operators like \"and\", \"or\" etc. can help simplify the nested conditional statements.\n",
    "\n",
    "- Python also provides a concise way to express a condition with a chain of conditions for a single variable.\n",
    "\n",
    "\n"
   ]
  },
  {
   "cell_type": "code",
   "execution_count": null,
   "id": "f0c3e88c",
   "metadata": {},
   "outputs": [],
   "source": [
    "# Example of a nested conditional\n",
    "x,y = 10, 20\n",
    "if x == y:\n",
    "    print('x and y are equal')\n",
    "else:\n",
    "    if x < y:\n",
    "        print('x is less than y')\n",
    "    else:\n",
    "        print('x is greater than y')"
   ]
  },
  {
   "cell_type": "markdown",
   "id": "4a6c8663",
   "metadata": {},
   "source": [
    "- For instance, we can rewrite a nested `if` condition to test the range of a number using the `and` operator. \n",
    "\n",
    "- This simplifies the code for better readability.\n",
    "\n",
    "\n"
   ]
  },
  {
   "cell_type": "code",
   "execution_count": null,
   "id": "4834b333",
   "metadata": {},
   "outputs": [],
   "source": [
    "# Nested 'if' statement\n",
    "x = 5\n",
    "if 0 < x:\n",
    "    if x < 10:\n",
    "        print('x is a positive single-digit number.')\n",
    "\n",
    "# Using 'and' operator to simplify the nested 'if' statement\n",
    "x = 5\n",
    "if 0 < x and x < 10:\n",
    "    print('x is a positive single-digit number.')"
   ]
  },
  {
   "cell_type": "markdown",
   "id": "46cfe19e",
   "metadata": {},
   "source": [
    "- Python provides a more concise way to write chained conditions involving the same variable.\n",
    "\n",
    "- This is especially useful when checking for a number within a specific range.\n",
    "\n",
    "\n"
   ]
  },
  {
   "cell_type": "code",
   "execution_count": null,
   "id": "fd4dab54",
   "metadata": {},
   "outputs": [],
   "source": [
    "# More concise way to express the condition\n",
    "x = 5\n",
    "if 0 < x < 10:\n",
    "    print('x is a positive single-digit number.')"
   ]
  },
  {
   "cell_type": "markdown",
   "id": "27a35705",
   "metadata": {},
   "source": [
    "## 5.8 Recursion\n",
    "\n",
    "- Functions can call other functions or even themselves. This is known as recursion.\n",
    "\n",
    "- A recursive function can be very powerful, allowing for complex operations to be written succinctly.\n",
    "\n",
    "\n"
   ]
  },
  {
   "cell_type": "markdown",
   "id": "3d50156b",
   "metadata": {},
   "source": [
    "- Let's consider a function named 'countdown'. This function takes an input `n`, and if `n` is less than or equal to 0, it prints 'Blastoff!'.\n",
    "\n",
    "- If `n` is greater than 0, it first prints `n` and then calls itself with an argument `n-1`.\n",
    "\n",
    "- The function continues to call itself, decrementing `n` by 1 each time, until `n` is less than or equal to 0. \n",
    "\n",
    "\n"
   ]
  },
  {
   "cell_type": "code",
   "execution_count": null,
   "id": "91803b31",
   "metadata": {},
   "outputs": [],
   "source": [
    "def countdown(n):\n",
    "    if n <= 0:\n",
    "        print('Blastoff!')\n",
    "    else:\n",
    "        print(n)\n",
    "        countdown(n-1)"
   ]
  },
  {
   "cell_type": "markdown",
   "id": "d6a6e5a8",
   "metadata": {},
   "source": [
    "- If we call the countdown function with an argument of 3, it will print the values 3, 2, 1, followed by 'Blastoff!'.\n",
    "\n",
    "- The recursive calls return in the reverse order they were called, resuming control back to the main program.\n",
    "\n",
    "\n"
   ]
  },
  {
   "cell_type": "code",
   "execution_count": null,
   "id": "133afa76",
   "metadata": {},
   "outputs": [],
   "source": [
    "countdown(3)"
   ]
  },
  {
   "cell_type": "markdown",
   "id": "52f59cee",
   "metadata": {},
   "source": [
    "- Recursion is a function calling itself to solve a smaller instance of the problem.\n",
    "\n",
    "- Another example of recursion is the function 'print_n', which prints a given string `s` `n` times. \n",
    "\n",
    "- This function checks if `n` is less than or equal to 0. If it is, the function ends. If `n` is greater than 0, it prints the string `s` and calls itself with `n-1`.\n",
    "\n",
    "\n"
   ]
  },
  {
   "cell_type": "code",
   "execution_count": null,
   "id": "7893813c",
   "metadata": {},
   "outputs": [],
   "source": [
    "def print_n(s, n):\n",
    "    if n <= 0:\n",
    "        return\n",
    "    print(s)\n",
    "    print_n(s, n-1)"
   ]
  },
  {
   "cell_type": "markdown",
   "id": "607938fd",
   "metadata": {},
   "source": [
    "- This process allows the function to print the string `s` `n` times.\n",
    "\n",
    "- While a `for` loop might be simpler for this specific example, recursion can be invaluable for more complex tasks. It's a powerful tool in your programming arsenal.\n",
    "\n",
    "- Recursion can solve problems that are difficult to solve using iteration. The key to understanding recursion is to realize that a function can be in multiple stages of execution at the same time.\n"
   ]
  },
  {
   "cell_type": "markdown",
   "id": "f7f6ede3",
   "metadata": {},
   "source": [
    "## Stack Diagrams for Recursive Functions\n",
    "\n",
    "- Stack diagrams can help interpret the state of a program during a function call, including recursive functions.\n",
    "\n",
    "- Every time a function gets called, Python creates a frame to contain the function’s local variables and parameters.\n",
    "\n",
    "- For a recursive function, there might be more than one frame on the stack at the same time. \n",
    "\n",
    "\n"
   ]
  },
  {
   "cell_type": "markdown",
   "id": "a4a0b860",
   "metadata": {},
   "source": [
    "## Stack Diagrams for Recursive Functions (continued)\n",
    "\n",
    "- Stack diagrams visually represent recursion: the top of the stack is the frame for the `__main__` function, while the other frames represent recursive calls.\n",
    "\n",
    "- Each recursive call frame has its own local variables and parameters.\n",
    "\n",
    "- The bottom of the stack, where recursion ends, is called the \"base case\". \n",
    "\n",
    "\n"
   ]
  },
  {
   "cell_type": "markdown",
   "id": "c2ac655c",
   "metadata": {},
   "source": [
    "## Exercise: Stack Diagrams for Recursive Functions\n",
    "\n",
    "- Draw a stack diagram for a function `print_n` called with `s = 'Hello'` and `n=2`.\n",
    "\n",
    "- Write a function `do_n` that takes a function object and a number `n` as arguments, and that calls the given function `n` times.\n",
    "\n",
    "\n"
   ]
  },
  {
   "cell_type": "markdown",
   "id": "eda09637",
   "metadata": {},
   "source": [
    "Let's start with the definition of the function `print_n` which prints a string 's' n number of times.\n",
    "\n",
    "\n"
   ]
  },
  {
   "cell_type": "code",
   "execution_count": null,
   "id": "46740e81",
   "metadata": {},
   "outputs": [],
   "source": [
    "def print_n(s, n):\n",
    "    if n <= 0:\n",
    "        return\n",
    "    print(s)\n",
    "    print_n(s, n-1)\n",
    "\n",
    "print_n('Hello', 2)"
   ]
  },
  {
   "cell_type": "code",
   "execution_count": null,
   "id": "51750602",
   "metadata": {},
   "outputs": [],
   "source": [
    "# Now let's proceed to create the function `do_n` which takes a function and a number 'n' as arguments and calls the given function 'n' times.\n",
    "\n",
    "def do_n(func, n):\n",
    "    if n <= 0:\n",
    "        return\n",
    "    func()\n",
    "    do_n(func, n-1)\n",
    "\n",
    "# Now we can test our function\n",
    "do_n(lambda: print('Repeated Function Call'), 3)"
   ]
  },
  {
   "cell_type": "markdown",
   "id": "59ab2c53",
   "metadata": {},
   "source": [
    "## 5.10 Infinite recursion\n",
    "\n",
    "- What is infinite recursion?\n",
    "\n",
    "  - If a recursion never reaches a base case, it goes on making recursive calls infinitely - this is infinite recursion.\n",
    "\n",
    "  - It's generally an unfavorable scenario when programming.\n",
    "\n",
    "- There's usually a limit to the recursion depth; when surpassed, Python reports an error message. \n",
    "\n",
    "\n"
   ]
  },
  {
   "cell_type": "markdown",
   "id": "5a5a32a0",
   "metadata": {},
   "source": [
    "- Here's an example of a program with an infinite recursion:\n",
    "\n",
    "\n"
   ]
  },
  {
   "cell_type": "code",
   "execution_count": null,
   "id": "c18f87b2",
   "metadata": {},
   "outputs": [],
   "source": [
    "def recurse():\n",
    "    recurse()"
   ]
  },
  {
   "cell_type": "markdown",
   "id": "e6fa252d",
   "metadata": {},
   "source": [
    "- When the maximum recursion depth is reached, Python reports an error message like this:\n",
    "\n",
    "\n"
   ]
  },
  {
   "cell_type": "code",
   "execution_count": null,
   "id": "d9278724",
   "metadata": {},
   "outputs": [],
   "source": [
    "'''\n",
    "  File \"<stdin>\", line 2, in recurse\n",
    "  File \"<stdin>\", line 2, in recurse\n",
    "  File \"<stdin>\", line 2, in recurse\n",
    "                  .   \n",
    "                  .\n",
    "                  .\n",
    "  File \"<stdin>\", line 2, in recurse\n",
    "RuntimeError: Maximum recursion depth exceeded\n",
    "'''"
   ]
  },
  {
   "cell_type": "markdown",
   "id": "203c7ddc",
   "metadata": {},
   "source": [
    "- When an error occurs due to infinite recursion, there are 1000 recurse frames on the stack.\n",
    "\n",
    "- If you encounter an infinite recursion by accident:\n",
    "\n",
    "  - Review your function to ensure that there is a base case that does not make a recursion.\n",
    "\n",
    "  - Ensure you are guaranteed to reach the base case.\n"
   ]
  },
  {
   "cell_type": "markdown",
   "id": "4919a6c7",
   "metadata": {},
   "source": [
    "## 5.11 Keyboard input\n",
    "\n",
    "- Python's built-in `input` function allows for user input during program execution. \n",
    "\n",
    "- When `input` is called, the program waits for the user to type something and resumes execution when the user hits \"Return\" or \"Enter\". \n",
    "\n",
    "- The input provided by the user is returned as a string. \n",
    "\n",
    "- In Python 2, this function is called as `raw_input`.\n",
    "\n",
    "\n"
   ]
  },
  {
   "cell_type": "code",
   "execution_count": null,
   "id": "a3e7befd",
   "metadata": {},
   "outputs": [],
   "source": [
    "text = input()\n",
    "print(text)"
   ]
  },
  {
   "cell_type": "markdown",
   "id": "3576213c",
   "metadata": {},
   "source": [
    "- For better interaction with the user, it's a good idea to print a prompt before getting input, which can be passed as an argument to `input`.\n",
    "\n",
    "- The sequence '\\n' at the end of the prompt represents a newline, which is a special character that causes a line break. \n",
    "\n",
    "- If needed, the return value of `input` can be converted to integer using the `int` function.\n",
    "\n",
    "\n"
   ]
  },
  {
   "cell_type": "code",
   "execution_count": null,
   "id": "65a5f0b3",
   "metadata": {},
   "outputs": [],
   "source": [
    "name = input('What...is your name?\\n')\n",
    "print(name)"
   ]
  },
  {
   "cell_type": "code",
   "execution_count": null,
   "id": "6f259a81",
   "metadata": {},
   "outputs": [],
   "source": [
    "prompt = 'What...is the airspeed velocity of an unladen swallow?\\n'\n",
    "speed = input(prompt)\n",
    "print(int(speed))"
   ]
  },
  {
   "cell_type": "markdown",
   "id": "fafc192a",
   "metadata": {},
   "source": [
    "- Be careful while converting user input to integer as any non-numeric input will raise an error. \n",
    "\n",
    "- In the future, we will discuss how to handle such errors. \n",
    "\n",
    "\n"
   ]
  },
  {
   "cell_type": "code",
   "execution_count": null,
   "id": "07e91d22",
   "metadata": {},
   "outputs": [],
   "source": [
    "speed = input(prompt)\n",
    "print(int(speed))  # This will raise an error if the input is not a string of digits."
   ]
  },
  {
   "cell_type": "markdown",
   "id": "0325fbe7",
   "metadata": {},
   "source": [
    "## 5.12 Debugging\n",
    "\n",
    "- Error messages contain helpful information to identify problems in codes, including kind of error and its location\n",
    "\n",
    "- Usually, syntax errors are easy to find. However, errors involving whitespaces (tabs and spaces) can be challenging to trace since they are invisible, and we often ignore them\n",
    "\n",
    "- Error messages basically point to the code line where an issue occurred, not necessarily the location of actual errors. Errors could have happened earlier but only got detected later\n",
    "\n",
    "\n"
   ]
  },
  {
   "cell_type": "markdown",
   "id": "ab90e727",
   "metadata": {},
   "source": [
    "# Debugging continued...\n",
    "\n",
    "- The above explanation is also true for runtime errors\n",
    "\n",
    "- Let's look at an example related to computation of a signal-to-noise ratio in decibels (SNRdb= 10 log10(Psignal/Pnoise))\n",
    "\n",
    "- Errors may appear on a different line that what the error message indicates\n",
    "\n",
    "- Debugging requires meticulous checking. Though read error messages carefully, but don't assume every detail they provide is correct\n",
    "\n",
    "\n"
   ]
  },
  {
   "cell_type": "code",
   "execution_count": null,
   "id": "6b0ae59a",
   "metadata": {},
   "outputs": [],
   "source": [
    ">>> x = 5\n",
    ">>> y = 6\n",
    "#Above code will raise an IndentationError: unexpected indent error, because the second line is indented by one space."
   ]
  },
  {
   "cell_type": "code",
   "execution_count": null,
   "id": "8865237e",
   "metadata": {},
   "outputs": [],
   "source": [
    "# Now let's see an example code for computation of a signal-to-noise ratio in decibels\n",
    "import math\n",
    "signal_power = 9\n",
    "noise_power = 10\n",
    "ratio = signal_power // noise_power"
   ]
  },
  {
   "cell_type": "code",
   "execution_count": null,
   "id": "f5abc669",
   "metadata": {},
   "outputs": [],
   "source": [
    "# Continue from previous cell\n",
    "decibels = 10 * math.log10(ratio)\n",
    "print(decibels)\n",
    "#The above code will raise a ValueError: math domain error, because line 4 uses floor division instead of floating-point division which leads to ratio being 0 and log10 can't take 0 as an argument. You should fix such errors by closely inspecting all lines of your code, not just the line mentioned in the error message."
   ]
  },
  {
   "cell_type": "markdown",
   "id": "4c277ddb",
   "metadata": {},
   "source": [
    "## 5.13 Glossary\n",
    "\n",
    "## Floor Division\n",
    "\n",
    "- An operator, denoted //, that divides two numbers and rounds down (toward negative infinity) to an integer.\n",
    "\n",
    "\n",
    "\n",
    "## Modulus Operator\n",
    "\n",
    "- An operator, denoted with a percent sign (%), that works on integers and returns the remainder when one number is divided by another.\n",
    "\n",
    "\n"
   ]
  },
  {
   "cell_type": "markdown",
   "id": "8ae4661e",
   "metadata": {},
   "source": [
    "## Boolean Expression\n",
    "\n",
    "- An expression whose value is either True or False.\n",
    "\n",
    "\n",
    "\n",
    "## Relational Operator\n",
    "\n",
    "- One of the operators that compares its operands, i.e., ==, !=, >, <, >=, and <=.\n",
    "\n",
    "\n",
    "\n",
    "## Logical Operator\n",
    "\n",
    "- One of the operators that combines boolean expressions like: 'and', 'or', and 'not'.\n",
    "\n",
    "\n"
   ]
  },
  {
   "cell_type": "markdown",
   "id": "bc1c687f",
   "metadata": {},
   "source": [
    "## Conditional Statement\n",
    "\n",
    "- A statement that controls the flow of execution depending on some condition.\n",
    "\n",
    "\n",
    "\n",
    "## Condition\n",
    "\n",
    "- The boolean expression in a conditional statement that determines which branch runs.\n",
    "\n",
    "\n",
    "\n",
    "## Compound Statement\n",
    "\n",
    "- A statement that consists of a header and a body. The header ends with a colon (:). The body is indented relative to the header.\n",
    "\n",
    "\n"
   ]
  },
  {
   "cell_type": "markdown",
   "id": "cf67f96b",
   "metadata": {},
   "source": [
    "## Branch \n",
    "\n",
    "- One of the alternative sequences of statements in a conditional statement.\n",
    "\n",
    "\n",
    "\n",
    "## Chained Conditional\n",
    "\n",
    "- A conditional statement with a series of alternative branches.\n",
    "\n",
    "\n",
    "\n",
    "## Nested Conditional\n",
    "\n",
    "- A conditional statement that appears in one of the branches of another conditional statement.\n",
    "\n",
    "\n"
   ]
  },
  {
   "cell_type": "markdown",
   "id": "10e22f22",
   "metadata": {},
   "source": [
    "## Return Statement\n",
    "\n",
    "- A statement that causes a function to end immediately and return to the caller.\n",
    "\n",
    "\n",
    "\n",
    "## Recursion\n",
    "\n",
    "- The process of calling the function that is currently executing.\n",
    "\n",
    "\n",
    "\n",
    "## Base Case\n",
    "\n",
    "- A conditional branch in a recursive function that does not make a recursive call.\n",
    "\n",
    "\n"
   ]
  },
  {
   "cell_type": "markdown",
   "id": "d4c5118e",
   "metadata": {},
   "source": [
    "## Infinite Recursion\n",
    "\n",
    "- A recursion that doesn’t have a base case, or never reaches it. This causes a runtime error eventually.\n"
   ]
  },
  {
   "cell_type": "markdown",
   "id": "3851ba3b",
   "metadata": {},
   "source": [
    "## Exercise 1 : Time Calculation and Conversion\n",
    "\n",
    "- Python's `time` module includes a function `time` that returns the current Greenwich Mean Time in the epoch.\n",
    "\n",
    "- The epoch is a reference point in time, which on UNIX systems corresponds to 1 January 1970.\n",
    "\n",
    "- The aim of this exercise is to write a script that reads the current time and converts it into a time of day (in hours, minutes, and seconds) and calculates the number of days since the epoch.\n",
    "\n",
    "\n"
   ]
  },
  {
   "cell_type": "code",
   "execution_count": null,
   "id": "8171b197",
   "metadata": {},
   "outputs": [],
   "source": [
    "import time \n",
    "print(time.time())\n",
    "# Output: 1437746094.5735958"
   ]
  },
  {
   "cell_type": "markdown",
   "id": "b23dd567",
   "metadata": {},
   "source": [
    "## Exercise 2: Checking Fermat's Last Theorem\n",
    "\n",
    "- Fermat's Last Theorem states that there are no three positive integers (a, b, c) such that a^n + b^n = c^n for any values of n greater than 2.\n",
    "\n",
    "- The exercise entails writing a function `check_fermat` that takes four parameters (a, b, c, and n) and checks if Fermat's theorem holds.\n",
    "\n",
    "- If n is greater than 2 and a^n + b^n = c^n, then the program should print, \"Holy smokes, Fermat was wrong!\". Otherwise, it should print, \"No, that doesn’t work.\"\n",
    "\n",
    "- Another function should be created to prompt the user to input values for a, b, c, and n (converting them to integers), and then use `check_fermat` to test whether they violate Fermat’s theorem.\n",
    "\n",
    "\n"
   ]
  },
  {
   "cell_type": "markdown",
   "id": "0e42e7e4",
   "metadata": {},
   "source": [
    "## Exercise 3: Triangle Formation\n",
    "\n",
    "- Three sticks can be arranged to form a triangle unless one of the sticks is longer than the sum of the other two. \n",
    "\n",
    "- If one stick is longer, it's not possible to arrange them into a triangle while if their sum equals one of the sticks, they form a degenerate triangle.\n",
    "\n",
    "- The task is to write a function `is_triangle` which accepts three integers (representing the stick lengths) and prints \"Yes\" if a triangle can be formed or \"No\" if it can't.\n",
    "\n",
    "- Additionally, write another function to prompt the user to input three stick lengths, convert them to integers, and more importantly, use `is_triangle` to verify if the lengths provided can form a triangle.\n",
    "\n",
    "\n"
   ]
  },
  {
   "cell_type": "markdown",
   "id": "e9a3a9a3",
   "metadata": {},
   "source": [
    "## Exercise 4: Understanding Recursion\n",
    "\n",
    "- Understand the output of the following recursive program and what would happen if it was invoked like this: `recurse(-1, 0)?`.\n",
    "\n",
    "- Diagram the state of the program when it's being executed.\n",
    "\n",
    "- Write a docstring that comprehensively explains everything someone would need to know to use this function.\n",
    "\n",
    "\n"
   ]
  },
  {
   "cell_type": "code",
   "execution_count": null,
   "id": "d7797532",
   "metadata": {},
   "outputs": [],
   "source": [
    "def recurse(n, s):\n",
    "    if n == 0:\n",
    "        print(s)\n",
    "    else:\n",
    "        recurse(n-1, n+s)\n",
    "\n",
    "recurse(3, 0)"
   ]
  },
  {
   "cell_type": "markdown",
   "id": "8952a94d",
   "metadata": {},
   "source": [
    "## Exercise 5: Analysis and function understanding\n",
    "\n",
    "- Interpret the function below (& see the examples in Chapter 4) before executing it to verify if the interpretation was correct.\n",
    "\n",
    "\n"
   ]
  },
  {
   "cell_type": "code",
   "execution_count": null,
   "id": "5aadda85",
   "metadata": {},
   "outputs": [],
   "source": [
    "def draw(t, length, n):\n",
    "    if n == 0:\n",
    "        return\n",
    "    angle = 50\n",
    "    t.fd(length*n)\n",
    "    t.lt(angle)\n",
    "    draw(t, length, n-1)\n",
    "    t.rt(2*angle)\n",
    "    draw(t, length, n-1)\n",
    "    t.lt(angle)\n",
    "    t.bk(length*n)"
   ]
  },
  {
   "cell_type": "markdown",
   "id": "9fe10a1e",
   "metadata": {},
   "source": [
    "## Exercise 6: Drawing a Koch Curve\n",
    "\n",
    "- A Koch curve is a fractal, and to draw a Koch curve with length x, the following steps are used:\n",
    "\n",
    "  1. Draw a Koch curve with length x/3.\n",
    "\n",
    "  2. Turn left 60 degrees.\n",
    "\n",
    "  3. Draw a Koch curve with length x/3.\n",
    "\n",
    "  4. Turn right 120 degrees.\n",
    "\n",
    "  5. Draw a Koch curve with length x/3.\n",
    "\n",
    "  6. Turn left 60 degrees.\n",
    "\n",
    "  7. Draw a Koch curve with length x/3.\n",
    "\n",
    "- However, if x is less than 3, a straight line with length x should be drawn.\n",
    "\n",
    "- Write a function `koch` that takes a turtle and a length as parameters and uses the turtle to draw a Koch curve with the given length.\n",
    "\n",
    "- Write a function `snowflake` that draws three Koch curves to make the outline of a snowflake.\n",
    "\n",
    "- The Koch curve can be generalized in multiple ways. Consider implementing a favorite one as provided in the Wikipedia link.\n"
   ]
  }
 ],
 "metadata": {},
 "nbformat": 4,
 "nbformat_minor": 5
}
