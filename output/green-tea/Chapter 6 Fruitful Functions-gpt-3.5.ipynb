{
 "cells": [
  {
   "cell_type": "markdown",
   "id": "5f9c421a",
   "metadata": {},
   "source": [
    "<img src=\"data:image/png;base64,iVBORw0KGgoAAAANSUhEUgAAAG8AAABuCAYAAAApmU3FAAAEtmlUWHRYTUw6Y29tLmFkb2JlLnht\n",
    "cAAAAAAAPD94cGFja2V0IGJlZ2luPSLvu78iIGlkPSJXNU0wTXBDZWhpSHpyZVN6TlRjemtjOWQi\n",
    "Pz4KPHg6eG1wbWV0YSB4bWxuczp4PSJhZG9iZTpuczptZXRhLyIgeDp4bXB0az0iWE1QIENvcmUg\n",
    "NS41LjAiPgogPHJkZjpSREYgeG1sbnM6cmRmPSJodHRwOi8vd3d3LnczLm9yZy8xOTk5LzAyLzIy\n",
    "LXJkZi1zeW50YXgtbnMjIj4KICA8cmRmOkRlc2NyaXB0aW9uIHJkZjphYm91dD0iIgogICAgeG1s\n",
    "bnM6ZXhpZj0iaHR0cDovL25zLmFkb2JlLmNvbS9leGlmLzEuMC8iCiAgICB4bWxuczp0aWZmPSJo\n",
    "dHRwOi8vbnMuYWRvYmUuY29tL3RpZmYvMS4wLyIKICAgIHhtbG5zOnBob3Rvc2hvcD0iaHR0cDov\n",
    "L25zLmFkb2JlLmNvbS9waG90b3Nob3AvMS4wLyIKICAgIHhtbG5zOnhtcD0iaHR0cDovL25zLmFk\n",
    "b2JlLmNvbS94YXAvMS4wLyIKICAgIHhtbG5zOnhtcE1NPSJodHRwOi8vbnMuYWRvYmUuY29tL3hh\n",
    "cC8xLjAvbW0vIgogICAgeG1sbnM6c3RFdnQ9Imh0dHA6Ly9ucy5hZG9iZS5jb20veGFwLzEuMC9z\n",
    "VHlwZS9SZXNvdXJjZUV2ZW50IyIKICAgZXhpZjpQaXhlbFhEaW1lbnNpb249IjExMSIKICAgZXhp\n",
    "ZjpQaXhlbFlEaW1lbnNpb249IjExMCIKICAgZXhpZjpDb2xvclNwYWNlPSIxIgogICB0aWZmOklt\n",
    "YWdlV2lkdGg9IjExMSIKICAgdGlmZjpJbWFnZUxlbmd0aD0iMTEwIgogICB0aWZmOlJlc29sdXRp\n",
    "b25Vbml0PSIyIgogICB0aWZmOlhSZXNvbHV0aW9uPSI3Mi4wIgogICB0aWZmOllSZXNvbHV0aW9u\n",
    "PSI3Mi4wIgogICBwaG90b3Nob3A6Q29sb3JNb2RlPSIzIgogICBwaG90b3Nob3A6SUNDUHJvZmls\n",
    "ZT0ic1JHQiBJRUM2MTk2Ni0yLjEiCiAgIHhtcDpNb2RpZnlEYXRlPSIyMDIwLTAyLTEzVDE2OjQ4\n",
    "OjM2KzAxOjAwIgogICB4bXA6TWV0YWRhdGFEYXRlPSIyMDIwLTAyLTEzVDE2OjQ4OjM2KzAxOjAw\n",
    "Ij4KICAgPHhtcE1NOkhpc3Rvcnk+CiAgICA8cmRmOlNlcT4KICAgICA8cmRmOmxpCiAgICAgIHN0\n",
    "RXZ0OmFjdGlvbj0icHJvZHVjZWQiCiAgICAgIHN0RXZ0OnNvZnR3YXJlQWdlbnQ9IkFmZmluaXR5\n",
    "IERlc2lnbmVyIDEuNy4zIgogICAgICBzdEV2dDp3aGVuPSIyMDIwLTAyLTEzVDE2OjQ4OjM2KzAx\n",
    "OjAwIi8+CiAgICA8L3JkZjpTZXE+CiAgIDwveG1wTU06SGlzdG9yeT4KICA8L3JkZjpEZXNjcmlw\n",
    "dGlvbj4KIDwvcmRmOlJERj4KPC94OnhtcG1ldGE+Cjw/eHBhY2tldCBlbmQ9InIiPz63ZYCCAAAB\n",
    "gWlDQ1BzUkdCIElFQzYxOTY2LTIuMQAAKJF1kc8rRFEUxz9miDCNYmFh8dKwQoMSG4uZ/Cosxii/\n",
    "Nm+eeTNq3szrvZk02SpbRYmNXwv+ArbKWikiJSsLa2KDnvM8NZI5t3PP537vPad7zwVfPKMZdmUY\n",
    "jGzeio1ElJnZOaX6ER8BgoQJqJptTkwNxylrbzdUuPGq061V/ty/VreYtDWoqBEe1EwrLzwqPL6c\n",
    "N13eFG7S0uqi8LFwhyUXFL529YTHTy6nPP5w2YrHouBrEFZSvzjxi7W0ZQjLywkZmYL2cx/3JfXJ\n",
    "7PSUxFbxFmxijBBBYYwhovTRzYDMfXTSQ5esKJMf/s6fJCe5mswmRSyWSJEmT4eoBamelKiLnpSR\n",
    "oej2/29fbb23x6teH4GqB8d5aYPqDfhcd5z3fcf5PAD/PZxlS/m5Peh/FX29pIV2IbgKJ+clLbEF\n",
    "p2vQfGeqlvot+cV9ug7PRxCYhcZLqJ33evazz+EtxFfkqy5gewfa5Xxw4QtXymffaj9hFAAAAAlw\n",
    "SFlzAAALEwAACxMBAJqcGAAAIABJREFUeJzlfXu0b1V13jfX/l2UkAAXiq/EWkg0RqUaBO5BEB+A\n",
    "WKtG6qtWeZnRtCYmgThUvJfRdDQOBAtc2mSEGJuhJn2oNcPwGFZSgmmAG84JAgKS4QPIQ2OVIgIR\n",
    "kbP3mv1jrW+ub+177uUROIfENca5557923vttefzm4+1f4a/R2PpfX+wCfB/6o4XmuHpDuwDYG94\n",
    "3gfue8PSPoDXY74PAAPsO4DfBeAuuH8HwF0wuwue7wLwHbjfCUvXA37j8gfflDfy+R7usI1ewK7G\n",
    "0taLDDYcDM+HAX4oYIcC+WA4ngAA7hPMBgAOdwBe6W78fwLgdTYHcgZMH9fkcwDu9wC+A+5XAX4l\n",
    "HCvL5/2r+x/r5/y7jMcd85a2XbwZ7qcC+LcAngnPgA0AMjxnmBWmuDvgXp7AEpAn8HEsJXge42+4\n",
    "F4bWa8v59XOzem0dZuV4Hh+ApRUAvwXg48vnvkVOenyMxw3zlrZd/NNw/BLS8GZ43hNAIao1BrhP\n",
    "hfAuGgPv/7bUtJDHybjQSqsM9TI/f8OLMpoV5lpo71fhfjaA310+762rjx0VHt7YcOYtbb14APw/\n",
    "AHYG4Ina4NMIS9Q4B+AwS4WBYRKt0p4MyeUnLapmoTGHn9NUUlvNeoZ3x0RjPQPufwXg/cvnv+3D\n",
    "60qkXYwNZd7Stkuejjz9D6ThyJD+PAFpCLPmnmFpUc1gHe5ACoIKgyB/k1FJTKM3xtJ02tBrKjUw\n",
    "tDNXjfV2rk8fhg0/v3z+22RR6z82jHlL2y55CoDrAH8qcg/y3Au4MBt2YlrxZ5XBXnygT+MMjPjO\n",
    "ZnH+GdD8GzXWrAKbVE8VkFNQEYJkZp+F+xuXz3/b3z5qRHmYY0OYt7T1ogFp+CPk6SWFeFMjWIwC\n",
    "Skx8XPkbDazU84KwlprWzU1lZxpz0dz4HLO50LRVGRpgZrX8TmkF03Tk8gUnb4gGzim2PsPSL8Hz\n",
    "S4pvQTFl1gjpOQOwWw32e3D/IOB/6PD7GuKk9Nd/lPHho1zCh6F95t4+h/faFXPItY6i5TzXpzKf\n",
    "GTCtHg7kdz0WJHooY4M07+IvwfCsnTSgEPT7gJ0J+PnXfOCEUIstZ/z+QfD8EcCODlNIwpMRadH+\n",
    "n6uvUpNM9NihTAkbwr+hHR8W5bjOE/cbAM/fA9LBy9tPvPWxp1w/1l3zls689KcAPKuBAxS/FmbQ\n",
    "zrjmA687VxkHAMtnv/42IP0zAF+J2DotGrRPi+a7GL8V0ybocaomcyi/PUtIgP4ar2FdzsA0NoZb\n",
    "qnOGOd8Tnn/lMSTZLsf6m808Pa1QvHIgZ1g1AA6/BZb+064uXT7n9ffB/Vfi+jw1rXA035THerwy\n",
    "K5AoKuMkflQtpp9k0E4/aalqoBemamhS5njto0ylhzTWn3nue9e0SDsEr+gyXXnNWa/1XV8MwOxK\n",
    "5MnDjwFNU+bprzTIMQ0hNPbj6akxK9bnTStpHQInTW2ePP7YltM++pOPiB5/h7H+zFNixqGB0P7r\n",
    "D3b58jlvuBuGv21xW2rapXDeJ0l7iX8LBlHbqKFjM5VqGTT/GdfIOQ3wbH5kBHnkYyM0L6TbyYD2\n",
    "4Qse7PIt7/mfB8GGHwngEUBCgErn9/gZ/5uFSWjnpEHSYdbmVpNr1pAnNd8oPHmvh0WHR2FsgOYl\n",
    "78ICAD6twvMq3P2YLe/91NN2P4Gf2IJqAQ5e0WZ3qve/89SHCpGoBpoPo7kU5jOjA2tpNxfGlucS\n",
    "O74+YwM0L7vnqeUjCenLUvaBpd9Zet+nn7DWpVve+6kluG9rlQY0eM+Umqmv85YWAyT1RWZULVNf\n",
    "F0E7E9XU6LGZyC75zZBk/YsOiwc/5VEelqqgGzyPsKH4O28EeKXDPr/lvZ86HcCO5XPe8N0t7/nk\n",
    "gYCfBPdtSMOmIKrGekDlUZ5pHHOSqiVDQ6oMDyLXSbSp9b6aI63rLxUOF3xkcKx/HXfdmec+eanM\n",
    "5JK7nCTOipPwXAB/CEt5y3s+eS8s7dOZyqzpNEkYIwMZDcQwpZXrZ/Rb02rVzkFCi6mFEWloZjUL\n",
    "uDEAuRy3xDiPHFz/fMeGABavIMMJ77uaGhoC9Jxqa0Pzb6yIa+qr0yoBIG0elOpCnZtZE0B8GEow\n",
    "DrRrVDOT3CeY5pJEX39Srvsdzcwh5ibCBE1XdflGia20YFoub+dS0wL+s56X+nlMtDLCCxEGZZiW\n",
    "hSRn6vF3ERCnP1znse7Mcy+9C5TUIEQgwrFnQjkLkdmofStdgB3aKNobGj37LO4nzCK6JIiJFFgV\n",
    "FmpdvcYkK2NpKBmieXJ7HcYGmM2pl9ZgkPgoVhriGgnC5y0Olsq10aOC5hej4sCAWq5vGeimpXls\n",
    "xVqGFU7EWgcjAiuFYneHw2vMur5jA0pC5s1PqUZQuxRF1thK+1aiilCD7TxJ2CDEZqI6j81carmo\n",
    "TIZoYAKkKmFtroj35uZVwQpm/1+fsQGhgt0F+EoLkGexVaC+DJiEBABCe9pkaFpnpUhqYu48HwBL\n",
    "B3btFWFGJTfJtczBEOF/lK5QUHIaaqhg1exjQ3zeujNv+ezX7wCwZT3uteVd//3nkFc/1CHNAC1j\n",
    "0zr1i+5NeCAJ7yo0BgNbED2P5TfyRijeBlXS12uwvcIgOc+ZSQaaKaU/Y1amlXzanEY5GMWkAj8Y\n",
    "ZnM9R2vZqwckrUWTnTMwbEIgWogZlbjOvSYVKsii6fRJTXU9/Uuv2gTg2e2AmHqa4HLsfqT0NfvJ\n",
    "z3zvkTzeI2be0taL/gmAFwD4EcD38pz3CB8QNbBqTtT5R85Q4qkOtksdTf2Ipq26Vr00+5znJ8Dz\n",
    "i5qpBKKaEAG/oEzXBHWZ130M80gNNjcgLcpzaryow+zpyPnGFn9KImKo2j1NwUS/5fhvYpo+gyH9\n",
    "N6T0OXv2Zx+SA31YzFvadslzkafTYDjO8/QMmDVj0bXIsebFzEaF85GqYkklz9oQagzHdJYy2q0x\n",
    "wazMC0k6M/Ofs/ipSoMk3oHCFOkzHuzDDc+rpVBAgJInwAWgUHNZlVBBIzN530kySWPtPOMYRwB4\n",
    "MobhVOR8Kgxf8FuO/1l7zmWffzB+PCTmLW296KcA/Cry+EZ3T5Y2ITqVE3srrVTEA9ExgwE0xqnk\n",
    "A/DKAEWTXe1NiqkkUszhHbEjRLCESDzrCHOVmxWIuayhyDzV7rRZ0M/1dTW/mWWY34u1Rs0WJUky\n",
    "hPmsP0Xgng9g2W865gKkdKY993/vcrPLgwKWpW2XnAazm+H+ZqRFsnkPiDNRO7RUF9vRI+huaC0W\n",
    "O60CzhhsjQxFxFGM8yDxWDU9adGIaJU48WQsrgoTtOJe40P2gFptKrKUyrF54G1SPO7mUZ/Ke6fW\n",
    "tMTPh6Ektdlvw2ec6ArQaJB9APAumH3Cbz52l3XC3TJvaetF5wDYDs8p6mXOHTq5Pmiu8HmqWZOp\n",
    "ma2utQBlkWmoi2fCl5IM0VhJWelxDs1fMl6DVWZWjexKPgI+wtQVs12sKBkx1tuKH2Uuk+uf+1lp\n",
    "pIoRjVAtPsS4Kv5fsMBClGGamvkv87wW7h/aFX/WNJtLWy9eAPnDMDslNElQGptenf6LD2KMjypx\n",
    "tR1PC6gBSKb2kNTSaSzoL1Jn1KxZlgVDIcA0NkKQwMEsxmqV4SRK5EfJoLKZxYZF067a09btTCKo\n",
    "0awQ5LY6VGiGoWlgqpYkz0KRaSqfASJ0BsB/1r/wsm/a8z+3bc6ntTXP0llAOqXFRnG8oLA8VdNS\n",
    "Vh3mJczpPL1Ua2eay9SgmAum1NHkkNH0ozQt0XPJuI0mVh6c9yUz6V+8AhptgIo8p7d1eC4+XEtO\n",
    "XaUjt7/Dt5Oq2maB8jyhmXIvjhAKNFNKC1TQ6lb/wste+qDMW9p26cHw6fQwWyGZU0VcxVx2N2cQ\n",
    "PG/0mZswhda6BYvt7juVdupc02qbs0tAo80BZaBIddTrhGA2NEJV0112IjUA07RNLEeUoxTQ9DFe\n",
    "WS/jxWo1hmrgOsBEoAVhNh8jiaYygZB+bbfMW9p2scHzhQAWXFTEbZVAJZMucVkEwd7MU0dINGaE\n",
    "mVMgUn0XyyoEHurjorIdpgTR/cw+mLgZeq1QjYxTKqGs7PcrlkRQL58nykv1+V3vMbVzZ7ucwqpM\n",
    "UzmdoYIKb3QQzEDPsEYpqtDiKL/5uFfuknlwfzs8H9mYUbuZxdwZWwd0oXyIIK7U4whcaMLU9HRz\n",
    "eDOjMZcjup6VgXwgvQcRZAT6aASJ0hAJS186iSZhdo6uR4QjGKv+G3IO+nZ4Pi5Nfao0YDVfa4cE\n",
    "LDxOS8C5p/H9azJvaetF+8HzOVGnmka0doXysNwPHg+VhjUemGiTU1szF3NU2ZlVl9jMW0tCwOc6\n",
    "r2p7hAre5gsi8wmHdj4tQzAacg1ijYY1BDJMKoShJmHL0Cbi/MmaeeZzMDTIUwUt1LihziXuIwlj\n",
    "i+97oX/hZSfsxDwAr0da7A+vm/bVRDWSCFDxtkitXishwyyuUadTgpJwFIaYYwZCyCyb/9Asz7Sb\n",
    "Bd9KYBZPkYYGGQQYmACyZjabiQ2hCCwgXdl5ujMIRUtBk06XQS0jIEvCKPrJCOyBTvsbuj1pDebZ\n",
    "axRVlcfPwazYE6caFLtW6cBpwggWZoleMoeL73wTmu0PM6rVcGEGGRuwXvxuWIYJGDbB81iSx1Uo\n",
    "zQzclWRm8Vw2LJRATUs7nyrWJExvmNK2xcvQC2wgXQfGSTatCA1oNlF9ZeVD0GQKIXmpX390itVs\n",
    "ed+n9wT8WBLLp7FpWP3tObfEcOcjKqHClXlPhDhXfGcSUxupJjEt4QuGZi41YzNvoaD5oykXrbe0\n",
    "6PKv7r2AEJC1JAN9GgVKgImJC6BFKWu6a+U3f+HuYJ7jhxroIAPQJ+qDJmjAJqWegdPUBIfmMw37\n",
    "AnaIitIxAPYMems3sRJZQYQGw47mo8BFUmMk2CYzuz0ALueiI3znc9RfMfaKdjxv6xO/2e2FMPRz\n",
    "1vCnnKoMErChg3Nr7MvKhPtt/cnYjNnlSAnYJD6a9NAYOdamzEqx3qAP8HKgMe81ZS0JDm/pIfqP\n",
    "eWNsgAPmLtE+VyDCDAcJQyIGQqsPEYlqMUXA7CFl9yofQs1y+EoLKbeaj6Rv8067lbo0+anN26Fe\n",
    "yO96r7SogGIA4F/pGOX5yQ0zoAnjRDch1omt+cMafaH8m0E7Ndi9MG9p60UGz6/2PNYgvEqsEpSp\n",
    "LDJTt0JRGud+kAuIWlldTCR1yUlv53BOoAGhPJZjBACRlSdjUyM2rwPi/OLnNOCmkJBpMxVRJmpI\n",
    "MNV10OfHtjAHHB/tJ7FDIpaLa9GupwmdRrFimIVD4mLCDdWflI7y64/elAAcbGnT07pMAaVOW73Z\n",
    "EtehTTWHEJ8DMWEm51eNC5RIAqqJFOK6EI+f5zESyEHI3cRlDMDL+1x0syUagTSeUs1IA0pTkyLa\n",
    "qlFtrdevXPgLl80E4NAODSexPjS7QwVvAzu7s1gSQdFAu74h2L3gfngC8AyP+MmDwxEuKEgwiZnI\n",
    "oFhY7n9Dru2y8MLIebqL85LIEdPVefOIYqqHnshdeGJ9bFeRqWkIQI2nCeR6w0QrwJgxrSsLATA7\n",
    "u+PbLcfvA7MXt8Ba/CkZMQzSWs+YlWkwEX5eT6aPYwM9ln5iAfcnGayP39Ls5TV8OB8BWwBWzUaH\n",
    "nOjkO6kUTSDQQBAUruhtQlTd1ZSF7xDtjHQa47oGcFwyQy6C4socCkggOfU3uS8ok9nRgsF1AnC/\n",
    "Co5PdWTK+U0wPHEnwEJGKWPU6hDkaSot3mihvjeu2y+55wN6U5b6XJ0iHfo++sQOneXGJI3/mAmx\n",
    "AQ3V5fZDn8bqt27yiLixmkma6nnch5pvZes56muvQivFZ3DNaiki1qoE5prYOa2Zm2YlbgDw6pUL\n",
    "3ynEAmB2SnM3aDSdB9vamhHgSxirrznRYyzowvZPgD/JmeDtHnbmz8qCZwxV/8HfDGylKKsxEc3g\n",
    "fN4u3yemMF4nlXsiaPAPlEqH50qvYq7DelDbg2FTM8XhRyqj0tBnepJaAoIGfBnA8SsXvrPFdgD8\n",
    "pmNOgOFFYDhkQhemuvi8I4W2Mneeu233apoIIbn7fgnuB4APTM1R6Qy4LhNxMRGDCfoLPyPMzFPf\n",
    "rxEmgMldQaJdloMIsoYc1VRHpcPLG5FomlvFm+ZbQBj3IYRGpGYeO8FySV/NUnSwDPffgOfDVi58\n",
    "57c6xt1y/N5I6deDaewYMDT/FiBQ6McffemPXk9hXXDtwdj9F7DhgCKxRIaE/VRXJaS3vF0XB1VH\n",
    "qy8oXdPUKKiRRQdA8fbAZs2UpiTINcGqz/W4m9ellDY9r1UNs6H4QEW1FJBAyxA0twnRbq9pwPJW\n",
    "ps/B/d+tXPjOP8NaI+f/iGQ/iuw1IS0WbBiKpnVIl5ZlRKcsVgVrHAvDXOitRemU9l8grz6ptB2o\n",
    "TxATGnvGrRJWu4plIT5jfqOsCINoH48HoYTp80KofqadyqGB3PJn3Y8Hg6g9VZvYHjgfLn7H7Btw\n",
    "fAbApUC6fOXCd6z5dj//4nEJjv8M+M9h8mak4vmtCUxknKgIEkrlXJjOdghqIbCz0PsEjHm/BVLR\n",
    "vI6ovtODtGNm4NbeLh5TbmlGJgCQmGMtnoapSwCQYelr8PwXgN0Oz7fD7K8Af6CthUAJMNkn7gGk\n",
    "ir+1oXaGdY7HKbVNSLUoCn8ANvw/AN8A8KWV3/z5uXeeMe4VewD4r0h4Y6EJetPfIdrUEOQglksz\n",
    "TzTnzG+yd5XghY26AJBs/wXcD2iV4txu0nG6SvicYRFbAXBrksZrWVCcB9uxWJqA4Vb4tB2eP7p8\n",
    "wanf3R3BHg/Dv/iKAYZ/AeAMTNMhzS2gPN+waIzScABoTCATeYznpxqGgGCtCoFBqhEZsLRfeYWs\n",
    "2RNCAl1UOfyeMqT+bUCX0KW50tTaTv8XiSztENfBcBZ8+vTy9pN7yP04HP7F4/aCpVORp9PhdlAD\n",
    "EIqIKw0m8Z0BSmoBNlnNsFifOovwoTJ8IUKgKLT8f7GApW8jT3t1BVTaVUV+mrkgpI662moDFVrR\n",
    "ZjosNLf6xDwBw/AJ5Omk5e0nP7Bbgt36WoPj2UjpqQD+Edw3qa8Ln7xYAKurAqYaIu2C/m5y75+R\n",
    "xwAgT3vA7BmwdCA8HwjgQLg/Dcy0s0o+DDWwJt1nYEVjNEuAMVTKxVrRtC4WBaRELnMWMpDp4bL8\n",
    "jgXc7wTs6bH4OVzv8p2KzrwRJikqym3xSowIrg2A/wbcf3lX2ua3n/DDcH8F3P85gFdhSE9ppRNF\n",
    "sYKIV1clTuR5NF1o66af0fgt1wLpODYm0DoshkJI+u089oRG1SICuoiXp1Y1j1dEyr1ppZgO0zQa\n",
    "aa3YgoicG04Ndyxg9u0mhYKGIoshMVDEdSSIossZKtQ4K2fV2g8tX3DKL67JtNtedxhS+jXk/DJ4\n",
    "3iPMM32Hmhb2oOi7U0ZaAAVSQORgdcOH1hR5zWJRN4IAARY4ZwgKWpYj6AW00EJACIWAvmwcWwMu\n",
    "QwKuTWNb3oda7UJfPlv2b1XNkws7rRHg0pkXQXHsPiYRyVQyXetw7l+DpXfvxLTbT9gHwFkoX4RR\n",
    "uBPhgtwvbsv1oPkM9oOQoMq8ObKLG3tjqhKGWhfPVCV+FLRHLaegJ12P9UIUAizaxmegxiUqhstn\n",
    "uc3lst7yHHcsANxZ8o6y6aNDSJVBXfZCCShmkk45pcKDQJxBzF9cvuDke2eMezLMrgTwzK5NgPPx\n",
    "4RYJmBxRP9xUY9Ms4QnkWhKN/khNJC1EEFilXyxLlzRGAxqrouFRRKXgcK6ZBSsLateR2fVwFFwZ\n",
    "zpBRhvLcerwo0h0LAN8ugEO+SEIz+J2ZRNOmSOmkoEVZHOcRphe/tGP5gpP/oGPcrT+zL+CXwf2Z\n",
    "gUJpWiiB9K9Tbg8ENLMXcafJGivT1io30UcpWOEPG4KzfGbWgMJ8h5TGcXm2PiL30LrKtGkqjbWj\n",
    "Jjkga8lFq8kwVt/p64Pu9q0En+4MBjHumL8ag1II1NZzmjCaqGpC9c14ob0RoH+kY9xtrxswDJdi\n",
    "ys+PhyUImGfY1VxqtkQDYK41KumpgQEOJocJyghCumNimgIhVwZyz0HkQ2XOiJUpUFPzjWRaZLFQ\n",
    "zaSXOQZZv5pOBTkqbFXzElABC9M1hgL9g8piOkmAcN6cXJtnNBasmgi7HzZ8sqck3oBpPLKLIwfZ\n",
    "vcNANsydEHyetVDfxnP1Nz9T4k/in6PBNzXfM69+Z0oQL7PGFGZEGLsF4+u5C/nqAQbwleQlkSLm\n",
    "VTW1s25MkjgTH99K8PzVDmzk3BjVDXX+ufkeGOLteZGzEwRaNPZPlrefeM9swjM6BpBZ08xEa72N\n",
    "95//n0HxnFkkRgfRhSGGHq6vFRMGgEDTyHk7BURoKEya0spiwsO6uIAs5aS3+QKJkt402QYMw18m\n",
    "pGEZebyvI1j7o03UESv3Gth1JgtYCH/p13b0uO11rwT8BYHq4vz6QLx1wO46V0BsIZzC/W4blyDk\n",
    "WKcgOYIE9enh66oQae1xlFdakVFKM01vxT1TLeUQnHhDnJoLzt7ckJpJ9b2ct1igr9uhV9+Ulj/4\n",
    "plUAV3WZFd0xoxl+QJx6bsejoCmV8ngwA/J0PfpxcixwsakndHBOhaTeN8ykCJKO+JvmGmJWvfdN\n",
    "ASzQGNglJyp9Ax2KT5s34ur9wxx7M6lMKJNJfL7AAxJGwFr2SunY3+9SgDFVnq5oDEqifSqp9WZE\n",
    "f3GMNlhU2oSRAJCG/9stIqVntUR/tfe6NzsyN7UgSUiuplkbc3ZiHnpBMjTwQIZGwL5mSNMj2MUi\n",
    "yBECADQBoECr1lHAIheZm5nk/8NXo6BP0s1zq3bMM15lfZc05qXhisZVgeBRVYDEb/Q3JFqIaCOU\n",
    "nlMWc1fHvDwd1CVdqRV8IKKxCGAZpOaWodCM/NyUdRqUZMuwmOEQPPVR4kuj3ua6T6DXPIKfeHPS\n",
    "fI66lkGEkMdHdo95KGKPgkla702/+31I6Y8a89yvQ/ny22abI7OAtkDd/xYpKzKbN1KmGh8s3vDj\n",
    "t/3MZjj2bcGzEE/TV3QJaq7Y+kaidGhUND0YMglqI9Pq85lJ3CYok9pIN9Jp1Ow3nzPiSgF19OFz\n",
    "v6sKMBc0bUqKBAM/j2sut8N23B/MWz73LRMs/Z82GdC+uUoXK46XQEXjriTZhsiG74TgDmrghLGY\n",
    "iTlSLbKSWxzHpnV8yEmkn0SMPKAAhjnhVCMDLddniFwi56wCM6kJFqao1g5KL2o5BG3Wv8dVRCIc\n",
    "JJUCk1mTMUfskygmM5hXz/5YOFCF13yIMIlomhgtDLwBfYpu/XJ0oUfO+4VvzD5rBec9vQSuSRav\n",
    "64k+FN6mmqbIO3b3Q2icSnI8q65bwoa2A6jXHn6mQhGJ+TrXKAham5LpUuiS3AXMiMCwMVefs8x1\n",
    "Jwy/z0cL5i2f+5ZPw+y64oemxkQ6UWk/6Fr4qDnKxMhs5J0/s2QN+ub2m3NrVVmddWR/rIUF/FsZ\n",
    "qyCmi9vE5ykQYtigoQQ1idLO8yaGRPO38KKh4PkboCZBx/W7bzvUazNTyaGC1hIT77Ety4EfNKgD\n",
    "3M9sNTn1bWhMUCIFKqLHFScf/hPw7utf0AhkqaG6CHB5L5F0EltbCCaZk+uZ5N4hsZAsiAlheJ0w\n",
    "vGNcbhkTNWls7VBfpfGfZlE81xcEKHOsjxk9NxrPn8tFcFK6CrMUY8e85fPe+r/g+erS4azZjdSY\n",
    "GYvNTYIiEW3N7xEYwNF9U4sGoWqidX+CnsuHzlMzR3ywrmXQRYgg73KhZgnxBvF9LGdpBkY1Xv3R\n",
    "HM1Sc8ISiL/TZ1P0Teuim0cIqjQQLzfisRHu77At13Tgode8Ms7s0lGdJnJRs4ckoQn7eWPV0m5Q\n",
    "CFzMjsRt6j+AhiTVVDIpQPMSx/U2FAaa/9yuiWwImhVQwKM51KCWmN7QGAI69BmmoAFmbkPWQlMM\n",
    "VFAmrqrDHNhuW665eUbEnZm3fN5b/xjwDwBoTOs2XpAp9ccnRCcyH2JuuvoAU/yo9egqJJAbSGbS\n",
    "3z1Ybr6QhKT0x1rElFVaYlhIcD2188NyaIoqt/NCKyhg3uI30on5x8izyrwmAqvxnPp0BuYqjO4f\n",
    "AXzrnE9rMg8Als8/cSty/p0OXWljT7xPE+hfj8jPw8ije+kOmaRARcERTIgukqdxnprnTtO8wvCM\n",
    "9ooMa2YptGvs51V/C/Smscs00fzJ/+daT589jwMpH9pOou4jwikTkDQBns+2Lde83ZZW5lu2ds28\n",
    "uuB/A/dLupvoj/rEWCQX1kIOs/JqqI55Qu8ABmqeDU0zgXaPJJoffnBViGZFswiK6HcDHBFooEl4\n",
    "aCzavES2fI400+5AvqjCQBJInMqmJK4hsk2VftpAO8z83jRmpOE0W1p53675sxvmLZ9/4gTPbwL8\n",
    "XHBbTZiuhO6Vv2ivtepeb5jl1VA6KImguRCkN1Vgopn6PBccawxhvEn/BbTYLszXDHIHUhbkGmGD\n",
    "mPqowtc5dN84n4OVDsfOn2lBNWpyMyTNzwvKzAA+jsWm59mWa3b53bkcu33T7fIFp9wP4N1bTv/Y\n",
    "J2DpvyCPz+/MpCR1Tb4lK76MHrLIGBbXtIQ0mlkmTJ/7A/VD04yJg5hQdnsRQDCvyevDp6HPuJDA\n",
    "4wNVe8UsEq3SpLKqDjRzP9hsF2zVWAIwmzFXqxXT9BcwuxzAdjtsxy0PxrSHxDyO5e0nX7vl9N89\n",
    "BEgvhftbAX8VgKdQIt3Lq33L/lMBDRHIayAKRCGSqkImAD3TFDoHEwW0kDGT9L2oBho+gWHYEeBh\n",
    "sWi9MBQSZUDsfvW2VgIJIuMQskWLcRXR8hmAZqYZzxZmOdwfwDR9F8C9SOkGW1r+y4fKMB0P+QXh\n",
    "y9tPygCuqD/YctrHnuh5/DEz7GlW3nhbHrq+PTaXLVaFFvmvu8l0E2UMYRglUomrCDE6r6qTV+bT\n",
    "XBWze4U97/Lffvhk+fsxHvGr+ZcvOPl+AF992Be6l6B+WDTzq8XOMCVjCyOUOdos1OUE0cy4zv0P\n",
    "eOwGbT5GQ512Za/2AAAGk0lEQVR2OO4ZGKH/UShOfxdZixpzAQ3QRIqL6aq5v/2HNdb96fwrr34F\n",
    "3C/baRNI53/q79i5RGbl5gcJRgABQESh4HW3I093xHxd2kv8FNegIQGArg2ReV7W/SLQnmjuT7cX\n",
    "XrXjsaVeP9b/62imsTl7LbQqDGeQ2qW9rOQkycDYl+C9CdXCMXAggAM7eE4NjS1WRM4AWDW3es9x\n",
    "td2b3+MwocVzPSredz3JCGyE2eQGQaBVxiMGm2bmEQ2SR6uhN3PK7mOgbhARwKNF4C6LgYY0x1W5\n",
    "t68RlqDX1s7k13lih5CvuxVbf+Ypk9SfsUJBItGE6WZ65hKZ+1ToD8yakrw3icyBRnNT6lNs9JXU\n",
    "NveyvUtrl5C5w+dKqLDOYwMAC9NT1jSA2580Oa1EjJTS2ALmlErHlTID9Th7JSN88AZgmDXRF5Jq\n",
    "Wajrz0G/b0IFjvFdtGesv+atv8/TLEPEc9REOYd5zAgnagDNrjNDM5nRGzk086iM7zrMpMkpdqJK\n",
    "vbKbU2NRQ7z4lOerSd0A1dsYs6lMYgaCCFELrgos6F/4uZpLVhk08cuhQMhQvy2lfqbfIMJMUNsj\n",
    "cTeGRY4LDW0bFhm32NTuP6/9rcNYf+YBaBCdYEUaf0ikaI+QGhlfREPma8CulXXdr85qNFAB0GpD\n",
    "lgGOohK+imH4VeR8oB161b4YV/fGlI9DnkohNFJh6NdfKgQ/AGZTW/uGRZ/MjRqcNW2wVEQs59q+\n",
    "gIoyB9m0QfOmYCVJrKjZGGvmcKgvIcAEGFZhdrQdcuU1XKkdevV3AVzuf/aiQ5HzRUjp+NB83XK8\n",
    "QWNjMiwVrLXyDNC1FnK/OZFp9t7XAdJdVf+eo1c1qTw/kGdq8yxq/S8N71fGdUs+bMf3AbwdZndj\n",
    "sUkajAQo/UCECu5TfZVHe/goflauRlGTCBGI/dkKSHgNzaXWzroYTyr9+jIAfU2w++/tbtl22I6/\n",
    "wTRd0Xp5INmetCFmcwN8nt/XvZ4wsiJSzQYEkqOdQ7MaxUuaSumvpK/TnpfwaeIvQ+MBwO+1Q/7k\n",
    "9gdfut8Qr9HXtdInr/PYAObZtyNmA1qKS7c/aexGLQlGQNJqEo8FcrWdi6xw6ZWEZEyMgOWH/fqX\n",
    "7P3gS7cf7RLpIWAJbSHrNzbCbH4Znr8evfpEfFrCGdQMQpjkLTaMzIYyCYIy69BOLrO+Z5MhhrvB\n",
    "84t3u+xrj0wAjgqB0op/ue/du7v+sRjrzjx7zmUO2MVdjyT7Q7gnnuYsDe0ryRTSR2c0FKrLXRgC\n",
    "VOSq/nGU6reWobJv9+uO/qFdLtz9l5Hzc7rNpYCGLd94lEn1oGNj4jzDeRiG73WxlrYR6LtTmDCm\n",
    "BmkQP++P0ewJMygEL9oyr2kwCozZMwH/rK8ccZBO6StHJP/8Ue9GSmfvFEMyP+r5S3b4n/75Y0ix\n",
    "Ncf6Z1Pr8D9/5RkYxw/0mxGtT5kB0jAk8eFik/SPiG8EehPLlxPoFuac+1ogEwEAanvgfUjpapjd\n",
    "gGl6KoAjYPbj8ebZiCnRwg/D6ba0csFjRqxdjI1j3s3HLmB2NWCHRygQucO6rD53KIyaSOiIJgKF\n",
    "As3EMl/qKHOPYvKY01TgpALSNRMxeSCC1HKnfwzgWFtaXne4uUHpMcCed/mI7McC/tnQgvCD9f8B\n",
    "asTfjWML4COrwmBZ0l1R2/NWr1NNBXrww7+jIq/t+DO/GUjX/wbu/3IjGAdsIPMAwA6+/F64vwZm\n",
    "H44QAOjLQpF+8p7w1AYWUMlUoCWcu9hLEWZifNfQbAAXVvA5h7THq8bBrgKwZEesfPPRpcpDHxtm\n",
    "NufDb3z5v4bZmQD+cSMS0IUCWkvr+lG8wfcI0tFMJzvRtD+FrRgRuM+Tzt7/EOWaZZidBc//3pZW\n",
    "NrRF7XHDPADwm47ZBPeTYHYGzH5izdoc2x9iP1xq7RDUIiagqc3Zm0YpwGGCW30cINoOFZLvIaWP\n",
    "w/Ov25bl+XtlNmQ8rpjH4Te+fADwZri/A8DhAPbYSdvU5AHS1ETtmyQmNOkFTTMhGNCFGLw2Kh7+\n",
    "ZQC/hewftSNW7lp7xRszHpfM0+E3vOSJsHQ4zI6C+4uR8xEw7BMJaIYE829GjpeX1oCeGsgsjVbY\n",
    "yeSUvg/3GwFcC7NrMY7XArjJjljx3Sxxw8bjnnnz4dcdnWA4GJZ+GsD+yHlfmG0GsBmeNwPYF47N\n",
    "SGkzxtXN1UfdDUv3IOe7Ybgb7vfUdNY9MLsbwF8j588DuMkO/9PV3d3/8TT+P2x6AX5Riia7AAAA\n",
    "AElFTkSuQmCC\" style=\"display:block;margin:auto;width:10%\"/>\n",
    "                        <br>\n",
    "                        <div style=\"text-align:center; font-size:200%;\">\n",
    "                        <b>Fruitful Functions</b>\n",
    "                        </div>\n",
    "                        <br/>\n",
    "                        <div style=\"text-align:center;\">Dr. Kyrill Schmid</div>\n",
    "                        <br/>\n",
    "                        "
   ]
  },
  {
   "cell_type": "markdown",
   "id": "9c83076b",
   "metadata": {},
   "source": [
    "## Fruitful functions\n",
    "\n",
    "- Python functions, such as the math functions, often produce return values\n",
    "\n",
    "- The functions we have written so far are void and do not have a return value\n",
    "\n",
    "- This chapter focuses on writing fruitful functions that have a return value\n",
    "\n",
    "- Fruitful functions are those that perform a task and return a value, rather than just performing a task or action without returning a value\n"
   ]
  },
  {
   "cell_type": "markdown",
   "id": "2e866802",
   "metadata": {},
   "source": [
    "## Fruitful functions\n",
    "\n",
    "- Python functions, such as the math functions, often produce return values\n",
    "\n",
    "- The functions we have written so far are void and do not have a return value\n",
    "\n",
    "- This chapter focuses on writing fruitful functions that have a return value\n",
    "\n",
    "- Fruitful functions are those that perform a task and return a value, rather than just performing a task or action without returning a value\n",
    "\n",
    "\n"
   ]
  },
  {
   "cell_type": "markdown",
   "id": "abb72fbb",
   "metadata": {},
   "source": [
    "#\n",
    "\n",
    "## Mini-workshop: Fruitful Functions\n",
    "\n",
    "In this mini-workshop, we will work with fruit-themed functions that return values. We will also explore the concept of fruitful functions and practice creating and using them.\n",
    "\n",
    "\n"
   ]
  },
  {
   "cell_type": "markdown",
   "id": "572ff520",
   "metadata": {},
   "source": [
    "#\n",
    "\n",
    "Define a function called `add_fruits` that takes two parameters `fruit1` and `fruit2` and returns a string containing both fruits separated by a space.\n",
    "\n",
    "For example, if `add_fruits(\"apple\", \"banana\")` is called, the function should return \"apple banana\".\n",
    "\n",
    "\n"
   ]
  },
  {
   "cell_type": "code",
   "execution_count": null,
   "id": "aaed170f",
   "metadata": {},
   "outputs": [],
   "source": [
    "def add_fruits(fruit1, fruit2):\n",
    "    return fruit1 + \" \" + fruit2"
   ]
  },
  {
   "cell_type": "markdown",
   "id": "f0d89561",
   "metadata": {},
   "source": [
    "#\n",
    "\n",
    "Use the `add_fruits` function to create a variable `fruit_salad` containing the result of adding \"apple\" and \"banana\".\n",
    "\n",
    "\n"
   ]
  },
  {
   "cell_type": "code",
   "execution_count": null,
   "id": "2d323b9f",
   "metadata": {},
   "outputs": [],
   "source": [
    "fruit_salad = add_fruits(\"apple\", \"banana\")\n",
    "fruit_salad"
   ]
  },
  {
   "cell_type": "markdown",
   "id": "82cf7e93",
   "metadata": {},
   "source": [
    "#\n",
    "\n",
    "Define a function called `fruit_count` that takes a list of fruits as a parameter and returns the number of fruits in the list.\n",
    "\n",
    "\n"
   ]
  },
  {
   "cell_type": "code",
   "execution_count": null,
   "id": "6c3f3bd2",
   "metadata": {},
   "outputs": [],
   "source": [
    "def fruit_count(fruit_list):\n",
    "    return len(fruit_list)"
   ]
  },
  {
   "cell_type": "markdown",
   "id": "0b20f345",
   "metadata": {},
   "source": [
    "#\n",
    "\n",
    "Use the `fruit_count` function to find the number of fruits in the list [\"apple\", \"banana\", \"orange\", \"kiwi\"].\n",
    "\n",
    "\n"
   ]
  },
  {
   "cell_type": "code",
   "execution_count": null,
   "id": "9a78ca2f",
   "metadata": {},
   "outputs": [],
   "source": [
    "fruits = [\"apple\", \"banana\", \"orange\", \"kiwi\"]\n",
    "fruit_count(fruits)"
   ]
  },
  {
   "cell_type": "markdown",
   "id": "4f98eb19",
   "metadata": {},
   "source": [
    "## 6.1  Return values\n",
    "\n",
    "- Calling a function generates a return value, usually assigned to a variable or used in an expression\n",
    "\n",
    "- Functions written so far have been void with no return value (or return value of None)\n",
    "\n",
    "- Now, we are going to write fruitful functions\n",
    "\n",
    "\n"
   ]
  },
  {
   "cell_type": "markdown",
   "id": "d5345d61",
   "metadata": {},
   "source": [
    "## Return Statement\n",
    "\n",
    "- `return` statement includes an expression which is used as a return value\n",
    "\n",
    "- Functions can be concise without temporary variables \n",
    "\n",
    "- Multiple return statements can be used, one in each branch of a conditional\n",
    "\n",
    "\n"
   ]
  },
  {
   "cell_type": "markdown",
   "id": "607408c8",
   "metadata": {},
   "source": [
    "## Example of fruitful function\n",
    "\n",
    "- Example function `area(radius)` returns the area of a circle with the given radius\n",
    "\n",
    "- Using a temporary variable 'a' to store the area value\n",
    "\n",
    "  ```python\n",
    "\n",
    "  def area(radius):\n",
    "\n",
    "      a = math.pi * radius**2\n",
    "\n",
    "      return a\n",
    "\n",
    "  ```\n",
    "\n",
    "- Alternatively, the temporary variable can be omitted\n",
    "\n",
    "  ```python\n",
    "\n",
    "  def area(radius):\n",
    "\n",
    "      return math.pi * radius**2\n",
    "\n",
    "  ```\n",
    "\n",
    "\n"
   ]
  },
  {
   "cell_type": "markdown",
   "id": "bfb1d045",
   "metadata": {},
   "source": [
    "## Return Statement in Conditional\n",
    "\n",
    "- Having multiple return statements, one in each branch of a conditional \n",
    "\n",
    "- As soon as a return statement runs, the function terminates without executing any subsequent statements\n",
    "\n",
    "\n"
   ]
  },
  {
   "cell_type": "markdown",
   "id": "4a64e767",
   "metadata": {},
   "source": [
    "## Dead Code and Handling of x = 0\n",
    "\n",
    "- Code appearing after a return statement, or any other place the flow of execution can never reach, is called dead code\n",
    "\n",
    "- It is important to ensure that every possible path through the program hits a return statement\n",
    "\n",
    "- Example function to get the absolute value of x, but it is incorrect as it does not handle case of x being 0\n",
    "\n",
    "\n"
   ]
  },
  {
   "cell_type": "markdown",
   "id": "c31499f6",
   "metadata": {},
   "source": [
    "## Handling of x = 0\n",
    "\n",
    "- If the flow of execution gets to the end of a function, the return value is `None`\n",
    "\n",
    "- The function to get the absolute value is incorrect as it does not handle case of x being 0\n",
    "\n",
    "\n"
   ]
  },
  {
   "cell_type": "markdown",
   "id": "c159ec94",
   "metadata": {},
   "source": [
    "## Exercise\n",
    "\n",
    "- Exercise to write a `compare` function that takes two values x and y and returns 1 if x > y, 0 if x == y, and -1 if x < y.\n"
   ]
  },
  {
   "cell_type": "markdown",
   "id": "c78e40be",
   "metadata": {},
   "source": [
    "#\n",
    "\n",
    "## Mini-workshop: Fruitful Functions\n",
    "\n",
    "#\n",
    "\n",
    "In this mini-workshop, we will practice writing fruitful functions and understanding how return values work in Python.\n",
    "\n",
    "\n"
   ]
  },
  {
   "cell_type": "markdown",
   "id": "b5f4c139",
   "metadata": {},
   "source": [
    "## Return Statement\n",
    "\n",
    "#\n",
    "\n",
    "A `return` statement is used to include an expression as a return value in a function. This allows functions to generate a return value that can be assigned to a variable or used in an expression. When a `return` statement is encountered, the function terminates and the return value is passed back to the caller.\n",
    "\n",
    "\n"
   ]
  },
  {
   "cell_type": "markdown",
   "id": "3358406c",
   "metadata": {},
   "source": [
    "## Example of fruitful function\n",
    "\n",
    "#\n",
    "\n",
    "Let's consider an example function `double_value` that takes an input parameter `x` and returns double of that value. We can define this function as follows:\n",
    "\n",
    "#\n",
    "\n",
    "```python\n",
    "\n",
    "def double_value(x):\n",
    "\n",
    "    return 2*x\n",
    "\n",
    "```\n",
    "\n",
    "\n"
   ]
  },
  {
   "cell_type": "markdown",
   "id": "48970130",
   "metadata": {},
   "source": [
    "#\n",
    "\n",
    "Now, let's create a function `triple_value` that takes an input parameter `y` and returns triple of that value. Try implementing this function below:\n",
    "\n",
    "\n"
   ]
  },
  {
   "cell_type": "code",
   "execution_count": null,
   "id": "9be67b68",
   "metadata": {},
   "outputs": [],
   "source": [
    "def triple_value(y):\n",
    "    return 3*y\n",
    "\n",
    "# Let's verify our function by calling it with a test input.\n",
    "triple_value(4)"
   ]
  },
  {
   "cell_type": "markdown",
   "id": "b22fae50",
   "metadata": {},
   "source": [
    "## Return Statement in Conditional\n",
    "\n",
    "#\n",
    "\n",
    "In fruitful functions, multiple return statements can be used, each within different branches of a conditional statement. As soon as a return statement is executed, the function terminates without executing any subsequent statements.\n",
    "\n",
    "\n"
   ]
  },
  {
   "cell_type": "markdown",
   "id": "6a2f0aea",
   "metadata": {},
   "source": [
    "#\n",
    "\n",
    "Let's create a function `get_sign` that takes an input value `num` and returns a string indicating whether the input is positive, negative, or zero. Implement this function using conditional statements and return statements.\n",
    "\n",
    "\n"
   ]
  },
  {
   "cell_type": "code",
   "execution_count": null,
   "id": "ead22d12",
   "metadata": {},
   "outputs": [],
   "source": [
    "def get_sign(num):\n",
    "    if num > 0:\n",
    "        return \"Positive\"\n",
    "    elif num < 0:\n",
    "        return \"Negative\"\n",
    "    else:\n",
    "        return \"Zero\"\n",
    "\n",
    "# Let's test our function with different inputs.\n",
    "print(get_sign(5))  # Output: Positive\n",
    "print(get_sign(-3))  # Output: Negative\n",
    "print(get_sign(0))   # Output: Zero"
   ]
  },
  {
   "cell_type": "markdown",
   "id": "0e75f728",
   "metadata": {},
   "source": [
    "## Handling Edge Cases\n",
    "\n",
    "#\n",
    "\n",
    "It is important to handle edge cases in fruitful functions to ensure that every possible path through the program hits a return statement. Let's consider an example function `absolute_value` that returns the absolute value of an input number. We need to ensure that the function correctly handles the case of input being 0.\n",
    "\n",
    "\n"
   ]
  },
  {
   "cell_type": "markdown",
   "id": "2088fd4a",
   "metadata": {},
   "source": [
    "#\n",
    "\n",
    "Implement the `absolute_value` function below, and make sure to handle the case when the input is 0.\n",
    "\n",
    "\n"
   ]
  },
  {
   "cell_type": "code",
   "execution_count": null,
   "id": "c53761bf",
   "metadata": {},
   "outputs": [],
   "source": [
    "def absolute_value(x):\n",
    "    if x < 0:\n",
    "        return -x\n",
    "    elif x > 0:\n",
    "        return x\n",
    "    else:\n",
    "        return 0\n",
    "\n",
    "# Let's test our function with different inputs including 0.\n",
    "print(absolute_value(5))   # Output: 5\n",
    "print(absolute_value(-3))  # Output: 3\n",
    "print(absolute_value(0))   # Output: 0"
   ]
  },
  {
   "cell_type": "markdown",
   "id": "9d2da5be",
   "metadata": {},
   "source": [
    "#\n",
    "\n",
    "It's important to ensure that the `absolute_value` function handles the case of input being 0, as evidenced by the test case above.\n",
    "\n",
    "\n"
   ]
  },
  {
   "cell_type": "markdown",
   "id": "be733364",
   "metadata": {},
   "source": [
    "## Exercise\n",
    "\n",
    "#\n",
    "\n",
    "Now it's time for you to write your own fruitful function! \n",
    "\n",
    "#\n",
    "\n",
    "Write a function called `compare` that takes two values `x` and `y` as input, and returns:\n",
    "\n",
    "- 1 if `x` is greater than `y`\n",
    "\n",
    "- 0 if `x` is equal to `y`\n",
    "\n",
    "- -1 if `x` is less than `y`\n"
   ]
  },
  {
   "cell_type": "markdown",
   "id": "de401a32",
   "metadata": {},
   "source": [
    "## Incremental development\n",
    "\n",
    "- As you write larger functions, you might find yourself spending more time debugging\n",
    "\n",
    "- Incremental development is an approach to avoid long debugging sessions by adding and testing only a small amount of code at a time\n",
    "\n",
    "\n"
   ]
  },
  {
   "cell_type": "markdown",
   "id": "31167d70",
   "metadata": {},
   "source": [
    "- As an example, consider the task of finding the distance between two points given by the coordinates (x1,y1) and (x2,y2)\n",
    "\n",
    "- The distance can be calculated using the Pythagorean theorem: $distance=\\sqrt{(x2-x1)^2+(y2-y1)^2}$\n",
    "\n",
    "\n"
   ]
  },
  {
   "cell_type": "markdown",
   "id": "d869686e",
   "metadata": {},
   "source": [
    "- The first step in incremental development is to consider what a function to calculate distance should look like in Python\n",
    "\n",
    "- Determine the inputs (parameters) and the output (return value)\n",
    "\n",
    "- Create an initial version of the function as a syntactically correct outline\n",
    "\n",
    "\n"
   ]
  },
  {
   "cell_type": "markdown",
   "id": "45bdb127",
   "metadata": {},
   "source": [
    "- Test the initial version of the function with sample arguments to confirm it is syntactically correct and runs without errors\n",
    "\n",
    "- Use sample arguments that you can verify the correct result for to ensure the function runs correctly\n",
    "\n",
    "\n"
   ]
  },
  {
   "cell_type": "markdown",
   "id": "135f4d38",
   "metadata": {},
   "source": [
    "- Once confirmed that the initial version runs syntactically correct, start adding code to the body of the function\n",
    "\n",
    "- Incrementally add small chunks of code at a time to build and test the function\n",
    "\n",
    "- Use temporary variables and print statements to debug and verify the calculations within the function\n"
   ]
  },
  {
   "cell_type": "markdown",
   "id": "86a280ab",
   "metadata": {},
   "source": [
    "## Fruitful Functions: Workshop\n",
    "\n",
    "\n"
   ]
  },
  {
   "cell_type": "markdown",
   "id": "a166f9c1",
   "metadata": {},
   "source": [
    "- In this workshop, we will explore the concept of fruitful functions in Python\n",
    "\n",
    "- We will learn about incremental development and how to create and test functions step by step\n",
    "\n",
    "\n"
   ]
  },
  {
   "cell_type": "markdown",
   "id": "d71a03ba",
   "metadata": {},
   "source": [
    "- Let's start by understanding the concept of incremental development in the context of creating fruitful functions\n",
    "\n",
    "\n"
   ]
  },
  {
   "cell_type": "markdown",
   "id": "7c89ceca",
   "metadata": {},
   "source": [
    "## Incremental Development\n",
    "\n",
    "- As you write larger functions, you might find yourself spending more time debugging\n",
    "\n",
    "- Incremental development is an approach to avoid long debugging sessions by adding and testing only a small amount of code at a time\n",
    "\n",
    "\n"
   ]
  },
  {
   "cell_type": "markdown",
   "id": "76a2d6ef",
   "metadata": {},
   "source": [
    "- As an example, consider the task of creating a function to calculate the surface area of a sphere\n",
    "\n",
    "- The surface area of a sphere can be calculated using the formula: $4 * \\pi * r^2$, where r is the radius of the sphere\n",
    "\n",
    "\n"
   ]
  },
  {
   "cell_type": "markdown",
   "id": "e223cb10",
   "metadata": {},
   "source": [
    "- The first step in incremental development is to consider what the function to calculate the surface area should look like in Python\n",
    "\n",
    "- Determine the inputs (parameters) and the output (return value)\n",
    "\n",
    "- Create an initial version of the function as a syntactically correct outline\n",
    "\n",
    "\n"
   ]
  },
  {
   "cell_type": "markdown",
   "id": "be9ce44a",
   "metadata": {},
   "source": [
    "- Test the initial version of the function with sample arguments to confirm it is syntactically correct and runs without errors\n",
    "\n",
    "- Use sample arguments that you can verify the correct result for to ensure the function runs correctly\n",
    "\n",
    "\n"
   ]
  },
  {
   "cell_type": "markdown",
   "id": "34438027",
   "metadata": {},
   "source": [
    "- Once confirmed that the initial version runs syntactically correct, start adding code to the body of the function\n",
    "\n",
    "- Incrementally add small chunks of code at a time to build and test the function\n",
    "\n",
    "- Use temporary variables and print statements to debug and verify the calculations within the function\n",
    "\n",
    "\n"
   ]
  },
  {
   "cell_type": "markdown",
   "id": "6e0accfc",
   "metadata": {},
   "source": [
    "Now, let's move on to the exercises to practice incremental development and fruitful functions\n",
    "\n",
    "\n"
   ]
  },
  {
   "cell_type": "markdown",
   "id": "f9689c3c",
   "metadata": {},
   "source": [
    "## Exercise 1: Calculate Cube Volume\n",
    "\n",
    "\n"
   ]
  },
  {
   "cell_type": "markdown",
   "id": "96ad55ee",
   "metadata": {},
   "source": [
    "- Define a function called `calculate_cube_volume` that takes a single parameter `side_length` (float or int)\n",
    "\n",
    "- The function should return the volume of a cube with the given side length\n",
    "\n",
    "\n"
   ]
  },
  {
   "cell_type": "markdown",
   "id": "fea5fdcc",
   "metadata": {},
   "source": [
    "- Follow the incremental development approach to build and test the function\n",
    "\n",
    "- Use print statements and sample input values to verify the correctness of the function\n",
    "\n",
    "\n"
   ]
  },
  {
   "cell_type": "markdown",
   "id": "be273cb4",
   "metadata": {},
   "source": [
    "- Once you have defined the function, test it with different side lengths (e.g., 5, 7.5, 10) to ensure it produces the correct volume\n",
    "\n",
    "\n"
   ]
  },
  {
   "cell_type": "markdown",
   "id": "1fd09261",
   "metadata": {},
   "source": [
    "- Finally, call the function with a side length of 4.2 and print the result to verify the correctness\n",
    "\n",
    "\n"
   ]
  },
  {
   "cell_type": "markdown",
   "id": "6d32907c",
   "metadata": {},
   "source": [
    "## Exercise 2: Calculate Circle Area\n",
    "\n",
    "\n"
   ]
  },
  {
   "cell_type": "markdown",
   "id": "81717b94",
   "metadata": {},
   "source": [
    "- Define a function called `calculate_circle_area` that takes a single parameter `radius` (float or int)\n",
    "\n",
    "- The function should return the area of a circle with the given radius\n",
    "\n",
    "- Use the value of `pi` from the `math` module to perform the calculation\n",
    "\n",
    "\n"
   ]
  },
  {
   "cell_type": "markdown",
   "id": "ec40d810",
   "metadata": {},
   "source": [
    "- Follow the incremental development approach to build and test the function\n",
    "\n",
    "- Use print statements and sample input values to verify the correctness of the function\n",
    "\n",
    "\n"
   ]
  },
  {
   "cell_type": "markdown",
   "id": "c63a1685",
   "metadata": {},
   "source": [
    "- Once you have defined the function, test it with different radii (e.g., 3, 6.5, 9) to ensure it produces the correct area\n",
    "\n",
    "\n"
   ]
  },
  {
   "cell_type": "markdown",
   "id": "8e4dd18f",
   "metadata": {},
   "source": [
    "- Finally, call the function with a radius of 5.2 and print the result to verify the correctness\n",
    "\n",
    "\n"
   ]
  },
  {
   "cell_type": "markdown",
   "id": "deacea62",
   "metadata": {},
   "source": [
    "## Exercise 3: Calculate Discounted Price\n",
    "\n",
    "\n"
   ]
  },
  {
   "cell_type": "markdown",
   "id": "85c851a2",
   "metadata": {},
   "source": [
    "- Define a function called `calculate_discounted_price` that takes two parameters: `original_price` (float) and `discount_percentage` (float)\n",
    "\n",
    "- The function should return the discounted price after applying the percentage discount\n",
    "\n",
    "\n"
   ]
  },
  {
   "cell_type": "markdown",
   "id": "33b8fa1e",
   "metadata": {},
   "source": [
    "- Follow the incremental development approach to build and test the function\n",
    "\n",
    "- Use print statements and sample input values to verify the correctness of the function\n",
    "\n",
    "\n"
   ]
  },
  {
   "cell_type": "markdown",
   "id": "ebe55da4",
   "metadata": {},
   "source": [
    "- Once you have defined the function, test it with different original prices and discount percentages to ensure it produces the correct discounted price\n",
    "\n",
    "\n"
   ]
  },
  {
   "cell_type": "markdown",
   "id": "37c5a229",
   "metadata": {},
   "source": [
    "- Finally, call the function with an original price of 100 and a discount percentage of 20% and print the result to verify the correctness\n",
    "\n",
    "\n"
   ]
  },
  {
   "cell_type": "markdown",
   "id": "8b173b3f",
   "metadata": {},
   "source": [
    "## Summary\n",
    "\n",
    "- In this workshop, we explored the concept of fruitful functions and incremental development\n",
    "\n",
    "- We practiced creating and testing functions step by step, using print statements and sample input values to verify correctness\n",
    "\n",
    "- This approach helps in avoiding long debugging sessions and leads to the development of reliable and accurate functions in Python\n"
   ]
  },
  {
   "cell_type": "markdown",
   "id": "1948b96a",
   "metadata": {},
   "source": [
    "## 6.3  Composition\n",
    "\n",
    "- One function can be called from within another\n",
    "\n",
    "- Example: writing a function to compute the area of a circle based on the center and a point on the perimeter\n",
    "\n",
    "- Encapsulate distance calculation and area calculation in a function\n",
    "\n",
    "- Composing the function calls to make the code more concise\n",
    "\n",
    "-----Start Workshop-----\n"
   ]
  },
  {
   "cell_type": "markdown",
   "id": "ce6b68d4",
   "metadata": {},
   "source": [
    "#\n",
    "\n",
    "## Mini-workshop: Fruitful Functions\n",
    "\n",
    "#\n",
    "\n",
    "In this workshop, we will work with fruitful functions and explore different ways to use them.\n",
    "\n",
    "\n"
   ]
  },
  {
   "cell_type": "markdown",
   "id": "b241755a",
   "metadata": {},
   "source": [
    "#\n",
    "\n",
    "Write a Python function called `square` that takes a number as input and returns the square of that number.\n",
    "\n",
    "\n"
   ]
  },
  {
   "cell_type": "code",
   "execution_count": null,
   "id": "679f9ed9",
   "metadata": {},
   "outputs": [],
   "source": [
    "def square(num):\n",
    "    return num * num"
   ]
  },
  {
   "cell_type": "markdown",
   "id": "b0ec6086",
   "metadata": {},
   "source": [
    "#\n",
    "\n",
    "Use the `square` function to calculate the square of 7.\n",
    "\n",
    "\n"
   ]
  },
  {
   "cell_type": "code",
   "execution_count": null,
   "id": "d3c7e257",
   "metadata": {},
   "outputs": [],
   "source": [
    "square(7)"
   ]
  },
  {
   "cell_type": "markdown",
   "id": "334c4680",
   "metadata": {},
   "source": [
    "#\n",
    "\n",
    "Create a function called `multiply` that takes two numbers as input and returns their product.\n",
    "\n",
    "\n"
   ]
  },
  {
   "cell_type": "code",
   "execution_count": null,
   "id": "9cd4ab6e",
   "metadata": {},
   "outputs": [],
   "source": [
    "def multiply(num1, num2):\n",
    "    return num1 * num2"
   ]
  },
  {
   "cell_type": "markdown",
   "id": "e041c3e3",
   "metadata": {},
   "source": [
    "#\n",
    "\n",
    "Use the `multiply` function to calculate the product of 10 and 3.\n",
    "\n",
    "\n"
   ]
  },
  {
   "cell_type": "code",
   "execution_count": null,
   "id": "4ee0ca88",
   "metadata": {},
   "outputs": [],
   "source": [
    "multiply(10, 3)"
   ]
  },
  {
   "cell_type": "markdown",
   "id": "9f57f3dd",
   "metadata": {},
   "source": [
    "#\n",
    "\n",
    "Write a function called `is_even` that takes a number as input and returns `True` if the number is even, and `False` otherwise.\n",
    "\n",
    "\n"
   ]
  },
  {
   "cell_type": "code",
   "execution_count": null,
   "id": "0ad34894",
   "metadata": {},
   "outputs": [],
   "source": [
    "def is_even(num):\n",
    "    if num % 2 == 0:\n",
    "        return True\n",
    "    else:\n",
    "        return False"
   ]
  },
  {
   "cell_type": "markdown",
   "id": "16febf71",
   "metadata": {},
   "source": [
    "#\n",
    "\n",
    "Use the `is_even` function to check if 10 is even.\n",
    "\n",
    "\n"
   ]
  },
  {
   "cell_type": "code",
   "execution_count": null,
   "id": "376525a2",
   "metadata": {},
   "outputs": [],
   "source": [
    "is_even(10)"
   ]
  },
  {
   "cell_type": "markdown",
   "id": "ade5b84a",
   "metadata": {},
   "source": [
    "#\n",
    "\n",
    "Use the `is_even` function to check if 7 is even.\n",
    "\n",
    "\n"
   ]
  },
  {
   "cell_type": "code",
   "execution_count": null,
   "id": "6968cc7a",
   "metadata": {},
   "outputs": [],
   "source": [
    "is_even(7)\n",
    "-----End Workshop-----"
   ]
  },
  {
   "cell_type": "markdown",
   "id": "ef8d6cb4",
   "metadata": {},
   "source": [
    "## Boolean Functions\n",
    "\n",
    "- Functions can return booleans, which is often convenient for encapsulating complicated tests inside functions\n",
    "\n",
    "- The result of the comparison operator `==` is a boolean, so we can return it directly\n",
    "\n",
    "- Boolean functions are often used in conditional statements\n",
    "\n",
    "\n"
   ]
  },
  {
   "cell_type": "markdown",
   "id": "85ed4ef4",
   "metadata": {},
   "source": [
    "- The function `is_divisible(x, y)` returns either `True` or `False` to indicate whether `x` is divisible by `y`\n",
    "\n",
    "- The extra comparison in conditional statements such as `if is_divisible(x, y) == True` is unnecessary\n",
    "\n",
    "- An exercise is to write a function `is_between(x, y, z)` that returns `True` if `x ≤ y ≤ z` or `False` otherwise \n",
    "\n",
    "\n"
   ]
  },
  {
   "cell_type": "markdown",
   "id": "ed610244",
   "metadata": {},
   "source": [
    "- The functions can be used to ask yes/no questions by naming them accordingly\n",
    "\n",
    "- As an example, the function `is_divisible(x, y)` returns either `True` or `False` to indicate whether `x` is divisible by `y`\n"
   ]
  },
  {
   "cell_type": "markdown",
   "id": "a4b274e8",
   "metadata": {},
   "source": [
    "#\n",
    "\n",
    "## Mini-workshop: Fruitful Functions (Part 1)\n",
    "\n",
    "Let's learn about boolean functions and how to use the return values from them!\n",
    "\n",
    "\n",
    "\n",
    "- We will start by using the `is_divisible(x, y)` function that returns `True` if `x` is divisible by `y` and `False` otherwise. \n",
    "\n",
    "- Then, we will create our own boolean function `is_between(x, y, z)` that returns `True` if `x ≤ y ≤ z` or `False` otherwise.\n",
    "\n",
    "\n"
   ]
  },
  {
   "cell_type": "markdown",
   "id": "536636e8",
   "metadata": {},
   "source": [
    "#\n",
    "\n",
    "The function `is_divisible(x, y)` returns either `True` or `False` to indicate whether `x` is divisible by `y`.\n",
    "\n",
    "\n"
   ]
  },
  {
   "cell_type": "markdown",
   "id": "348eab26",
   "metadata": {},
   "source": [
    "#\n",
    "\n",
    "Define a function called `is_divisible` that takes two parameters `x` and `y`, and returns `True` if `x` is divisible by `y`, and `False` otherwise.\n",
    "\n",
    "def is_divisible(x, y):\n",
    "\n",
    "    if x % y == 0:\n",
    "\n",
    "        return True\n",
    "\n",
    "    else:\n",
    "\n",
    "        return False\n",
    "\n",
    "\n"
   ]
  },
  {
   "cell_type": "markdown",
   "id": "1b012ce0",
   "metadata": {},
   "source": [
    "#\n",
    "\n",
    "Now, test the function with some values to verify that it is working correctly.\n",
    "\n",
    "is_divisible(10, 2)  # Expected output: True\n",
    "\n",
    "\n"
   ]
  },
  {
   "cell_type": "markdown",
   "id": "fee1e06c",
   "metadata": {},
   "source": [
    "#\n",
    "\n",
    "An exercise is to write a function `is_between(x, y, z)` that returns `True` if `x ≤ y ≤ z` or `False` otherwise.\n",
    "\n",
    "\n",
    "\n",
    "Define a function called `is_between` that takes three parameters `x`, `y`, and `z`, and returns `True` if `x ≤ y ≤ z`, and `False` otherwise.\n",
    "\n",
    "def is_between(x, y, z):\n",
    "\n",
    "    if x <= y <= z:\n",
    "\n",
    "        return True\n",
    "\n",
    "    else:\n",
    "\n",
    "        return False\n",
    "\n",
    "\n"
   ]
  },
  {
   "cell_type": "markdown",
   "id": "abfe8ce6",
   "metadata": {},
   "source": [
    "#\n",
    "\n",
    "Now, test the function with some values to verify that it is working correctly. \n",
    "\n",
    "is_between(5, 10, 15)  # Expected output: True\n",
    "\n",
    "\n"
   ]
  },
  {
   "cell_type": "markdown",
   "id": "bdc24f45",
   "metadata": {},
   "source": [
    "#\n",
    "\n",
    "You can use the functions to ask yes/no questions by naming them accordingly. \n",
    "\n",
    "\n",
    "\n",
    "For example, the function `is_divisible(x, y)` returns either `True` or `False` to indicate whether `x` is divisible by `y`.\n",
    "\n",
    "\n"
   ]
  },
  {
   "cell_type": "code",
   "execution_count": null,
   "id": "95d8b3ef",
   "metadata": {},
   "outputs": [],
   "source": [
    "# Let's test the is_divisible and is_between functions with some additional values\n",
    "is_divisible(20, 7)  # Expected output: False"
   ]
  },
  {
   "cell_type": "markdown",
   "id": "1f4e8e32",
   "metadata": {},
   "source": [
    "#\n",
    "\n",
    "Feel free to play around with the functions and try different input values to see how they work!\n",
    "\n",
    "\n"
   ]
  },
  {
   "cell_type": "markdown",
   "id": "1df8502c",
   "metadata": {},
   "source": [
    "\n",
    "\n",
    "Good job completing the workshop! Now you have a better understanding of boolean functions and how to use the return values from them. Keep practicing to solidify your understanding.\n",
    "\n",
    "\n"
   ]
  },
  {
   "cell_type": "markdown",
   "id": "5b0c66ce",
   "metadata": {},
   "source": [
    "## More Recursion\n",
    "\n",
    "- Python is a complete programming language, which means that anything that can be computed can be expressed in this language\n",
    "\n",
    "- In fact, any program ever written could be rewritten using only the language features learned so far\n",
    "\n",
    "- Validation is from the Turing Thesis, initially accomplished by Alan Turing\n",
    "\n",
    "- For an accurate discussion of the Turing Thesis, Michael Sipser's book \"Introduction to the Theory of Computation\" is recommended\n",
    "\n",
    "- A recursive definition is similar to a circular definition i.e. it contains a reference to the thing being defined\n",
    "\n",
    "\n"
   ]
  },
  {
   "cell_type": "markdown",
   "id": "147374ea",
   "metadata": {},
   "source": [
    "## Factorial Function\n",
    "\n",
    "- The definition of the factorial function is !n = n(n-1)!\n",
    "\n",
    "- A recursive definition allows us to write a Python program to evaluate it\n",
    "\n",
    "- The first step involves deciding what the parameters should be\n",
    "\n",
    "\n"
   ]
  },
  {
   "cell_type": "markdown",
   "id": "24d61759",
   "metadata": {},
   "source": [
    "## Python Program to Calculate Factorial Function\n",
    "\n",
    "- If the argument happens to be 0, return 1\n",
    "\n",
    "- Otherwise, make a recursive call to find the factorial of n-1 and then multiply it by n\n",
    "\n",
    "Here is the workshop for the topic \"Fruitful Functions\":\n",
    "\n",
    "\n"
   ]
  },
  {
   "cell_type": "markdown",
   "id": "720394c2",
   "metadata": {},
   "source": [
    "#\n",
    "\n",
    "## Mini-Workshop: Fruitful Functions\n",
    "\n",
    "#\n",
    "\n",
    "- Define a function called `square` that takes a single argument `x` and returns the square of `x`.\n",
    "\n",
    "- Define a function called `add` that takes two arguments `a` and `b` and returns the sum of `a` and `b`.\n",
    "\n",
    "\n"
   ]
  },
  {
   "cell_type": "code",
   "execution_count": null,
   "id": "952e81a2",
   "metadata": {},
   "outputs": [],
   "source": [
    "def square(x):\n",
    "    return x ** 2"
   ]
  },
  {
   "cell_type": "code",
   "execution_count": null,
   "id": "2d7d8005",
   "metadata": {},
   "outputs": [],
   "source": [
    "def add(a, b):\n",
    "    return a + b"
   ]
  },
  {
   "cell_type": "markdown",
   "id": "6405f297",
   "metadata": {},
   "source": [
    "#\n",
    "\n",
    "Use the `square` function to calculate the squares of the numbers 1, 2, and 3.\n",
    "\n",
    "\n"
   ]
  },
  {
   "cell_type": "code",
   "execution_count": null,
   "id": "c6799688",
   "metadata": {},
   "outputs": [],
   "source": [
    "square(1), square(2), square(3)"
   ]
  },
  {
   "cell_type": "markdown",
   "id": "8e95f008",
   "metadata": {},
   "source": [
    "#\n",
    "\n",
    "Use the `add` function to calculate the sum of the numbers 4 and 5.\n",
    "\n",
    "\n"
   ]
  },
  {
   "cell_type": "code",
   "execution_count": null,
   "id": "523e6177",
   "metadata": {},
   "outputs": [],
   "source": [
    "add(4, 5)"
   ]
  },
  {
   "cell_type": "markdown",
   "id": "c258eb5c",
   "metadata": {},
   "source": [
    "#\n",
    "\n",
    "Define a function called `is_even` that takes a single argument `n` and returns `True` if `n` is even, and `False` otherwise.\n",
    "\n",
    "\n"
   ]
  },
  {
   "cell_type": "code",
   "execution_count": null,
   "id": "fec39acf",
   "metadata": {},
   "outputs": [],
   "source": [
    "def is_even(n):\n",
    "    return n % 2 == 0"
   ]
  },
  {
   "cell_type": "markdown",
   "id": "ad79d4fe",
   "metadata": {},
   "source": [
    "#\n",
    "\n",
    "Use the `is_even` function to check if the numbers 6, 7, and 8 are even.\n",
    "\n",
    "\n"
   ]
  },
  {
   "cell_type": "code",
   "execution_count": null,
   "id": "d7bb49e2",
   "metadata": {},
   "outputs": [],
   "source": [
    "is_even(6), is_even(7), is_even(8)"
   ]
  },
  {
   "cell_type": "markdown",
   "id": "9bf5c165",
   "metadata": {},
   "source": [
    "## 6.6 Leap of faith\n",
    "\n",
    "- Reading programs by following the flow of execution can quickly become overwhelming \n",
    "\n",
    "- An alternative approach is the \"leap of faith\", where when you come to a function call, you assume that the function works correctly and returns the right result \n",
    "\n",
    "- This is similar to using built-in functions where you don't examine the bodies of the functions, you just assume that they work \n",
    "\n",
    "- The same is true for your own functions once you have convinced yourself that they are correct; you can use the function without examining the body again \n",
    "\n",
    "- When dealing with recursive programs, instead of following the flow of execution, you should assume that the recursive call works and then ask if you can compute the result based on that assumption \n",
    "\n",
    "- It might be strange to assume that the function works correctly while you're still writing it, but that's why it's called a leap of faith\n",
    "\n",
    "-----Start Workshop-----\n"
   ]
  },
  {
   "cell_type": "markdown",
   "id": "32048602",
   "metadata": {},
   "source": [
    "#\n",
    "\n",
    "## Mini-workshop: Fruitful Functions (Part 1)\n",
    "\n",
    "#\n",
    "\n",
    "- Define a function called `addition` that takes two parameters `a` and `b` and returns their sum.\n",
    "\n",
    "- Define a function called `subtraction` that takes two parameters `a` and `b` and returns their difference.\n",
    "\n",
    "\n"
   ]
  },
  {
   "cell_type": "code",
   "execution_count": null,
   "id": "9b2f4fd2",
   "metadata": {},
   "outputs": [],
   "source": [
    "def addition(a, b):\n",
    "    return a + b\n",
    "\n",
    "def subtraction(a, b):\n",
    "    return a - b"
   ]
  },
  {
   "cell_type": "markdown",
   "id": "e6b8bbe0",
   "metadata": {},
   "source": [
    "#\n",
    "\n",
    "Use the `addition` function to calculate the sum of 10 and 20.\n",
    "\n",
    "\n"
   ]
  },
  {
   "cell_type": "code",
   "execution_count": null,
   "id": "0674b885",
   "metadata": {},
   "outputs": [],
   "source": [
    "addition(10, 20)"
   ]
  },
  {
   "cell_type": "markdown",
   "id": "87a865be",
   "metadata": {},
   "source": [
    "#\n",
    "\n",
    "Use the `subtraction` function to calculate the difference between 30 and 15.\n",
    "\n",
    "\n"
   ]
  },
  {
   "cell_type": "code",
   "execution_count": null,
   "id": "97cb6cc0",
   "metadata": {},
   "outputs": [],
   "source": [
    "subtraction(30, 15)"
   ]
  },
  {
   "cell_type": "markdown",
   "id": "31ad5e6e",
   "metadata": {},
   "source": [
    "#\n",
    "\n",
    "Define a function called `multiplication` that takes two parameters `a` and `b` and returns their product.\n",
    "\n",
    "Define a function called `division` that takes two parameters `a` and `b` and returns the result of dividing `a` by `b`.\n",
    "\n",
    "\n"
   ]
  },
  {
   "cell_type": "code",
   "execution_count": null,
   "id": "677a70f4",
   "metadata": {},
   "outputs": [],
   "source": [
    "def multiplication(a, b):\n",
    "    return a * b\n",
    "\n",
    "def division(a, b):\n",
    "    return a / b"
   ]
  },
  {
   "cell_type": "markdown",
   "id": "3a22bc20",
   "metadata": {},
   "source": [
    "#\n",
    "\n",
    "Use the `multiplication` function to calculate the product of 8 and 5.\n",
    "\n",
    "\n"
   ]
  },
  {
   "cell_type": "code",
   "execution_count": null,
   "id": "21ec4199",
   "metadata": {},
   "outputs": [],
   "source": [
    "multiplication(8, 5)"
   ]
  },
  {
   "cell_type": "markdown",
   "id": "095199dc",
   "metadata": {},
   "source": [
    "#\n",
    "\n",
    "Use the `division` function to calculate the result of dividing 50 by 10.\n",
    "\n",
    "\n"
   ]
  },
  {
   "cell_type": "code",
   "execution_count": null,
   "id": "68a6d28f",
   "metadata": {},
   "outputs": [],
   "source": [
    "division(50, 10)"
   ]
  },
  {
   "cell_type": "markdown",
   "id": "ea38458b",
   "metadata": {},
   "source": [
    "#\n",
    "\n",
    "Define a function called `power` that takes two parameters `base` and `exponent` and returns the result of raising `base` to the power of `exponent`.\n",
    "\n",
    "\n"
   ]
  },
  {
   "cell_type": "code",
   "execution_count": null,
   "id": "1113f985",
   "metadata": {},
   "outputs": [],
   "source": [
    "def power(base, exponent):\n",
    "    return base ** exponent"
   ]
  },
  {
   "cell_type": "markdown",
   "id": "9afab0a4",
   "metadata": {},
   "source": [
    "#\n",
    "\n",
    "Use the `power` function to calculate 2 raised to the power of 5.\n",
    "\n",
    "\n"
   ]
  },
  {
   "cell_type": "code",
   "execution_count": null,
   "id": "e650cb64",
   "metadata": {},
   "outputs": [],
   "source": [
    "power(2, 5)\n",
    "-----End Workshop-----"
   ]
  },
  {
   "cell_type": "markdown",
   "id": "8d39d7fa",
   "metadata": {},
   "source": [
    "## One more example\n",
    "\n",
    "- Another common example of a recursively defined mathematical function is the fibonacci sequence\n",
    "\n",
    "- The fibonacci sequence has the following recursive definition: \n",
    "\n",
    "  - fibonacci(0) = 0\n",
    "\n",
    "  - fibonacci(1) = 1\n",
    "\n",
    "  - fibonacci(n) = fibonacci(n-1) + fibonacci(n-2)\n",
    "\n",
    "- Translating the definition into Python, it looks like this:\n",
    "\n",
    "\n"
   ]
  },
  {
   "cell_type": "markdown",
   "id": "e93eedd6",
   "metadata": {},
   "source": [
    "## One more example\n",
    "\n",
    "- Translated into Python, it looks like this:\n",
    "\n",
    "- def fibonacci(n):\n",
    "\n",
    "    - if n == 0:\n",
    "\n",
    "        - return 0\n",
    "\n",
    "    - elif n == 1:\n",
    "\n",
    "        - return 1\n",
    "\n",
    "    - else:\n",
    "\n",
    "        - return fibonacci(n-1) + fibonacci(n-2)\n",
    "\n",
    "\n"
   ]
  },
  {
   "cell_type": "markdown",
   "id": "c5b92b9b",
   "metadata": {},
   "source": [
    "## One more example\n",
    "\n",
    "- If you try to follow the flow of execution for the fibonacci sequence for even a fairly small value of n, it can be challenging\n",
    "\n",
    "- According to the leap of faith, if you assume that the two recursive calls work correctly, then it is clear that you get the right result by adding them together.\n"
   ]
  },
  {
   "cell_type": "markdown",
   "id": "003e4260",
   "metadata": {},
   "source": [
    "#\n",
    "\n",
    "## Mini-workshop: Fruitful Functions (Part 1)\n",
    "\n",
    "\n",
    "\n",
    "- Define a function called `calculate_circle_area` that takes a parameter `radius` and returns the area of a circle with that radius.\n",
    "\n",
    "- Use the formula for the area of a circle: $A = \\pi r^2$.\n",
    "\n",
    "\n"
   ]
  },
  {
   "cell_type": "code",
   "execution_count": null,
   "id": "3ea70bde",
   "metadata": {},
   "outputs": [],
   "source": [
    "import math\n",
    "\n",
    "def calculate_circle_area(radius):\n",
    "    area = math.pi * (radius ** 2)\n",
    "    return area"
   ]
  },
  {
   "cell_type": "markdown",
   "id": "833ec83c",
   "metadata": {},
   "source": [
    "#\n",
    "\n",
    "Write a function called `calculate_triangle_area` that takes two parameters `base` and `height` and returns the area of a triangle with that base and height.\n",
    "\n",
    "Use the formula for the area of a triangle: $A = \\frac{1}{2} \\times base \\times height$.\n",
    "\n",
    "\n"
   ]
  },
  {
   "cell_type": "code",
   "execution_count": null,
   "id": "820e8c8f",
   "metadata": {},
   "outputs": [],
   "source": [
    "def calculate_triangle_area(base, height):\n",
    "    area = 0.5 * base * height\n",
    "    return area"
   ]
  },
  {
   "cell_type": "markdown",
   "id": "cae5928d",
   "metadata": {},
   "source": [
    "#\n",
    "\n",
    "Create a function called `calculate_rectangle_area` that takes two parameters `length` and `width` and returns the area of a rectangle with that length and width.\n",
    "\n",
    "Use the formula for the area of a rectangle: $A = length \\times width$.\n",
    "\n",
    "\n"
   ]
  },
  {
   "cell_type": "code",
   "execution_count": null,
   "id": "3cb7ce73",
   "metadata": {},
   "outputs": [],
   "source": [
    "def calculate_rectangle_area(length, width):\n",
    "    area = length * width\n",
    "    return area"
   ]
  },
  {
   "cell_type": "markdown",
   "id": "f6ca8554",
   "metadata": {},
   "source": [
    "#\n",
    "\n",
    "Create a function called `calculate_square_area` that takes a parameter `side` and returns the area of a square with that side length.\n",
    "\n",
    "Use the formula for the area of a square: $A = side^2$.\n",
    "\n",
    "\n"
   ]
  },
  {
   "cell_type": "code",
   "execution_count": null,
   "id": "b4589866",
   "metadata": {},
   "outputs": [],
   "source": [
    "def calculate_square_area(side):\n",
    "    area = side ** 2\n",
    "    return area"
   ]
  },
  {
   "cell_type": "markdown",
   "id": "5b102db4",
   "metadata": {},
   "source": [
    "## Checking types\n",
    "\n",
    "- When calling a function with a non-integer input, it can lead to infinite recursion\n",
    "\n",
    "- To handle this, we can use the `isinstance` function to verify the type of the argument and ensure it is positive\n",
    "\n",
    "- The `factorial` function can be modified to check for:\n",
    "\n",
    "    - Non-integer input\n",
    "\n",
    "    - Negative integers\n",
    "\n",
    "- Upon encountering these cases, the function prints an error message and returns `None`\n",
    "\n",
    "- The program demonstrates the use of \"guardians\" to protect the code from values that might cause errors\n",
    "\n",
    "\n"
   ]
  },
  {
   "cell_type": "markdown",
   "id": "2a66ffaa",
   "metadata": {},
   "source": [
    "## Checking types (Code)\n",
    "\n",
    "def factorial(n):\n",
    "\n",
    "    if not isinstance(n, int):\n",
    "\n",
    "        print('Factorial is only defined for integers.')\n",
    "\n",
    "        return None\n",
    "\n",
    "    elif n < 0:\n",
    "\n",
    "        print('Factorial is not defined for negative integers.')\n",
    "\n",
    "        return None\n",
    "\n",
    "    elif n == 0:\n",
    "\n",
    "        return 1\n",
    "\n",
    "    else:\n",
    "\n",
    "        return n * factorial(n-1)\n"
   ]
  },
  {
   "cell_type": "markdown",
   "id": "2e3cb8af",
   "metadata": {},
   "source": [
    "## Mini-workshop: Fruitful Functions\n",
    "\n",
    "In this mini workshop, we will work with fruitful functions and learn how to handle different input types and conditions in our functions.\n",
    "\n",
    "\n"
   ]
  },
  {
   "cell_type": "markdown",
   "id": "ed300475",
   "metadata": {},
   "source": [
    "### Task 1\n",
    "\n",
    "Define a function called `calculate_circle_area` that takes a single argument `r` (radius) and calculates the area of a circle. The function should check if the input `r` is a positive number, and if not, it should print an error message and return `None`. Use the value of π as 3.14159.\n",
    "\n",
    "\n"
   ]
  },
  {
   "cell_type": "code",
   "execution_count": null,
   "id": "b849b4d4",
   "metadata": {},
   "outputs": [],
   "source": [
    "import math\n",
    "\n",
    "def calculate_circle_area(r):\n",
    "    if not isinstance(r, (int, float)) or r <= 0:\n",
    "        print('Radius should be a positive number.')\n",
    "        return None\n",
    "    else:\n",
    "        return math.pi * (r ** 2)"
   ]
  },
  {
   "cell_type": "markdown",
   "id": "fb087033",
   "metadata": {},
   "source": [
    "### Task 2\n",
    "\n",
    "Define a function called `calculate_triangle_area` that takes two arguments `base` and `height` and calculates the area of a triangle. The function should check if the inputs `base` and `height` are positive numbers, and if not, it should print an error message and return `None`.\n",
    "\n",
    "\n"
   ]
  },
  {
   "cell_type": "code",
   "execution_count": null,
   "id": "e5766006",
   "metadata": {},
   "outputs": [],
   "source": [
    "def calculate_triangle_area(base, height):\n",
    "    if not isinstance(base, (int, float)) or base <= 0 or not isinstance(height, (int, float)) or height <= 0:\n",
    "        print('Base and height should be positive numbers.')\n",
    "        return None\n",
    "    else:\n",
    "        return 0.5 * base * height"
   ]
  },
  {
   "cell_type": "markdown",
   "id": "dd8e0254",
   "metadata": {},
   "source": [
    "### Task 3\n",
    "\n",
    "Define a function called `calculate_cylinder_volume` that takes two arguments `r` (radius) and `h` (height) and calculates the volume of a cylinder. The function should check if the inputs `r` and `h` are positive numbers, and if not, it should print an error message and return `None`.\n",
    "\n",
    "\n"
   ]
  },
  {
   "cell_type": "code",
   "execution_count": null,
   "id": "ef4d7840",
   "metadata": {},
   "outputs": [],
   "source": [
    "def calculate_cylinder_volume(r, h):\n",
    "    if not isinstance(r, (int, float)) or r <= 0 or not isinstance(h, (int, float)) or h <= 0:\n",
    "        print('Radius and height should be positive numbers.')\n",
    "        return None\n",
    "    else:\n",
    "        return math.pi * (r ** 2) * h"
   ]
  },
  {
   "cell_type": "markdown",
   "id": "fc48562f",
   "metadata": {},
   "source": [
    "## Key Takeaways\n",
    "\n",
    "\n",
    "\n",
    "- Fruitful functions can return a value and perform a specific task.\n",
    "\n",
    "- We can use type checking and condition handling to ensure that our functions receive the correct input.\n",
    "\n",
    "- Handling different scenarios and providing meaningful error messages can make our functions more robust and user-friendly.\n",
    "\n",
    "\n",
    "\n",
    "We have successfully created fruitful functions for calculating the area of a circle, area of a triangle, and volume of a cylinder.\n",
    "\n",
    "\n",
    "\n",
    "Now it's time to practice and apply these concepts and create more fruitful functions for various scenarios!\n"
   ]
  },
  {
   "cell_type": "markdown",
   "id": "dc048432",
   "metadata": {},
   "source": [
    "## Debugging\n",
    "\n",
    "- Breaking a large program into smaller functions creates natural checkpoints for debugging\n",
    "\n",
    "- Three possibilities to consider if a function is not working:\n",
    "\n",
    "  - Something wrong with the arguments the function is getting; a precondition is violated\n",
    "\n",
    "  - Something wrong with the function; a postcondition is violated\n",
    "\n",
    "  - Something wrong with the return value or the way it is being used\n",
    "\n",
    "- To rule out the first possibility, you can add a print statement at the beginning of the function and display the values of the parameters or write code that checks the preconditions explicitly\n",
    "\n",
    "\n"
   ]
  },
  {
   "cell_type": "markdown",
   "id": "bd38dcf1",
   "metadata": {},
   "source": [
    "## Debugging (cont.)\n",
    "\n",
    "- If the parameters look good, add a print statement before each return statement and display the return value\n",
    "\n",
    "- Consider calling the function with values that make it easy to check the result\n",
    "\n",
    "- If the function seems to be working, look at the function call to make sure the return value is being used correctly (or used at all!)\n",
    "\n",
    "- Adding print statements at the beginning and end of a function can help make the flow of execution more visible\n"
   ]
  },
  {
   "cell_type": "markdown",
   "id": "f25d9632",
   "metadata": {},
   "source": [
    "## Fruitful Functions\n",
    "\n",
    "- A fruitful function is a function that returns a value\n",
    "\n",
    "- The return statement is used to send a value back from the function to the part of the program that called the function\n",
    "\n",
    "- The expression after the return statement is called the return value\n",
    "\n",
    "\n"
   ]
  },
  {
   "cell_type": "markdown",
   "id": "4a50d591",
   "metadata": {},
   "source": [
    "## Fruitful Functions (cont.)\n",
    "\n",
    "- To create a fruitful function:\n",
    "\n",
    "  - Define the function using def keyword followed by the function name and parameters\n",
    "\n",
    "  - Write the code inside the function with necessary computations\n",
    "\n",
    "  - Use the return statement to return the computed value\n",
    "\n",
    "\n"
   ]
  },
  {
   "cell_type": "markdown",
   "id": "36ea9c77",
   "metadata": {},
   "source": [
    "## Exercise: Fruitful Functions (Part 1)\n",
    "\n",
    "#\n",
    "\n",
    "- Define a function called `cylinder_volume` that takes two parameters `radius` and `height` and returns the volume of a cylinder using the formula: \n",
    "\n",
    "  `volume = π * radius^2 * height`\n",
    "\n",
    "- Use the value `3.14159` for π and return the volume with 2 decimal places.\n",
    "\n",
    "\n"
   ]
  },
  {
   "cell_type": "markdown",
   "id": "e6fb23b1",
   "metadata": {},
   "source": [
    "#\n",
    "\n",
    "Solution:\n",
    "\n",
    "#\n",
    "\n",
    "```python\n",
    "\n",
    "def cylinder_volume(radius, height):\n",
    "\n",
    "    volume = 3.14159 * radius**2 * height\n",
    "\n",
    "    return round(volume, 2)\n",
    "\n",
    "```\n",
    "\n",
    "\n"
   ]
  },
  {
   "cell_type": "markdown",
   "id": "da204b91",
   "metadata": {},
   "source": [
    "#\n",
    "\n",
    "Test your function with a cylinder of radius 5 and height 10.\n",
    "\n",
    "\n"
   ]
  },
  {
   "cell_type": "code",
   "execution_count": null,
   "id": "9dc70c30",
   "metadata": {},
   "outputs": [],
   "source": [
    "def cylinder_volume(radius, height):\n",
    "    volume = 3.14159 * radius**2 * height\n",
    "    return round(volume, 2)\n",
    "\n",
    "cylinder_volume(5, 10)"
   ]
  },
  {
   "cell_type": "markdown",
   "id": "1266d0d2",
   "metadata": {},
   "source": [
    "#\n",
    "\n",
    "Test your function with a cylinder of radius 2.5 and height 8.\n",
    "\n",
    "\n"
   ]
  },
  {
   "cell_type": "code",
   "execution_count": null,
   "id": "d01ab67d",
   "metadata": {},
   "outputs": [],
   "source": [
    "cylinder_volume(2.5, 8)"
   ]
  },
  {
   "cell_type": "markdown",
   "id": "022cb38e",
   "metadata": {},
   "source": [
    "## Glossary\n",
    "\n",
    "- temporary variable: A variable used to store an intermediate value in a complex calculation\n",
    "\n",
    "- dead code: Part of a program that can never run, often because it appears after a return statement\n",
    "\n",
    "- incremental development: A program development plan intended to avoid debugging by adding and testing only a small amount of code at a time\n",
    "\n",
    "- scaffolding: Code that is used during program development but is not part of the final version\n"
   ]
  },
  {
   "cell_type": "markdown",
   "id": "1c5e92ee",
   "metadata": {},
   "source": [
    "\n",
    "\n",
    "## Mini-workshop: Fruitful Functions\n",
    "\n",
    "#\n",
    "\n",
    "- Define a function called `multiply` that takes two arguments and returns their product.\n",
    "\n",
    "- Call the `multiply` function with the arguments 5 and 3. Print the result.\n",
    "\n",
    "\n"
   ]
  },
  {
   "cell_type": "code",
   "execution_count": null,
   "id": "77f5a361",
   "metadata": {},
   "outputs": [],
   "source": [
    "# Define the multiply function\n",
    "def multiply(x, y):\n",
    "    return x * y\n",
    "\n",
    "# Call the multiply function\n",
    "result = multiply(5, 3)\n",
    "print(result)"
   ]
  },
  {
   "cell_type": "markdown",
   "id": "b5a530fe",
   "metadata": {},
   "source": [
    "#\n",
    "\n",
    "Create a function called `power` that takes two arguments, a base and an exponent, and returns the result of raising the base to the exponent.\n",
    "\n",
    "- Call the `power` function with the arguments 2 and 3, and print the result.\n",
    "\n",
    "\n"
   ]
  },
  {
   "cell_type": "code",
   "execution_count": null,
   "id": "4f72277f",
   "metadata": {},
   "outputs": [],
   "source": [
    "# Define the power function\n",
    "def power(base, exponent):\n",
    "    return base ** exponent\n",
    "\n",
    "# Call the power function\n",
    "result = power(2, 3)\n",
    "print(result)"
   ]
  },
  {
   "cell_type": "markdown",
   "id": "be7bd4a0",
   "metadata": {},
   "source": [
    "#\n",
    "\n",
    "Create a function called `absolute_value` that takes a number as an argument and returns its absolute value.\n",
    "\n",
    "- Call the `absolute_value` function with the argument -5, and print the result.\n",
    "\n",
    "\n"
   ]
  },
  {
   "cell_type": "code",
   "execution_count": null,
   "id": "be82d8d5",
   "metadata": {},
   "outputs": [],
   "source": [
    "# Define the absolute_value function\n",
    "def absolute_value(x):\n",
    "    if x < 0:\n",
    "        return -x\n",
    "    else:\n",
    "        return x\n",
    "\n",
    "# Call the absolute_value function\n",
    "result = absolute_value(-5)\n",
    "print(result)"
   ]
  },
  {
   "cell_type": "markdown",
   "id": "9aaa838b",
   "metadata": {},
   "source": [
    "#\n",
    "\n",
    "Create a function called `average` that takes a list of numbers as an argument and returns the average of those numbers.\n",
    "\n",
    "- Call the `average` function with the argument `[3, 6, 9]` and print the result.\n",
    "\n",
    "\n"
   ]
  },
  {
   "cell_type": "code",
   "execution_count": null,
   "id": "ca658f65",
   "metadata": {},
   "outputs": [],
   "source": [
    "# Define the average function\n",
    "def average(nums):\n",
    "    return sum(nums) / len(nums)\n",
    "\n",
    "# Call the average function\n",
    "result = average([3, 6, 9])\n",
    "print(result)"
   ]
  },
  {
   "cell_type": "markdown",
   "id": "ffca14fb",
   "metadata": {},
   "source": [
    "## 6.11  Exercises\n",
    "\n",
    "- **Exercise 1** asks us to draw a stack diagram for the given program and identify what the program prints\n",
    "\n",
    "- We're required to create a function `ack` to evaluate the Ackermann function for **Exercise 2**\n",
    "\n",
    "- **Exercise 3** expects us to create functions to identify if a word is a palindrome and evaluate a given string\n",
    "\n",
    "- **Exercise 4** instructs us to create a function called `is_power` to identify if a number is a power of another number\n",
    "\n",
    "- Lastly, **Exercise 5** require us to develop a function to identify the greatest common divisor of two numbers.\n"
   ]
  },
  {
   "cell_type": "markdown",
   "id": "92849232",
   "metadata": {},
   "source": [
    "## 6.11  Exercises\n",
    "\n",
    "- **Exercise 1** asks us to draw a stack diagram for the given program and identify what the program prints\n",
    "\n",
    "- We're required to create a function `ack` to evaluate the Ackermann function for **Exercise 2**\n",
    "\n",
    "- **Exercise 3** expects us to create functions to identify if a word is a palindrome and evaluate a given string\n",
    "\n",
    "- **Exercise 4** instructs us to create a function called `is_power` to identify if a number is a power of another number\n",
    "\n",
    "- Lastly, **Exercise 5** require us to develop a function to identify the greatest common divisor of two numbers.\n",
    "\n",
    "\n"
   ]
  },
  {
   "cell_type": "markdown",
   "id": "0641c63b",
   "metadata": {},
   "source": [
    "#\n",
    "\n",
    "## Mini-workshop: Fruitful Functions\n",
    "\n",
    "#\n",
    "\n",
    "In this workshop, we'll focus on creating fruitful functions that return values after performing computations. Let's start by defining some basic functions and then move on to the exercises.\n",
    "\n",
    "\n"
   ]
  },
  {
   "cell_type": "markdown",
   "id": "e3e3ffed",
   "metadata": {},
   "source": [
    "#\n",
    "\n",
    "Create a function `add_numbers` that takes two numbers as input and returns the sum of the two numbers.\n",
    "\n",
    "\n"
   ]
  },
  {
   "cell_type": "code",
   "execution_count": null,
   "id": "960abd95",
   "metadata": {},
   "outputs": [],
   "source": [
    "def add_numbers(num1, num2):\n",
    "    return num1 + num2\n",
    "\n",
    "add_numbers(5, 3)"
   ]
  },
  {
   "cell_type": "markdown",
   "id": "587a4410",
   "metadata": {},
   "source": [
    "#\n",
    "\n",
    "Create a function `multiply_numbers` that takes two numbers as input and returns the product of the two numbers.\n",
    "\n",
    "\n"
   ]
  },
  {
   "cell_type": "code",
   "execution_count": null,
   "id": "875e2ac1",
   "metadata": {},
   "outputs": [],
   "source": [
    "def multiply_numbers(num1, num2):\n",
    "    return num1 * num2\n",
    "\n",
    "multiply_numbers(5, 3)"
   ]
  },
  {
   "cell_type": "markdown",
   "id": "dc5e63b8",
   "metadata": {},
   "source": [
    "#\n",
    "\n",
    "Create a function `calculate_power` that takes a base and an exponent as input and returns the result of the base raised to the exponent.\n",
    "\n",
    "\n"
   ]
  },
  {
   "cell_type": "code",
   "execution_count": null,
   "id": "d059b7e5",
   "metadata": {},
   "outputs": [],
   "source": [
    "def calculate_power(base, exponent):\n",
    "    return base ** exponent\n",
    "\n",
    "calculate_power(2, 3)"
   ]
  },
  {
   "cell_type": "markdown",
   "id": "60f0bace",
   "metadata": {},
   "source": [
    "#\n",
    "\n",
    "Now that we've covered some basic fruitful functions, let's move on to the exercises to apply what we've learned.\n",
    "\n",
    "\n"
   ]
  },
  {
   "cell_type": "markdown",
   "id": "95c5050e",
   "metadata": {},
   "source": [
    "#\n",
    "\n",
    "## Exercise 1\n",
    "\n",
    "#\n",
    "\n",
    "For this exercise, draw a stack diagram for the given program and identify what the program prints.\n",
    "\n",
    "\n"
   ]
  },
  {
   "cell_type": "markdown",
   "id": "39753d48",
   "metadata": {},
   "source": [
    "#\n",
    "\n",
    "## Exercise 2\n",
    "\n",
    "#\n",
    "\n",
    "For this exercise, we're required to create a function `ack` to evaluate the Ackermann function. The Ackermann function is defined for non-negative integers `m` and `n` as follows:\n",
    "\n",
    "- If `m = 0`, the result is `n + 1`.\n",
    "\n",
    "- If `m > 0` and `n = 0`, the result is `ack(m-1, 1)`.\n",
    "\n",
    "- If `m > 0` and `n > 0`, the result is `ack(m-1, ack(m, n-1))`.\n",
    "\n",
    "\n"
   ]
  },
  {
   "cell_type": "markdown",
   "id": "06b58dfb",
   "metadata": {},
   "source": [
    "#\n",
    "\n",
    "## Exercise 3\n",
    "\n",
    "#\n",
    "\n",
    "For this exercise, create a function called `is_palindrome` that takes a string as input and checks if it is a palindrome. A palindrome is a word, phrase, number, or other sequence of characters that reads the same forward and backward (ignoring spaces, punctuation, and capitalization).\n",
    "\n",
    "\n"
   ]
  },
  {
   "cell_type": "markdown",
   "id": "47e74d5e",
   "metadata": {},
   "source": [
    "#\n",
    "\n",
    "## Exercise 4\n",
    "\n",
    "#\n",
    "\n",
    "For this exercise, create a function called `is_power` that takes two integers, `a` and `b`, as input and returns `True` if `a` is a power of `b`. A number `a` is a power of `b` if it is divisible by `b` and `a/b` is also a power of `b`.\n",
    "\n",
    "\n"
   ]
  },
  {
   "cell_type": "markdown",
   "id": "09b93719",
   "metadata": {},
   "source": [
    "#\n",
    "\n",
    "## Exercise 5\n",
    "\n",
    "#\n",
    "\n",
    "For this exercise, develop a function called `gcd` that takes two positive integers as input and returns their greatest common divisor. The greatest common divisor (GCD) of two integers is the largest positive integer that divides each of the integers without a remainder. Use the Euclidean algorithm to implement the function.\n",
    "\n",
    "\n"
   ]
  },
  {
   "cell_type": "markdown",
   "id": "61d9f4cb",
   "metadata": {},
   "source": [
    "#\n",
    "\n",
    "Great work on learning about fruitful functions and solving exercises! Keep practicing and applying these concepts to build your expertise in Python programming.\n"
   ]
  }
 ],
 "metadata": {},
 "nbformat": 4,
 "nbformat_minor": 5
}
