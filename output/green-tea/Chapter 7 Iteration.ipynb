{
 "cells": [
  {
   "cell_type": "markdown",
   "id": "b76920ca",
   "metadata": {},
   "source": [
    "<img src=\"data:image/png;base64,iVBORw0KGgoAAAANSUhEUgAAAG8AAABuCAYAAAApmU3FAAAEtmlUWHRYTUw6Y29tLmFkb2JlLnht\n",
    "cAAAAAAAPD94cGFja2V0IGJlZ2luPSLvu78iIGlkPSJXNU0wTXBDZWhpSHpyZVN6TlRjemtjOWQi\n",
    "Pz4KPHg6eG1wbWV0YSB4bWxuczp4PSJhZG9iZTpuczptZXRhLyIgeDp4bXB0az0iWE1QIENvcmUg\n",
    "NS41LjAiPgogPHJkZjpSREYgeG1sbnM6cmRmPSJodHRwOi8vd3d3LnczLm9yZy8xOTk5LzAyLzIy\n",
    "LXJkZi1zeW50YXgtbnMjIj4KICA8cmRmOkRlc2NyaXB0aW9uIHJkZjphYm91dD0iIgogICAgeG1s\n",
    "bnM6ZXhpZj0iaHR0cDovL25zLmFkb2JlLmNvbS9leGlmLzEuMC8iCiAgICB4bWxuczp0aWZmPSJo\n",
    "dHRwOi8vbnMuYWRvYmUuY29tL3RpZmYvMS4wLyIKICAgIHhtbG5zOnBob3Rvc2hvcD0iaHR0cDov\n",
    "L25zLmFkb2JlLmNvbS9waG90b3Nob3AvMS4wLyIKICAgIHhtbG5zOnhtcD0iaHR0cDovL25zLmFk\n",
    "b2JlLmNvbS94YXAvMS4wLyIKICAgIHhtbG5zOnhtcE1NPSJodHRwOi8vbnMuYWRvYmUuY29tL3hh\n",
    "cC8xLjAvbW0vIgogICAgeG1sbnM6c3RFdnQ9Imh0dHA6Ly9ucy5hZG9iZS5jb20veGFwLzEuMC9z\n",
    "VHlwZS9SZXNvdXJjZUV2ZW50IyIKICAgZXhpZjpQaXhlbFhEaW1lbnNpb249IjExMSIKICAgZXhp\n",
    "ZjpQaXhlbFlEaW1lbnNpb249IjExMCIKICAgZXhpZjpDb2xvclNwYWNlPSIxIgogICB0aWZmOklt\n",
    "YWdlV2lkdGg9IjExMSIKICAgdGlmZjpJbWFnZUxlbmd0aD0iMTEwIgogICB0aWZmOlJlc29sdXRp\n",
    "b25Vbml0PSIyIgogICB0aWZmOlhSZXNvbHV0aW9uPSI3Mi4wIgogICB0aWZmOllSZXNvbHV0aW9u\n",
    "PSI3Mi4wIgogICBwaG90b3Nob3A6Q29sb3JNb2RlPSIzIgogICBwaG90b3Nob3A6SUNDUHJvZmls\n",
    "ZT0ic1JHQiBJRUM2MTk2Ni0yLjEiCiAgIHhtcDpNb2RpZnlEYXRlPSIyMDIwLTAyLTEzVDE2OjQ4\n",
    "OjM2KzAxOjAwIgogICB4bXA6TWV0YWRhdGFEYXRlPSIyMDIwLTAyLTEzVDE2OjQ4OjM2KzAxOjAw\n",
    "Ij4KICAgPHhtcE1NOkhpc3Rvcnk+CiAgICA8cmRmOlNlcT4KICAgICA8cmRmOmxpCiAgICAgIHN0\n",
    "RXZ0OmFjdGlvbj0icHJvZHVjZWQiCiAgICAgIHN0RXZ0OnNvZnR3YXJlQWdlbnQ9IkFmZmluaXR5\n",
    "IERlc2lnbmVyIDEuNy4zIgogICAgICBzdEV2dDp3aGVuPSIyMDIwLTAyLTEzVDE2OjQ4OjM2KzAx\n",
    "OjAwIi8+CiAgICA8L3JkZjpTZXE+CiAgIDwveG1wTU06SGlzdG9yeT4KICA8L3JkZjpEZXNjcmlw\n",
    "dGlvbj4KIDwvcmRmOlJERj4KPC94OnhtcG1ldGE+Cjw/eHBhY2tldCBlbmQ9InIiPz63ZYCCAAAB\n",
    "gWlDQ1BzUkdCIElFQzYxOTY2LTIuMQAAKJF1kc8rRFEUxz9miDCNYmFh8dKwQoMSG4uZ/Cosxii/\n",
    "Nm+eeTNq3szrvZk02SpbRYmNXwv+ArbKWikiJSsLa2KDnvM8NZI5t3PP537vPad7zwVfPKMZdmUY\n",
    "jGzeio1ElJnZOaX6ER8BgoQJqJptTkwNxylrbzdUuPGq061V/ty/VreYtDWoqBEe1EwrLzwqPL6c\n",
    "N13eFG7S0uqi8LFwhyUXFL529YTHTy6nPP5w2YrHouBrEFZSvzjxi7W0ZQjLywkZmYL2cx/3JfXJ\n",
    "7PSUxFbxFmxijBBBYYwhovTRzYDMfXTSQ5esKJMf/s6fJCe5mswmRSyWSJEmT4eoBamelKiLnpSR\n",
    "oej2/29fbb23x6teH4GqB8d5aYPqDfhcd5z3fcf5PAD/PZxlS/m5Peh/FX29pIV2IbgKJ+clLbEF\n",
    "p2vQfGeqlvot+cV9ug7PRxCYhcZLqJ33evazz+EtxFfkqy5gewfa5Xxw4QtXymffaj9hFAAAAAlw\n",
    "SFlzAAALEwAACxMBAJqcGAAAIABJREFUeJzlfXu0b1V13jfX/l2UkAAXiq/EWkg0RqUaBO5BEB+A\n",
    "WKtG6qtWeZnRtCYmgThUvJfRdDQOBAtc2mSEGJuhJn2oNcPwGFZSgmmAG84JAgKS4QPIQ2OVIgIR\n",
    "kbP3mv1jrW+ub+177uUROIfENca5557923vttefzm4+1f4a/R2PpfX+wCfB/6o4XmuHpDuwDYG94\n",
    "3gfue8PSPoDXY74PAAPsO4DfBeAuuH8HwF0wuwue7wLwHbjfCUvXA37j8gfflDfy+R7usI1ewK7G\n",
    "0taLDDYcDM+HAX4oYIcC+WA4ngAA7hPMBgAOdwBe6W78fwLgdTYHcgZMH9fkcwDu9wC+A+5XAX4l\n",
    "HCvL5/2r+x/r5/y7jMcd85a2XbwZ7qcC+LcAngnPgA0AMjxnmBWmuDvgXp7AEpAn8HEsJXge42+4\n",
    "F4bWa8v59XOzem0dZuV4Hh+ApRUAvwXg48vnvkVOenyMxw3zlrZd/NNw/BLS8GZ43hNAIao1BrhP\n",
    "hfAuGgPv/7bUtJDHybjQSqsM9TI/f8OLMpoV5lpo71fhfjaA310+762rjx0VHt7YcOYtbb14APw/\n",
    "AHYG4Ina4NMIS9Q4B+AwS4WBYRKt0p4MyeUnLapmoTGHn9NUUlvNeoZ3x0RjPQPufwXg/cvnv+3D\n",
    "60qkXYwNZd7Stkuejjz9D6ThyJD+PAFpCLPmnmFpUc1gHe5ACoIKgyB/k1FJTKM3xtJ02tBrKjUw\n",
    "tDNXjfV2rk8fhg0/v3z+22RR6z82jHlL2y55CoDrAH8qcg/y3Au4MBt2YlrxZ5XBXnygT+MMjPjO\n",
    "ZnH+GdD8GzXWrAKbVE8VkFNQEYJkZp+F+xuXz3/b3z5qRHmYY0OYt7T1ogFp+CPk6SWFeFMjWIwC\n",
    "Skx8XPkbDazU84KwlprWzU1lZxpz0dz4HLO50LRVGRpgZrX8TmkF03Tk8gUnb4gGzim2PsPSL8Hz\n",
    "S4pvQTFl1gjpOQOwWw32e3D/IOB/6PD7GuKk9Nd/lPHho1zCh6F95t4+h/faFXPItY6i5TzXpzKf\n",
    "GTCtHg7kdz0WJHooY4M07+IvwfCsnTSgEPT7gJ0J+PnXfOCEUIstZ/z+QfD8EcCODlNIwpMRadH+\n",
    "n6uvUpNM9NihTAkbwr+hHR8W5bjOE/cbAM/fA9LBy9tPvPWxp1w/1l3zls689KcAPKuBAxS/FmbQ\n",
    "zrjmA687VxkHAMtnv/42IP0zAF+J2DotGrRPi+a7GL8V0ybocaomcyi/PUtIgP4ar2FdzsA0NoZb\n",
    "qnOGOd8Tnn/lMSTZLsf6m808Pa1QvHIgZ1g1AA6/BZb+064uXT7n9ffB/Vfi+jw1rXA035THerwy\n",
    "K5AoKuMkflQtpp9k0E4/aalqoBemamhS5njto0ylhzTWn3nue9e0SDsEr+gyXXnNWa/1XV8MwOxK\n",
    "5MnDjwFNU+bprzTIMQ0hNPbj6akxK9bnTStpHQInTW2ePP7YltM++pOPiB5/h7H+zFNixqGB0P7r\n",
    "D3b58jlvuBuGv21xW2rapXDeJ0l7iX8LBlHbqKFjM5VqGTT/GdfIOQ3wbH5kBHnkYyM0L6TbyYD2\n",
    "4Qse7PIt7/mfB8GGHwngEUBCgErn9/gZ/5uFSWjnpEHSYdbmVpNr1pAnNd8oPHmvh0WHR2FsgOYl\n",
    "78ICAD6twvMq3P2YLe/91NN2P4Gf2IJqAQ5e0WZ3qve/89SHCpGoBpoPo7kU5jOjA2tpNxfGlucS\n",
    "O74+YwM0L7vnqeUjCenLUvaBpd9Zet+nn7DWpVve+6kluG9rlQY0eM+Umqmv85YWAyT1RWZULVNf\n",
    "F0E7E9XU6LGZyC75zZBk/YsOiwc/5VEelqqgGzyPsKH4O28EeKXDPr/lvZ86HcCO5XPe8N0t7/nk\n",
    "gYCfBPdtSMOmIKrGekDlUZ5pHHOSqiVDQ6oMDyLXSbSp9b6aI63rLxUOF3xkcKx/HXfdmec+eanM\n",
    "5JK7nCTOipPwXAB/CEt5y3s+eS8s7dOZyqzpNEkYIwMZDcQwpZXrZ/Rb02rVzkFCi6mFEWloZjUL\n",
    "uDEAuRy3xDiPHFz/fMeGABavIMMJ77uaGhoC9Jxqa0Pzb6yIa+qr0yoBIG0elOpCnZtZE0B8GEow\n",
    "DrRrVDOT3CeY5pJEX39Srvsdzcwh5ibCBE1XdflGia20YFoub+dS0wL+s56X+nlMtDLCCxEGZZiW\n",
    "hSRn6vF3ERCnP1znse7Mcy+9C5TUIEQgwrFnQjkLkdmofStdgB3aKNobGj37LO4nzCK6JIiJFFgV\n",
    "FmpdvcYkK2NpKBmieXJ7HcYGmM2pl9ZgkPgoVhriGgnC5y0Olsq10aOC5hej4sCAWq5vGeimpXls\n",
    "xVqGFU7EWgcjAiuFYneHw2vMur5jA0pC5s1PqUZQuxRF1thK+1aiilCD7TxJ2CDEZqI6j81carmo\n",
    "TIZoYAKkKmFtroj35uZVwQpm/1+fsQGhgt0F+EoLkGexVaC+DJiEBABCe9pkaFpnpUhqYu48HwBL\n",
    "B3btFWFGJTfJtczBEOF/lK5QUHIaaqhg1exjQ3zeujNv+ezX7wCwZT3uteVd//3nkFc/1CHNAC1j\n",
    "0zr1i+5NeCAJ7yo0BgNbED2P5TfyRijeBlXS12uwvcIgOc+ZSQaaKaU/Y1amlXzanEY5GMWkAj8Y\n",
    "ZnM9R2vZqwckrUWTnTMwbEIgWogZlbjOvSYVKsii6fRJTXU9/Uuv2gTg2e2AmHqa4HLsfqT0NfvJ\n",
    "z3zvkTzeI2be0taL/gmAFwD4EcD38pz3CB8QNbBqTtT5R85Q4qkOtksdTf2Ipq26Vr00+5znJ8Dz\n",
    "i5qpBKKaEAG/oEzXBHWZ130M80gNNjcgLcpzaryow+zpyPnGFn9KImKo2j1NwUS/5fhvYpo+gyH9\n",
    "N6T0OXv2Zx+SA31YzFvadslzkafTYDjO8/QMmDVj0bXIsebFzEaF85GqYkklz9oQagzHdJYy2q0x\n",
    "wazMC0k6M/Ofs/ipSoMk3oHCFOkzHuzDDc+rpVBAgJInwAWgUHNZlVBBIzN530kySWPtPOMYRwB4\n",
    "MobhVOR8Kgxf8FuO/1l7zmWffzB+PCTmLW296KcA/Cry+EZ3T5Y2ITqVE3srrVTEA9ExgwE0xqnk\n",
    "A/DKAEWTXe1NiqkkUszhHbEjRLCESDzrCHOVmxWIuayhyDzV7rRZ0M/1dTW/mWWY34u1Rs0WJUky\n",
    "hPmsP0Xgng9g2W865gKkdKY993/vcrPLgwKWpW2XnAazm+H+ZqRFsnkPiDNRO7RUF9vRI+huaC0W\n",
    "O60CzhhsjQxFxFGM8yDxWDU9adGIaJU48WQsrgoTtOJe40P2gFptKrKUyrF54G1SPO7mUZ/Ke6fW\n",
    "tMTPh6Ektdlvw2ec6ArQaJB9APAumH3Cbz52l3XC3TJvaetF5wDYDs8p6mXOHTq5Pmiu8HmqWZOp\n",
    "ma2utQBlkWmoi2fCl5IM0VhJWelxDs1fMl6DVWZWjexKPgI+wtQVs12sKBkx1tuKH2Uuk+uf+1lp\n",
    "pIoRjVAtPsS4Kv5fsMBClGGamvkv87wW7h/aFX/WNJtLWy9eAPnDMDslNElQGptenf6LD2KMjypx\n",
    "tR1PC6gBSKb2kNTSaSzoL1Jn1KxZlgVDIcA0NkKQwMEsxmqV4SRK5EfJoLKZxYZF067a09btTCKo\n",
    "0awQ5LY6VGiGoWlgqpYkz0KRaSqfASJ0BsB/1r/wsm/a8z+3bc6ntTXP0llAOqXFRnG8oLA8VdNS\n",
    "Vh3mJczpPL1Ua2eay9SgmAum1NHkkNH0ozQt0XPJuI0mVh6c9yUz6V+8AhptgIo8p7d1eC4+XEtO\n",
    "XaUjt7/Dt5Oq2maB8jyhmXIvjhAKNFNKC1TQ6lb/wste+qDMW9p26cHw6fQwWyGZU0VcxVx2N2cQ\n",
    "PG/0mZswhda6BYvt7juVdupc02qbs0tAo80BZaBIddTrhGA2NEJV0112IjUA07RNLEeUoxTQ9DFe\n",
    "WS/jxWo1hmrgOsBEoAVhNh8jiaYygZB+bbfMW9p2scHzhQAWXFTEbZVAJZMucVkEwd7MU0dINGaE\n",
    "mVMgUn0XyyoEHurjorIdpgTR/cw+mLgZeq1QjYxTKqGs7PcrlkRQL58nykv1+V3vMbVzZ7ucwqpM\n",
    "UzmdoYIKb3QQzEDPsEYpqtDiKL/5uFfuknlwfzs8H9mYUbuZxdwZWwd0oXyIIK7U4whcaMLU9HRz\n",
    "eDOjMZcjup6VgXwgvQcRZAT6aASJ0hAJS186iSZhdo6uR4QjGKv+G3IO+nZ4Pi5Nfao0YDVfa4cE\n",
    "LDxOS8C5p/H9azJvaetF+8HzOVGnmka0doXysNwPHg+VhjUemGiTU1szF3NU2ZlVl9jMW0tCwOc6\n",
    "r2p7hAre5gsi8wmHdj4tQzAacg1ijYY1BDJMKoShJmHL0Cbi/MmaeeZzMDTIUwUt1LihziXuIwlj\n",
    "i+97oX/hZSfsxDwAr0da7A+vm/bVRDWSCFDxtkitXishwyyuUadTgpJwFIaYYwZCyCyb/9Asz7Sb\n",
    "Bd9KYBZPkYYGGQQYmACyZjabiQ2hCCwgXdl5ujMIRUtBk06XQS0jIEvCKPrJCOyBTvsbuj1pDebZ\n",
    "axRVlcfPwazYE6caFLtW6cBpwggWZoleMoeL73wTmu0PM6rVcGEGGRuwXvxuWIYJGDbB81iSx1Uo\n",
    "zQzclWRm8Vw2LJRATUs7nyrWJExvmNK2xcvQC2wgXQfGSTatCA1oNlF9ZeVD0GQKIXmpX390itVs\n",
    "ed+n9wT8WBLLp7FpWP3tObfEcOcjKqHClXlPhDhXfGcSUxupJjEt4QuGZi41YzNvoaD5oykXrbe0\n",
    "6PKv7r2AEJC1JAN9GgVKgImJC6BFKWu6a+U3f+HuYJ7jhxroIAPQJ+qDJmjAJqWegdPUBIfmMw37\n",
    "AnaIitIxAPYMems3sRJZQYQGw47mo8BFUmMk2CYzuz0ALueiI3znc9RfMfaKdjxv6xO/2e2FMPRz\n",
    "1vCnnKoMErChg3Nr7MvKhPtt/cnYjNnlSAnYJD6a9NAYOdamzEqx3qAP8HKgMe81ZS0JDm/pIfqP\n",
    "eWNsgAPmLtE+VyDCDAcJQyIGQqsPEYlqMUXA7CFl9yofQs1y+EoLKbeaj6Rv8067lbo0+anN26Fe\n",
    "yO96r7SogGIA4F/pGOX5yQ0zoAnjRDch1omt+cMafaH8m0E7Ndi9MG9p60UGz6/2PNYgvEqsEpSp\n",
    "LDJTt0JRGud+kAuIWlldTCR1yUlv53BOoAGhPJZjBACRlSdjUyM2rwPi/OLnNOCmkJBpMxVRJmpI\n",
    "MNV10OfHtjAHHB/tJ7FDIpaLa9GupwmdRrFimIVD4mLCDdWflI7y64/elAAcbGnT07pMAaVOW73Z\n",
    "EtehTTWHEJ8DMWEm51eNC5RIAqqJFOK6EI+f5zESyEHI3cRlDMDL+1x0syUagTSeUs1IA0pTkyLa\n",
    "qlFtrdevXPgLl80E4NAODSexPjS7QwVvAzu7s1gSQdFAu74h2L3gfngC8AyP+MmDwxEuKEgwiZnI\n",
    "oFhY7n9Dru2y8MLIebqL85LIEdPVefOIYqqHnshdeGJ9bFeRqWkIQI2nCeR6w0QrwJgxrSsLATA7\n",
    "u+PbLcfvA7MXt8Ba/CkZMQzSWs+YlWkwEX5eT6aPYwM9ln5iAfcnGayP39Ls5TV8OB8BWwBWzUaH\n",
    "nOjkO6kUTSDQQBAUruhtQlTd1ZSF7xDtjHQa47oGcFwyQy6C4socCkggOfU3uS8ok9nRgsF1AnC/\n",
    "Co5PdWTK+U0wPHEnwEJGKWPU6hDkaSot3mihvjeu2y+55wN6U5b6XJ0iHfo++sQOneXGJI3/mAmx\n",
    "AQ3V5fZDn8bqt27yiLixmkma6nnch5pvZes56muvQivFZ3DNaiki1qoE5prYOa2Zm2YlbgDw6pUL\n",
    "3ynEAmB2SnM3aDSdB9vamhHgSxirrznRYyzowvZPgD/JmeDtHnbmz8qCZwxV/8HfDGylKKsxEc3g\n",
    "fN4u3yemMF4nlXsiaPAPlEqH50qvYq7DelDbg2FTM8XhRyqj0tBnepJaAoIGfBnA8SsXvrPFdgD8\n",
    "pmNOgOFFYDhkQhemuvi8I4W2Mneeu233apoIIbn7fgnuB4APTM1R6Qy4LhNxMRGDCfoLPyPMzFPf\n",
    "rxEmgMldQaJdloMIsoYc1VRHpcPLG5FomlvFm+ZbQBj3IYRGpGYeO8FySV/NUnSwDPffgOfDVi58\n",
    "57c6xt1y/N5I6deDaewYMDT/FiBQ6McffemPXk9hXXDtwdj9F7DhgCKxRIaE/VRXJaS3vF0XB1VH\n",
    "qy8oXdPUKKiRRQdA8fbAZs2UpiTINcGqz/W4m9ellDY9r1UNs6H4QEW1FJBAyxA0twnRbq9pwPJW\n",
    "ps/B/d+tXPjOP8NaI+f/iGQ/iuw1IS0WbBiKpnVIl5ZlRKcsVgVrHAvDXOitRemU9l8grz6ptB2o\n",
    "TxATGnvGrRJWu4plIT5jfqOsCINoH48HoYTp80KofqadyqGB3PJn3Y8Hg6g9VZvYHjgfLn7H7Btw\n",
    "fAbApUC6fOXCd6z5dj//4nEJjv8M+M9h8mak4vmtCUxknKgIEkrlXJjOdghqIbCz0PsEjHm/BVLR\n",
    "vI6ovtODtGNm4NbeLh5TbmlGJgCQmGMtnoapSwCQYelr8PwXgN0Oz7fD7K8Af6CthUAJMNkn7gGk\n",
    "ir+1oXaGdY7HKbVNSLUoCn8ANvw/AN8A8KWV3/z5uXeeMe4VewD4r0h4Y6EJetPfIdrUEOQglksz\n",
    "TzTnzG+yd5XghY26AJBs/wXcD2iV4txu0nG6SvicYRFbAXBrksZrWVCcB9uxWJqA4Vb4tB2eP7p8\n",
    "wanf3R3BHg/Dv/iKAYZ/AeAMTNMhzS2gPN+waIzScABoTCATeYznpxqGgGCtCoFBqhEZsLRfeYWs\n",
    "2RNCAl1UOfyeMqT+bUCX0KW50tTaTv8XiSztENfBcBZ8+vTy9pN7yP04HP7F4/aCpVORp9PhdlAD\n",
    "EIqIKw0m8Z0BSmoBNlnNsFifOovwoTJ8IUKgKLT8f7GApW8jT3t1BVTaVUV+mrkgpI662moDFVrR\n",
    "ZjosNLf6xDwBw/AJ5Omk5e0nP7Bbgt36WoPj2UjpqQD+Edw3qa8Ln7xYAKurAqYaIu2C/m5y75+R\n",
    "xwAgT3vA7BmwdCA8HwjgQLg/Dcy0s0o+DDWwJt1nYEVjNEuAMVTKxVrRtC4WBaRELnMWMpDp4bL8\n",
    "jgXc7wTs6bH4OVzv8p2KzrwRJikqym3xSowIrg2A/wbcf3lX2ua3n/DDcH8F3P85gFdhSE9ppRNF\n",
    "sYKIV1clTuR5NF1o66af0fgt1wLpODYm0DoshkJI+u089oRG1SICuoiXp1Y1j1dEyr1ppZgO0zQa\n",
    "aa3YgoicG04Ndyxg9u0mhYKGIoshMVDEdSSIossZKtQ4K2fV2g8tX3DKL67JtNtedxhS+jXk/DJ4\n",
    "3iPMM32Hmhb2oOi7U0ZaAAVSQORgdcOH1hR5zWJRN4IAARY4ZwgKWpYj6AW00EJACIWAvmwcWwMu\n",
    "QwKuTWNb3oda7UJfPlv2b1XNkws7rRHg0pkXQXHsPiYRyVQyXetw7l+DpXfvxLTbT9gHwFkoX4RR\n",
    "uBPhgtwvbsv1oPkM9oOQoMq8ObKLG3tjqhKGWhfPVCV+FLRHLaegJ12P9UIUAizaxmegxiUqhstn\n",
    "uc3lst7yHHcsANxZ8o6y6aNDSJVBXfZCCShmkk45pcKDQJxBzF9cvuDke2eMezLMrgTwzK5NgPPx\n",
    "4RYJmBxRP9xUY9Ms4QnkWhKN/khNJC1EEFilXyxLlzRGAxqrouFRRKXgcK6ZBSsLateR2fVwFFwZ\n",
    "zpBRhvLcerwo0h0LAN8ugEO+SEIz+J2ZRNOmSOmkoEVZHOcRphe/tGP5gpP/oGPcrT+zL+CXwf2Z\n",
    "gUJpWiiB9K9Tbg8ENLMXcafJGivT1io30UcpWOEPG4KzfGbWgMJ8h5TGcXm2PiL30LrKtGkqjbWj\n",
    "Jjkga8lFq8kwVt/p64Pu9q0En+4MBjHumL8ag1II1NZzmjCaqGpC9c14ob0RoH+kY9xtrxswDJdi\n",
    "ys+PhyUImGfY1VxqtkQDYK41KumpgQEOJocJyghCumNimgIhVwZyz0HkQ2XOiJUpUFPzjWRaZLFQ\n",
    "zaSXOQZZv5pOBTkqbFXzElABC9M1hgL9g8piOkmAcN6cXJtnNBasmgi7HzZ8sqck3oBpPLKLIwfZ\n",
    "vcNANsydEHyetVDfxnP1Nz9T4k/in6PBNzXfM69+Z0oQL7PGFGZEGLsF4+u5C/nqAQbwleQlkSLm\n",
    "VTW1s25MkjgTH99K8PzVDmzk3BjVDXX+ufkeGOLteZGzEwRaNPZPlrefeM9swjM6BpBZ08xEa72N\n",
    "95//n0HxnFkkRgfRhSGGHq6vFRMGgEDTyHk7BURoKEya0spiwsO6uIAs5aS3+QKJkt402QYMw18m\n",
    "pGEZebyvI1j7o03UESv3Gth1JgtYCH/p13b0uO11rwT8BYHq4vz6QLx1wO46V0BsIZzC/W4blyDk\n",
    "WKcgOYIE9enh66oQae1xlFdakVFKM01vxT1TLeUQnHhDnJoLzt7ckJpJ9b2ct1igr9uhV9+Ulj/4\n",
    "plUAV3WZFd0xoxl+QJx6bsejoCmV8ngwA/J0PfpxcixwsakndHBOhaTeN8ykCJKO+JvmGmJWvfdN\n",
    "ASzQGNglJyp9Ax2KT5s34ur9wxx7M6lMKJNJfL7AAxJGwFr2SunY3+9SgDFVnq5oDEqifSqp9WZE\n",
    "f3GMNlhU2oSRAJCG/9stIqVntUR/tfe6NzsyN7UgSUiuplkbc3ZiHnpBMjTwQIZGwL5mSNMj2MUi\n",
    "yBECADQBoECr1lHAIheZm5nk/8NXo6BP0s1zq3bMM15lfZc05qXhisZVgeBRVYDEb/Q3JFqIaCOU\n",
    "nlMWc1fHvDwd1CVdqRV8IKKxCGAZpOaWodCM/NyUdRqUZMuwmOEQPPVR4kuj3ua6T6DXPIKfeHPS\n",
    "fI66lkGEkMdHdo95KGKPgkla702/+31I6Y8a89yvQ/ny22abI7OAtkDd/xYpKzKbN1KmGh8s3vDj\n",
    "t/3MZjj2bcGzEE/TV3QJaq7Y+kaidGhUND0YMglqI9Pq85lJ3CYok9pIN9Jp1Ow3nzPiSgF19OFz\n",
    "v6sKMBc0bUqKBAM/j2sut8N23B/MWz73LRMs/Z82GdC+uUoXK46XQEXjriTZhsiG74TgDmrghLGY\n",
    "iTlSLbKSWxzHpnV8yEmkn0SMPKAAhjnhVCMDLddniFwi56wCM6kJFqao1g5KL2o5BG3Wv8dVRCIc\n",
    "JJUCk1mTMUfskygmM5hXz/5YOFCF13yIMIlomhgtDLwBfYpu/XJ0oUfO+4VvzD5rBec9vQSuSRav\n",
    "64k+FN6mmqbIO3b3Q2icSnI8q65bwoa2A6jXHn6mQhGJ+TrXKAham5LpUuiS3AXMiMCwMVefs8x1\n",
    "Jwy/z0cL5i2f+5ZPw+y64oemxkQ6UWk/6Fr4qDnKxMhs5J0/s2QN+ub2m3NrVVmddWR/rIUF/FsZ\n",
    "qyCmi9vE5ykQYtigoQQ1idLO8yaGRPO38KKh4PkboCZBx/W7bzvUazNTyaGC1hIT77Ety4EfNKgD\n",
    "3M9sNTn1bWhMUCIFKqLHFScf/hPw7utf0AhkqaG6CHB5L5F0EltbCCaZk+uZ5N4hsZAsiAlheJ0w\n",
    "vGNcbhkTNWls7VBfpfGfZlE81xcEKHOsjxk9NxrPn8tFcFK6CrMUY8e85fPe+r/g+erS4azZjdSY\n",
    "GYvNTYIiEW3N7xEYwNF9U4sGoWqidX+CnsuHzlMzR3ywrmXQRYgg73KhZgnxBvF9LGdpBkY1Xv3R\n",
    "HM1Sc8ISiL/TZ1P0Teuim0cIqjQQLzfisRHu77At13Tgode8Ms7s0lGdJnJRs4ckoQn7eWPV0m5Q\n",
    "CFzMjsRt6j+AhiTVVDIpQPMSx/U2FAaa/9yuiWwImhVQwKM51KCWmN7QGAI69BmmoAFmbkPWQlMM\n",
    "VFAmrqrDHNhuW665eUbEnZm3fN5b/xjwDwBoTOs2XpAp9ccnRCcyH2JuuvoAU/yo9egqJJAbSGbS\n",
    "3z1Ybr6QhKT0x1rElFVaYlhIcD2188NyaIoqt/NCKyhg3uI30on5x8izyrwmAqvxnPp0BuYqjO4f\n",
    "AXzrnE9rMg8Als8/cSty/p0OXWljT7xPE+hfj8jPw8ije+kOmaRARcERTIgukqdxnprnTtO8wvCM\n",
    "9ooMa2YptGvs51V/C/Smscs00fzJ/+daT589jwMpH9pOou4jwikTkDQBns+2Lde83ZZW5lu2ds28\n",
    "uuB/A/dLupvoj/rEWCQX1kIOs/JqqI55Qu8ABmqeDU0zgXaPJJoffnBViGZFswiK6HcDHBFooEl4\n",
    "aCzavES2fI400+5AvqjCQBJInMqmJK4hsk2VftpAO8z83jRmpOE0W1p53675sxvmLZ9/4gTPbwL8\n",
    "XHBbTZiuhO6Vv2ivtepeb5jl1VA6KImguRCkN1Vgopn6PBccawxhvEn/BbTYLszXDHIHUhbkGmGD\n",
    "mPqowtc5dN84n4OVDsfOn2lBNWpyMyTNzwvKzAA+jsWm59mWa3b53bkcu33T7fIFp9wP4N1bTv/Y\n",
    "J2DpvyCPz+/MpCR1Tb4lK76MHrLIGBbXtIQ0mlkmTJ/7A/VD04yJg5hQdnsRQDCvyevDp6HPuJDA\n",
    "4wNVe8UsEq3SpLKqDjRzP9hsF2zVWAIwmzFXqxXT9BcwuxzAdjtsxy0PxrSHxDyO5e0nX7vl9N89\n",
    "BEgvhftbAX8VgKdQIt3Lq33L/lMBDRHIayAKRCGSqkImAD3TFDoHEwW0kDGT9L2oBho+gWHYEeBh\n",
    "sWi9MBQSZUDsfvW2VgIJIuMQskWLcRXR8hmAZqYZzxZmOdwfwDR9F8C9SOkGW1r+y4fKMB0P+QXh\n",
    "y9tPygCuqD/YctrHnuh5/DEz7GlW3nhbHrq+PTaXLVaFFvmvu8l0E2UMYRglUomrCDE6r6qTV+bT\n",
    "XBWze4U97/Lffvhk+fsxHvGr+ZcvOPl+AF992Be6l6B+WDTzq8XOMCVjCyOUOdos1OUE0cy4zv0P\n",
    "eOwGbT5GQ512Za/2AAAGk0lEQVR2OO4ZGKH/UShOfxdZixpzAQ3QRIqL6aq5v/2HNdb96fwrr34F\n",
    "3C/baRNI53/q79i5RGbl5gcJRgABQESh4HW3I093xHxd2kv8FNegIQGArg2ReV7W/SLQnmjuT7cX\n",
    "XrXjsaVeP9b/62imsTl7LbQqDGeQ2qW9rOQkycDYl+C9CdXCMXAggAM7eE4NjS1WRM4AWDW3es9x\n",
    "td2b3+MwocVzPSredz3JCGyE2eQGQaBVxiMGm2bmEQ2SR6uhN3PK7mOgbhARwKNF4C6LgYY0x1W5\n",
    "t68RlqDX1s7k13lih5CvuxVbf+Ypk9SfsUJBItGE6WZ65hKZ+1ToD8yakrw3icyBRnNT6lNs9JXU\n",
    "NveyvUtrl5C5w+dKqLDOYwMAC9NT1jSA2580Oa1EjJTS2ALmlErHlTID9Th7JSN88AZgmDXRF5Jq\n",
    "Wajrz0G/b0IFjvFdtGesv+atv8/TLEPEc9REOYd5zAgnagDNrjNDM5nRGzk086iM7zrMpMkpdqJK\n",
    "vbKbU2NRQ7z4lOerSd0A1dsYs6lMYgaCCFELrgos6F/4uZpLVhk08cuhQMhQvy2lfqbfIMJMUNsj\n",
    "cTeGRY4LDW0bFhm32NTuP6/9rcNYf+YBaBCdYEUaf0ikaI+QGhlfREPma8CulXXdr85qNFAB0GpD\n",
    "lgGOohK+imH4VeR8oB161b4YV/fGlI9DnkohNFJh6NdfKgQ/AGZTW/uGRZ/MjRqcNW2wVEQs59q+\n",
    "gIoyB9m0QfOmYCVJrKjZGGvmcKgvIcAEGFZhdrQdcuU1XKkdevV3AVzuf/aiQ5HzRUjp+NB83XK8\n",
    "QWNjMiwVrLXyDNC1FnK/OZFp9t7XAdJdVf+eo1c1qTw/kGdq8yxq/S8N71fGdUs+bMf3AbwdZndj\n",
    "sUkajAQo/UCECu5TfZVHe/goflauRlGTCBGI/dkKSHgNzaXWzroYTyr9+jIAfU2w++/tbtl22I6/\n",
    "wTRd0Xp5INmetCFmcwN8nt/XvZ4wsiJSzQYEkqOdQ7MaxUuaSumvpK/TnpfwaeIvQ+MBwO+1Q/7k\n",
    "9gdfut8Qr9HXtdInr/PYAObZtyNmA1qKS7c/aexGLQlGQNJqEo8FcrWdi6xw6ZWEZEyMgOWH/fqX\n",
    "7P3gS7cf7RLpIWAJbSHrNzbCbH4Znr8evfpEfFrCGdQMQpjkLTaMzIYyCYIy69BOLrO+Z5MhhrvB\n",
    "84t3u+xrj0wAjgqB0op/ue/du7v+sRjrzjx7zmUO2MVdjyT7Q7gnnuYsDe0ryRTSR2c0FKrLXRgC\n",
    "VOSq/nGU6reWobJv9+uO/qFdLtz9l5Hzc7rNpYCGLd94lEn1oGNj4jzDeRiG73WxlrYR6LtTmDCm\n",
    "BmkQP++P0ewJMygEL9oyr2kwCozZMwH/rK8ccZBO6StHJP/8Ue9GSmfvFEMyP+r5S3b4n/75Y0ix\n",
    "Ncf6Z1Pr8D9/5RkYxw/0mxGtT5kB0jAk8eFik/SPiG8EehPLlxPoFuac+1ogEwEAanvgfUjpapjd\n",
    "gGl6KoAjYPbj8ebZiCnRwg/D6ba0csFjRqxdjI1j3s3HLmB2NWCHRygQucO6rD53KIyaSOiIJgKF\n",
    "As3EMl/qKHOPYvKY01TgpALSNRMxeSCC1HKnfwzgWFtaXne4uUHpMcCed/mI7McC/tnQgvCD9f8B\n",
    "asTfjWML4COrwmBZ0l1R2/NWr1NNBXrww7+jIq/t+DO/GUjX/wbu/3IjGAdsIPMAwA6+/F64vwZm\n",
    "H44QAOjLQpF+8p7w1AYWUMlUoCWcu9hLEWZifNfQbAAXVvA5h7THq8bBrgKwZEesfPPRpcpDHxtm\n",
    "NufDb3z5v4bZmQD+cSMS0IUCWkvr+lG8wfcI0tFMJzvRtD+FrRgRuM+Tzt7/EOWaZZidBc//3pZW\n",
    "NrRF7XHDPADwm47ZBPeTYHYGzH5izdoc2x9iP1xq7RDUIiagqc3Zm0YpwGGCW30cINoOFZLvIaWP\n",
    "w/Ov25bl+XtlNmQ8rpjH4Te+fADwZri/A8DhAPbYSdvU5AHS1ETtmyQmNOkFTTMhGNCFGLw2Kh7+\n",
    "ZQC/hewftSNW7lp7xRszHpfM0+E3vOSJsHQ4zI6C+4uR8xEw7BMJaIYE829GjpeX1oCeGsgsjVbY\n",
    "yeSUvg/3GwFcC7NrMY7XArjJjljx3Sxxw8bjnnnz4dcdnWA4GJZ+GsD+yHlfmG0GsBmeNwPYF47N\n",
    "SGkzxtXN1UfdDUv3IOe7Ybgb7vfUdNY9MLsbwF8j588DuMkO/9PV3d3/8TT+P2x6AX5Riia7AAAA\n",
    "AElFTkSuQmCC\" style=\"display:block;margin:auto;width:10%\"/>\n",
    "                        <br>\n",
    "                        <div style=\"text-align:center; font-size:200%;\">\n",
    "                        <b>Iteration</b>\n",
    "                        </div>\n",
    "                        <br/>\n",
    "                        <div style=\"text-align:center;\">Dr. Kyrill Schmid</div>\n",
    "                        <br/>\n",
    "                        "
   ]
  },
  {
   "cell_type": "markdown",
   "id": "4605a6f1",
   "metadata": {},
   "source": [
    "# Chapter 7: Iteration\n",
    "\n",
    "- Iteration allows running a block of statements multiple times\n",
    "\n",
    "- Previously explored iteration types include recursion (Section 5.8) and `for` loops (Section 4.2)\n",
    "\n",
    "- This chapter introduces iteration via `while` loops\n",
    "\n",
    "- Additionally, we'll discuss more about variable assignment\n",
    "\n",
    "\n"
   ]
  },
  {
   "cell_type": "markdown",
   "id": "155a722a",
   "metadata": {},
   "source": [
    "## Understanding Iteration\n",
    "\n",
    "- Iteration is a core concept in programming that enables repetitive execution of code blocks\n",
    "\n",
    "- Recursion is a form of iteration where a function calls itself\n",
    "\n",
    "- `for` loops iterate over elements of a sequence or iterable\n",
    "\n",
    "- `while` loops continue executing as long as a condition remains true\n",
    "\n",
    "\n"
   ]
  },
  {
   "cell_type": "markdown",
   "id": "954c5814",
   "metadata": {},
   "source": [
    "## Variable Assignment Revisited\n",
    "\n",
    "- Variable assignment is crucial in controlling the flow of iteration\n",
    "\n",
    "- Proper management of variable values is essential for accurate and efficient iterations\n",
    "\n",
    "- In the context of loops, variable assignment often involves initializing counters or accumulators before the loop starts\n",
    "\n",
    "- Updating variable values appropriately within the loop body is key to avoiding infinite loops or incorrect results\n",
    "\n",
    "Below is a structured Jupyter notebook exercise (workshop) designed to deepen understanding of iteration, particularly focusing on `while` loops, and incorporating important concepts related to variable assignment within iterative processes.\n",
    "\n",
    "\n",
    "\n",
    "```python\n"
   ]
  },
  {
   "cell_type": "markdown",
   "id": "2984108b",
   "metadata": {},
   "source": [
    "#\n",
    "\n",
    "## Workshop: Iteration Exploration\n",
    "\n",
    "#\n",
    "\n",
    "In this workshop, we will delve into the use of `while` loops for iteration in Python. We will also reinforce our understanding of iteration with variable assignment, crucial for managing loop execution and updates efficiently.\n",
    "\n",
    "#\n",
    "\n",
    "### Task 1: Counting Up\n",
    "\n",
    "- Initialize a variable `counter` with the value `0`.\n",
    "\n",
    "- Use a `while` loop to increment `counter` by `1` until it reaches `10`.\n",
    "\n",
    "- Print the value of `counter` after the loop ends to confirm it's `10`.\n",
    "\n",
    "\n"
   ]
  },
  {
   "cell_type": "code",
   "execution_count": null,
   "id": "cd7ac38b",
   "metadata": {},
   "outputs": [],
   "source": [
    "counter = 0\n",
    "while counter < 10:\n",
    "    counter += 1\n",
    "print(counter)  # Should print 10"
   ]
  },
  {
   "cell_type": "markdown",
   "id": "b1aecffe",
   "metadata": {},
   "source": [
    "#\n",
    "\n",
    "### Task 2: Collecting Squares\n",
    "\n",
    "#\n",
    "\n",
    "- Create an empty list named `squares`.\n",
    "\n",
    "- Using a `while` loop, populate this list with the squares of the numbers from `1` to `5`.\n",
    "\n",
    "- Ensure you use a variable to track the current number inside your loop.\n",
    "\n",
    "- After the loop, print `squares` to ensure it contains `[1, 4, 9, 16, 25]`.\n",
    "\n",
    "\n"
   ]
  },
  {
   "cell_type": "code",
   "execution_count": null,
   "id": "06fca1da",
   "metadata": {},
   "outputs": [],
   "source": [
    "squares = []\n",
    "number = 1\n",
    "while number <= 5:\n",
    "    squares.append(number ** 2)\n",
    "    number += 1\n",
    "print(squares)  # Should print [1, 4, 9, 16, 25]"
   ]
  },
  {
   "cell_type": "markdown",
   "id": "6765c96c",
   "metadata": {},
   "source": [
    "#\n",
    "\n",
    "### Task 3: Using `while` for Input Validation\n",
    "\n",
    "#\n",
    "\n",
    "- Write a `while` loop that continually prompts the user to enter their age.\n",
    "\n",
    "- The loop should only break if the user enters a valid age (integer from `0` to `120`).\n",
    "\n",
    "- After the loop ends, print a message saying `\"Age entered: <age>.\"` with `<age>` replaced by the user's input.\n",
    "\n",
    "- **Hint:** Use `input()` to prompt for user input and `int()` to convert the input string to an integer. Be aware of exceptions that can occur with `int()` and handle them gracefully.\n",
    "\n",
    "\n"
   ]
  },
  {
   "cell_type": "code",
   "execution_count": null,
   "id": "38d603fa",
   "metadata": {},
   "outputs": [],
   "source": [
    "while True:\n",
    "    user_input = input(\"Please enter your age (0-120): \")\n",
    "    try:\n",
    "        age = int(user_input)\n",
    "        if 0 <= age <= 120:\n",
    "            break\n",
    "    except ValueError:\n",
    "        pass  # Ignore invalid integer inputs\n",
    "print(f\"Age entered: {age}.\")"
   ]
  },
  {
   "cell_type": "markdown",
   "id": "859f595c",
   "metadata": {},
   "source": [
    "#\n",
    "\n",
    "### Challenge Task: Fibonacci Sequence\n",
    "\n",
    "#\n",
    "\n",
    "- The Fibonacci sequence is a sequence of numbers where the next number is found by adding up the two numbers before it.\n",
    "\n",
    "- Starting with `0` and `1`, the sequence goes `0, 1, 1, 2, 3, 5, 8, ...`\n",
    "\n",
    "- Using a `while` loop, generate the first `10` Fibonacci numbers and store them in a list named `fibonacci`.\n",
    "\n",
    "- Print `fibonacci` after the loop to ensure it contains the correct sequence.\n",
    "\n",
    "\n"
   ]
  },
  {
   "cell_type": "code",
   "execution_count": null,
   "id": "9a92aac8",
   "metadata": {},
   "outputs": [],
   "source": [
    "fibonacci = [0, 1]\n",
    "while len(fibonacci) < 10:\n",
    "    # Append the sum of the last two elements in the sequence\n",
    "    fibonacci.append(fibonacci[-1] + fibonacci[-2])\n",
    "print(fibonacci)  # Should print the first 10 Fibonacci numbers\n",
    "```\n",
    "\n",
    "This workshop aims to provide hands-on exercises to understand and implement `while` loops in Python, reinforcing the concept of iteration with practical examples. The tasks are designed to progressively enhance understanding, starting from basic counting loops, moving towards using loops for list manipulation, implementing input validation, and finally, applying loops to generate a sequence of numbers. Each step combines iteration concepts with variable assignment and list manipulations, illustrating the importance of combining these elements in Python programming."
   ]
  },
  {
   "cell_type": "markdown",
   "id": "a0976f0d",
   "metadata": {},
   "source": [
    "## 7.1 Reassignment\n",
    "\n",
    "- Variables can be assigned multiple times; later assignments change the variable's reference\n",
    "\n",
    "- Initial display of `x` shows value of 5, subsequent display shows value of 7\n",
    "\n",
    "- Python's equal sign (`=`) means assignment, not mathematical equality\n",
    "\n",
    "- Reassignment can make variables temporarily equal, but they may not remain that way\n",
    "\n",
    "\n"
   ]
  },
  {
   "cell_type": "markdown",
   "id": "74749c4a",
   "metadata": {},
   "source": [
    "## Understanding Python Assignment\n",
    "\n",
    "- Assignment is not a symmetric relationship like mathematical equality\n",
    "\n",
    "  - `a = 7` is valid, whereas `7 = a` is not\n",
    "\n",
    "- Assignment creates a temporary equality, not a permanent one\n",
    "\n",
    "  - Example: assigning `b = a` makes them equal until `a` changes\n",
    "\n",
    "- Use reassignment cautiously to avoid code confusion and debugging issues\n",
    "\n",
    "\n"
   ]
  },
  {
   "cell_type": "code",
   "execution_count": null,
   "id": "7a167126",
   "metadata": {},
   "outputs": [],
   "source": [
    "x = 5\n",
    "x"
   ]
  },
  {
   "cell_type": "code",
   "execution_count": null,
   "id": "8d98b38c",
   "metadata": {},
   "outputs": [],
   "source": [
    "x = 7\n",
    "x"
   ]
  },
  {
   "cell_type": "code",
   "execution_count": null,
   "id": "0d8fba90",
   "metadata": {},
   "outputs": [],
   "source": [
    "a = 5\n",
    "b = a  # a and b are now equal\n",
    "a = 3  # a and b are no longer equal\n",
    "b\n",
    "```python"
   ]
  },
  {
   "cell_type": "markdown",
   "id": "127bba34",
   "metadata": {},
   "source": [
    "#\n",
    "\n",
    "## Workshop: Iteration\n",
    "\n",
    "#\n",
    "\n",
    "### Introduction to Iteration with For Loops\n",
    "\n",
    "\n"
   ]
  },
  {
   "cell_type": "markdown",
   "id": "3aa56686",
   "metadata": {},
   "source": [
    "- Iteration allows you to run a block of code repeatedly with some parameters updated each time through the loop.\n",
    "\n",
    "- A `for` loop in Python iterates over the items of any sequence (a list, a tuple, a dictionary, a set, or a string), in the order that they appear in the sequence.\n",
    "\n",
    "- Let's experiment with some basic `for` loops in Python.\n",
    "\n",
    "\n"
   ]
  },
  {
   "cell_type": "markdown",
   "id": "2f8fb4f2",
   "metadata": {},
   "source": [
    "#\n",
    "\n",
    "### Simple For Loop\n",
    "\n",
    "#\n",
    "\n",
    "Use a `for` loop to print each character in the string `\"Python\"`.\n",
    "\n",
    "\n"
   ]
  },
  {
   "cell_type": "code",
   "execution_count": null,
   "id": "be0cb242",
   "metadata": {},
   "outputs": [],
   "source": [
    "for character in \"Python\":\n",
    "    print(character)"
   ]
  },
  {
   "cell_type": "markdown",
   "id": "699722d6",
   "metadata": {},
   "source": [
    "#\n",
    "\n",
    "### Iterating Over a List\n",
    "\n",
    "#\n",
    "\n",
    "Create a list called `fruits` with the elements `\"apple\"`, `\"banana\"`, and `\"cherry\"`. \n",
    "\n",
    "Then use a `for` loop to print each element of the list.\n",
    "\n",
    "\n"
   ]
  },
  {
   "cell_type": "code",
   "execution_count": null,
   "id": "adb0875c",
   "metadata": {},
   "outputs": [],
   "source": [
    "fruits = [\"apple\", \"banana\", \"cherry\"]\n",
    "for fruit in fruits:\n",
    "    print(fruit)"
   ]
  },
  {
   "cell_type": "markdown",
   "id": "cb2ff59b",
   "metadata": {},
   "source": [
    "#\n",
    "\n",
    "### Using `range()` Function\n",
    "\n",
    "#\n",
    "\n",
    "The `range()` function returns a sequence of numbers and is commonly used in `for` loops. \n",
    "\n",
    "#\n",
    "\n",
    "Use a `for` loop and the `range()` function to print numbers from 1 to 5.\n",
    "\n",
    "\n"
   ]
  },
  {
   "cell_type": "code",
   "execution_count": null,
   "id": "00388b0f",
   "metadata": {},
   "outputs": [],
   "source": [
    "for number in range(1, 6):\n",
    "    print(number)"
   ]
  },
  {
   "cell_type": "markdown",
   "id": "27eaba1f",
   "metadata": {},
   "source": [
    "#\n",
    "\n",
    "### Nested For Loops\n",
    "\n",
    "#\n",
    "\n",
    "Using nested `for` loops, print a 3x3 grid of asterisks (`*`).\n",
    "\n",
    "Your output should look like this:\n",
    "\n",
    "#\n",
    "\n",
    "```\n",
    "\n",
    "* * *\n",
    "\n",
    "* * *\n",
    "\n",
    "* * *\n",
    "\n",
    "```\n",
    "\n",
    "\n"
   ]
  },
  {
   "cell_type": "code",
   "execution_count": null,
   "id": "f8e28ea1",
   "metadata": {},
   "outputs": [],
   "source": [
    "for i in range(3):\n",
    "    for j in range(3):\n",
    "        print(\"*\", end=\" \")\n",
    "    print()  # to move to the next line after each row"
   ]
  },
  {
   "cell_type": "markdown",
   "id": "6834fc3a",
   "metadata": {},
   "source": [
    "#\n",
    "\n",
    "### For Loop With Else\n",
    "\n",
    "#\n",
    "\n",
    "A `for` loop can have an optional `else` block which is executed when the loop is exhausted. \n",
    "\n",
    "Print numbers from 1 to 3 using a `for` loop and add an `else` statement to print `\"Done!\"` when the loop is finished.\n",
    "\n",
    "\n"
   ]
  },
  {
   "cell_type": "code",
   "execution_count": null,
   "id": "dfacaaac",
   "metadata": {},
   "outputs": [],
   "source": [
    "for number in range(1, 4):\n",
    "    print(number)\n",
    "else:\n",
    "    print(\"Done!\")"
   ]
  },
  {
   "cell_type": "markdown",
   "id": "70bccc1d",
   "metadata": {},
   "source": [
    "#\n",
    "\n",
    "### Exercise: Creating a Dictionary from Lists\n",
    "\n",
    "#\n",
    "\n",
    "Given two lists: `keys = [\"One\", \"Two\", \"Three\"]` and `values = [1, 2, 3]`, use a `for` loop to create a dictionary that maps each key to its corresponding value. Print the created dictionary.\n",
    "\n",
    "\n"
   ]
  },
  {
   "cell_type": "code",
   "execution_count": null,
   "id": "6b460d13",
   "metadata": {},
   "outputs": [],
   "source": [
    "keys = [\"One\", \"Two\", \"Three\"]\n",
    "values = [1, 2, 3]\n",
    "mapped_dict = {}\n",
    "for i in range(len(keys)):\n",
    "    mapped_dict[keys[i]] = values[i]\n",
    "\n",
    "print(mapped_dict)"
   ]
  },
  {
   "cell_type": "markdown",
   "id": "8ef3795a",
   "metadata": {},
   "source": [
    "#\n",
    "\n",
    "### Summary\n",
    "\n",
    "In this workshop, we explored the basics of iteration in Python using `for` loops. We practiced iterating over strings, lists, and using functions like `range()` to generate sequences of numbers. We also looked at nested loops, `for` loops with `else`, and an exercise on creating dictionaries from lists using loops.\n",
    "\n",
    "\n",
    "\n",
    "```\n"
   ]
  },
  {
   "cell_type": "markdown",
   "id": "01395b4f",
   "metadata": {},
   "source": [
    "## 7.2  Updating Variables\n",
    "\n",
    "- Variable updates involve reassignment where the new value relies on its previous value.\n",
    "\n",
    "- Example of increment: `x = x + 1`. This pattern adds one to the current value of `x`.\n",
    "\n",
    "- Attempting to update a non-initialized variable results in an error: `NameError: name 'x' is not defined`.\n",
    "\n",
    "- Initialization before updating is crucial: `x = 0` followed by `x = x + 1`.\n",
    "\n",
    "- Increment (`x = x + 1`) and decrement (`x = x - 1`) are common update operations.\n",
    "\n",
    "\n"
   ]
  },
  {
   "cell_type": "code",
   "execution_count": null,
   "id": "f6e7bb9f",
   "metadata": {},
   "outputs": [],
   "source": [
    "x = 0"
   ]
  },
  {
   "cell_type": "code",
   "execution_count": null,
   "id": "672d4156",
   "metadata": {},
   "outputs": [],
   "source": [
    "x = x + 1\n",
    "Based on the provided example workshop structure and content related to iteration, here's a structured workshop designed to fit into a Jupyter notebook for the topic of iteration. You can follow this format to insert the content into a new or existing Jupyter notebook.\n",
    "\n",
    "```markdown"
   ]
  },
  {
   "cell_type": "markdown",
   "id": "ae545891",
   "metadata": {},
   "source": [
    "#\n",
    "\n",
    "## Mini-workshop: Iteration (Part 1)\n",
    "\n",
    "#\n",
    "\n",
    "Iteration refers to the process of executing a block of statements repeatedly for a set number of times or until a certain condition is met. Python provides several iteration mechanisms, such as `for` loops and `while` loops. In this workshop, we will explore some practical applications of iteration.\n",
    "\n",
    "#\n",
    "\n",
    "- Start by creating a variable `counter` initialized to 0.\n",
    "\n",
    "- Use a while loop to increment `counter` until it is equal to 5. Print the value of `counter` in each iteration.\n",
    "\n",
    "```\n",
    "\n",
    "\n",
    "\n",
    "```python\n"
   ]
  },
  {
   "cell_type": "code",
   "execution_count": null,
   "id": "f0c3bbf8",
   "metadata": {},
   "outputs": [],
   "source": [
    "counter = 0\n",
    "while counter < 5:\n",
    "    counter = counter + 1\n",
    "    print(counter)\n",
    "```\n",
    "\n",
    "```markdown"
   ]
  },
  {
   "cell_type": "markdown",
   "id": "829e07c8",
   "metadata": {},
   "source": [
    "#\n",
    "\n",
    "Use a `for` loop to iterate over a list of numbers from 1 to 5, and print the square of each number. Hint: Use `range` to generate the list of numbers.\n",
    "\n",
    "```\n",
    "\n",
    "\n",
    "\n",
    "```python\n"
   ]
  },
  {
   "cell_type": "code",
   "execution_count": null,
   "id": "bebbeeaa",
   "metadata": {},
   "outputs": [],
   "source": [
    "for number in range(1, 6):  # Remember, `range` stops before the second number\n",
    "    print(number ** 2)\n",
    "```\n",
    "\n",
    "```markdown"
   ]
  },
  {
   "cell_type": "markdown",
   "id": "c8b9548e",
   "metadata": {},
   "source": [
    "#\n",
    "\n",
    "Given a list `numbers = [2, 4, 6, 8, 10]`, use a `for` loop to iterate over it and print each number multiplied by 10.\n",
    "\n",
    "```\n",
    "\n",
    "\n",
    "\n",
    "```python\n"
   ]
  },
  {
   "cell_type": "code",
   "execution_count": null,
   "id": "b9d6d6fd",
   "metadata": {},
   "outputs": [],
   "source": [
    "numbers = [2, 4, 6, 8, 10]\n",
    "for number in numbers:\n",
    "    print(number * 10)\n",
    "```\n",
    "\n",
    "```markdown"
   ]
  },
  {
   "cell_type": "markdown",
   "id": "e407a019",
   "metadata": {},
   "source": [
    "#\n",
    "\n",
    "Use a `for` loop to create a list of the first 10 square numbers (i.e., the square of numbers from 1 to 10). Print the list at the end. Hint: Start with an empty list and use the `.append()` method to add each square number to the list.\n",
    "\n",
    "```\n",
    "\n",
    "\n",
    "\n",
    "```python\n"
   ]
  },
  {
   "cell_type": "code",
   "execution_count": null,
   "id": "78352d75",
   "metadata": {},
   "outputs": [],
   "source": [
    "square_numbers = []\n",
    "for number in range(1, 11):\n",
    "    square_numbers.append(number ** 2)\n",
    "square_numbers\n",
    "```\n",
    "\n",
    "This structured workshop reflects the format of the provided example and covers key concepts related to iteration in Python through a series of progressively challenging tasks. It's designed to reinforce understanding by applying the concepts discussed in the lesson directly within the Jupyter notebook format. Each sub-section can be executed independently, allowing students to incrementally build their understanding and see immediate results of their code."
   ]
  },
  {
   "cell_type": "markdown",
   "id": "93eafbe3",
   "metadata": {},
   "source": [
    "## The while statement\n",
    "\n",
    "- Computers excel at automating repetitive tasks, a concept known as iteration in programming.\n",
    "\n",
    "- Python offers `while` and `for` statements to facilitate iteration.\n",
    "\n",
    "- The `while` statement is used to repeat a task while a condition is true.\n",
    "\n",
    "- We'll explore how to use `while` with examples, including how to avoid infinite loops.\n",
    "\n",
    "\n"
   ]
  },
  {
   "cell_type": "markdown",
   "id": "4db230d3",
   "metadata": {},
   "source": [
    "## Countdown Example with `while`\n",
    "\n",
    "- A `while` loop can make the countdown process straightforward.\n",
    "\n",
    "- The structure of a `while` loop allows for repetitive tasks based on a condition.\n",
    "\n",
    "- It keeps executing its block of code as long as the condition remains true.\n",
    "\n",
    "- Let's look at a countdown example using a `while` loop:\n",
    "\n",
    "\n"
   ]
  },
  {
   "cell_type": "code",
   "execution_count": null,
   "id": "16437add",
   "metadata": {},
   "outputs": [],
   "source": [
    "def countdown(n):\n",
    "    while n > 0:\n",
    "        print(n)\n",
    "        n = n - 1\n",
    "    print('Blastoff!')\n",
    "    \n",
    "# Example usage\n",
    "countdown(5)"
   ]
  },
  {
   "cell_type": "markdown",
   "id": "c803f7a6",
   "metadata": {},
   "source": [
    "## Understanding `while` Loops\n",
    "\n",
    "- The flow of a `while` loop includes checking a condition and executing the loop body if the condition is true.\n",
    "\n",
    "- If the condition becomes false, the loop terminates and execution continues with the next statement.\n",
    "\n",
    "- To prevent infinite loops, ensure that the loop condition will eventually become false.\n",
    "\n",
    "- Infinite loops are a common error, akin to an endless shampoo bottle instruction: \"Lather, rinse, repeat.\"\n",
    "\n",
    "\n"
   ]
  },
  {
   "cell_type": "markdown",
   "id": "3b3e9900",
   "metadata": {},
   "source": [
    "## Example: Sequence Generation with `while`\n",
    "\n",
    "- Let's explore a more complex example, where a sequence of numbers is generated until a certain condition is met.\n",
    "\n",
    "- This example illustrates how to deal with even and odd numbers differently in a loop.\n",
    "\n",
    "- The loop condition is designed to continue until a specific value is reached.\n",
    "\n",
    "- Understanding the termination condition for this loop can be challenging.\n",
    "\n",
    "\n"
   ]
  },
  {
   "cell_type": "code",
   "execution_count": null,
   "id": "d9f5ddf8",
   "metadata": {},
   "outputs": [],
   "source": [
    "def sequence(n):\n",
    "    while n != 1:\n",
    "        print(n)\n",
    "        if n % 2 == 0:        # n is even\n",
    "            n = n / 2\n",
    "        else:                 # n is odd\n",
    "            n = n*3 + 1\n",
    "\n",
    "# Example usage\n",
    "sequence(3)"
   ]
  },
  {
   "cell_type": "markdown",
   "id": "18c6d370",
   "metadata": {},
   "source": [
    "## Loop Termination and the Collatz Conjecture\n",
    "\n",
    "- Determining whether certain loops terminate can sometimes be straightforward and, at other times, extremely complex.\n",
    "\n",
    "- The sequence example introduces the Collatz conjecture, an unsolved mathematical problem.\n",
    "\n",
    "- For some loops, proving termination depends on the input values and the loop's behavior.\n",
    "\n",
    "- The Collatz conjecture poses a challenging question: does the sequence loop terminate for all positive integers?\n",
    "\n",
    "\n"
   ]
  },
  {
   "cell_type": "markdown",
   "id": "63389ce7",
   "metadata": {},
   "source": [
    "## Exercise: Iteration instead of Recursion\n",
    "\n",
    "- As a practical exercise, try rewriting the `print_n` function (from previous sections) using iteration instead of recursion.\n",
    "\n",
    "- This exercise helps in understanding the practical differences between iterative and recursive approaches.\n",
    "\n",
    "- Experimenting with rewriting recursive functions as iterative ones can deepen your understanding of loop mechanics.\n",
    "\n",
    "- Below is a template to get started. Replace it with your iterative solution.\n",
    "\n",
    "\n"
   ]
  },
  {
   "cell_type": "code",
   "execution_count": null,
   "id": "517ef4ce",
   "metadata": {},
   "outputs": [],
   "source": [
    "def print_n(n):\n",
    "    # Your code here: rewrite using iteration instead of recursion\n",
    "    pass\n",
    "Based on the provided materials, here is a formatted workshop tailored to the topic of \"Iteration,\" specifically focusing on `while` loops and sequence generation. This workshop will be structured in a Jupyter notebook format, similar to the example provided.\n",
    "\n",
    "---"
   ]
  },
  {
   "cell_type": "markdown",
   "id": "9afac308",
   "metadata": {},
   "source": [
    "#\n",
    "\n",
    "## Mini-workshop: Iterative Exploration (Part 1)\n",
    "\n",
    "#\n",
    "\n",
    "Iteration is a core concept in programming, allowing repetitive execution of code blocks based on a condition. In this workshop, we'll explore the `while` loop in Python, which is a fundamental way to implement iteration.\n",
    "\n",
    "\n"
   ]
  },
  {
   "cell_type": "markdown",
   "id": "8593546e",
   "metadata": {},
   "source": [
    "#\n",
    "\n",
    "### Task 1: Simple Countdown\n",
    "\n",
    "- Implement a function named `simple_countdown` that takes an integer `n` and prints numbers from `n` down to `1`. After printing `1`, it should print `Go!`.\n",
    "\n",
    "- Use a `while` loop to implement this function.\n",
    "\n",
    "- Ensure that your function prints each number on a new line.\n",
    "\n",
    "\n"
   ]
  },
  {
   "cell_type": "code",
   "execution_count": null,
   "id": "b2459d63",
   "metadata": {},
   "outputs": [],
   "source": [
    "def simple_countdown(n):\n",
    "    # Your code here\n",
    "    while n > 0:\n",
    "        print(n)\n",
    "        n -= 1\n",
    "    print(\"Go!\")\n",
    "\n",
    "# Example usage\n",
    "simple_countdown(3)"
   ]
  },
  {
   "cell_type": "markdown",
   "id": "e5e46dbf",
   "metadata": {},
   "source": [
    "#\n",
    "\n",
    "### Task 2: Oddities and Evenness\n",
    "\n",
    "- Implement a function named `odd_even_countdown` that takes an integer `n`.\n",
    "\n",
    "- If `n` is odd, it counts down only the odd numbers till 1. If `n` is even, it counts down only the even numbers till 2.\n",
    "\n",
    "- Use a `while` loop to implement this functionality.\n",
    "\n",
    "- Hint: The termination condition of the loop changes based on whether `n` is even or odd.\n",
    "\n",
    "\n"
   ]
  },
  {
   "cell_type": "code",
   "execution_count": null,
   "id": "68582b9f",
   "metadata": {},
   "outputs": [],
   "source": [
    "def odd_even_countdown(n):\n",
    "    # Your code here\n",
    "    while n > 0:\n",
    "        print(n)\n",
    "        n -= 2 if n % 2 == 0 else 1\n",
    "\n",
    "# Example usage\n",
    "odd_even_countdown(5)  # It should print: 5, 3, 1\n",
    "odd_even_countdown(6)  # It should print: 6, 4, 2"
   ]
  },
  {
   "cell_type": "markdown",
   "id": "6727850b",
   "metadata": {},
   "source": [
    "#\n",
    "\n",
    "### Task 3: Accumulating Sum\n",
    "\n",
    "- Implement a function named `accumulating_sum` that uses a `while` loop to add numbers from 1 to `n`, inclusive.\n",
    "\n",
    "- The function should return the total sum after adding numbers from 1 to `n`.\n",
    "\n",
    "- This task helps understand how loops can be used for cumulative operations.\n",
    "\n",
    "\n"
   ]
  },
  {
   "cell_type": "code",
   "execution_count": null,
   "id": "7fbc9673",
   "metadata": {},
   "outputs": [],
   "source": [
    "def accumulating_sum(n):\n",
    "    # Your code here\n",
    "    total = 0\n",
    "    while n > 0:\n",
    "        total += n\n",
    "        n -= 1\n",
    "    return total\n",
    "\n",
    "# Example usage\n",
    "print(accumulating_sum(10))  # Should print 55 as the result"
   ]
  },
  {
   "cell_type": "markdown",
   "id": "cd482bdb",
   "metadata": {},
   "source": [
    "#\n",
    "\n",
    "### Task 4: The Power of While\n",
    "\n",
    "- Challenge: Implement a function named `power_of_while` that takes two integers, `base` and `exponent`.\n",
    "\n",
    "- The function calculates `base` to the power of `exponent` using a `while` loop (i.e., `base` ** `exponent`), without using the `**` operator or `pow()` function.\n",
    "\n",
    "- Return the calculated value.\n",
    "\n",
    "- This task will help you understand how to implement mathematical operations using loops.\n",
    "\n",
    "\n"
   ]
  },
  {
   "cell_type": "code",
   "execution_count": null,
   "id": "6c8d1980",
   "metadata": {},
   "outputs": [],
   "source": [
    "def power_of_while(base, exponent):\n",
    "    # Your code here\n",
    "    result = 1\n",
    "    while exponent > 0:\n",
    "        result *= base\n",
    "        exponent -= 1\n",
    "    return result\n",
    "\n",
    "# Example usage\n",
    "print(power_of_while(2, 3))  # Should print 8 as the result\n",
    "\n",
    "This workshop provides a hands-on approach to understanding iterative processes in Python, particularly focusing on the `while` loop. Each task builds on fundamental concepts, guided by clear instructions to encourage participants to effectively implement and experiment with loops."
   ]
  },
  {
   "cell_type": "markdown",
   "id": "c1ad584d",
   "metadata": {},
   "source": [
    "## 7.4  break\n",
    "\n",
    "- The `break` statement is used to exit a loop prematurely\n",
    "\n",
    "- This is useful when you need to stop the loop based on a condition that is checked within the loop's body, rather than at the start\n",
    "\n",
    "\n"
   ]
  },
  {
   "cell_type": "markdown",
   "id": "51599ec9",
   "metadata": {},
   "source": [
    "## Example: User Input Loop\n",
    "\n",
    "- When you want to keep taking input from the user until a specific input is received\n",
    "\n",
    "- The loop's condition is set to `True` to ensure it keeps running indefinitely\n",
    "\n",
    "- The `break` statement is then used to exit the loop based on the user's input\n",
    "\n",
    "\n"
   ]
  },
  {
   "cell_type": "code",
   "execution_count": null,
   "id": "d1410872",
   "metadata": {},
   "outputs": [],
   "source": [
    "while True:\n",
    "    line = input('> ')\n",
    "    if line == 'done':\n",
    "        break\n",
    "    print(line)\n",
    "\n",
    "print('Done!')"
   ]
  },
  {
   "cell_type": "markdown",
   "id": "1ee509eb",
   "metadata": {},
   "source": [
    "## Sample Run\n",
    "\n",
    "- In a sample run, the program keeps asking for input\n",
    "\n",
    "- If the user types \"done\", the program exits the loop and prints \"Done!\"\n",
    "\n",
    "- This illustrates the dynamic control you have within loops using the `break` statement\n",
    "\n",
    "\n"
   ]
  },
  {
   "cell_type": "code",
   "execution_count": null,
   "id": "c40c02ca",
   "metadata": {},
   "outputs": [],
   "source": [
    "# Sample Input\n",
    "'> not done'\n",
    "'not done'\n",
    "'> done'\n",
    "'Done!'\n",
    "Following the given example, here is a workshop exercise focusing on iteration using Python, which you could embed in a Jupyter notebook as part of a learning module.\n",
    "\n",
    "```python"
   ]
  },
  {
   "cell_type": "markdown",
   "id": "5f05e0bf",
   "metadata": {},
   "source": [
    "#\n",
    "\n",
    "## Mini-workshop: Iteration Basics\n",
    "\n",
    "#\n",
    "\n",
    "The goals of this workshop are:\n",
    "\n",
    "1. To understand and apply the `while` loop for repeated actions.\n",
    "\n",
    "2. To utilize the `break` statement to exit a loop based on a dynamic condition.\n",
    "\n",
    "3. To practice iterative processing of user input.\n",
    "\n",
    "#\n",
    "\n",
    "Let's get started with iteration in Python!\n",
    "\n",
    "\n"
   ]
  },
  {
   "cell_type": "markdown",
   "id": "0d0ca26d",
   "metadata": {},
   "source": [
    "#\n",
    "\n",
    "### Task 1: Infinite Echo\n",
    "\n",
    "\n",
    "\n",
    "- Write a program that continuously asks the user for input and prints what the user typed.\n",
    "\n",
    "- The program should break the loop and stop if the user types `\"quit\"`.\n",
    "\n",
    "\n",
    "\n",
    "Example of expected functionality:\n",
    "\n",
    "```\n",
    "\n",
    "> Hello\n",
    "\n",
    "Hello\n",
    "\n",
    "> How are you?\n",
    "\n",
    "How are you?\n",
    "\n",
    "> quit\n",
    "\n",
    "```\n",
    "\n",
    "\n"
   ]
  },
  {
   "cell_type": "code",
   "execution_count": null,
   "id": "bfcb717e",
   "metadata": {},
   "outputs": [],
   "source": [
    "while True:\n",
    "    user_input = input('> ')\n",
    "    if user_input == 'quit':\n",
    "        break\n",
    "    print(user_input)"
   ]
  },
  {
   "cell_type": "markdown",
   "id": "308c8296",
   "metadata": {},
   "source": [
    "#\n",
    "\n",
    "### Task 2: Counting Numbers\n",
    "\n",
    "#\n",
    "\n",
    "- Using a `while` loop, write a program that counts from 1 to 10 and prints each number to the console.\n",
    "\n",
    "- The loop should stop once it reaches 10.\n",
    "\n",
    "\n"
   ]
  },
  {
   "cell_type": "code",
   "execution_count": null,
   "id": "0a8b1d44",
   "metadata": {},
   "outputs": [],
   "source": [
    "count = 1\n",
    "while count <= 10:\n",
    "    print(count)\n",
    "    count += 1"
   ]
  },
  {
   "cell_type": "markdown",
   "id": "82e45b3d",
   "metadata": {},
   "source": [
    "#\n",
    "\n",
    "### Task 3: User-Controlled Countdown\n",
    "\n",
    "\n",
    "\n",
    "- Ask the user to input a number.\n",
    "\n",
    "- Using a `while` loop, perform a countdown from that number to 1 on the console, and then print `\"Liftoff!\"`.\n",
    "\n",
    "\n",
    "\n",
    "Example of expected functionality:\n",
    "\n",
    "```\n",
    "\n",
    "Enter a number to countdown from: 5\n",
    "\n",
    "5\n",
    "\n",
    "4\n",
    "\n",
    "3\n",
    "\n",
    "2\n",
    "\n",
    "1\n",
    "\n",
    "Liftoff!\n",
    "\n",
    "```\n",
    "\n",
    "\n"
   ]
  },
  {
   "cell_type": "code",
   "execution_count": null,
   "id": "636bd1c7",
   "metadata": {},
   "outputs": [],
   "source": [
    "number = int(input('Enter a number to countdown from: '))\n",
    "while number > 0:\n",
    "    print(number)\n",
    "    number -= 1\n",
    "print(\"Liftoff!\")"
   ]
  },
  {
   "cell_type": "markdown",
   "id": "59215954",
   "metadata": {},
   "source": [
    "#\n",
    "\n",
    "### Task 4: Simple Interest Calculator\n",
    "\n",
    "#\n",
    "\n",
    "- Prompt the user for:\n",
    "\n",
    "  - The principal amount (`P`)\n",
    "\n",
    "  - The annual interest rate (`r`) as a percentage (e.g., 5 for 5%)\n",
    "\n",
    "  - The time period in years (`t`)\n",
    "\n",
    "- Calculate the simple interest using the formula `SI = (P * r * t) / 100`\n",
    "\n",
    "- Print the calculated simple interest to the console rounded to two decimal places.\n",
    "\n",
    "\n",
    "\n",
    "Example of expected functionality:\n",
    "\n",
    "```\n",
    "\n",
    "Enter the principal amount: 1000\n",
    "\n",
    "Enter the annual interest rate (%): 5\n",
    "\n",
    "Enter the time period in years: 2\n",
    "\n",
    "The simple interest is: 100.0\n",
    "\n",
    "```\n",
    "\n",
    "\n"
   ]
  },
  {
   "cell_type": "code",
   "execution_count": null,
   "id": "7e4b8f06",
   "metadata": {},
   "outputs": [],
   "source": [
    "principal = float(input('Enter the principal amount: '))\n",
    "interest_rate = float(input('Enter the annual interest rate (%): '))\n",
    "time_period = float(input('Enter the time period in years: '))\n",
    "simple_interest = (principal * interest_rate * time_period) / 100\n",
    "print(f\"The simple interest is: {simple_interest:.2f}\")\n",
    "```\n",
    "\n",
    "This workshop provides an interactive and practical introduction to basic iteration in Python, covering `while` loops and the `break` statement with various practical tasks for learners to complete."
   ]
  },
  {
   "cell_type": "markdown",
   "id": "027425e6",
   "metadata": {},
   "source": [
    "## 7.5 Square Roots\n",
    "\n",
    "- Loops are vital for iteratively improving numerical results\n",
    "\n",
    "- Newton's method is a classic example for computing square roots\n",
    "\n",
    "- Starting with an estimate, we iteratively refine it to get closer to the actual square root\n",
    "\n",
    "\n"
   ]
  },
  {
   "cell_type": "markdown",
   "id": "befd41d2",
   "metadata": {},
   "source": [
    "## Iterative Improvement\n",
    "\n",
    "- An initial estimate `x` is progressively improved using `y = (x + a/x) / 2`\n",
    "\n",
    "- This process is repeated until the estimate no longer changes significantly\n",
    "\n",
    "\n"
   ]
  },
  {
   "cell_type": "code",
   "execution_count": null,
   "id": "170a707c",
   "metadata": {},
   "outputs": [],
   "source": [
    "a = 4\n",
    "x = 3\n",
    "y = (x + a / x) / 2\n",
    "print(y)"
   ]
  },
  {
   "cell_type": "code",
   "execution_count": null,
   "id": "4151a8cc",
   "metadata": {},
   "outputs": [],
   "source": [
    "x = y\n",
    "y = (x + a / x) / 2\n",
    "print(y)"
   ]
  },
  {
   "cell_type": "code",
   "execution_count": null,
   "id": "37185104",
   "metadata": {},
   "outputs": [],
   "source": [
    "x = y\n",
    "y = (x + a / x) / 2\n",
    "print(y)"
   ]
  },
  {
   "cell_type": "code",
   "execution_count": null,
   "id": "482b0aca",
   "metadata": {},
   "outputs": [],
   "source": [
    "x = y\n",
    "y = (x + a / x) / 2\n",
    "print(y)"
   ]
  },
  {
   "cell_type": "markdown",
   "id": "40eb1d57",
   "metadata": {},
   "source": [
    "## Checking for Convergence\n",
    "\n",
    "- Directly comparing floating-point numbers is risky due to precision issues\n",
    "\n",
    "- Instead, we check if the absolute difference is smaller than a tiny value `epsilon`\n",
    "\n",
    "- This approach guides us to stop the iteration once the estimate is precise enough\n",
    "\n",
    "\n"
   ]
  },
  {
   "cell_type": "code",
   "execution_count": null,
   "id": "f883447a",
   "metadata": {},
   "outputs": [],
   "source": [
    "epsilon = 0.0000001\n",
    "while True:\n",
    "    print(x)\n",
    "    y = (x + a / x) / 2\n",
    "    if abs(y - x) < epsilon:\n",
    "        break\n",
    "    x = y\n",
    "Based on your instructions, I'll create a new workshop section related to \"Iteration\" in the format of the provided example. This workshop will guide participants through exercises on implementing and utilizing loops effectively in Python.\n",
    "\n",
    "```markdown"
   ]
  },
  {
   "cell_type": "markdown",
   "id": "5364f05f",
   "metadata": {},
   "source": [
    "## Mini-Workshop: Iteration (Part 1)\n",
    "\n",
    "#\n",
    "\n",
    "Iteration in Python allows you to execute a block of code repeatedly. Loops, such as `while` and `for`, are commonly used for iterating over sequences or repeating code until a condition changes. In this workshop, you will practice writing different types of loops.\n",
    "\n",
    "```\n",
    "\n",
    "```markdown\n"
   ]
  },
  {
   "cell_type": "markdown",
   "id": "44b67c6a",
   "metadata": {},
   "source": [
    "### Task 1: Counting with Loops\n",
    "\n",
    "\n",
    "\n",
    "Use a `for` loop to count from 1 to 10, printing out each number on a new line.\n",
    "\n",
    "```\n",
    "\n",
    "```python\n"
   ]
  },
  {
   "cell_type": "code",
   "execution_count": null,
   "id": "97bc2538",
   "metadata": {},
   "outputs": [],
   "source": [
    "for i in range(1, 11):\n",
    "    print(i)\n",
    "```\n",
    "```markdown"
   ]
  },
  {
   "cell_type": "markdown",
   "id": "e4b33f1c",
   "metadata": {},
   "source": [
    "### Task 2: Summing Numbers\n",
    "\n",
    "#\n",
    "\n",
    "Write a loop that sums all numbers from 1 to 100. Print the result.\n",
    "\n",
    "```\n",
    "\n",
    "```python\n"
   ]
  },
  {
   "cell_type": "code",
   "execution_count": null,
   "id": "2495bdcb",
   "metadata": {},
   "outputs": [],
   "source": [
    "total = 0\n",
    "for i in range(1, 101):\n",
    "    total += i\n",
    "print(total)\n",
    "```\n",
    "```markdown"
   ]
  },
  {
   "cell_type": "markdown",
   "id": "7957ee0b",
   "metadata": {},
   "source": [
    "### Task 3: Finding the Square Root\n",
    "\n",
    "#\n",
    "\n",
    "Let's manually compute the square root of a number using iteration (Newton's method shown in the examples). Start with an initial guess `x` for the square root of `a = 25`, then iteratively improve the guess using the formula `y = (x + a / x) / 2`. Repeat this process until the absolute difference between `y` and `x` is less than `epsilon = 0.000001`. Print each guess.\n",
    "\n",
    "```\n",
    "\n",
    "```python\n"
   ]
  },
  {
   "cell_type": "code",
   "execution_count": null,
   "id": "9ab18c5f",
   "metadata": {},
   "outputs": [],
   "source": [
    "a = 25\n",
    "x = 3\n",
    "epsilon = 0.000001\n",
    "while True:\n",
    "    y = (x + a / x) / 2\n",
    "    if abs(y - x) < epsilon:\n",
    "        break\n",
    "    x = y\n",
    "    print(x)\n",
    "```\n",
    "```markdown"
   ]
  },
  {
   "cell_type": "markdown",
   "id": "938c7c66",
   "metadata": {},
   "source": [
    "### Task 4: Iterating Over Lists\n",
    "\n",
    "#\n",
    "\n",
    "Given the list `items = [\"apple\", \"banana\", \"cherry\"]`, write a loop that iterates over the list and prints each item.\n",
    "\n",
    "```\n",
    "\n",
    "```python\n"
   ]
  },
  {
   "cell_type": "code",
   "execution_count": null,
   "id": "0b338462",
   "metadata": {},
   "outputs": [],
   "source": [
    "items = [\"apple\", \"banana\", \"cherry\"]\n",
    "for item in items:\n",
    "    print(item)\n",
    "```\n",
    "```markdown"
   ]
  },
  {
   "cell_type": "markdown",
   "id": "eb0a99b3",
   "metadata": {},
   "source": [
    "Congratulations on completing this mini-workshop on iteration! Through these exercises, you've practiced using `for` and `while` loops for counting, summing numbers, computing square roots using an iterative method, and iterating over list items.\n",
    "\n",
    "```\n",
    "\n",
    "\n",
    "\n",
    "This workshop, constructed as a part of a Jupyter notebook, will allow learners to engage with Python's iteration constructs actively. They will familiarize themselves with the syntax and utility of loops through concrete examples and problems, enhancing their understanding and ability to write efficient, iterative Python code.\n"
   ]
  },
  {
   "cell_type": "markdown",
   "id": "2d064a99",
   "metadata": {},
   "source": [
    "## 7.6 Algorithms\n",
    "\n",
    "- Newton's method illustrates what an algorithm is: a mechanical process for solving a certain category of problems, such as computing square roots.\n",
    "\n",
    "- Algorithms contrast with memorized solutions, embodying general solutions to problems rather than specific answers.\n",
    "\n",
    "- Examples include techniques for addition with carrying, subtraction with borrowing, and long division—all of which are algorithms.\n",
    "\n",
    "- A hallmark of algorithms is their mechanical nature, requiring no intelligence to execute, merely following a set of simple rules.\n",
    "\n",
    "\n"
   ]
  },
  {
   "cell_type": "markdown",
   "id": "27151bd7",
   "metadata": {},
   "source": [
    "## Characteristics and Challenges of Algorithms\n",
    "\n",
    "- Designing algorithms is intriguing and central to computer science, focusing on formulating a series of steps to solve problems.\n",
    "\n",
    "- A key challenge in algorithm design is handling tasks that humans perform intuitively, such as understanding natural language.\n",
    "\n",
    "- These natural abilities, effortless for humans, are difficult to translate into algorithmic form. \n",
    "\n",
    "- This discrepancy highlights both the complexity of human cognition and the intellectual challenges in computer science.\n",
    "\n",
    "```python\n"
   ]
  },
  {
   "cell_type": "markdown",
   "id": "8466a288",
   "metadata": {},
   "source": [
    "#\n",
    "\n",
    "## Workshop: Iteration\n",
    "\n",
    "#\n",
    "\n",
    "Iteration is a fundamental concept in programming, enabling the execution of a block of code repetitively until a certain condition is met. In Python, iteration can be achieved through loops such as `for` and `while`. This workshop focuses on practical exercises to understand and use iteration in Python effectively.\n",
    "\n",
    "#\n"
   ]
  },
  {
   "cell_type": "markdown",
   "id": "6aad49fc",
   "metadata": {},
   "source": [
    "#\n",
    "\n",
    "### Task 1: Sum of Numbers\n",
    "\n",
    "#\n",
    "\n",
    "- Create a list `numbers` containing the first ten positive integers.\n",
    "\n",
    "- Using a `for` loop, calculate the sum of all numbers in the `numbers` list and print the result.\n",
    "\n",
    "\n"
   ]
  },
  {
   "cell_type": "code",
   "execution_count": null,
   "id": "851e06ae",
   "metadata": {},
   "outputs": [],
   "source": [
    "numbers = [1, 2, 3, 4, 5, 6, 7, 8, 9, 10]\n",
    "sum_of_numbers = 0\n",
    "for number in numbers:\n",
    "    sum_of_numbers += number\n",
    "print(sum_of_numbers)"
   ]
  },
  {
   "cell_type": "markdown",
   "id": "a51d2f25",
   "metadata": {},
   "source": [
    "#\n",
    "\n",
    "### Task 2: Find the Even Numbers\n",
    "\n",
    "#\n",
    "\n",
    "- Given the list `numbers` from the previous task, use a `for` loop and a conditional statement to find all the even numbers in the list.\n",
    "\n",
    "- Append the even numbers to a new list called `even_numbers` and print it.\n",
    "\n",
    "\n"
   ]
  },
  {
   "cell_type": "code",
   "execution_count": null,
   "id": "52e4ad5f",
   "metadata": {},
   "outputs": [],
   "source": [
    "even_numbers = []\n",
    "for number in numbers:\n",
    "    if number % 2 == 0:\n",
    "        even_numbers.append(number)\n",
    "print(even_numbers)"
   ]
  },
  {
   "cell_type": "markdown",
   "id": "4dca90c7",
   "metadata": {},
   "source": [
    "#\n",
    "\n",
    "### Task 3: Build a Number Triangle\n",
    "\n",
    "#\n",
    "\n",
    "- Using a `for` loop, print the following pattern:\n",
    "\n",
    "```\n",
    "\n",
    "1\n",
    "\n",
    "22\n",
    "\n",
    "333\n",
    "\n",
    "4444\n",
    "\n",
    "55555\n",
    "\n",
    "```\n",
    "\n",
    "- Note: The pattern should be easily adjustable to accommodate more lines.\n",
    "\n",
    "\n"
   ]
  },
  {
   "cell_type": "code",
   "execution_count": null,
   "id": "f25e8bc2",
   "metadata": {},
   "outputs": [],
   "source": [
    "for i in range(1, 6):\n",
    "    print(str(i) * i)"
   ]
  },
  {
   "cell_type": "markdown",
   "id": "868a85d7",
   "metadata": {},
   "source": [
    "#\n",
    "\n",
    "### Task 4: Fibonacci Sequence\n",
    "\n",
    "#\n",
    "\n",
    "- The Fibonacci sequence is a series of numbers where each number is the sum of the two preceding ones, starting from 0 and 1.\n",
    "\n",
    "- Write a `for` loop to generate the first 10 numbers of the Fibonacci sequence and store them in a list called `fibonacci`.\n",
    "\n",
    "- The list should start with `[0, 1, 1, 2, 3, 5, ...]`.\n",
    "\n",
    "\n"
   ]
  },
  {
   "cell_type": "code",
   "execution_count": null,
   "id": "01cf484f",
   "metadata": {},
   "outputs": [],
   "source": [
    "fibonacci = [0, 1]\n",
    "for i in range(2, 10):\n",
    "    next_number = fibonacci[i-1] + fibonacci[i-2]\n",
    "    fibonacci.append(next_number)\n",
    "print(fibonacci)"
   ]
  },
  {
   "cell_type": "markdown",
   "id": "19d566de",
   "metadata": {},
   "source": [
    "#\n",
    "\n",
    "### Task 5: Using `while` Loops\n",
    "\n",
    "#\n",
    "\n",
    "- Write a `while` loop that starts with `x = 0` and increments `x` by `1` on each iteration, printing the value of `x`.\n",
    "\n",
    "- The loop should terminate once `x` reaches `5`.\n",
    "\n",
    "- Pay careful attention to avoid creating an infinite loop.\n",
    "\n",
    "\n"
   ]
  },
  {
   "cell_type": "code",
   "execution_count": null,
   "id": "04def9f1",
   "metadata": {},
   "outputs": [],
   "source": [
    "x = 0\n",
    "while x <= 5:\n",
    "    print(x)\n",
    "    x += 1\n",
    "```\n",
    "\n",
    "**Note:** This workshop aims to cover basic iteration concepts in Python, including `for` and `while` loops. Each task is designed to provide hands-on experience with iteration, emphasizing practical, real-world applications of these fundamental constructs."
   ]
  },
  {
   "cell_type": "markdown",
   "id": "e6f7c6ed",
   "metadata": {},
   "source": [
    "## 7.7  Debugging\n",
    "\n",
    "- Writing larger programs increases debugging time due to more code and potential error spots\n",
    "\n",
    "- Debugging by bisection can significantly reduce debugging time \n",
    "\n",
    "  - Example: Debugging 100 lines of code by bisection vs. line by line\n",
    "\n",
    "- Place check points in the program to narrow down the error location\n",
    "\n",
    "\n"
   ]
  },
  {
   "cell_type": "markdown",
   "id": "13ca2eb9",
   "metadata": {},
   "source": [
    "## Efficient Debugging Strategies\n",
    "\n",
    "- Add a print statement near the mid-point of the program to verify intermediate values\n",
    "\n",
    "- Incorrect mid-point checks indicate problems in the first half of the program, and vice versa\n",
    "\n",
    "- Each check effectively halves the potential error space, streamlining error identification\n",
    "\n",
    "\n"
   ]
  },
  {
   "cell_type": "markdown",
   "id": "c78fbe8b",
   "metadata": {},
   "source": [
    "## Practical Debugging Tips\n",
    "\n",
    "- Identifying the \"middle of the program\" isn't about counting lines but assessing error-prone areas\n",
    "\n",
    "- Strategically place checks where errors are likely or verification is simple\n",
    "\n",
    "- Aim to choose check points that make it equally probable for errors to be before or after the check\n",
    "\n",
    "\n"
   ]
  },
  {
   "cell_type": "markdown",
   "id": "e293d6ff",
   "metadata": {},
   "source": [
    "## Example of Debugging by Bisection\n",
    "\n",
    "- A practical approach to localize the error in fewer steps\n",
    "\n",
    "- Not always about finding the exact midpoint but about smartly dividing the problem space\n",
    "\n",
    "- Effective use of print statements or other verifiable actions can greatly aid in narrowing down the bug's location\n",
    "\n",
    "\n"
   ]
  },
  {
   "cell_type": "code",
   "execution_count": null,
   "id": "72de9067",
   "metadata": {},
   "outputs": [],
   "source": [
    "# Example of adding a print statement to debug:\n",
    "# Imagine having a function that is not giving the expected output"
   ]
  },
  {
   "cell_type": "code",
   "execution_count": null,
   "id": "87109b42",
   "metadata": {},
   "outputs": [],
   "source": [
    "def problematic_function(x):\n",
    "    # Some complex logic here...\n",
    "    result = x**2 - 2*x + 1  # An intended operation\n",
    "    # More complex logic...\n",
    "    return result\n",
    "\n",
    "x_test = 4  # Test value\n",
    "print(\"Intermediate check:\", problematic_function(x_test))\n",
    "# This print statement serves as a midpoint check to verify the function's behavior"
   ]
  },
  {
   "cell_type": "code",
   "execution_count": null,
   "id": "77243b28",
   "metadata": {},
   "outputs": [],
   "source": [
    "# Depending on the output of the print statement, we can deduce if the error\n",
    "# lies before or after this point in the overall logic of our program.\n",
    "-----Start Workshop Iteration-----"
   ]
  },
  {
   "cell_type": "markdown",
   "id": "9db57579",
   "metadata": {},
   "source": [
    "## Mini-workshop: Iteration Techniques in Python\n",
    "\n",
    "\n"
   ]
  },
  {
   "cell_type": "markdown",
   "id": "c0d659db",
   "metadata": {},
   "source": [
    "### Iterating Over a List\n",
    "\n",
    "#\n",
    "\n",
    "- Given the list `num_list` containing the numbers from 1 to 5, write a `for` loop that prints each number multiplied by 2.\n",
    "\n",
    "\n"
   ]
  },
  {
   "cell_type": "code",
   "execution_count": null,
   "id": "d09bfd9d",
   "metadata": {},
   "outputs": [],
   "source": [
    "num_list = [1, 2, 3, 4, 5]"
   ]
  },
  {
   "cell_type": "code",
   "execution_count": null,
   "id": "24d0205d",
   "metadata": {},
   "outputs": [],
   "source": [
    "# Your code here\n",
    "for num in num_list:\n",
    "    print(num * 2)"
   ]
  },
  {
   "cell_type": "markdown",
   "id": "77628e63",
   "metadata": {},
   "source": [
    "### Using Enumerate\n",
    "\n",
    "#\n",
    "\n",
    "- Modify the previous loop to also print the index of each element before multiplying it by 2. Utilize `enumerate` in your solution.\n",
    "\n",
    "\n"
   ]
  },
  {
   "cell_type": "code",
   "execution_count": null,
   "id": "ba55161f",
   "metadata": {},
   "outputs": [],
   "source": [
    "# Your code here\n",
    "for index, num in enumerate(num_list):\n",
    "    print(f\"Index: {index}, Number: {num*2}\")"
   ]
  },
  {
   "cell_type": "markdown",
   "id": "883f51e0",
   "metadata": {},
   "source": [
    "### List Comprehension\n",
    "\n",
    "#\n",
    "\n",
    "- Use a list comprehension to create a new list named `squared_list` containing the squares of all numbers in `num_list`.\n",
    "\n",
    "\n"
   ]
  },
  {
   "cell_type": "code",
   "execution_count": null,
   "id": "63b8dd59",
   "metadata": {},
   "outputs": [],
   "source": [
    "# Your code here\n",
    "squared_list = [num**2 for num in num_list]\n",
    "squared_list"
   ]
  },
  {
   "cell_type": "markdown",
   "id": "215d6049",
   "metadata": {},
   "source": [
    "### Iterating Over a Dictionary\n",
    "\n",
    "#\n",
    "\n",
    "- Given the dictionary `colors_with_codes`, iterate over it to print each color name (key) along with its color code (value).\n",
    "\n",
    "- `colors_with_codes` is defined with colors as keys and their hexadecimal codes as values.\n",
    "\n",
    "\n"
   ]
  },
  {
   "cell_type": "code",
   "execution_count": null,
   "id": "e27eca2d",
   "metadata": {},
   "outputs": [],
   "source": [
    "colors_with_codes = {\"red\": \"#FF0000\", \"green\": \"#00FF00\", \"blue\": \"#0000FF\"}"
   ]
  },
  {
   "cell_type": "code",
   "execution_count": null,
   "id": "2ca43e8b",
   "metadata": {},
   "outputs": [],
   "source": [
    "# Your code here\n",
    "for color, code in colors_with_codes.items():\n",
    "    print(f\"{color}: {code}\")"
   ]
  },
  {
   "cell_type": "markdown",
   "id": "f6c3803b",
   "metadata": {},
   "source": [
    "### While Loop with Condition\n",
    "\n",
    "#\n",
    "\n",
    "- Using a while loop, print numbers from 1 to 10. Use a variable to track the current number and increment it in each iteration.\n",
    "\n",
    "\n"
   ]
  },
  {
   "cell_type": "code",
   "execution_count": null,
   "id": "db296508",
   "metadata": {},
   "outputs": [],
   "source": [
    "# Your code here\n",
    "current_number = 1\n",
    "while current_number <= 10:\n",
    "    print(current_number)\n",
    "    current_number += 1"
   ]
  },
  {
   "cell_type": "markdown",
   "id": "092f9c48",
   "metadata": {},
   "source": [
    "### Break Statement\n",
    "\n",
    "#\n",
    "\n",
    "- Modify the previous while loop to stop (using the `break` statement) when the current number reaches 5.\n",
    "\n",
    "\n"
   ]
  },
  {
   "cell_type": "code",
   "execution_count": null,
   "id": "66857e82",
   "metadata": {},
   "outputs": [],
   "source": [
    "# Your code here\n",
    "current_number = 1\n",
    "while True:\n",
    "    if current_number > 5:\n",
    "        break\n",
    "    print(current_number)\n",
    "    current_number += 1"
   ]
  },
  {
   "cell_type": "markdown",
   "id": "fa80e26a",
   "metadata": {},
   "source": [
    "Congratulations for completing the iteration techniques workshop! You've practiced iterating over lists and dictionaries, using enumerate, list comprehensions, while loops, and controlling loop execution with `break`.\n",
    "\n",
    "-----End Workshop Iteration-----\n"
   ]
  },
  {
   "cell_type": "markdown",
   "id": "8e4ad8b5",
   "metadata": {},
   "source": [
    "## 7.8 Glossary\n",
    "\n",
    "- Reassignment refers to assigning a new value to an existing variable\n",
    "\n",
    "- Update is a specific type of assignment where the variable's new value depends on its old value\n",
    "\n",
    "\n"
   ]
  },
  {
   "cell_type": "markdown",
   "id": "a8dec907",
   "metadata": {},
   "source": [
    "- Initialization involves giving an initial value to a variable intended for future updates\n",
    "\n",
    "- Increment and decrement are types of updates that respectively increase or decrease the value of a variable\n",
    "\n",
    "\n"
   ]
  },
  {
   "cell_type": "markdown",
   "id": "5d74bc5d",
   "metadata": {},
   "source": [
    "- Iteration denotes the repeated execution of a set of statements, achieved via loops or recursive function calls\n",
    "\n",
    "- An infinite loop occurs when a loop's terminating condition is never met, causing endless iteration\n",
    "\n",
    "\n"
   ]
  },
  {
   "cell_type": "markdown",
   "id": "7df665ac",
   "metadata": {},
   "source": [
    "- The term algorithm refers to a general process for solving a specific category of problems, often involving iteration\n",
    "\n",
    "Iteration Workshop\n",
    "\n",
    "\n",
    "\n",
    "In this workshop, we will dive into the concept of iteration in Python, exploring how to use loops to perform repeated actions on a sequence of elements or until a certain condition is met. Let's get started!\n",
    "\n",
    "\n",
    "\n",
    "## Mini-workshop: Iterating Through Seasons\n",
    "\n",
    "\n",
    "\n",
    "### The Task of Seasons\n",
    "\n",
    "\n",
    "\n",
    "- Define a variable `seasons` containing a list of the strings `\"Spring\"`, `\"Summer\"`, `\"Autumn\"`, and `\"Winter\"`.\n",
    "\n",
    "- Using a loop, print each element of the `seasons` list.\n",
    "\n",
    "\n",
    "\n",
    "```python\n",
    "\n",
    "seasons = [\"Spring\", \"Summer\", \"Autumn\", \"Winter\"]\n",
    "\n",
    "\n",
    "\n",
    "for season in seasons:\n",
    "\n",
    "    print(season)\n",
    "\n",
    "```\n",
    "\n",
    "\n",
    "\n",
    "### Counting Down\n",
    "\n",
    "\n",
    "\n",
    "- Create a variable `countdown` containing the numbers from 10 down to 1 (inclusive).\n",
    "\n",
    "- Using a loop, print each number, followed by the word \"Liftoff!\" after printing the number 1.\n",
    "\n",
    "\n",
    "\n",
    "```python\n",
    "\n",
    "countdown = list(range(10, 0, -1))\n",
    "\n",
    "\n",
    "\n",
    "for number in countdown:\n",
    "\n",
    "    print(number)\n",
    "\n",
    "    if number == 1:\n",
    "\n",
    "        print(\"Liftoff!\")\n",
    "\n",
    "```\n",
    "\n",
    "\n",
    "\n",
    "### Infinite Wisdom\n",
    "\n",
    "\n",
    "\n",
    "- **WARNING:** This is a theoretical task. Do not run the code, as it will create an infinite loop.\n",
    "\n",
    "- Write a theoretical loop that would print `\"Learning is endless\"` indefinitely.\n",
    "\n",
    "\n",
    "\n",
    "```python\n",
    "\n",
    "WARNING: DO NOT RUN THIS CODE\n",
    "\n",
    "while True:\n",
    "\n",
    "    print(\"Learning is endless\")\n",
    "\n",
    "```\n",
    "\n",
    "\n",
    "\n",
    "### Numbers and Their Squares\n",
    "\n",
    "\n",
    "\n",
    "- Create a list `numbers` containing the numbers 1 through 5.\n",
    "\n",
    "- Using a loop, print each number and its square, formatted like: `Number: 1, Square: 1`.\n",
    "\n",
    "\n",
    "\n",
    "```python\n",
    "\n",
    "numbers = list(range(1, 6))\n",
    "\n",
    "\n",
    "\n",
    "for number in numbers:\n",
    "\n",
    "    print(f\"Number: {number}, Square: {number**2}\")\n",
    "\n",
    "```\n",
    "\n",
    "\n",
    "\n",
    "### Breaking the Loop\n",
    "\n",
    "\n",
    "\n",
    "- Write a loop that prints numbers from 1 to 10 but stops (breaks) when it reaches 5.\n",
    "\n",
    "\n",
    "\n",
    "```python\n",
    "\n",
    "for i in range(1, 11):\n",
    "\n",
    "    if i > 5:\n",
    "\n",
    "        break\n",
    "\n",
    "    print(i)\n",
    "\n",
    "```\n",
    "\n",
    "\n",
    "\n",
    "### Continue to Skip\n",
    "\n",
    "\n",
    "\n",
    "- Write a loop that prints numbers from 1 to 10 but skips printing the number 5.\n",
    "\n",
    "\n",
    "\n",
    "```python\n",
    "\n",
    "for i in range(1, 11):\n",
    "\n",
    "    if i == 5:\n",
    "\n",
    "        continue\n",
    "\n",
    "    print(i)\n",
    "\n",
    "```\n",
    "\n",
    "\n",
    "\n",
    "### Challenge: Prime Number Check\n",
    "\n",
    "\n",
    "\n",
    "- Define a variable `num` with a positive integer value.\n",
    "\n",
    "- Write a loop to check if `num` is a prime number and print `\"Prime\"` if it is, or `\"Not prime\"` if it isn't. (Hint: A prime number is a number greater than 1 that has no positive divisors other than 1 and itself.)\n",
    "\n",
    "\n",
    "\n",
    "```python\n",
    "\n",
    "num = 11  # Try different numbers\n",
    "\n",
    "if num > 1:\n",
    "\n",
    "    for i in range(2, num):\n",
    "\n",
    "        if (num % i) == 0:\n",
    "\n",
    "            print(\"Not prime\")\n",
    "\n",
    "            break\n",
    "\n",
    "    else:\n",
    "\n",
    "        print(\"Prime\")\n",
    "\n",
    "else:\n",
    "\n",
    "    print(\"Not prime\")\n",
    "\n",
    "```\n",
    "\n",
    "\n",
    "\n",
    "Congratulations on completing the iteration workshop! You've practiced using loops to navigate through lists, perform repeated actions based on conditions, and even touched upon the concepts of breaking and continuing loop execution. Keep experimenting with these concepts to deepen your understanding of iteration in Python.\n"
   ]
  },
  {
   "cell_type": "markdown",
   "id": "f485d69b",
   "metadata": {},
   "source": [
    "## Exercises on Iteration\n",
    "\n",
    "- We will cover three exercises that encapsulate the concepts of iteration\n",
    "\n",
    "- These exercises range from creating functions, evaluating expressions to approximating mathematical constants\n",
    "\n",
    "- The focus will be on developing functions for square root approximation, evaluating expressions, and approximating π\n",
    "\n",
    "- We aim to enhance understanding of loops, function encapsulation, and the `eval` function\n",
    "\n",
    "\n"
   ]
  },
  {
   "cell_type": "markdown",
   "id": "cac6472e",
   "metadata": {},
   "source": [
    "## Exercise 1: Square Root Approximation\n",
    "\n",
    "- Develop a function `mysqrt(a)` that estimates the square root of `a`\n",
    "\n",
    "- Choose an initial guess for `x` within the function\n",
    "\n",
    "- Use the technique from Section 7.5 for approximation\n",
    "\n",
    "- Test your function with `test_square_root` to compare against `math.sqrt(a)`\n",
    "\n",
    "- Your test should print a table showing `a`, `mysqrt(a)`, `math.sqrt(a)`, and the difference\n",
    "\n",
    "\n"
   ]
  },
  {
   "cell_type": "code",
   "execution_count": null,
   "id": "1a29af7f",
   "metadata": {},
   "outputs": [],
   "source": [
    "def mysqrt(a):\n",
    "    x = a / 2  # Initial guess for the square root\n",
    "    while True:\n",
    "        y = (x + a / x) / 2\n",
    "        if y == x:\n",
    "            break\n",
    "        x = y\n",
    "    return x\n",
    "\n",
    "def test_square_root(start=1, end=10):\n",
    "    print(\"a   mysqrt(a)     math.sqrt(a)  diff\")\n",
    "    print(\"-   ---------     ------------  ----\")\n",
    "    for a in range(start, end + 1):\n",
    "        mysqrt_a = mysqrt(a)\n",
    "        math_sqrt_a = math.sqrt(a)\n",
    "        diff = abs(mysqrt_a - math_sqrt_a)\n",
    "        print(f\"{a:.1f} {mysqrt_a:<13} {math_sqrt_a:<13} {diff}\")"
   ]
  },
  {
   "cell_type": "code",
   "execution_count": null,
   "id": "ddec3547",
   "metadata": {},
   "outputs": [],
   "source": [
    "import math\n",
    "test_square_root()"
   ]
  },
  {
   "cell_type": "markdown",
   "id": "85b85656",
   "metadata": {},
   "source": [
    "## Exercise 2: Evaluating Expressions with `eval`\n",
    "\n",
    "- Create a function `eval_loop` that interactively prompts the user\n",
    "\n",
    "- It evaluates user input with `eval` and prints the result\n",
    "\n",
    "- The loop ends when the user enters 'done', returning the last evaluated expression\n",
    "\n",
    "- This exercise demonstrates the use of `eval` for dynamic expression evaluation\n",
    "\n",
    "\n"
   ]
  },
  {
   "cell_type": "code",
   "execution_count": null,
   "id": "fb19d73c",
   "metadata": {},
   "outputs": [],
   "source": [
    "def eval_loop():\n",
    "    last_result = None\n",
    "    while True:\n",
    "        user_input = input(\"Enter an expression (or 'done' to exit): \")\n",
    "        if user_input == 'done':\n",
    "            return last_result\n",
    "        last_result = eval(user_input)\n",
    "        print(last_result)\n",
    "\n",
    "# Uncomment the following line to test eval_loop, but note that interactive input doesn't work well in Jupyter notebooks directly.\n",
    "# eval_loop()"
   ]
  },
  {
   "cell_type": "markdown",
   "id": "c7278f25",
   "metadata": {},
   "source": [
    "## Exercise 3: Approximating π with Ramanujan's Formula\n",
    "\n",
    "- Implement `estimate_pi` to approximate π using Ramanujan's infinite series\n",
    "\n",
    "- Continue adding terms until the last term is less than `1e-15`\n",
    "\n",
    "- Compare your approximation with `math.pi`\n",
    "\n",
    "- This exercise emphasizes looping for summing a series and the use of conditional loops to achieve precision\n",
    "\n",
    "\n"
   ]
  },
  {
   "cell_type": "code",
   "execution_count": null,
   "id": "0ce5fd73",
   "metadata": {},
   "outputs": [],
   "source": [
    "def estimate_pi():\n",
    "    import math\n",
    "    total = 0\n",
    "    k = 0\n",
    "    factor = 2 * math.sqrt(2) / 9801\n",
    "    while True:\n",
    "        num = math.factorial(4 * k) * (1103 + 26390 * k)\n",
    "        den = math.factorial(k) ** 4 * 396 ** (4 * k)\n",
    "        term = factor * num / den\n",
    "        total += term\n",
    "        if abs(term) < 1e-15:  # Break the loop if the term is less than 1e-15\n",
    "            break\n",
    "        k += 1\n",
    "    return 1 / total"
   ]
  },
  {
   "cell_type": "code",
   "execution_count": null,
   "id": "8551ed9f",
   "metadata": {},
   "outputs": [],
   "source": [
    "print(f\"Estimated π: {estimate_pi()}\")\n",
    "print(f\"math.pi: {math.pi}\")\n",
    "\n",
    "Using the template and structure provided in the example, let's create an iteration-focused workshop for a section in a Jupyter notebook.\n",
    "\n",
    "---\n",
    "\n",
    "```python"
   ]
  },
  {
   "cell_type": "markdown",
   "id": "2ac906d3",
   "metadata": {},
   "source": [
    "#\n",
    "\n",
    "## Workshop: Iteration (Part 1)\n",
    "\n",
    "#\n",
    "\n",
    "- We will practice the concepts of iteration, which are fundamental to programming in Python.\n",
    "\n",
    "- This workshop contains exercises that require you to use loops to solve different problems ranging from numerical computations to processing collections of data.\n",
    "\n",
    "```\n",
    "\n",
    "\n",
    "\n",
    "```python\n"
   ]
  },
  {
   "cell_type": "markdown",
   "id": "0f4d32ce",
   "metadata": {},
   "source": [
    "#\n",
    "\n",
    "### Exercise 1: The Power of While Loops\n",
    "\n",
    "#\n",
    "\n",
    "- Write a function named `countdown` that takes an integer `n`.\n",
    "\n",
    "- Using a `while` loop, print from `n` down to `1`, followed by `\"Liftoff!\"`.\n",
    "\n",
    "- The function doesn't need to return anything, just print the countdown.\n",
    "\n",
    "\n"
   ]
  },
  {
   "cell_type": "code",
   "execution_count": null,
   "id": "8b5e261e",
   "metadata": {},
   "outputs": [],
   "source": [
    "def countdown(n):\n",
    "    while n > 0:\n",
    "        print(n)\n",
    "        n -= 1\n",
    "    print(\"Liftoff!\")"
   ]
  },
  {
   "cell_type": "code",
   "execution_count": null,
   "id": "a3eef903",
   "metadata": {},
   "outputs": [],
   "source": [
    "# Uncomment to test your function\n",
    "# countdown(5)\n",
    "```\n",
    "\n",
    "```python"
   ]
  },
  {
   "cell_type": "markdown",
   "id": "ccdbdb5e",
   "metadata": {},
   "source": [
    "#\n",
    "\n",
    "### Exercise 2: Iterating Over Sequences\n",
    "\n",
    "#\n",
    "\n",
    "- Given a list of integers `numbers`, write a function named `sum_odd_numbers` that returns the sum of all odd numbers in the list.\n",
    "\n",
    "- Utilize a `for` loop to iterate over the elements in the list.\n",
    "\n",
    "- Hint: Remember the modulo operator `%` to check if a number is odd.\n",
    "\n",
    "\n"
   ]
  },
  {
   "cell_type": "code",
   "execution_count": null,
   "id": "b00aaed4",
   "metadata": {},
   "outputs": [],
   "source": [
    "def sum_odd_numbers(numbers):\n",
    "    total = 0\n",
    "    for num in numbers:\n",
    "        if num % 2 != 0:\n",
    "            total += num\n",
    "    return total"
   ]
  },
  {
   "cell_type": "code",
   "execution_count": null,
   "id": "7de2a2a7",
   "metadata": {},
   "outputs": [],
   "source": [
    "# Uncomment to test your function with a list of numbers\n",
    "# numbers_list = [1, 2, 3, 4, 5, 6, 7, 8, 9, 10]\n",
    "# print(sum_odd_numbers(numbers_list))\n",
    "```\n",
    "\n",
    "```python"
   ]
  },
  {
   "cell_type": "markdown",
   "id": "3a3b255e",
   "metadata": {},
   "source": [
    "#\n",
    "\n",
    "### Exercise 3: Fibonacci Sequence\n",
    "\n",
    "#\n",
    "\n",
    "- Write a function called `fibonacci` that takes an integer `n` and prints the first `n` numbers of the Fibonacci sequence.\n",
    "\n",
    "- The Fibonacci sequence is a series of numbers where the next number is found by adding up the two numbers before it.\n",
    "\n",
    "- For example, the first 10 numbers of the sequence are: 0, 1, 1, 2, 3, 5, 8, 13, 21, 34.\n",
    "\n",
    "- Use iteration (loops) in your solution.\n",
    "\n",
    "\n"
   ]
  },
  {
   "cell_type": "code",
   "execution_count": null,
   "id": "2fbe4f6c",
   "metadata": {},
   "outputs": [],
   "source": [
    "def fibonacci(n):\n",
    "    a, b = 0, 1\n",
    "    for _ in range(n):\n",
    "        print(a, end=\" \")\n",
    "        a, b = b, a + b"
   ]
  },
  {
   "cell_type": "code",
   "execution_count": null,
   "id": "ef155b1c",
   "metadata": {},
   "outputs": [],
   "source": [
    "# Uncomment to test your function\n",
    "# fibonacci(10)\n",
    "```\n",
    "\n",
    "```python"
   ]
  },
  {
   "cell_type": "markdown",
   "id": "7611d4c0",
   "metadata": {},
   "source": [
    "#\n",
    "\n",
    "- Congratulations on completing the iteration workshop! These exercises aimed to strengthen your understanding of loops in Python, an essential concept for iterative problem-solving in programming.\n",
    "\n",
    "```\n",
    "\n",
    "\n",
    "\n",
    "---\n",
    "\n",
    "\n",
    "\n",
    "This structured workshop in a Jupyter notebook format will help learners grasp the fundamentals of iteration in Python, guiding them through basic loop constructs and how they can be employed to perform tasks ranging from simple countdowns to calculating sums and generating the Fibonacci sequence.\n"
   ]
  }
 ],
 "metadata": {},
 "nbformat": 4,
 "nbformat_minor": 5
}
