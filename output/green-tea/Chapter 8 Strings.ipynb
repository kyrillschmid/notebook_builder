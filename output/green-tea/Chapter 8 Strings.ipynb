{
 "cells": [
  {
   "cell_type": "markdown",
   "id": "afdb2a5c",
   "metadata": {},
   "source": [
    "<img src=\"data:image/png;base64,iVBORw0KGgoAAAANSUhEUgAAAG8AAABuCAYAAAApmU3FAAAEtmlUWHRYTUw6Y29tLmFkb2JlLnht\n",
    "cAAAAAAAPD94cGFja2V0IGJlZ2luPSLvu78iIGlkPSJXNU0wTXBDZWhpSHpyZVN6TlRjemtjOWQi\n",
    "Pz4KPHg6eG1wbWV0YSB4bWxuczp4PSJhZG9iZTpuczptZXRhLyIgeDp4bXB0az0iWE1QIENvcmUg\n",
    "NS41LjAiPgogPHJkZjpSREYgeG1sbnM6cmRmPSJodHRwOi8vd3d3LnczLm9yZy8xOTk5LzAyLzIy\n",
    "LXJkZi1zeW50YXgtbnMjIj4KICA8cmRmOkRlc2NyaXB0aW9uIHJkZjphYm91dD0iIgogICAgeG1s\n",
    "bnM6ZXhpZj0iaHR0cDovL25zLmFkb2JlLmNvbS9leGlmLzEuMC8iCiAgICB4bWxuczp0aWZmPSJo\n",
    "dHRwOi8vbnMuYWRvYmUuY29tL3RpZmYvMS4wLyIKICAgIHhtbG5zOnBob3Rvc2hvcD0iaHR0cDov\n",
    "L25zLmFkb2JlLmNvbS9waG90b3Nob3AvMS4wLyIKICAgIHhtbG5zOnhtcD0iaHR0cDovL25zLmFk\n",
    "b2JlLmNvbS94YXAvMS4wLyIKICAgIHhtbG5zOnhtcE1NPSJodHRwOi8vbnMuYWRvYmUuY29tL3hh\n",
    "cC8xLjAvbW0vIgogICAgeG1sbnM6c3RFdnQ9Imh0dHA6Ly9ucy5hZG9iZS5jb20veGFwLzEuMC9z\n",
    "VHlwZS9SZXNvdXJjZUV2ZW50IyIKICAgZXhpZjpQaXhlbFhEaW1lbnNpb249IjExMSIKICAgZXhp\n",
    "ZjpQaXhlbFlEaW1lbnNpb249IjExMCIKICAgZXhpZjpDb2xvclNwYWNlPSIxIgogICB0aWZmOklt\n",
    "YWdlV2lkdGg9IjExMSIKICAgdGlmZjpJbWFnZUxlbmd0aD0iMTEwIgogICB0aWZmOlJlc29sdXRp\n",
    "b25Vbml0PSIyIgogICB0aWZmOlhSZXNvbHV0aW9uPSI3Mi4wIgogICB0aWZmOllSZXNvbHV0aW9u\n",
    "PSI3Mi4wIgogICBwaG90b3Nob3A6Q29sb3JNb2RlPSIzIgogICBwaG90b3Nob3A6SUNDUHJvZmls\n",
    "ZT0ic1JHQiBJRUM2MTk2Ni0yLjEiCiAgIHhtcDpNb2RpZnlEYXRlPSIyMDIwLTAyLTEzVDE2OjQ4\n",
    "OjM2KzAxOjAwIgogICB4bXA6TWV0YWRhdGFEYXRlPSIyMDIwLTAyLTEzVDE2OjQ4OjM2KzAxOjAw\n",
    "Ij4KICAgPHhtcE1NOkhpc3Rvcnk+CiAgICA8cmRmOlNlcT4KICAgICA8cmRmOmxpCiAgICAgIHN0\n",
    "RXZ0OmFjdGlvbj0icHJvZHVjZWQiCiAgICAgIHN0RXZ0OnNvZnR3YXJlQWdlbnQ9IkFmZmluaXR5\n",
    "IERlc2lnbmVyIDEuNy4zIgogICAgICBzdEV2dDp3aGVuPSIyMDIwLTAyLTEzVDE2OjQ4OjM2KzAx\n",
    "OjAwIi8+CiAgICA8L3JkZjpTZXE+CiAgIDwveG1wTU06SGlzdG9yeT4KICA8L3JkZjpEZXNjcmlw\n",
    "dGlvbj4KIDwvcmRmOlJERj4KPC94OnhtcG1ldGE+Cjw/eHBhY2tldCBlbmQ9InIiPz63ZYCCAAAB\n",
    "gWlDQ1BzUkdCIElFQzYxOTY2LTIuMQAAKJF1kc8rRFEUxz9miDCNYmFh8dKwQoMSG4uZ/Cosxii/\n",
    "Nm+eeTNq3szrvZk02SpbRYmNXwv+ArbKWikiJSsLa2KDnvM8NZI5t3PP537vPad7zwVfPKMZdmUY\n",
    "jGzeio1ElJnZOaX6ER8BgoQJqJptTkwNxylrbzdUuPGq061V/ty/VreYtDWoqBEe1EwrLzwqPL6c\n",
    "N13eFG7S0uqi8LFwhyUXFL529YTHTy6nPP5w2YrHouBrEFZSvzjxi7W0ZQjLywkZmYL2cx/3JfXJ\n",
    "7PSUxFbxFmxijBBBYYwhovTRzYDMfXTSQ5esKJMf/s6fJCe5mswmRSyWSJEmT4eoBamelKiLnpSR\n",
    "oej2/29fbb23x6teH4GqB8d5aYPqDfhcd5z3fcf5PAD/PZxlS/m5Peh/FX29pIV2IbgKJ+clLbEF\n",
    "p2vQfGeqlvot+cV9ug7PRxCYhcZLqJ33evazz+EtxFfkqy5gewfa5Xxw4QtXymffaj9hFAAAAAlw\n",
    "SFlzAAALEwAACxMBAJqcGAAAIABJREFUeJzlfXu0b1V13jfX/l2UkAAXiq/EWkg0RqUaBO5BEB+A\n",
    "WKtG6qtWeZnRtCYmgThUvJfRdDQOBAtc2mSEGJuhJn2oNcPwGFZSgmmAG84JAgKS4QPIQ2OVIgIR\n",
    "kbP3mv1jrW+ub+177uUROIfENca5557923vttefzm4+1f4a/R2PpfX+wCfB/6o4XmuHpDuwDYG94\n",
    "3gfue8PSPoDXY74PAAPsO4DfBeAuuH8HwF0wuwue7wLwHbjfCUvXA37j8gfflDfy+R7usI1ewK7G\n",
    "0taLDDYcDM+HAX4oYIcC+WA4ngAA7hPMBgAOdwBe6W78fwLgdTYHcgZMH9fkcwDu9wC+A+5XAX4l\n",
    "HCvL5/2r+x/r5/y7jMcd85a2XbwZ7qcC+LcAngnPgA0AMjxnmBWmuDvgXp7AEpAn8HEsJXge42+4\n",
    "F4bWa8v59XOzem0dZuV4Hh+ApRUAvwXg48vnvkVOenyMxw3zlrZd/NNw/BLS8GZ43hNAIao1BrhP\n",
    "hfAuGgPv/7bUtJDHybjQSqsM9TI/f8OLMpoV5lpo71fhfjaA310+762rjx0VHt7YcOYtbb14APw/\n",
    "AHYG4Ina4NMIS9Q4B+AwS4WBYRKt0p4MyeUnLapmoTGHn9NUUlvNeoZ3x0RjPQPufwXg/cvnv+3D\n",
    "60qkXYwNZd7Stkuejjz9D6ThyJD+PAFpCLPmnmFpUc1gHe5ACoIKgyB/k1FJTKM3xtJ02tBrKjUw\n",
    "tDNXjfV2rk8fhg0/v3z+22RR6z82jHlL2y55CoDrAH8qcg/y3Au4MBt2YlrxZ5XBXnygT+MMjPjO\n",
    "ZnH+GdD8GzXWrAKbVE8VkFNQEYJkZp+F+xuXz3/b3z5qRHmYY0OYt7T1ogFp+CPk6SWFeFMjWIwC\n",
    "Skx8XPkbDazU84KwlprWzU1lZxpz0dz4HLO50LRVGRpgZrX8TmkF03Tk8gUnb4gGzim2PsPSL8Hz\n",
    "S4pvQTFl1gjpOQOwWw32e3D/IOB/6PD7GuKk9Nd/lPHho1zCh6F95t4+h/faFXPItY6i5TzXpzKf\n",
    "GTCtHg7kdz0WJHooY4M07+IvwfCsnTSgEPT7gJ0J+PnXfOCEUIstZ/z+QfD8EcCODlNIwpMRadH+\n",
    "n6uvUpNM9NihTAkbwr+hHR8W5bjOE/cbAM/fA9LBy9tPvPWxp1w/1l3zls689KcAPKuBAxS/FmbQ\n",
    "zrjmA687VxkHAMtnv/42IP0zAF+J2DotGrRPi+a7GL8V0ybocaomcyi/PUtIgP4ar2FdzsA0NoZb\n",
    "qnOGOd8Tnn/lMSTZLsf6m808Pa1QvHIgZ1g1AA6/BZb+064uXT7n9ffB/Vfi+jw1rXA035THerwy\n",
    "K5AoKuMkflQtpp9k0E4/aalqoBemamhS5njto0ylhzTWn3nue9e0SDsEr+gyXXnNWa/1XV8MwOxK\n",
    "5MnDjwFNU+bprzTIMQ0hNPbj6akxK9bnTStpHQInTW2ePP7YltM++pOPiB5/h7H+zFNixqGB0P7r\n",
    "D3b58jlvuBuGv21xW2rapXDeJ0l7iX8LBlHbqKFjM5VqGTT/GdfIOQ3wbH5kBHnkYyM0L6TbyYD2\n",
    "4Qse7PIt7/mfB8GGHwngEUBCgErn9/gZ/5uFSWjnpEHSYdbmVpNr1pAnNd8oPHmvh0WHR2FsgOYl\n",
    "78ICAD6twvMq3P2YLe/91NN2P4Gf2IJqAQ5e0WZ3qve/89SHCpGoBpoPo7kU5jOjA2tpNxfGlucS\n",
    "O74+YwM0L7vnqeUjCenLUvaBpd9Zet+nn7DWpVve+6kluG9rlQY0eM+Umqmv85YWAyT1RWZULVNf\n",
    "F0E7E9XU6LGZyC75zZBk/YsOiwc/5VEelqqgGzyPsKH4O28EeKXDPr/lvZ86HcCO5XPe8N0t7/nk\n",
    "gYCfBPdtSMOmIKrGekDlUZ5pHHOSqiVDQ6oMDyLXSbSp9b6aI63rLxUOF3xkcKx/HXfdmec+eanM\n",
    "5JK7nCTOipPwXAB/CEt5y3s+eS8s7dOZyqzpNEkYIwMZDcQwpZXrZ/Rb02rVzkFCi6mFEWloZjUL\n",
    "uDEAuRy3xDiPHFz/fMeGABavIMMJ77uaGhoC9Jxqa0Pzb6yIa+qr0yoBIG0elOpCnZtZE0B8GEow\n",
    "DrRrVDOT3CeY5pJEX39Srvsdzcwh5ibCBE1XdflGia20YFoub+dS0wL+s56X+nlMtDLCCxEGZZiW\n",
    "hSRn6vF3ERCnP1znse7Mcy+9C5TUIEQgwrFnQjkLkdmofStdgB3aKNobGj37LO4nzCK6JIiJFFgV\n",
    "FmpdvcYkK2NpKBmieXJ7HcYGmM2pl9ZgkPgoVhriGgnC5y0Olsq10aOC5hej4sCAWq5vGeimpXls\n",
    "xVqGFU7EWgcjAiuFYneHw2vMur5jA0pC5s1PqUZQuxRF1thK+1aiilCD7TxJ2CDEZqI6j81carmo\n",
    "TIZoYAKkKmFtroj35uZVwQpm/1+fsQGhgt0F+EoLkGexVaC+DJiEBABCe9pkaFpnpUhqYu48HwBL\n",
    "B3btFWFGJTfJtczBEOF/lK5QUHIaaqhg1exjQ3zeujNv+ezX7wCwZT3uteVd//3nkFc/1CHNAC1j\n",
    "0zr1i+5NeCAJ7yo0BgNbED2P5TfyRijeBlXS12uwvcIgOc+ZSQaaKaU/Y1amlXzanEY5GMWkAj8Y\n",
    "ZnM9R2vZqwckrUWTnTMwbEIgWogZlbjOvSYVKsii6fRJTXU9/Uuv2gTg2e2AmHqa4HLsfqT0NfvJ\n",
    "z3zvkTzeI2be0taL/gmAFwD4EcD38pz3CB8QNbBqTtT5R85Q4qkOtksdTf2Ipq26Vr00+5znJ8Dz\n",
    "i5qpBKKaEAG/oEzXBHWZ130M80gNNjcgLcpzaryow+zpyPnGFn9KImKo2j1NwUS/5fhvYpo+gyH9\n",
    "N6T0OXv2Zx+SA31YzFvadslzkafTYDjO8/QMmDVj0bXIsebFzEaF85GqYkklz9oQagzHdJYy2q0x\n",
    "wazMC0k6M/Ofs/ipSoMk3oHCFOkzHuzDDc+rpVBAgJInwAWgUHNZlVBBIzN530kySWPtPOMYRwB4\n",
    "MobhVOR8Kgxf8FuO/1l7zmWffzB+PCTmLW296KcA/Cry+EZ3T5Y2ITqVE3srrVTEA9ExgwE0xqnk\n",
    "A/DKAEWTXe1NiqkkUszhHbEjRLCESDzrCHOVmxWIuayhyDzV7rRZ0M/1dTW/mWWY34u1Rs0WJUky\n",
    "hPmsP0Xgng9g2W865gKkdKY993/vcrPLgwKWpW2XnAazm+H+ZqRFsnkPiDNRO7RUF9vRI+huaC0W\n",
    "O60CzhhsjQxFxFGM8yDxWDU9adGIaJU48WQsrgoTtOJe40P2gFptKrKUyrF54G1SPO7mUZ/Ke6fW\n",
    "tMTPh6Ektdlvw2ec6ArQaJB9APAumH3Cbz52l3XC3TJvaetF5wDYDs8p6mXOHTq5Pmiu8HmqWZOp\n",
    "ma2utQBlkWmoi2fCl5IM0VhJWelxDs1fMl6DVWZWjexKPgI+wtQVs12sKBkx1tuKH2Uuk+uf+1lp\n",
    "pIoRjVAtPsS4Kv5fsMBClGGamvkv87wW7h/aFX/WNJtLWy9eAPnDMDslNElQGptenf6LD2KMjypx\n",
    "tR1PC6gBSKb2kNTSaSzoL1Jn1KxZlgVDIcA0NkKQwMEsxmqV4SRK5EfJoLKZxYZF067a09btTCKo\n",
    "0awQ5LY6VGiGoWlgqpYkz0KRaSqfASJ0BsB/1r/wsm/a8z+3bc6ntTXP0llAOqXFRnG8oLA8VdNS\n",
    "Vh3mJczpPL1Ua2eay9SgmAum1NHkkNH0ozQt0XPJuI0mVh6c9yUz6V+8AhptgIo8p7d1eC4+XEtO\n",
    "XaUjt7/Dt5Oq2maB8jyhmXIvjhAKNFNKC1TQ6lb/wste+qDMW9p26cHw6fQwWyGZU0VcxVx2N2cQ\n",
    "PG/0mZswhda6BYvt7juVdupc02qbs0tAo80BZaBIddTrhGA2NEJV0112IjUA07RNLEeUoxTQ9DFe\n",
    "WS/jxWo1hmrgOsBEoAVhNh8jiaYygZB+bbfMW9p2scHzhQAWXFTEbZVAJZMucVkEwd7MU0dINGaE\n",
    "mVMgUn0XyyoEHurjorIdpgTR/cw+mLgZeq1QjYxTKqGs7PcrlkRQL58nykv1+V3vMbVzZ7ucwqpM\n",
    "UzmdoYIKb3QQzEDPsEYpqtDiKL/5uFfuknlwfzs8H9mYUbuZxdwZWwd0oXyIIK7U4whcaMLU9HRz\n",
    "eDOjMZcjup6VgXwgvQcRZAT6aASJ0hAJS186iSZhdo6uR4QjGKv+G3IO+nZ4Pi5Nfao0YDVfa4cE\n",
    "LDxOS8C5p/H9azJvaetF+8HzOVGnmka0doXysNwPHg+VhjUemGiTU1szF3NU2ZlVl9jMW0tCwOc6\n",
    "r2p7hAre5gsi8wmHdj4tQzAacg1ijYY1BDJMKoShJmHL0Cbi/MmaeeZzMDTIUwUt1LihziXuIwlj\n",
    "i+97oX/hZSfsxDwAr0da7A+vm/bVRDWSCFDxtkitXishwyyuUadTgpJwFIaYYwZCyCyb/9Asz7Sb\n",
    "Bd9KYBZPkYYGGQQYmACyZjabiQ2hCCwgXdl5ujMIRUtBk06XQS0jIEvCKPrJCOyBTvsbuj1pDebZ\n",
    "axRVlcfPwazYE6caFLtW6cBpwggWZoleMoeL73wTmu0PM6rVcGEGGRuwXvxuWIYJGDbB81iSx1Uo\n",
    "zQzclWRm8Vw2LJRATUs7nyrWJExvmNK2xcvQC2wgXQfGSTatCA1oNlF9ZeVD0GQKIXmpX390itVs\n",
    "ed+n9wT8WBLLp7FpWP3tObfEcOcjKqHClXlPhDhXfGcSUxupJjEt4QuGZi41YzNvoaD5oykXrbe0\n",
    "6PKv7r2AEJC1JAN9GgVKgImJC6BFKWu6a+U3f+HuYJ7jhxroIAPQJ+qDJmjAJqWegdPUBIfmMw37\n",
    "AnaIitIxAPYMems3sRJZQYQGw47mo8BFUmMk2CYzuz0ALueiI3znc9RfMfaKdjxv6xO/2e2FMPRz\n",
    "1vCnnKoMErChg3Nr7MvKhPtt/cnYjNnlSAnYJD6a9NAYOdamzEqx3qAP8HKgMe81ZS0JDm/pIfqP\n",
    "eWNsgAPmLtE+VyDCDAcJQyIGQqsPEYlqMUXA7CFl9yofQs1y+EoLKbeaj6Rv8067lbo0+anN26Fe\n",
    "yO96r7SogGIA4F/pGOX5yQ0zoAnjRDch1omt+cMafaH8m0E7Ndi9MG9p60UGz6/2PNYgvEqsEpSp\n",
    "LDJTt0JRGud+kAuIWlldTCR1yUlv53BOoAGhPJZjBACRlSdjUyM2rwPi/OLnNOCmkJBpMxVRJmpI\n",
    "MNV10OfHtjAHHB/tJ7FDIpaLa9GupwmdRrFimIVD4mLCDdWflI7y64/elAAcbGnT07pMAaVOW73Z\n",
    "EtehTTWHEJ8DMWEm51eNC5RIAqqJFOK6EI+f5zESyEHI3cRlDMDL+1x0syUagTSeUs1IA0pTkyLa\n",
    "qlFtrdevXPgLl80E4NAODSexPjS7QwVvAzu7s1gSQdFAu74h2L3gfngC8AyP+MmDwxEuKEgwiZnI\n",
    "oFhY7n9Dru2y8MLIebqL85LIEdPVefOIYqqHnshdeGJ9bFeRqWkIQI2nCeR6w0QrwJgxrSsLATA7\n",
    "u+PbLcfvA7MXt8Ba/CkZMQzSWs+YlWkwEX5eT6aPYwM9ln5iAfcnGayP39Ls5TV8OB8BWwBWzUaH\n",
    "nOjkO6kUTSDQQBAUruhtQlTd1ZSF7xDtjHQa47oGcFwyQy6C4socCkggOfU3uS8ok9nRgsF1AnC/\n",
    "Co5PdWTK+U0wPHEnwEJGKWPU6hDkaSot3mihvjeu2y+55wN6U5b6XJ0iHfo++sQOneXGJI3/mAmx\n",
    "AQ3V5fZDn8bqt27yiLixmkma6nnch5pvZes56muvQivFZ3DNaiki1qoE5prYOa2Zm2YlbgDw6pUL\n",
    "3ynEAmB2SnM3aDSdB9vamhHgSxirrznRYyzowvZPgD/JmeDtHnbmz8qCZwxV/8HfDGylKKsxEc3g\n",
    "fN4u3yemMF4nlXsiaPAPlEqH50qvYq7DelDbg2FTM8XhRyqj0tBnepJaAoIGfBnA8SsXvrPFdgD8\n",
    "pmNOgOFFYDhkQhemuvi8I4W2Mneeu233apoIIbn7fgnuB4APTM1R6Qy4LhNxMRGDCfoLPyPMzFPf\n",
    "rxEmgMldQaJdloMIsoYc1VRHpcPLG5FomlvFm+ZbQBj3IYRGpGYeO8FySV/NUnSwDPffgOfDVi58\n",
    "57c6xt1y/N5I6deDaewYMDT/FiBQ6McffemPXk9hXXDtwdj9F7DhgCKxRIaE/VRXJaS3vF0XB1VH\n",
    "qy8oXdPUKKiRRQdA8fbAZs2UpiTINcGqz/W4m9ellDY9r1UNs6H4QEW1FJBAyxA0twnRbq9pwPJW\n",
    "ps/B/d+tXPjOP8NaI+f/iGQ/iuw1IS0WbBiKpnVIl5ZlRKcsVgVrHAvDXOitRemU9l8grz6ptB2o\n",
    "TxATGnvGrRJWu4plIT5jfqOsCINoH48HoYTp80KofqadyqGB3PJn3Y8Hg6g9VZvYHjgfLn7H7Btw\n",
    "fAbApUC6fOXCd6z5dj//4nEJjv8M+M9h8mak4vmtCUxknKgIEkrlXJjOdghqIbCz0PsEjHm/BVLR\n",
    "vI6ovtODtGNm4NbeLh5TbmlGJgCQmGMtnoapSwCQYelr8PwXgN0Oz7fD7K8Af6CthUAJMNkn7gGk\n",
    "ir+1oXaGdY7HKbVNSLUoCn8ANvw/AN8A8KWV3/z5uXeeMe4VewD4r0h4Y6EJetPfIdrUEOQglksz\n",
    "TzTnzG+yd5XghY26AJBs/wXcD2iV4txu0nG6SvicYRFbAXBrksZrWVCcB9uxWJqA4Vb4tB2eP7p8\n",
    "wanf3R3BHg/Dv/iKAYZ/AeAMTNMhzS2gPN+waIzScABoTCATeYznpxqGgGCtCoFBqhEZsLRfeYWs\n",
    "2RNCAl1UOfyeMqT+bUCX0KW50tTaTv8XiSztENfBcBZ8+vTy9pN7yP04HP7F4/aCpVORp9PhdlAD\n",
    "EIqIKw0m8Z0BSmoBNlnNsFifOovwoTJ8IUKgKLT8f7GApW8jT3t1BVTaVUV+mrkgpI662moDFVrR\n",
    "ZjosNLf6xDwBw/AJ5Omk5e0nP7Bbgt36WoPj2UjpqQD+Edw3qa8Ln7xYAKurAqYaIu2C/m5y75+R\n",
    "xwAgT3vA7BmwdCA8HwjgQLg/Dcy0s0o+DDWwJt1nYEVjNEuAMVTKxVrRtC4WBaRELnMWMpDp4bL8\n",
    "jgXc7wTs6bH4OVzv8p2KzrwRJikqym3xSowIrg2A/wbcf3lX2ua3n/DDcH8F3P85gFdhSE9ppRNF\n",
    "sYKIV1clTuR5NF1o66af0fgt1wLpODYm0DoshkJI+u089oRG1SICuoiXp1Y1j1dEyr1ppZgO0zQa\n",
    "aa3YgoicG04Ndyxg9u0mhYKGIoshMVDEdSSIossZKtQ4K2fV2g8tX3DKL67JtNtedxhS+jXk/DJ4\n",
    "3iPMM32Hmhb2oOi7U0ZaAAVSQORgdcOH1hR5zWJRN4IAARY4ZwgKWpYj6AW00EJACIWAvmwcWwMu\n",
    "QwKuTWNb3oda7UJfPlv2b1XNkws7rRHg0pkXQXHsPiYRyVQyXetw7l+DpXfvxLTbT9gHwFkoX4RR\n",
    "uBPhgtwvbsv1oPkM9oOQoMq8ObKLG3tjqhKGWhfPVCV+FLRHLaegJ12P9UIUAizaxmegxiUqhstn\n",
    "uc3lst7yHHcsANxZ8o6y6aNDSJVBXfZCCShmkk45pcKDQJxBzF9cvuDke2eMezLMrgTwzK5NgPPx\n",
    "4RYJmBxRP9xUY9Ms4QnkWhKN/khNJC1EEFilXyxLlzRGAxqrouFRRKXgcK6ZBSsLateR2fVwFFwZ\n",
    "zpBRhvLcerwo0h0LAN8ugEO+SEIz+J2ZRNOmSOmkoEVZHOcRphe/tGP5gpP/oGPcrT+zL+CXwf2Z\n",
    "gUJpWiiB9K9Tbg8ENLMXcafJGivT1io30UcpWOEPG4KzfGbWgMJ8h5TGcXm2PiL30LrKtGkqjbWj\n",
    "Jjkga8lFq8kwVt/p64Pu9q0En+4MBjHumL8ag1II1NZzmjCaqGpC9c14ob0RoH+kY9xtrxswDJdi\n",
    "ys+PhyUImGfY1VxqtkQDYK41KumpgQEOJocJyghCumNimgIhVwZyz0HkQ2XOiJUpUFPzjWRaZLFQ\n",
    "zaSXOQZZv5pOBTkqbFXzElABC9M1hgL9g8piOkmAcN6cXJtnNBasmgi7HzZ8sqck3oBpPLKLIwfZ\n",
    "vcNANsydEHyetVDfxnP1Nz9T4k/in6PBNzXfM69+Z0oQL7PGFGZEGLsF4+u5C/nqAQbwleQlkSLm\n",
    "VTW1s25MkjgTH99K8PzVDmzk3BjVDXX+ufkeGOLteZGzEwRaNPZPlrefeM9swjM6BpBZ08xEa72N\n",
    "95//n0HxnFkkRgfRhSGGHq6vFRMGgEDTyHk7BURoKEya0spiwsO6uIAs5aS3+QKJkt402QYMw18m\n",
    "pGEZebyvI1j7o03UESv3Gth1JgtYCH/p13b0uO11rwT8BYHq4vz6QLx1wO46V0BsIZzC/W4blyDk\n",
    "WKcgOYIE9enh66oQae1xlFdakVFKM01vxT1TLeUQnHhDnJoLzt7ckJpJ9b2ct1igr9uhV9+Ulj/4\n",
    "plUAV3WZFd0xoxl+QJx6bsejoCmV8ngwA/J0PfpxcixwsakndHBOhaTeN8ykCJKO+JvmGmJWvfdN\n",
    "ASzQGNglJyp9Ax2KT5s34ur9wxx7M6lMKJNJfL7AAxJGwFr2SunY3+9SgDFVnq5oDEqifSqp9WZE\n",
    "f3GMNlhU2oSRAJCG/9stIqVntUR/tfe6NzsyN7UgSUiuplkbc3ZiHnpBMjTwQIZGwL5mSNMj2MUi\n",
    "yBECADQBoECr1lHAIheZm5nk/8NXo6BP0s1zq3bMM15lfZc05qXhisZVgeBRVYDEb/Q3JFqIaCOU\n",
    "nlMWc1fHvDwd1CVdqRV8IKKxCGAZpOaWodCM/NyUdRqUZMuwmOEQPPVR4kuj3ua6T6DXPIKfeHPS\n",
    "fI66lkGEkMdHdo95KGKPgkla702/+31I6Y8a89yvQ/ny22abI7OAtkDd/xYpKzKbN1KmGh8s3vDj\n",
    "t/3MZjj2bcGzEE/TV3QJaq7Y+kaidGhUND0YMglqI9Pq85lJ3CYok9pIN9Jp1Ow3nzPiSgF19OFz\n",
    "v6sKMBc0bUqKBAM/j2sut8N23B/MWz73LRMs/Z82GdC+uUoXK46XQEXjriTZhsiG74TgDmrghLGY\n",
    "iTlSLbKSWxzHpnV8yEmkn0SMPKAAhjnhVCMDLddniFwi56wCM6kJFqao1g5KL2o5BG3Wv8dVRCIc\n",
    "JJUCk1mTMUfskygmM5hXz/5YOFCF13yIMIlomhgtDLwBfYpu/XJ0oUfO+4VvzD5rBec9vQSuSRav\n",
    "64k+FN6mmqbIO3b3Q2icSnI8q65bwoa2A6jXHn6mQhGJ+TrXKAham5LpUuiS3AXMiMCwMVefs8x1\n",
    "Jwy/z0cL5i2f+5ZPw+y64oemxkQ6UWk/6Fr4qDnKxMhs5J0/s2QN+ub2m3NrVVmddWR/rIUF/FsZ\n",
    "qyCmi9vE5ykQYtigoQQ1idLO8yaGRPO38KKh4PkboCZBx/W7bzvUazNTyaGC1hIT77Ety4EfNKgD\n",
    "3M9sNTn1bWhMUCIFKqLHFScf/hPw7utf0AhkqaG6CHB5L5F0EltbCCaZk+uZ5N4hsZAsiAlheJ0w\n",
    "vGNcbhkTNWls7VBfpfGfZlE81xcEKHOsjxk9NxrPn8tFcFK6CrMUY8e85fPe+r/g+erS4azZjdSY\n",
    "GYvNTYIiEW3N7xEYwNF9U4sGoWqidX+CnsuHzlMzR3ywrmXQRYgg73KhZgnxBvF9LGdpBkY1Xv3R\n",
    "HM1Sc8ISiL/TZ1P0Teuim0cIqjQQLzfisRHu77At13Tgode8Ms7s0lGdJnJRs4ckoQn7eWPV0m5Q\n",
    "CFzMjsRt6j+AhiTVVDIpQPMSx/U2FAaa/9yuiWwImhVQwKM51KCWmN7QGAI69BmmoAFmbkPWQlMM\n",
    "VFAmrqrDHNhuW665eUbEnZm3fN5b/xjwDwBoTOs2XpAp9ccnRCcyH2JuuvoAU/yo9egqJJAbSGbS\n",
    "3z1Ybr6QhKT0x1rElFVaYlhIcD2188NyaIoqt/NCKyhg3uI30on5x8izyrwmAqvxnPp0BuYqjO4f\n",
    "AXzrnE9rMg8Als8/cSty/p0OXWljT7xPE+hfj8jPw8ije+kOmaRARcERTIgukqdxnprnTtO8wvCM\n",
    "9ooMa2YptGvs51V/C/Smscs00fzJ/+daT589jwMpH9pOou4jwikTkDQBns+2Lde83ZZW5lu2ds28\n",
    "uuB/A/dLupvoj/rEWCQX1kIOs/JqqI55Qu8ABmqeDU0zgXaPJJoffnBViGZFswiK6HcDHBFooEl4\n",
    "aCzavES2fI400+5AvqjCQBJInMqmJK4hsk2VftpAO8z83jRmpOE0W1p53675sxvmLZ9/4gTPbwL8\n",
    "XHBbTZiuhO6Vv2ivtepeb5jl1VA6KImguRCkN1Vgopn6PBccawxhvEn/BbTYLszXDHIHUhbkGmGD\n",
    "mPqowtc5dN84n4OVDsfOn2lBNWpyMyTNzwvKzAA+jsWm59mWa3b53bkcu33T7fIFp9wP4N1bTv/Y\n",
    "J2DpvyCPz+/MpCR1Tb4lK76MHrLIGBbXtIQ0mlkmTJ/7A/VD04yJg5hQdnsRQDCvyevDp6HPuJDA\n",
    "4wNVe8UsEq3SpLKqDjRzP9hsF2zVWAIwmzFXqxXT9BcwuxzAdjtsxy0PxrSHxDyO5e0nX7vl9N89\n",
    "BEgvhftbAX8VgKdQIt3Lq33L/lMBDRHIayAKRCGSqkImAD3TFDoHEwW0kDGT9L2oBho+gWHYEeBh\n",
    "sWi9MBQSZUDsfvW2VgIJIuMQskWLcRXR8hmAZqYZzxZmOdwfwDR9F8C9SOkGW1r+y4fKMB0P+QXh\n",
    "y9tPygCuqD/YctrHnuh5/DEz7GlW3nhbHrq+PTaXLVaFFvmvu8l0E2UMYRglUomrCDE6r6qTV+bT\n",
    "XBWze4U97/Lffvhk+fsxHvGr+ZcvOPl+AF992Be6l6B+WDTzq8XOMCVjCyOUOdos1OUE0cy4zv0P\n",
    "eOwGbT5GQ512Za/2AAAGk0lEQVR2OO4ZGKH/UShOfxdZixpzAQ3QRIqL6aq5v/2HNdb96fwrr34F\n",
    "3C/baRNI53/q79i5RGbl5gcJRgABQESh4HW3I093xHxd2kv8FNegIQGArg2ReV7W/SLQnmjuT7cX\n",
    "XrXjsaVeP9b/62imsTl7LbQqDGeQ2qW9rOQkycDYl+C9CdXCMXAggAM7eE4NjS1WRM4AWDW3es9x\n",
    "td2b3+MwocVzPSredz3JCGyE2eQGQaBVxiMGm2bmEQ2SR6uhN3PK7mOgbhARwKNF4C6LgYY0x1W5\n",
    "t68RlqDX1s7k13lih5CvuxVbf+Ypk9SfsUJBItGE6WZ65hKZ+1ToD8yakrw3icyBRnNT6lNs9JXU\n",
    "NveyvUtrl5C5w+dKqLDOYwMAC9NT1jSA2580Oa1EjJTS2ALmlErHlTID9Th7JSN88AZgmDXRF5Jq\n",
    "Wajrz0G/b0IFjvFdtGesv+atv8/TLEPEc9REOYd5zAgnagDNrjNDM5nRGzk086iM7zrMpMkpdqJK\n",
    "vbKbU2NRQ7z4lOerSd0A1dsYs6lMYgaCCFELrgos6F/4uZpLVhk08cuhQMhQvy2lfqbfIMJMUNsj\n",
    "cTeGRY4LDW0bFhm32NTuP6/9rcNYf+YBaBCdYEUaf0ikaI+QGhlfREPma8CulXXdr85qNFAB0GpD\n",
    "lgGOohK+imH4VeR8oB161b4YV/fGlI9DnkohNFJh6NdfKgQ/AGZTW/uGRZ/MjRqcNW2wVEQs59q+\n",
    "gIoyB9m0QfOmYCVJrKjZGGvmcKgvIcAEGFZhdrQdcuU1XKkdevV3AVzuf/aiQ5HzRUjp+NB83XK8\n",
    "QWNjMiwVrLXyDNC1FnK/OZFp9t7XAdJdVf+eo1c1qTw/kGdq8yxq/S8N71fGdUs+bMf3AbwdZndj\n",
    "sUkajAQo/UCECu5TfZVHe/goflauRlGTCBGI/dkKSHgNzaXWzroYTyr9+jIAfU2w++/tbtl22I6/\n",
    "wTRd0Xp5INmetCFmcwN8nt/XvZ4wsiJSzQYEkqOdQ7MaxUuaSumvpK/TnpfwaeIvQ+MBwO+1Q/7k\n",
    "9gdfut8Qr9HXtdInr/PYAObZtyNmA1qKS7c/aexGLQlGQNJqEo8FcrWdi6xw6ZWEZEyMgOWH/fqX\n",
    "7P3gS7cf7RLpIWAJbSHrNzbCbH4Znr8evfpEfFrCGdQMQpjkLTaMzIYyCYIy69BOLrO+Z5MhhrvB\n",
    "84t3u+xrj0wAjgqB0op/ue/du7v+sRjrzjx7zmUO2MVdjyT7Q7gnnuYsDe0ryRTSR2c0FKrLXRgC\n",
    "VOSq/nGU6reWobJv9+uO/qFdLtz9l5Hzc7rNpYCGLd94lEn1oGNj4jzDeRiG73WxlrYR6LtTmDCm\n",
    "BmkQP++P0ewJMygEL9oyr2kwCozZMwH/rK8ccZBO6StHJP/8Ue9GSmfvFEMyP+r5S3b4n/75Y0ix\n",
    "Ncf6Z1Pr8D9/5RkYxw/0mxGtT5kB0jAk8eFik/SPiG8EehPLlxPoFuac+1ogEwEAanvgfUjpapjd\n",
    "gGl6KoAjYPbj8ebZiCnRwg/D6ba0csFjRqxdjI1j3s3HLmB2NWCHRygQucO6rD53KIyaSOiIJgKF\n",
    "As3EMl/qKHOPYvKY01TgpALSNRMxeSCC1HKnfwzgWFtaXne4uUHpMcCed/mI7McC/tnQgvCD9f8B\n",
    "asTfjWML4COrwmBZ0l1R2/NWr1NNBXrww7+jIq/t+DO/GUjX/wbu/3IjGAdsIPMAwA6+/F64vwZm\n",
    "H44QAOjLQpF+8p7w1AYWUMlUoCWcu9hLEWZifNfQbAAXVvA5h7THq8bBrgKwZEesfPPRpcpDHxtm\n",
    "NufDb3z5v4bZmQD+cSMS0IUCWkvr+lG8wfcI0tFMJzvRtD+FrRgRuM+Tzt7/EOWaZZidBc//3pZW\n",
    "NrRF7XHDPADwm47ZBPeTYHYGzH5izdoc2x9iP1xq7RDUIiagqc3Zm0YpwGGCW30cINoOFZLvIaWP\n",
    "w/Ov25bl+XtlNmQ8rpjH4Te+fADwZri/A8DhAPbYSdvU5AHS1ETtmyQmNOkFTTMhGNCFGLw2Kh7+\n",
    "ZQC/hewftSNW7lp7xRszHpfM0+E3vOSJsHQ4zI6C+4uR8xEw7BMJaIYE829GjpeX1oCeGsgsjVbY\n",
    "yeSUvg/3GwFcC7NrMY7XArjJjljx3Sxxw8bjnnnz4dcdnWA4GJZ+GsD+yHlfmG0GsBmeNwPYF47N\n",
    "SGkzxtXN1UfdDUv3IOe7Ybgb7vfUdNY9MLsbwF8j588DuMkO/9PV3d3/8TT+P2x6AX5Riia7AAAA\n",
    "AElFTkSuQmCC\" style=\"display:block;margin:auto;width:10%\"/>\n",
    "                        <br>\n",
    "                        <div style=\"text-align:center; font-size:200%;\">\n",
    "                        <b>Strings</b>\n",
    "                        </div>\n",
    "                        <br/>\n",
    "                        <div style=\"text-align:center;\">Dr. Kyrill Schmid</div>\n",
    "                        <br/>\n",
    "                        "
   ]
  },
  {
   "cell_type": "markdown",
   "id": "515d0872",
   "metadata": {},
   "source": [
    "## Chapter 8: Strings\n",
    "\n",
    "- Strings differ substantially from data types like integers, floats, and booleans\n",
    "\n",
    "- A string is a sequence, indicating it’s an ordered collection of other values\n",
    "\n",
    "- This chapter explores accessing string characters and introduces string methods\n",
    "\n",
    "\n"
   ]
  },
  {
   "cell_type": "markdown",
   "id": "9007b071",
   "metadata": {},
   "source": [
    "## Understanding Strings in Python\n",
    "\n",
    "- Strings in Python are sequences of characters\n",
    "\n",
    "- Each character in a string can be accessed using indexing\n",
    "\n",
    "- Python strings are immutable, meaning they cannot be changed after creation\n",
    "\n",
    "- Plenty of methods are available for string manipulation and inquiry\n"
   ]
  },
  {
   "cell_type": "markdown",
   "id": "b87717b2",
   "metadata": {},
   "source": [
    "## A String as a Sequence\n",
    "\n",
    "- Strings in Python are sequences of characters allowing access to each character using brackets `[]`.\n",
    "\n",
    "- Selecting a character using its index in the format `string[index]` retrieves the character at that position.\n",
    "\n",
    "- Indexing starts at 0, hence `fruit[0]` references the first character of the string `fruit`.\n",
    "\n",
    "- Index values must be integers, not floats or other types. Attempting to use a non-integer index results in a `TypeError`.\n",
    "\n",
    "\n"
   ]
  },
  {
   "cell_type": "code",
   "execution_count": null,
   "id": "bcd373c3",
   "metadata": {},
   "outputs": [],
   "source": [
    "fruit = 'banana'\n",
    "letter = fruit[1]"
   ]
  },
  {
   "cell_type": "code",
   "execution_count": null,
   "id": "c7de3cca",
   "metadata": {},
   "outputs": [],
   "source": [
    "letter"
   ]
  },
  {
   "cell_type": "code",
   "execution_count": null,
   "id": "0e0f7628",
   "metadata": {},
   "outputs": [],
   "source": [
    "letter = fruit[0]"
   ]
  },
  {
   "cell_type": "code",
   "execution_count": null,
   "id": "b2dff7cf",
   "metadata": {},
   "outputs": [],
   "source": [
    "letter"
   ]
  },
  {
   "cell_type": "code",
   "execution_count": null,
   "id": "cf87e485",
   "metadata": {},
   "outputs": [],
   "source": [
    "i = 1\n",
    "selected_letter = fruit[i]\n",
    "next_letter = fruit[i+1]"
   ]
  },
  {
   "cell_type": "code",
   "execution_count": null,
   "id": "89ae58b8",
   "metadata": {},
   "outputs": [],
   "source": [
    "selected_letter, next_letter"
   ]
  },
  {
   "cell_type": "code",
   "execution_count": null,
   "id": "76401968",
   "metadata": {},
   "outputs": [],
   "source": [
    "# Attempting to use a non-integer index:\n",
    "# letter = fruit[1.5] # Uncommenting this line will raise a TypeError"
   ]
  },
  {
   "cell_type": "markdown",
   "id": "e8063549",
   "metadata": {},
   "source": [
    "## Understanding `len` Function in Strings\n",
    "\n",
    "- `len` is a built-in function that returns the total number of characters in a string.\n",
    "\n",
    "- It is used to determine the length of the string, aiding in various string manipulation operations.\n",
    "\n",
    "\n"
   ]
  },
  {
   "cell_type": "markdown",
   "id": "bfc7f9b1",
   "metadata": {},
   "source": [
    "## Accessing the Last Character\n",
    "\n",
    "- Attempting to access the string index equal to its length results in `IndexError`.\n",
    "\n",
    "- Strings in Python are zero-indexed, hence indices run from `0` to `length-1`.\n",
    "\n",
    "- To access the last character, subtract `1` from the string's length.\n",
    "\n",
    "\n"
   ]
  },
  {
   "cell_type": "markdown",
   "id": "9ccc3a6f",
   "metadata": {},
   "source": [
    "## Using Negative Indices\n",
    "\n",
    "- An alternative to get the last character is using negative indices.\n",
    "\n",
    "- Negative indexing starts from `-1` at the end of the string moving backwards, making it easier to access the end characters.\n",
    "\n",
    "\n"
   ]
  },
  {
   "cell_type": "code",
   "execution_count": null,
   "id": "aa5201fd",
   "metadata": {},
   "outputs": [],
   "source": [
    "fruit = 'banana'\n",
    "len(fruit)"
   ]
  },
  {
   "cell_type": "code",
   "execution_count": null,
   "id": "82617c8c",
   "metadata": {},
   "outputs": [],
   "source": [
    "length = len(fruit)\n",
    "# Attempting to access index equal to length of the string causes an error\n",
    "# last = fruit[length] # Uncommenting this will cause an IndexError"
   ]
  },
  {
   "cell_type": "code",
   "execution_count": null,
   "id": "23933237",
   "metadata": {},
   "outputs": [],
   "source": [
    "# Correct way to access the last character\n",
    "last = fruit[length-1]\n",
    "print(last)"
   ]
  },
  {
   "cell_type": "code",
   "execution_count": null,
   "id": "4706d84d",
   "metadata": {},
   "outputs": [],
   "source": [
    "# Using negative indices to simplify access\n",
    "print(fruit[-1]) # Last character\n",
    "print(fruit[-2]) # Second last character"
   ]
  },
  {
   "cell_type": "markdown",
   "id": "721df3b7",
   "metadata": {},
   "source": [
    "## Strings: Traversal with a `for` loop\n",
    "\n",
    "- Traversing a string involves processing it one character at a time\n",
    "\n",
    "- Commonly, traversal starts from the beginning, processes each character, and continues until the end\n",
    "\n",
    "- This section covers the basics of string traversal using both `while` and `for` loops\n",
    "\n",
    "\n"
   ]
  },
  {
   "cell_type": "markdown",
   "id": "382fc6d0",
   "metadata": {},
   "source": [
    "### Using a `while` Loop for Traversal\n",
    "\n",
    "- A `while` loop can be used for string traversal by incrementing an index from 0 to the length of the string - 1\n",
    "\n",
    "- The loop displays each character of the string on a new line\n",
    "\n",
    "- As an exercise, consider writing a function to display a string's characters in reverse order\n",
    "\n",
    "\n"
   ]
  },
  {
   "cell_type": "code",
   "execution_count": null,
   "id": "a1097d39",
   "metadata": {},
   "outputs": [],
   "source": [
    "index = 0\n",
    "fruit = \"banana\"\n",
    "while index < len(fruit):\n",
    "    letter = fruit[index]\n",
    "    print(letter)\n",
    "    index = index + 1"
   ]
  },
  {
   "cell_type": "markdown",
   "id": "e23de502",
   "metadata": {},
   "source": [
    "### Traversal with a `for` Loop\n",
    "\n",
    "- A `for` loop simplifies traversal by automatically iterating over each character in a string\n",
    "\n",
    "- No explicit handling of the string length or index is necessary\n",
    "\n",
    "- The following examples demonstrate string operations and concatenation in a traversal context\n",
    "\n",
    "\n"
   ]
  },
  {
   "cell_type": "code",
   "execution_count": null,
   "id": "b6a63e09",
   "metadata": {},
   "outputs": [],
   "source": [
    "fruit = \"banana\"\n",
    "for letter in fruit:\n",
    "    print(letter)"
   ]
  },
  {
   "cell_type": "markdown",
   "id": "4ee373c9",
   "metadata": {},
   "source": [
    "### Generating an Abecedarian Series\n",
    "\n",
    "- String concatenation and `for` loops can generate sequences like the abecedarian series\n",
    "\n",
    "- Example given: Generating names from \"Make Way for Ducklings\" by Robert McCloskey\n",
    "\n",
    "- Exercise: Correct the output to accurately spell \"Ouack\" and \"Quack\"\n",
    "\n",
    "\n"
   ]
  },
  {
   "cell_type": "code",
   "execution_count": null,
   "id": "da9edf39",
   "metadata": {},
   "outputs": [],
   "source": [
    "prefixes = 'JKLMNOPQ'\n",
    "suffix = 'ack'\n",
    "\n",
    "for letter in prefixes:\n",
    "    print(letter + suffix)"
   ]
  },
  {
   "cell_type": "markdown",
   "id": "068f6c2a",
   "metadata": {},
   "source": [
    "### Correcting Spelling in the Series\n",
    "\n",
    "- Modifying the previous loop to correctly spell names such as \"Ouack\" and \"Quack\" presents a practical exercise in string manipulation\n",
    "\n",
    "\n"
   ]
  },
  {
   "cell_type": "code",
   "execution_count": null,
   "id": "7ae7c1b2",
   "metadata": {},
   "outputs": [],
   "source": [
    "prefixes = 'JKLMNOPQ'\n",
    "suffix = 'ack'\n",
    "\n",
    "for letter in prefixes:\n",
    "    if letter in [\"O\", \"Q\"]:\n",
    "        print(letter + \"u\" + suffix)\n",
    "    else:\n",
    "        print(letter + suffix)"
   ]
  },
  {
   "cell_type": "markdown",
   "id": "cb856d58",
   "metadata": {},
   "source": [
    "## 8.4 String slices\n",
    "\n",
    "- A slice of a string selects a segment of the string. This operation is similar to selecting a single character but focuses on a range.\n",
    "\n",
    "- Use the syntax `s[n:m]` to return the string segment from the \"n-th\" character to the \"m-th\" character, including the first but excluding the last.\n",
    "\n",
    "- Imagine indices pointing between characters for better intuition. \n",
    "\n",
    "\n"
   ]
  },
  {
   "cell_type": "markdown",
   "id": "2151fb39",
   "metadata": {},
   "source": [
    "## Understanding String Slices\n",
    "\n",
    "- Omitting the first index in the slice starts it at the beginning of the string.\n",
    "\n",
    "- Omitting the second index extends the slice to the end of the string.\n",
    "\n",
    "- A slice where the first index is greater than or equal to the second results in an empty string.\n",
    "\n",
    "\n"
   ]
  },
  {
   "cell_type": "code",
   "execution_count": null,
   "id": "cd8a2e51",
   "metadata": {},
   "outputs": [],
   "source": [
    "# Demonstration of string slicing\n",
    "s = 'Monty Python'\n",
    "print(s[0:5])  # Outputs 'Monty'\n",
    "print(s[6:12])  # Outputs 'Python'"
   ]
  },
  {
   "cell_type": "code",
   "execution_count": null,
   "id": "1e878d52",
   "metadata": {},
   "outputs": [],
   "source": [
    "# Slicing with omitted indices\n",
    "fruit = 'banana'\n",
    "print(fruit[:3])  # Outputs 'ban', starting from the beginning\n",
    "print(fruit[3:])  # Outputs 'ana', extending to the end of the string"
   ]
  },
  {
   "cell_type": "code",
   "execution_count": null,
   "id": "660d641f",
   "metadata": {},
   "outputs": [],
   "source": [
    "# Example of an empty string result from slicing\n",
    "print(fruit[3:3])  # Outputs '', an empty string"
   ]
  },
  {
   "cell_type": "markdown",
   "id": "6ed54cab",
   "metadata": {},
   "source": [
    "- Experimenting with slices, such as `fruit[:]`, helps to understand the behavior of Python strings. Try different slices to see their results.\n"
   ]
  },
  {
   "cell_type": "markdown",
   "id": "589f1946",
   "metadata": {},
   "source": [
    "## Strings are Immutable\n",
    "\n",
    "- Attempting to change a character in a string using the `[]` operator triggers a `TypeError`\n",
    "\n",
    "- Strings in Python are immutable, meaning their characters cannot be altered after creation\n",
    "\n",
    "- To modify a string, a new string must be created as a variation of the original\n",
    "\n",
    "\n"
   ]
  },
  {
   "cell_type": "markdown",
   "id": "612f7d30",
   "metadata": {},
   "source": [
    "### Attempting to Modify a String\n",
    "\n",
    "- Incorrect approach: Using `[]` on the left side of an assignment in hopes of changing a character\n",
    "\n",
    "- Correct approach: Create a new string incorporating the desired changes\n",
    "\n",
    "- Example: Concatenating a new character with a slice of the original string creates a modified version\n",
    "\n",
    "\n"
   ]
  },
  {
   "cell_type": "code",
   "execution_count": null,
   "id": "478839e7",
   "metadata": {},
   "outputs": [],
   "source": [
    "# Incorrect approach that leads to TypeError\n",
    "greeting = 'Hello, world!'\n",
    "# greeting[0] = 'J'  # Uncommenting this line would result in a TypeError"
   ]
  },
  {
   "cell_type": "code",
   "execution_count": null,
   "id": "902d058e",
   "metadata": {},
   "outputs": [],
   "source": [
    "# Correct approach to modify a string\n",
    "greeting = 'Hello, world!'\n",
    "new_greeting = 'J' + greeting[1:]\n",
    "print(new_greeting)  # Outputs: 'Jello, world!'"
   ]
  },
  {
   "cell_type": "markdown",
   "id": "dcf08778",
   "metadata": {},
   "source": [
    "## 8.6 Searching\n",
    "\n",
    "- Discuss the purpose and functionality of custom search functions in Python\n",
    "\n",
    "- Explore a specific example of a search function in Python\n",
    "\n",
    "\n"
   ]
  },
  {
   "cell_type": "markdown",
   "id": "9dfeab1b",
   "metadata": {},
   "source": [
    "## Understanding the `find` Function\n",
    "\n",
    "- A function designed to search for the first occurrence of a character within a string\n",
    "\n",
    "- Returns the index of the found character or -1 if not found\n",
    "\n",
    "- Utilizes a `while` loop to traverse the string until the character is found or the end of the string is reached\n",
    "\n",
    "\n"
   ]
  },
  {
   "cell_type": "code",
   "execution_count": null,
   "id": "7903caaf",
   "metadata": {},
   "outputs": [],
   "source": [
    "def find(word, letter):\n",
    "    index = 0\n",
    "    while index < len(word):\n",
    "        if word[index] == letter:\n",
    "            return index\n",
    "        index = index + 1\n",
    "    return -1"
   ]
  },
  {
   "cell_type": "markdown",
   "id": "9b5f3fc7",
   "metadata": {},
   "source": [
    "## How `find` Works\n",
    "\n",
    "- Deconstructs the process of searching by traversing through each character of a string\n",
    "\n",
    "- Highlights the significance of the `return` statement in controlling loop termination and function output\n",
    "\n",
    "- Embodies a common programming pattern known as a \"search\"\n",
    "\n",
    "\n"
   ]
  },
  {
   "cell_type": "markdown",
   "id": "b6088b02",
   "metadata": {},
   "source": [
    "## Enhancing the `find` Function\n",
    "\n",
    "- Exercise: Extend the functionality of `find` by introducing a third parameter\n",
    "\n",
    "- This parameter specifies the starting index for the search within the string\n",
    "\n",
    "- Aims to provide more flexibility in how and where searches are conducted within strings\n",
    "\n",
    "\n"
   ]
  },
  {
   "cell_type": "code",
   "execution_count": null,
   "id": "5c8beb7a",
   "metadata": {},
   "outputs": [],
   "source": [
    "# Example enhancement of the find function\n",
    "def find_with_start(word, letter, start):\n",
    "    index = start\n",
    "    while index < len(word):\n",
    "        if word[index] == letter:\n",
    "            return index\n",
    "        index = index + 1\n",
    "    return -1"
   ]
  },
  {
   "cell_type": "markdown",
   "id": "cbdf11c0",
   "metadata": {},
   "source": [
    "## 8.7 Looping and Counting\n",
    "\n",
    "- Learn to count specific characters in a string\n",
    "\n",
    "- Understand the concept of a counter within loops\n",
    "\n",
    "- Encapsulate counting logic into a function for reusability\n",
    "\n",
    "- Implement an alternative approach using the `find` method\n",
    "\n",
    "\n"
   ]
  },
  {
   "cell_type": "markdown",
   "id": "7a8770dd",
   "metadata": {},
   "source": [
    "### Counting Letter Occurrences in Strings\n",
    "\n",
    "- The goal is to count how many times a particular letter appears in a string\n",
    "\n",
    "- A counter variable is used to keep track of the occurrences\n",
    "\n",
    "- This introduces a common pattern in programming known as a counter\n",
    "\n",
    "\n",
    "\n",
    "Example Code:\n"
   ]
  },
  {
   "cell_type": "code",
   "execution_count": null,
   "id": "f40cd0ca",
   "metadata": {},
   "outputs": [],
   "source": [
    "word = 'banana'\n",
    "count = 0\n",
    "for letter in word:\n",
    "    if letter == 'a':\n",
    "        count = count + 1\n",
    "print(count)"
   ]
  },
  {
   "cell_type": "markdown",
   "id": "1af27741",
   "metadata": {},
   "source": [
    "### Creating a General Function\n",
    "\n",
    "- Encapsulate the counting logic into a function named `count`\n",
    "\n",
    "- The function should accept both the string and the letter to search for as arguments\n",
    "\n",
    "- This makes the counting operation more flexible and reusable\n",
    "\n",
    "\n"
   ]
  },
  {
   "cell_type": "code",
   "execution_count": null,
   "id": "decf0e78",
   "metadata": {},
   "outputs": [],
   "source": [
    "def count(word, search_letter):\n",
    "    count = 0\n",
    "    for letter in word:\n",
    "        if letter == search_letter:\n",
    "            count += 1\n",
    "    return count\n",
    "\n",
    "# Test the function\n",
    "print(count('banana', 'a'))  # Expected output: 3"
   ]
  },
  {
   "cell_type": "markdown",
   "id": "901ee8fc",
   "metadata": {},
   "source": [
    "### Alternative Approach Using `find`\n",
    "\n",
    "- Instead of looping through the string manually, use the string method `find` to simplify the process\n",
    "\n",
    "- The `find` method can accept three parameters: the character to find, the start position, and the end position\n",
    "\n",
    "\n",
    "\n",
    "Implementing the updated `count` function:\n"
   ]
  },
  {
   "cell_type": "code",
   "execution_count": null,
   "id": "72136d31",
   "metadata": {},
   "outputs": [],
   "source": [
    "def count_using_find(word, search_letter):\n",
    "    count = 0\n",
    "    start = 0\n",
    "    while True:\n",
    "        start = word.find(search_letter, start)\n",
    "        if start == -1:\n",
    "            break\n",
    "        count += 1\n",
    "        start += 1  # Move to the next character\n",
    "    return count\n",
    "\n",
    "# Test the function\n",
    "print(count_using_find('banana', 'a'))  # Expected output: 3"
   ]
  },
  {
   "cell_type": "markdown",
   "id": "a5df47f8",
   "metadata": {},
   "source": [
    "## String Methods\n",
    "\n",
    "- String objects in Python are equipped with a variety of useful methods for text manipulation.\n",
    "\n",
    "- Methods are similar to functions but are invoked using a different syntax, often enhancing readability and conciseness.\n",
    "\n",
    "- This section explores common string methods like `upper()` and `find()`, demonstrating their usefulness through examples.\n",
    "\n",
    "\n"
   ]
  },
  {
   "cell_type": "markdown",
   "id": "e87146e9",
   "metadata": {},
   "source": [
    "## Invoking String Methods\n",
    "\n",
    "- The `upper()` method transforms a string into all uppercase letters, following the syntax `word.upper()`.\n",
    "\n",
    "- Unlike a regular function call, methods use dot notation and often do not require any arguments.\n",
    "\n",
    "- Methods return a new string resulting from the operation, leaving the original string unchanged.\n",
    "\n",
    "\n"
   ]
  },
  {
   "cell_type": "markdown",
   "id": "d635a2ec",
   "metadata": {},
   "source": [
    "## Example: Using `upper()`\n",
    "\n",
    "- Let's convert the word 'banana' into uppercase letters using the `upper()` method.\n",
    "\n",
    "- Notice how the method call is made directly on the string object.\n",
    "\n",
    "\n"
   ]
  },
  {
   "cell_type": "code",
   "execution_count": null,
   "id": "17e2069d",
   "metadata": {},
   "outputs": [],
   "source": [
    "word = 'banana'\n",
    "new_word = word.upper()\n",
    "new_word"
   ]
  },
  {
   "cell_type": "markdown",
   "id": "0c92b982",
   "metadata": {},
   "source": [
    "## The `find()` Method\n",
    "\n",
    "- The `find()` method searches for a substring within a string and returns the index of its first occurrence.\n",
    "\n",
    "- It's more general than simple character searches, as it can locate substrings as well.\n",
    "\n",
    "- The method can take optional arguments to specify the start and end positions for the search.\n",
    "\n",
    "\n"
   ]
  },
  {
   "cell_type": "markdown",
   "id": "9ebc4b28",
   "metadata": {},
   "source": [
    "## Example: Simple `find()`\n",
    "\n",
    "- Using `find()` to locate the first occurrence of 'a' in 'banana'.\n",
    "\n",
    "- Demonstrating its ability to find substrings, not just individual characters.\n",
    "\n",
    "\n"
   ]
  },
  {
   "cell_type": "code",
   "execution_count": null,
   "id": "1023b8ad",
   "metadata": {},
   "outputs": [],
   "source": [
    "word = 'banana'\n",
    "index = word.find('a')\n",
    "index"
   ]
  },
  {
   "cell_type": "code",
   "execution_count": null,
   "id": "01fc7737",
   "metadata": {},
   "outputs": [],
   "source": [
    "substr_index = word.find('na')\n",
    "substr_index"
   ]
  },
  {
   "cell_type": "markdown",
   "id": "ed1fe7f0",
   "metadata": {},
   "source": [
    "## Advanced `find()` Usage\n",
    "\n",
    "- `find()` allows specifying where to start the search with an optional second argument.\n",
    "\n",
    "- A third optional argument can define where the search should end, enhancing its flexibility.\n",
    "\n",
    "- This makes `find()` consistent with Python’s slicing operator, which also does not include the end index in its range.\n",
    "\n",
    "\n"
   ]
  },
  {
   "cell_type": "code",
   "execution_count": null,
   "id": "f5d1225e",
   "metadata": {},
   "outputs": [],
   "source": [
    "start_search_index = word.find('na', 3)\n",
    "start_search_index"
   ]
  },
  {
   "cell_type": "code",
   "execution_count": null,
   "id": "20419166",
   "metadata": {},
   "outputs": [],
   "source": [
    "# Searching with both start and end limits.\n",
    "name = 'bob'\n",
    "search_fail = name.find('b', 1, 2)\n",
    "search_fail"
   ]
  },
  {
   "cell_type": "markdown",
   "id": "6c1e0244",
   "metadata": {},
   "source": [
    "## The `in` Operator\n",
    "\n",
    "- The `in` operator is a boolean operator used to check if one string contains another\n",
    "\n",
    "- It returns `True` if the first string appears as a substring in the second\n",
    "\n",
    "- Useful in functions to compare strings or find common characters\n",
    "\n",
    "\n"
   ]
  },
  {
   "cell_type": "markdown",
   "id": "99ecd881",
   "metadata": {},
   "source": [
    "## Example of `in` Operator\n",
    "\n",
    "- To check if 'a' exists in 'banana': `'a' in 'banana'` results in `True`\n",
    "\n",
    "- Checking if 'seed' is a substring of 'banana': `'seed' in 'banana'` results in `False`\n",
    "\n",
    "\n"
   ]
  },
  {
   "cell_type": "code",
   "execution_count": null,
   "id": "e4add13d",
   "metadata": {},
   "outputs": [],
   "source": [
    "'a' in 'banana'"
   ]
  },
  {
   "cell_type": "code",
   "execution_count": null,
   "id": "064236ee",
   "metadata": {},
   "outputs": [],
   "source": [
    "'seed' in 'banana'"
   ]
  },
  {
   "cell_type": "markdown",
   "id": "ea3fb9e1",
   "metadata": {},
   "source": [
    "## Function Utilizing `in` Operator\n",
    "\n",
    "- A function `in_both` can highlight intersecting letters between two words\n",
    "\n",
    "- It iterates through one word to find common letters present in another\n",
    "\n",
    "- This showcases the readability of Python with well-chosen variable names\n",
    "\n",
    "\n"
   ]
  },
  {
   "cell_type": "code",
   "execution_count": null,
   "id": "2a7c0977",
   "metadata": {},
   "outputs": [],
   "source": [
    "def in_both(word1, word2):\n",
    "    for letter in word1:\n",
    "        if letter in word2:\n",
    "            print(letter)"
   ]
  },
  {
   "cell_type": "markdown",
   "id": "1e0a948f",
   "metadata": {},
   "source": [
    "## Demonstrative Example with `in_both` Function\n",
    "\n",
    "- Using `in_both` to compare 'apples' with 'oranges' outputs common letters\n",
    "\n",
    "- The letters 'a', 'e', and 's' are printed, illustrating shared characters\n",
    "\n",
    "\n"
   ]
  },
  {
   "cell_type": "code",
   "execution_count": null,
   "id": "e45ebbd8",
   "metadata": {},
   "outputs": [],
   "source": [
    "in_both('apples', 'oranges')"
   ]
  },
  {
   "cell_type": "markdown",
   "id": "559f3cc3",
   "metadata": {},
   "source": [
    "## 8.10  String Comparison\n",
    "\n",
    "- Relational operators can be used to compare strings in Python.\n",
    "\n",
    "- Checking equality between strings is done using `==`.\n",
    "\n",
    "- Alphabetical ordering of words can be checked with relational operators.\n",
    "\n",
    "\n"
   ]
  },
  {
   "cell_type": "markdown",
   "id": "2249c907",
   "metadata": {},
   "source": [
    "## String Comparison in Practice\n",
    "\n",
    "- Be aware that Python distinguishes between uppercase and lowercase letters during comparison.\n",
    "\n",
    "- Uppercase letters are considered \"smaller\" than lowercase letters.\n",
    "\n",
    "- It's a good practice to convert strings to a common format (e.g., all lowercase) before comparison.\n",
    "\n",
    "\n"
   ]
  },
  {
   "cell_type": "code",
   "execution_count": null,
   "id": "34ed85aa",
   "metadata": {},
   "outputs": [],
   "source": [
    "if word == 'banana':\n",
    "    print('All right, bananas.')"
   ]
  },
  {
   "cell_type": "code",
   "execution_count": null,
   "id": "c16b210c",
   "metadata": {},
   "outputs": [],
   "source": [
    "if word < 'banana':\n",
    "    print('Your word, ' + word + ', comes before banana.')\n",
    "elif word > 'banana':\n",
    "    print('Your word, ' + word + ', comes after banana.')\n",
    "else:\n",
    "    print('All right, bananas.')"
   ]
  },
  {
   "cell_type": "code",
   "execution_count": null,
   "id": "d74aca81",
   "metadata": {},
   "outputs": [],
   "source": [
    "# Example of how uppercase letters are considered in comparison\n",
    "print('Pineapple' < 'banana')  # This will print True due to uppercase 'P' being \"smaller\" than lowercase 'b'"
   ]
  },
  {
   "cell_type": "code",
   "execution_count": null,
   "id": "0a334b87",
   "metadata": {},
   "outputs": [],
   "source": [
    "# Converting strings to lowercase for comparison\n",
    "word = 'Pineapple'\n",
    "if word.lower() < 'banana':\n",
    "    print('Your word, ' + word + ', comes before banana.')\n",
    "elif word.lower() > 'banana':\n",
    "    print('Your word, ' + word + ', comes after banana.')\n",
    "else:\n",
    "    print('All right, bananas.')"
   ]
  },
  {
   "cell_type": "markdown",
   "id": "27414ef0",
   "metadata": {},
   "source": [
    "## Debugging Strings in Python\n",
    "\n",
    "- Debugging involves strategies like checking indices in loops to prevent errors\n",
    "\n",
    "- Guardian patterns help validate assumptions, improving code reliability\n",
    "\n",
    "- Identifying and fixing index range errors is crucial in string manipulation\n",
    "\n",
    "- A step-by-step approach, with diagnostic prints, aids in isolating issues\n",
    "\n",
    "\n"
   ]
  },
  {
   "cell_type": "markdown",
   "id": "9728bedd",
   "metadata": {},
   "source": [
    "### Understanding the Issue with String Indices\n",
    "\n",
    "- Incorrect indices in traversing strings can lead to `IndexError`\n",
    "\n",
    "- It's essential to start and end traversal appropriately to avoid out-of-range errors\n",
    "\n",
    "- The `is_reverse` function illustrates a common mistake by accessing an out-of-range index\n",
    "\n",
    "\n"
   ]
  },
  {
   "cell_type": "code",
   "execution_count": null,
   "id": "673ff846",
   "metadata": {},
   "outputs": [],
   "source": [
    "def is_reverse(word1, word2):\n",
    "    if len(word1) != len(word2):\n",
    "        return False\n",
    "    \n",
    "    i = 0\n",
    "    j = len(word2)\n",
    "\n",
    "    while j > 0:\n",
    "        if word1[i] != word2[j]:\n",
    "            return False\n",
    "        i = i+1\n",
    "        j = j-1\n",
    "\n",
    "    return True"
   ]
  },
  {
   "cell_type": "markdown",
   "id": "084cda21",
   "metadata": {},
   "source": [
    "### Debugging Step by Step\n",
    "\n",
    "- Debugging starts by printing indices to understand the error's nature\n",
    "\n",
    "- After identifying the error, adjust indices correctly for effective string traversal\n",
    "\n",
    "- Validate the fix by rerunning and observing the code behavior\n",
    "\n",
    "\n"
   ]
  },
  {
   "cell_type": "code",
   "execution_count": null,
   "id": "0e708230",
   "metadata": {},
   "outputs": [],
   "source": [
    "# Inserting print statement for debugging\n",
    "def is_reverse(word1, word2):\n",
    "    if len(word1) != len(word2):\n",
    "        return False\n",
    "    \n",
    "    i = 0\n",
    "    j = len(word2)\n",
    "\n",
    "    while j > 0:\n",
    "        print(i, j)        # Debug print\n",
    "        \n",
    "        if word1[i] != word2[j]:\n",
    "            return False\n",
    "        i = i+1\n",
    "        j = j-1\n",
    "\n",
    "    return True\n",
    "\n",
    "# Error demonstration\n",
    "# This will cause an IndexError due to incorrect j index\n",
    "# >>> is_reverse('pots', 'stop')"
   ]
  },
  {
   "cell_type": "markdown",
   "id": "c9a98f00",
   "metadata": {},
   "source": [
    "### Correcting the Initial Index Error\n",
    "\n",
    "- Adjust the initial index of `j` to `len(word2) - 1` to match the last character's index\n",
    "\n",
    "- Code correction leads to successful comparison for reverse strings without index errors\n",
    "\n",
    "- Continuous debugging may reveal additional logical errors needing attention\n",
    "\n",
    "\n"
   ]
  },
  {
   "cell_type": "code",
   "execution_count": null,
   "id": "5f60cdf8",
   "metadata": {},
   "outputs": [],
   "source": [
    "# Corrected code\n",
    "def is_reverse(word1, word2):\n",
    "    if len(word1) != len(word2):\n",
    "        return False\n",
    "    \n",
    "    i = 0\n",
    "    j = len(word2) - 1  # Corrected initialization of j\n",
    "\n",
    "    while j >= 0:  # Corrected condition to include 0\n",
    "        print(i, j)  # Debug print\n",
    "        \n",
    "        if word1[i] != word2[j]:\n",
    "            return False\n",
    "        i = i+1\n",
    "        j = j-1\n",
    "\n",
    "    return True\n",
    "\n",
    "# Correct usage example\n",
    "# >>> is_reverse('pots', 'stop')"
   ]
  },
  {
   "cell_type": "markdown",
   "id": "5c0e97ab",
   "metadata": {},
   "source": [
    "### Solving Logical Errors and Finalizing Debugging\n",
    "\n",
    "- Observing the loop's iteration count can reveal logical discrepancies\n",
    "\n",
    "- Drawing state diagrams or other visual aids helps conceptualize execution flow\n",
    "\n",
    "- Fixing logical errors alongside index errors ensures correct and expected function behavior\n"
   ]
  },
  {
   "cell_type": "markdown",
   "id": "27c09331",
   "metadata": {},
   "source": [
    "## Python Strings: Glossary\n",
    "\n",
    "- An object or value can refer to many things, including sequences and strings\n",
    "\n",
    "- Sequences are ordered collections, accessible by index, starting at 0 in Python\n",
    "\n",
    "- Items are elements in a sequence; an index is used to select them\n",
    "\n",
    "\n"
   ]
  },
  {
   "cell_type": "markdown",
   "id": "4216f7a2",
   "metadata": {},
   "source": [
    "## String Operations and Characteristics\n",
    "\n",
    "- A slice of a string is a subrange, specified by indices\n",
    "\n",
    "- The empty string is denoted as `\"\"`, having zero length\n",
    "\n",
    "- Strings are immutable, meaning their elements cannot be altered after creation\n",
    "\n",
    "\n"
   ]
  },
  {
   "cell_type": "markdown",
   "id": "45018b68",
   "metadata": {},
   "source": [
    "## Navigating and Utilizing Strings\n",
    "\n",
    "- To traverse a string means to iterate over its items, often performing operations\n",
    "\n",
    "- Searching in strings involves traversing until a specific condition or item is found\n",
    "\n",
    "- A counter is typically used to tally occurrences or track positions, starting from 0\n",
    "\n",
    "\n"
   ]
  },
  {
   "cell_type": "markdown",
   "id": "109faa05",
   "metadata": {},
   "source": [
    "## Advanced String Operations\n",
    "\n",
    "- Method invocation is the process of calling a function or method in a string\n",
    "\n",
    "- Some functions or methods accept optional arguments, which are not mandatory for the operation\n"
   ]
  },
  {
   "cell_type": "markdown",
   "id": "ad5903ce",
   "metadata": {},
   "source": [
    "## 8.13  Exercises - String Manipulations\n",
    "\n",
    "- Explore Python's string methods through the [official documentation](http://docs.python.org/3/library/stdtypes.html#string-methods). Experiment with methods like `strip` and `replace`.\n",
    "\n",
    "- Utilize the string method `find(sub[, start[, end]])` to understand optional arguments.\n",
    "\n",
    "- Learn and apply the string method `count` to count occurrences of 'a' in 'banana'.\n",
    "\n",
    "\n"
   ]
  },
  {
   "cell_type": "markdown",
   "id": "5ec6791c",
   "metadata": {},
   "source": [
    "## Exercise 1: String Method Exploration\n",
    "\n",
    "- Consult the Python documentation to learn about string methods.\n",
    "\n",
    "- Practice with methods such as `strip` and `replace` for string cleaning and manipulation.\n",
    "\n",
    "- Delve into method syntax, for example, `find(sub[, start[, end]])` illustrates optional arguments.\n",
    "\n",
    "\n"
   ]
  },
  {
   "cell_type": "markdown",
   "id": "07f0817f",
   "metadata": {},
   "source": [
    "## Exercise 2: Counting Characters\n",
    "\n",
    "- Understand the `count` string method by reading its documentation.\n",
    "\n",
    "- Use `count` to determine the number of times 'a' appears in \"banana\".\n",
    "\n",
    "\n"
   ]
  },
  {
   "cell_type": "markdown",
   "id": "36c5ed07",
   "metadata": {},
   "source": [
    "## Exercise 3: Slicing and Steps\n",
    "\n",
    "- Learn how string slicing can accept a third index for step size.\n",
    "\n",
    "- Experiment with step sizes, including using -1 for reversing a string.\n",
    "\n",
    "- Apply this technique to craft a one-liner `is_palindrome` function.\n",
    "\n",
    "\n"
   ]
  },
  {
   "cell_type": "code",
   "execution_count": null,
   "id": "c013a908",
   "metadata": {},
   "outputs": [],
   "source": [
    "# Example of slicing with steps\n",
    "fruit = 'banana'\n",
    "fruit[0:5:2]"
   ]
  },
  {
   "cell_type": "code",
   "execution_count": null,
   "id": "b85378b4",
   "metadata": {},
   "outputs": [],
   "source": [
    "# Example of reversing a string with slicing\n",
    "fruit[::-1]"
   ]
  },
  {
   "cell_type": "markdown",
   "id": "fdbfac4a",
   "metadata": {},
   "source": [
    "## Exercise 4: Case Detection Functions\n",
    "\n",
    "- Below are functions intended to check for lowercase letters in strings. Some have flaws.\n",
    "\n",
    "- Examine and test each function to determine its correctness.\n",
    "\n",
    "- Discuss what each function actually does and identify any errors.\n",
    "\n",
    "\n"
   ]
  },
  {
   "cell_type": "markdown",
   "id": "e606b5a1",
   "metadata": {},
   "source": [
    "### Function any_lowercase1\n",
    "\n",
    "- Intended to check if any characters in a string are lowercase.\n",
    "\n",
    "- Only checks the first character, then returns either `True` or `False`.\n",
    "\n",
    "\n"
   ]
  },
  {
   "cell_type": "code",
   "execution_count": null,
   "id": "f656f766",
   "metadata": {},
   "outputs": [],
   "source": [
    "def any_lowercase1(s):\n",
    "    for c in s:\n",
    "        if c.islower():\n",
    "            return True\n",
    "        else:\n",
    "            return False"
   ]
  },
  {
   "cell_type": "markdown",
   "id": "525bdb33",
   "metadata": {},
   "source": [
    "### Function any_lowercase2\n",
    "\n",
    "- Purports to check for lowercase characters.\n",
    "\n",
    "- Incorrectly checks the string 'c' instead of the variable `c`.\n",
    "\n",
    "\n"
   ]
  },
  {
   "cell_type": "code",
   "execution_count": null,
   "id": "25961f50",
   "metadata": {},
   "outputs": [],
   "source": [
    "def any_lowercase2(s):\n",
    "    for c in s:\n",
    "        if 'c'.islower():\n",
    "            return 'True'\n",
    "        else:\n",
    "            return 'False'"
   ]
  },
  {
   "cell_type": "markdown",
   "id": "87555da1",
   "metadata": {},
   "source": [
    "### Function any_lowercase3\n",
    "\n",
    "- Aims to detect any lowercase letters.\n",
    "\n",
    "- Only returns the case of the last character in the string.\n",
    "\n",
    "\n"
   ]
  },
  {
   "cell_type": "code",
   "execution_count": null,
   "id": "5fcf5797",
   "metadata": {},
   "outputs": [],
   "source": [
    "def any_lowercase3(s):\n",
    "    for c in s:\n",
    "        flag = c.islower()\n",
    "    return flag"
   ]
  },
  {
   "cell_type": "markdown",
   "id": "b7a54f13",
   "metadata": {},
   "source": [
    "### Function any_lowercase4\n",
    "\n",
    "- Checks for any lowercase letters in a string.\n",
    "\n",
    "- Correctly accumulates the check across all characters.\n",
    "\n",
    "\n"
   ]
  },
  {
   "cell_type": "code",
   "execution_count": null,
   "id": "dcdbb48e",
   "metadata": {},
   "outputs": [],
   "source": [
    "def any_lowercase4(s):\n",
    "    flag = False\n",
    "    for c in s:\n",
    "        flag = flag or c.islower()\n",
    "    return flag"
   ]
  },
  {
   "cell_type": "markdown",
   "id": "316510ac",
   "metadata": {},
   "source": [
    "### Function any_lowercase5\n",
    "\n",
    "- Tests if all characters in a string are lowercase.\n",
    "\n",
    "- Returns False at the first uppercase character, correctly checks the entire string otherwise.\n",
    "\n",
    "\n"
   ]
  },
  {
   "cell_type": "code",
   "execution_count": null,
   "id": "4d72aeae",
   "metadata": {},
   "outputs": [],
   "source": [
    "def any_lowercase5(s):\n",
    "    for c in s:\n",
    "        if not c.islower():\n",
    "            return False\n",
    "    return True"
   ]
  },
  {
   "cell_type": "markdown",
   "id": "18f8461b",
   "metadata": {},
   "source": [
    "## Exercise 5: Caesar Cipher\n",
    "\n",
    "- Understand how a Caesar cipher encrypts text by rotating letters.\n",
    "\n",
    "- Implement a function, `rotate_word`, to rotate each letter of a word by a specified amount.\n",
    "\n",
    "- Utilize `ord` and `chr` functions for character code conversion.\n",
    "\n",
    "- Decipher jokes encoded in ROT13 as an application of the Caesar cipher.\n",
    "\n",
    "\n"
   ]
  },
  {
   "cell_type": "code",
   "execution_count": null,
   "id": "c9d0867d",
   "metadata": {},
   "outputs": [],
   "source": [
    "def rotate_word(s, n):\n",
    "    \"\"\"\n",
    "    Rotates each letter in the input string s by n places.\n",
    "    \"\"\"\n",
    "    rotated = ''\n",
    "    for char in s:\n",
    "        rotated += chr(((ord(char) - ord('a') + n) % 26) + ord('a'))\n",
    "    return rotated\n",
    "\n",
    "# Usage example\n",
    "rotate_word('hello', 3)\n",
    "# j2 from 'macros.j2' import header\n",
    "# {{ header(\"Strings\", \"Strings\") }}\n",
    "\n",
    "# j2 from 'macros.j2' import header\n",
    "# {{ header(\"Strings\", \"Strings\") }}"
   ]
  }
 ],
 "metadata": {},
 "nbformat": 4,
 "nbformat_minor": 5
}
